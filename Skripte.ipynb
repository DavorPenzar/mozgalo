{
 "cells": [
  {
   "cell_type": "markdown",
   "metadata": {},
   "source": [
    "# Skripte\n"
   ]
  },
  {
   "cell_type": "markdown",
   "metadata": {},
   "source": [
    "Ova *Jupyter* bilježnica služi za testiranje i demonstraciju *Python* skripti vlastite izrade.\n"
   ]
  },
  {
   "cell_type": "code",
   "execution_count": 1,
   "metadata": {},
   "outputs": [],
   "source": [
    "##  PRIPREMA PYTHON OKRUZENJA\n",
    "\n",
    "# IPython\n",
    "from IPython import *\n",
    "from IPython.display import *\n",
    "\n",
    "# Standardna Python biblioteka\n",
    "import copy\n",
    "import math\n",
    "import os\n",
    "import six\n",
    "import sys\n",
    "import time\n",
    "\n",
    "# SciPy paketi\n",
    "import matplotlib as mpl\n",
    "import matplotlib.pyplot as plt\n",
    "import numpy as np\n",
    "import pandas as pd\n",
    "import sympy as sym\n",
    "\n",
    "# Postavi prikaz grafova unutar biljeznice.\n",
    "%matplotlib inline\n",
    "\n",
    "# Postavi stil grafova na `ggplot'.\n",
    "plt.style.use('ggplot')\n",
    "\n",
    "# Inicijaliziraj ispis simbolickog racuna.\n",
    "sym.init_printing()\n"
   ]
  },
  {
   "cell_type": "code",
   "execution_count": 2,
   "metadata": {},
   "outputs": [],
   "source": [
    "df = pd.read_pickle('data/training_dataset_enc.pkl')\n"
   ]
  },
  {
   "cell_type": "code",
   "execution_count": 3,
   "metadata": {},
   "outputs": [],
   "source": [
    "from script.timer import *\n",
    "from script.feature_engineering import *\n"
   ]
  },
  {
   "cell_type": "code",
   "execution_count": 4,
   "metadata": {},
   "outputs": [],
   "source": [
    "kp_df = df.groupby(['KLIJENT_ID', 'OZNAKA_PARTIJE'])\n"
   ]
  },
  {
   "cell_type": "code",
   "execution_count": 5,
   "metadata": {},
   "outputs": [],
   "source": [
    "kp = np.array(\n",
    "    [list(kp_x) for kp_x in kp_df.size().sort_values(ascending = False).index],\n",
    "    dtype = int,\n",
    "    order = 'C'\n",
    ")\n"
   ]
  },
  {
   "cell_type": "code",
   "execution_count": 6,
   "metadata": {},
   "outputs": [],
   "source": [
    "def diff_feat (df):\n",
    "    diff = (\n",
    "        df.STANJE_NA_KRAJU_KVARTALA.fillna(\n",
    "            method = 'ffill'\n",
    "        ).fillna(method = 'bfill') -\n",
    "        df.STANJE_NA_KRAJU_PRETH_KVARTALA.fillna(\n",
    "            method = 'ffill'\n",
    "        ).fillna(method = 'bfill')\n",
    "    )\n",
    "\n",
    "    return (diff.mean(), diff.std())\n"
   ]
  },
  {
   "cell_type": "code",
   "execution_count": 7,
   "metadata": {},
   "outputs": [],
   "source": [
    "def dur_feat (df):\n",
    "    return float(\n",
    "        df.PLANIRANI_DATUM_ZATVARANJA.fillna(\n",
    "            method = 'ffill'\n",
    "        ).fillna(method = 'bfill') -\n",
    "        df.DATUM_OTVARANJA.fillna(method = 'ffill').fillna(method = 'bfill')\n",
    "    ) / np.timedelta64(1, 'D')\n"
   ]
  },
  {
   "cell_type": "code",
   "execution_count": 8,
   "metadata": {},
   "outputs": [],
   "source": [
    "N = 1000\n"
   ]
  },
  {
   "cell_type": "code",
   "execution_count": 9,
   "metadata": {},
   "outputs": [],
   "source": [
    "I = np.array([], dtype = int)\n",
    "\n",
    "while I.size < N:\n",
    "    I = np.random.permutation(\n",
    "      np.unique(np.random.randint(kp.shape[0], size = N, dtype = int))\n",
    "    )\n"
   ]
  },
  {
   "cell_type": "code",
   "execution_count": 10,
   "metadata": {},
   "outputs": [
    {
     "ename": "TypeError",
     "evalue": "cannot convert the series to <class 'float'>",
     "output_type": "error",
     "traceback": [
      "\u001b[0;31m---------------------------------------------------------------------------\u001b[0m",
      "\u001b[0;31mTypeError\u001b[0m                                 Traceback (most recent call last)",
      "\u001b[0;32m<ipython-input-10-0d40b5aa083f>\u001b[0m in \u001b[0;36m<module>\u001b[0;34m()\u001b[0m\n\u001b[1;32m     25\u001b[0m         (\n\u001b[1;32m     26\u001b[0m             \u001b[0;34m'PRIJEVREMENI_RASKID'\u001b[0m\u001b[0;34m,\u001b[0m\u001b[0;34m\u001b[0m\u001b[0;34m\u001b[0m\u001b[0m\n\u001b[0;32m---> 27\u001b[0;31m             \u001b[0;32mlambda\u001b[0m \u001b[0mdf\u001b[0m \u001b[0;34m:\u001b[0m \u001b[0mdf\u001b[0m\u001b[0;34m.\u001b[0m\u001b[0mPRIJEVREMENI_RASKID\u001b[0m\u001b[0;34m.\u001b[0m\u001b[0many\u001b[0m\u001b[0;34m(\u001b[0m\u001b[0;34m)\u001b[0m\u001b[0;34m.\u001b[0m\u001b[0mastype\u001b[0m\u001b[0;34m(\u001b[0m\u001b[0mnp\u001b[0m\u001b[0;34m.\u001b[0m\u001b[0muint8\u001b[0m\u001b[0;34m)\u001b[0m\u001b[0;34m\u001b[0m\u001b[0;34m\u001b[0m\u001b[0m\n\u001b[0m\u001b[1;32m     28\u001b[0m         )\n\u001b[1;32m     29\u001b[0m     ]\n",
      "\u001b[0;32m/home/davorpenzar/pmf/sem4/mozgalo/script/feature_engineering.py\u001b[0m in \u001b[0;36mfeat\u001b[0;34m(groups, features, row_id)\u001b[0m\n\u001b[1;32m    205\u001b[0m                 \u001b[0mfeature\u001b[0m\u001b[0;34m(\u001b[0m\u001b[0mgroup\u001b[0m\u001b[0;34m)\u001b[0m\u001b[0;34m\u001b[0m\u001b[0;34m\u001b[0m\u001b[0m\n\u001b[1;32m    206\u001b[0m                     \u001b[0;32mfor\u001b[0m \u001b[0mfeature\u001b[0m \u001b[0;32min\u001b[0m \u001b[0mfeatures_itervalues\u001b[0m\u001b[0;34m(\u001b[0m\u001b[0mfeatures\u001b[0m\u001b[0;34m)\u001b[0m\u001b[0;34m\u001b[0m\u001b[0;34m\u001b[0m\u001b[0m\n\u001b[0;32m--> 207\u001b[0;31m             ] for name, group in groups_iter(groups)\n\u001b[0m\u001b[1;32m    208\u001b[0m         ],\n\u001b[1;32m    209\u001b[0m         \u001b[0mcolumns\u001b[0m \u001b[0;34m=\u001b[0m \u001b[0;34m[\u001b[0m\u001b[0mrow_id\u001b[0m\u001b[0;34m]\u001b[0m \u001b[0;34m+\u001b[0m \u001b[0mlist\u001b[0m\u001b[0;34m(\u001b[0m\u001b[0mfeatures_iterkeys\u001b[0m\u001b[0;34m(\u001b[0m\u001b[0mfeatures\u001b[0m\u001b[0;34m)\u001b[0m\u001b[0;34m)\u001b[0m\u001b[0;34m\u001b[0m\u001b[0;34m\u001b[0m\u001b[0m\n",
      "\u001b[0;32m/home/davorpenzar/pmf/sem4/mozgalo/script/feature_engineering.py\u001b[0m in \u001b[0;36m<listcomp>\u001b[0;34m(.0)\u001b[0m\n\u001b[1;32m    205\u001b[0m                 \u001b[0mfeature\u001b[0m\u001b[0;34m(\u001b[0m\u001b[0mgroup\u001b[0m\u001b[0;34m)\u001b[0m\u001b[0;34m\u001b[0m\u001b[0;34m\u001b[0m\u001b[0m\n\u001b[1;32m    206\u001b[0m                     \u001b[0;32mfor\u001b[0m \u001b[0mfeature\u001b[0m \u001b[0;32min\u001b[0m \u001b[0mfeatures_itervalues\u001b[0m\u001b[0;34m(\u001b[0m\u001b[0mfeatures\u001b[0m\u001b[0;34m)\u001b[0m\u001b[0;34m\u001b[0m\u001b[0;34m\u001b[0m\u001b[0m\n\u001b[0;32m--> 207\u001b[0;31m             ] for name, group in groups_iter(groups)\n\u001b[0m\u001b[1;32m    208\u001b[0m         ],\n\u001b[1;32m    209\u001b[0m         \u001b[0mcolumns\u001b[0m \u001b[0;34m=\u001b[0m \u001b[0;34m[\u001b[0m\u001b[0mrow_id\u001b[0m\u001b[0;34m]\u001b[0m \u001b[0;34m+\u001b[0m \u001b[0mlist\u001b[0m\u001b[0;34m(\u001b[0m\u001b[0mfeatures_iterkeys\u001b[0m\u001b[0;34m(\u001b[0m\u001b[0mfeatures\u001b[0m\u001b[0;34m)\u001b[0m\u001b[0;34m)\u001b[0m\u001b[0;34m\u001b[0m\u001b[0;34m\u001b[0m\u001b[0m\n",
      "\u001b[0;32m/home/davorpenzar/pmf/sem4/mozgalo/script/feature_engineering.py\u001b[0m in \u001b[0;36m<listcomp>\u001b[0;34m(.0)\u001b[0m\n\u001b[1;32m    204\u001b[0m             [name] + [\n\u001b[1;32m    205\u001b[0m                 \u001b[0mfeature\u001b[0m\u001b[0;34m(\u001b[0m\u001b[0mgroup\u001b[0m\u001b[0;34m)\u001b[0m\u001b[0;34m\u001b[0m\u001b[0;34m\u001b[0m\u001b[0m\n\u001b[0;32m--> 206\u001b[0;31m                     \u001b[0;32mfor\u001b[0m \u001b[0mfeature\u001b[0m \u001b[0;32min\u001b[0m \u001b[0mfeatures_itervalues\u001b[0m\u001b[0;34m(\u001b[0m\u001b[0mfeatures\u001b[0m\u001b[0;34m)\u001b[0m\u001b[0;34m\u001b[0m\u001b[0;34m\u001b[0m\u001b[0m\n\u001b[0m\u001b[1;32m    207\u001b[0m             ] for name, group in groups_iter(groups)\n\u001b[1;32m    208\u001b[0m         ],\n",
      "\u001b[0;32m<ipython-input-7-d61284190108>\u001b[0m in \u001b[0;36mdur_feat\u001b[0;34m(df)\u001b[0m\n\u001b[1;32m      4\u001b[0m             \u001b[0mmethod\u001b[0m \u001b[0;34m=\u001b[0m \u001b[0;34m'ffill'\u001b[0m\u001b[0;34m\u001b[0m\u001b[0;34m\u001b[0m\u001b[0m\n\u001b[1;32m      5\u001b[0m         ).fillna(method = 'bfill') -\n\u001b[0;32m----> 6\u001b[0;31m         \u001b[0mdf\u001b[0m\u001b[0;34m.\u001b[0m\u001b[0mDATUM_OTVARANJA\u001b[0m\u001b[0;34m.\u001b[0m\u001b[0mfillna\u001b[0m\u001b[0;34m(\u001b[0m\u001b[0mmethod\u001b[0m \u001b[0;34m=\u001b[0m \u001b[0;34m'ffill'\u001b[0m\u001b[0;34m)\u001b[0m\u001b[0;34m.\u001b[0m\u001b[0mfillna\u001b[0m\u001b[0;34m(\u001b[0m\u001b[0mmethod\u001b[0m \u001b[0;34m=\u001b[0m \u001b[0;34m'bfill'\u001b[0m\u001b[0;34m)\u001b[0m\u001b[0;34m\u001b[0m\u001b[0;34m\u001b[0m\u001b[0m\n\u001b[0m\u001b[1;32m      7\u001b[0m     ) / np.timedelta64(1, 'D')\n",
      "\u001b[0;32m/usr/lib/python3/dist-packages/pandas/core/series.py\u001b[0m in \u001b[0;36mwrapper\u001b[0;34m(self)\u001b[0m\n\u001b[1;32m    116\u001b[0m             \u001b[0;32mreturn\u001b[0m \u001b[0mconverter\u001b[0m\u001b[0;34m(\u001b[0m\u001b[0mself\u001b[0m\u001b[0;34m.\u001b[0m\u001b[0miloc\u001b[0m\u001b[0;34m[\u001b[0m\u001b[0;36m0\u001b[0m\u001b[0;34m]\u001b[0m\u001b[0;34m)\u001b[0m\u001b[0;34m\u001b[0m\u001b[0;34m\u001b[0m\u001b[0m\n\u001b[1;32m    117\u001b[0m         raise TypeError(\"cannot convert the series to \"\n\u001b[0;32m--> 118\u001b[0;31m                         \"{0}\".format(str(converter)))\n\u001b[0m\u001b[1;32m    119\u001b[0m \u001b[0;34m\u001b[0m\u001b[0m\n\u001b[1;32m    120\u001b[0m     \u001b[0;32mreturn\u001b[0m \u001b[0mwrapper\u001b[0m\u001b[0;34m\u001b[0m\u001b[0;34m\u001b[0m\u001b[0m\n",
      "\u001b[0;31mTypeError\u001b[0m: cannot convert the series to <class 'float'>"
     ]
    }
   ],
   "source": [
    "t0 = time.time()\n",
    "\n",
    "feat_df = feat(\n",
    "    [(tuple(kp_x), kp_df.get_group(tuple(kp_x))) for kp_x in kp[I]],\n",
    "    [\n",
    "        (('POMAK_AVG', 'POMAK_STD'), diff_feat),\n",
    "        ('DULJINA_UGOVORA', dur_feat),\n",
    "        (\n",
    "            'UGOVORENI_IZNOS',\n",
    "            lambda df : (\n",
    "                df.UGOVORENI_IZNOS.fillna(\n",
    "                    method = 'ffill'\n",
    "                ).fillna(method = 'bfill').mean()\n",
    "            )\n",
    "        ),\n",
    "        (\n",
    "            'VISINA_KAMATE',\n",
    "            lambda df : (\n",
    "                df.VISINA_KAMATE.fillna(\n",
    "                    method = 'ffill'\n",
    "                ).fillna(method = 'bfill').mean()\n",
    "            )\n",
    "        ),\n",
    "        ('STAROST', lambda df : df.STAROST.min()),\n",
    "        (\n",
    "            'PRIJEVREMENI_RASKID',\n",
    "            lambda df : df.PRIJEVREMENI_RASKID.any().astype(np.uint8)\n",
    "        )\n",
    "    ]\n",
    ")\n",
    "\n",
    "t1 = time.time()\n",
    "\n",
    "d = float(t1 - t0)\n",
    "\n",
    "print(\n",
    "    'Trajanje racunanja: {h:d}h {m:02d}m {s:06.3f}s ({S:.3f}s)'.format(\n",
    "        S = d, **hms_time(d)\n",
    "    )\n",
    ")\n",
    "\n",
    "del d\n",
    "del t1\n",
    "del t0\n"
   ]
  },
  {
   "cell_type": "code",
   "execution_count": null,
   "metadata": {},
   "outputs": [],
   "source": [
    "feat_df.info()\n"
   ]
  },
  {
   "cell_type": "code",
   "execution_count": null,
   "metadata": {},
   "outputs": [],
   "source": [
    "feat_df\n"
   ]
  },
  {
   "cell_type": "code",
   "execution_count": null,
   "metadata": {},
   "outputs": [],
   "source": []
  }
 ],
 "metadata": {
  "kernelspec": {
   "display_name": "Python 3",
   "language": "python",
   "name": "python3"
  },
  "language_info": {
   "codemirror_mode": {
    "name": "ipython",
    "version": 3
   },
   "file_extension": ".py",
   "mimetype": "text/x-python",
   "name": "python",
   "nbconvert_exporter": "python",
   "pygments_lexer": "ipython3",
   "version": "3.6.7"
  }
 },
 "nbformat": 4,
 "nbformat_minor": 2
}
