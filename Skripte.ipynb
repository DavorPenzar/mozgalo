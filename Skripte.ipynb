{
 "cells": [
  {
   "cell_type": "markdown",
   "metadata": {},
   "source": [
    "# Skripte\n"
   ]
  },
  {
   "cell_type": "markdown",
   "metadata": {},
   "source": [
    "Ova *Jupyter* bilježnica služi za testiranje i demonstraciju *Python* skripti vlastite izrade.\n"
   ]
  },
  {
   "cell_type": "code",
   "execution_count": 1,
   "metadata": {},
   "outputs": [],
   "source": [
    "##  PRIPREMA PYTHON OKRUZENJA\n",
    "\n",
    "# IPython\n",
    "from IPython import *\n",
    "from IPython.display import *\n",
    "\n",
    "# Standardna Python biblioteka\n",
    "import copy\n",
    "import math\n",
    "import os\n",
    "import six\n",
    "import sys\n",
    "import time\n",
    "\n",
    "# SciPy paketi\n",
    "import matplotlib as mpl\n",
    "import matplotlib.pyplot as plt\n",
    "import numpy as np\n",
    "import pandas as pd\n",
    "import sympy as sym\n",
    "\n",
    "# Postavi prikaz grafova unutar biljeznice.\n",
    "%matplotlib inline\n",
    "\n",
    "# Postavi stil grafova na `ggplot'.\n",
    "plt.style.use('ggplot')\n",
    "\n",
    "# Inicijaliziraj ispis simbolickog racuna.\n",
    "sym.init_printing()\n"
   ]
  },
  {
   "cell_type": "code",
   "execution_count": 2,
   "metadata": {},
   "outputs": [],
   "source": [
    "df = pd.read_pickle('data/training_dataset_enc.pkl')\n"
   ]
  },
  {
   "cell_type": "code",
   "execution_count": 3,
   "metadata": {},
   "outputs": [],
   "source": [
    "from script.feature_engineering import *\n"
   ]
  },
  {
   "cell_type": "code",
   "execution_count": 4,
   "metadata": {},
   "outputs": [],
   "source": [
    "groups = [(i, (2.0 ** -i, i ** -2.0)) for i in range(1, 13)]\n",
    "features = {\n",
    "    'PRVI' : lambda x : x[0],\n",
    "    'DRUGI' : lambda x : x[1],\n",
    "    'KOMPLEKS' : lambda x : (x[0] + x[1] * (0.0+1.0j))\n",
    "}\n"
   ]
  },
  {
   "cell_type": "code",
   "execution_count": 5,
   "metadata": {},
   "outputs": [],
   "source": [
    "feat_df = feat(groups, features)\n"
   ]
  },
  {
   "cell_type": "code",
   "execution_count": 6,
   "metadata": {},
   "outputs": [
    {
     "data": {
      "text/html": [
       "<div>\n",
       "<style scoped>\n",
       "    .dataframe tbody tr th:only-of-type {\n",
       "        vertical-align: middle;\n",
       "    }\n",
       "\n",
       "    .dataframe tbody tr th {\n",
       "        vertical-align: top;\n",
       "    }\n",
       "\n",
       "    .dataframe thead th {\n",
       "        text-align: right;\n",
       "    }\n",
       "</style>\n",
       "<table border=\"1\" class=\"dataframe\">\n",
       "  <thead>\n",
       "    <tr style=\"text-align: right;\">\n",
       "      <th></th>\n",
       "      <th>ID</th>\n",
       "      <th>PRVI</th>\n",
       "      <th>DRUGI</th>\n",
       "      <th>KOMPLEKS</th>\n",
       "    </tr>\n",
       "  </thead>\n",
       "  <tbody>\n",
       "    <tr>\n",
       "      <th>0</th>\n",
       "      <td>1</td>\n",
       "      <td>0.500000</td>\n",
       "      <td>1.000000</td>\n",
       "      <td>(0.5+1j)</td>\n",
       "    </tr>\n",
       "    <tr>\n",
       "      <th>1</th>\n",
       "      <td>2</td>\n",
       "      <td>0.250000</td>\n",
       "      <td>0.250000</td>\n",
       "      <td>(0.25+0.25j)</td>\n",
       "    </tr>\n",
       "    <tr>\n",
       "      <th>2</th>\n",
       "      <td>3</td>\n",
       "      <td>0.125000</td>\n",
       "      <td>0.111111</td>\n",
       "      <td>(0.125+0.1111111111111111j)</td>\n",
       "    </tr>\n",
       "    <tr>\n",
       "      <th>3</th>\n",
       "      <td>4</td>\n",
       "      <td>0.062500</td>\n",
       "      <td>0.062500</td>\n",
       "      <td>(0.0625+0.0625j)</td>\n",
       "    </tr>\n",
       "    <tr>\n",
       "      <th>4</th>\n",
       "      <td>5</td>\n",
       "      <td>0.031250</td>\n",
       "      <td>0.040000</td>\n",
       "      <td>(0.03125+0.04j)</td>\n",
       "    </tr>\n",
       "    <tr>\n",
       "      <th>5</th>\n",
       "      <td>6</td>\n",
       "      <td>0.015625</td>\n",
       "      <td>0.027778</td>\n",
       "      <td>(0.015625+0.027777777777777776j)</td>\n",
       "    </tr>\n",
       "    <tr>\n",
       "      <th>6</th>\n",
       "      <td>7</td>\n",
       "      <td>0.007812</td>\n",
       "      <td>0.020408</td>\n",
       "      <td>(0.0078125+0.02040816326530612j)</td>\n",
       "    </tr>\n",
       "    <tr>\n",
       "      <th>7</th>\n",
       "      <td>8</td>\n",
       "      <td>0.003906</td>\n",
       "      <td>0.015625</td>\n",
       "      <td>(0.00390625+0.015625j)</td>\n",
       "    </tr>\n",
       "    <tr>\n",
       "      <th>8</th>\n",
       "      <td>9</td>\n",
       "      <td>0.001953</td>\n",
       "      <td>0.012346</td>\n",
       "      <td>(0.001953125+0.012345679012345678j)</td>\n",
       "    </tr>\n",
       "    <tr>\n",
       "      <th>9</th>\n",
       "      <td>10</td>\n",
       "      <td>0.000977</td>\n",
       "      <td>0.010000</td>\n",
       "      <td>(0.0009765625+0.01j)</td>\n",
       "    </tr>\n",
       "    <tr>\n",
       "      <th>10</th>\n",
       "      <td>11</td>\n",
       "      <td>0.000488</td>\n",
       "      <td>0.008264</td>\n",
       "      <td>(0.00048828125+0.008264462809917356j)</td>\n",
       "    </tr>\n",
       "    <tr>\n",
       "      <th>11</th>\n",
       "      <td>12</td>\n",
       "      <td>0.000244</td>\n",
       "      <td>0.006944</td>\n",
       "      <td>(0.000244140625+0.006944444444444444j)</td>\n",
       "    </tr>\n",
       "  </tbody>\n",
       "</table>\n",
       "</div>"
      ],
      "text/plain": [
       "    ID      PRVI     DRUGI                                KOMPLEKS\n",
       "0    1  0.500000  1.000000                                (0.5+1j)\n",
       "1    2  0.250000  0.250000                            (0.25+0.25j)\n",
       "2    3  0.125000  0.111111             (0.125+0.1111111111111111j)\n",
       "3    4  0.062500  0.062500                        (0.0625+0.0625j)\n",
       "4    5  0.031250  0.040000                         (0.03125+0.04j)\n",
       "5    6  0.015625  0.027778        (0.015625+0.027777777777777776j)\n",
       "6    7  0.007812  0.020408        (0.0078125+0.02040816326530612j)\n",
       "7    8  0.003906  0.015625                  (0.00390625+0.015625j)\n",
       "8    9  0.001953  0.012346     (0.001953125+0.012345679012345678j)\n",
       "9   10  0.000977  0.010000                    (0.0009765625+0.01j)\n",
       "10  11  0.000488  0.008264   (0.00048828125+0.008264462809917356j)\n",
       "11  12  0.000244  0.006944  (0.000244140625+0.006944444444444444j)"
      ]
     },
     "execution_count": 6,
     "metadata": {},
     "output_type": "execute_result"
    }
   ],
   "source": [
    "feat_df\n"
   ]
  },
  {
   "cell_type": "code",
   "execution_count": null,
   "metadata": {},
   "outputs": [],
   "source": []
  }
 ],
 "metadata": {
  "kernelspec": {
   "display_name": "Python 3",
   "language": "python",
   "name": "python3"
  },
  "language_info": {
   "codemirror_mode": {
    "name": "ipython",
    "version": 3
   },
   "file_extension": ".py",
   "mimetype": "text/x-python",
   "name": "python",
   "nbconvert_exporter": "python",
   "pygments_lexer": "ipython3",
   "version": "3.6.7"
  }
 },
 "nbformat": 4,
 "nbformat_minor": 2
}
