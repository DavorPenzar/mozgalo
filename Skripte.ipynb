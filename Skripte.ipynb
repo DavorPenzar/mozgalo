{
 "cells": [
  {
   "cell_type": "markdown",
   "metadata": {},
   "source": [
    "# Skripte\n"
   ]
  },
  {
   "cell_type": "markdown",
   "metadata": {},
   "source": [
    "Ova *Jupyter* bilježnica služi za testiranje i demonstraciju *Python* skripti vlastite izrade.\n"
   ]
  },
  {
   "cell_type": "code",
   "execution_count": 1,
   "metadata": {},
   "outputs": [],
   "source": [
    "##  PRIPREMA PYTHON OKRUZENJA\n",
    "\n",
    "# IPython\n",
    "from IPython import *\n",
    "from IPython.display import *\n",
    "\n",
    "# Standardna Python biblioteka\n",
    "import copy\n",
    "import math\n",
    "import os\n",
    "import six\n",
    "import sys\n",
    "import time\n",
    "\n",
    "# SciPy paketi\n",
    "import matplotlib as mpl\n",
    "import matplotlib.pyplot as plt\n",
    "import numpy as np\n",
    "import pandas as pd\n",
    "import sympy as sym\n",
    "\n",
    "# Postavi prikaz grafova unutar biljeznice.\n",
    "%matplotlib inline\n",
    "\n",
    "# Postavi stil grafova na `ggplot'.\n",
    "plt.style.use('ggplot')\n",
    "\n",
    "# Inicijaliziraj ispis simbolickog racuna.\n",
    "sym.init_printing()\n"
   ]
  },
  {
   "cell_type": "code",
   "execution_count": 2,
   "metadata": {},
   "outputs": [],
   "source": [
    "df = pd.read_pickle('data/training_dataset_enc.pkl')\n"
   ]
  },
  {
   "cell_type": "code",
   "execution_count": 3,
   "metadata": {},
   "outputs": [],
   "source": [
    "from script.timer import *\n",
    "from script.feature_engineering import *\n"
   ]
  },
  {
   "cell_type": "code",
   "execution_count": 4,
   "metadata": {},
   "outputs": [],
   "source": [
    "kp_df = df.groupby(['KLIJENT_ID', 'OZNAKA_PARTIJE'])\n"
   ]
  },
  {
   "cell_type": "code",
   "execution_count": null,
   "metadata": {},
   "outputs": [],
   "source": [
    "kp = np.array(\n",
    "    [list(kp_x) for kp_x in kp_df.size().sort_values(ascending = False).index],\n",
    "    dtype = int,\n",
    "    order = 'C'\n",
    ")\n"
   ]
  },
  {
   "cell_type": "code",
   "execution_count": null,
   "metadata": {},
   "outputs": [],
   "source": [
    "def diff_feat (df):\n",
    "    diff = (\n",
    "        df.STANJE_NA_KRAJU_KVARTALA.fillna(\n",
    "            method = 'ffill'\n",
    "        ).fillna(method = 'bfill') -\n",
    "        df.STANJE_NA_KRAJU_PRETH_KVARTALA.fillna(\n",
    "            method = 'ffill'\n",
    "        ).fillna(method = 'bfill')\n",
    "    )\n",
    "\n",
    "    return (diff.mean(), diff.std())\n"
   ]
  },
  {
   "cell_type": "code",
   "execution_count": null,
   "metadata": {},
   "outputs": [],
   "source": [
    "def dur_feat (df):\n",
    "    return (\n",
    "        df.PLANIRANI_DATUM_ZATVARANJA.fillna(\n",
    "            method = 'ffill'\n",
    "        ).fillna(method = 'bfill') -\n",
    "        df.DATUM_OTVARANJA.fillna(method = 'ffill').fillna(method = 'bfill')\n",
    "    ).mean() / np.timedelta64(1, 'D')\n"
   ]
  },
  {
   "cell_type": "code",
   "execution_count": null,
   "metadata": {},
   "outputs": [],
   "source": [
    "N = 1000\n"
   ]
  },
  {
   "cell_type": "code",
   "execution_count": null,
   "metadata": {},
   "outputs": [],
   "source": [
    "I = np.array([], dtype = int)\n",
    "\n",
    "while I.size < N:\n",
    "    I = np.random.permutation(\n",
    "        np.unique(np.random.randint(kp.shape[0], size = N, dtype = int))\n",
    "    )\n"
   ]
  },
  {
   "cell_type": "code",
   "execution_count": null,
   "metadata": {},
   "outputs": [],
   "source": [
    "t0 = time.time()\n",
    "\n",
    "feat_df = feat(\n",
    "    [(tuple(kp_x), kp_df.get_group(tuple(kp_x))) for kp_x in kp[I]],\n",
    "    [\n",
    "        (('POMAK_AVG', 'POMAK_STD'), diff_feat),\n",
    "        ('DULJINA_UGOVORA', dur_feat),\n",
    "        (\n",
    "            'UGOVORENI_IZNOS',\n",
    "            lambda df : (\n",
    "                df.UGOVORENI_IZNOS.fillna(\n",
    "                    method = 'ffill'\n",
    "                ).fillna(method = 'bfill').mean()\n",
    "            )\n",
    "        ),\n",
    "        (\n",
    "            'VISINA_KAMATE',\n",
    "            lambda df : (\n",
    "                df.VISINA_KAMATE.fillna(\n",
    "                    method = 'ffill'\n",
    "                ).fillna(method = 'bfill').mean()\n",
    "            )\n",
    "        ),\n",
    "        ('STAROST', lambda df : df.STAROST.min()),\n",
    "        (\n",
    "            'PRIJEVREMENI_RASKID',\n",
    "            lambda df : df.PRIJEVREMENI_RASKID.any().astype(np.uint8)\n",
    "        )\n",
    "    ]\n",
    ")\n",
    "\n",
    "t1 = time.time()\n",
    "\n",
    "d = float(t1 - t0)\n",
    "\n",
    "print(\n",
    "    'Trajanje racunanja: {h:d}h {m:02d}m {s:06.3f}s ({S:.3f}s)'.format(\n",
    "        S = d, **hms_time(d)\n",
    "    )\n",
    ")\n",
    "\n",
    "del d\n",
    "del t1\n",
    "del t0\n"
   ]
  },
  {
   "cell_type": "code",
   "execution_count": null,
   "metadata": {},
   "outputs": [],
   "source": [
    "feat_df.info()\n"
   ]
  },
  {
   "cell_type": "code",
   "execution_count": null,
   "metadata": {},
   "outputs": [],
   "source": [
    "feat_df\n"
   ]
  },
  {
   "cell_type": "code",
   "execution_count": null,
   "metadata": {},
   "outputs": [],
   "source": []
  }
 ],
 "metadata": {
  "kernelspec": {
   "display_name": "Python 3",
   "language": "python",
   "name": "python3"
  },
  "language_info": {
   "codemirror_mode": {
    "name": "ipython",
    "version": 3
   },
   "file_extension": ".py",
   "mimetype": "text/x-python",
   "name": "python",
   "nbconvert_exporter": "python",
   "pygments_lexer": "ipython3",
   "version": "3.6.7"
  }
 },
 "nbformat": 4,
 "nbformat_minor": 2
}
