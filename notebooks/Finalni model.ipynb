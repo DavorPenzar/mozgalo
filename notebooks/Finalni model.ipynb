{
 "cells": [
  {
   "cell_type": "markdown",
   "metadata": {},
   "source": [
    "# Predviđanje ponašanja klijenata - tim Petty"
   ]
  },
  {
   "cell_type": "markdown",
   "metadata": {},
   "source": [
    "Ova *Jupyter* bilježnica predstavlja objedinjenje svih ostalih *Jupyter* bilježnica i *Python* skripti na kojima je tim *Petty* radio tijekom natjecanja *Mozgalo* 2019. godine.\n",
    "\n",
    "Tim *Petty*, svibanj 2019. godine.\n"
   ]
  },
  {
   "cell_type": "code",
   "execution_count": 1,
   "metadata": {},
   "outputs": [
    {
     "name": "stdout",
     "output_type": "stream",
     "text": [
      "Python version: 3.7.3 | packaged by conda-forge | (default, Mar 27 2019, 23:01:00) \n",
      "[GCC 7.3.0]\n",
      "Numpy version: 1.16.3\n",
      "Pandas version: 0.24.2\n",
      "Matplotlib version: 3.0.3\n"
     ]
    }
   ],
   "source": [
    "# Stadardna Python biblioteka\n",
    "import sys\n",
    "\n",
    "# SciPy paketi\n",
    "import matplotlib as mpl\n",
    "import matplotlib.pyplot as plt\n",
    "import numpy as np\n",
    "import pandas as pd\n",
    "\n",
    "# Postavi prikaz grafova unutar biljeznice.\n",
    "%matplotlib inline\n",
    "\n",
    "# Postavi stil grafova na `ggplot'.\n",
    "plt.style.use('ggplot')\n",
    "\n",
    "# Ispisi inacice koristenog softvera.\n",
    "print('Python version: {}'.format(sys.version))\n",
    "print('Numpy version: {}'.format(np.__version__))\n",
    "print('Pandas version: {}'.format(pd.__version__))\n",
    "print('Matplotlib version: {}'.format(mpl.__version__))\n"
   ]
  },
  {
   "cell_type": "markdown",
   "metadata": {},
   "source": [
    "##  Sadržaj:\n",
    "***\n",
    "\n",
    "1.  [Uvod](#uvod)\n",
    "2.  [Problem](#problem)\n",
    "3.  [Test podaci](#test-podatci)\n",
    "    1.    [Učitavanje podataka](#ucitavanje-podataka)\n",
    "    2.    [Eksploratorna analiza](#eksploratorna-analiza)\n",
    "4.  [Obrada podataka](#obrada-podataka)\n",
    "    1.    [Čišćenje podataka](#ciscenje-podataka)\n",
    "    2.    [Spljoštenje](#spljostenje)\n",
    "    3.    [*Feature engineering*](#feature-engineering)\n",
    "    4.    [Trening i validacijski skup](#trening-i-validacijski-skup)\n",
    "5.  [Model](#model)\n",
    "    1.    [*CatBoost*](#catboost)\n",
    "    2.    [Optimizacija parametara](#optimizacija-parametara)\n",
    "    3.    [Treniranje](#treniranje)\n",
    "    4.    [Testiranje](#testiranje)\n",
    "6.  [Zaključak](#zakljucak)\n",
    "\n",
    "***\n"
   ]
  },
  {
   "cell_type": "markdown",
   "metadata": {},
   "source": [
    "##  Uvod <a class=\"anchor\" id=\"uvod\"></a>"
   ]
  },
  {
   "cell_type": "markdown",
   "metadata": {},
   "source": [
    "U suvremeno doba vrlo je popularna ideja *prognoziranja* u širokom spektru djelatnosti, a posebnu pažnju dobiva u onim područjima u kojima neočekivani ishod može imati katastrofalne posljedice. Da bi prognoziranje bilo teorijski moguće, nužna je ovisnost i korelacija između poznatih vrijednosti i onih koje želimo predvidjeti; a, da bi prognoziranje bilo praktično moguće, u pravilu za konstrukciju prognostičkog modela, pa čak i za njegovo prognoziranje, potrebno je osimsliti efikasni računalni algoritam koji automatizira matematički račun na kojemu se model osniva.\n",
    "\n",
    "Budući da je mjerenje i otkrivanje ovisnosti (a posebno korelacije) u domeni matematike i osmišljavanje algoritma u domeni računarstva, kao studenti diplomskog studija *Računarstvo i matematika* na *Prirodoslovno-matematičkog fakulteta* *Sveučilišta u Zagrebu* kolege **Luka Naglić**, **Davor Penzar** i **Domagoj Ravlić** objedinili su se u tim *Petty* kao natjecatelji u natjecanju *Mozgalo* &mdash; studentskom natjecanju čija je tema *data science*, ove godine konkretno binarna klasifikacija na temelju nekih poznatih podataka. Istovremeno, ovo rješenje natjecateljskog zadatka služi im i kao rješenje projektnog zadatka za kolegij *Strojno učenje* na njihovom studiju.\n"
   ]
  },
  {
   "cell_type": "markdown",
   "metadata": {},
   "source": [
    "##  Problem <a class=\"anchor\" id=\"problem\"></a>"
   ]
  },
  {
   "cell_type": "markdown",
   "metadata": {},
   "source": [
    "*Naručitelj* ovogodišnjeg zadatka za natjecanje *Mozgalo* je *Raiffeisenbank Hrvatska*, a kao zadatak postavili su predviđanje ponašanja svojih klijenata. Naime, problem je predvidjeti hoće li klijent prijevremeno raskinuti ugovor o kreditu odnosno depozitu &mdash; u slučaju kredita to bi značilo povrat cijelog duga prije isteka roka, a u slučaju depozita to bi značilo povlačenje svog uloženog novca prije dogovorenog datuma.\n"
   ]
  },
  {
   "cell_type": "markdown",
   "metadata": {},
   "source": [
    "##  Podatci <a class=\"anchor\" id=\"podatci\"></a>"
   ]
  },
  {
   "cell_type": "markdown",
   "metadata": {},
   "source": [
    "Sirovi podatci koji pripadaju takozvanom *trening-skupu* dani su tablicom u *.csv* formatu čiji svaki radak predstavlja izvještaj na kraju kvartala o točno jednom ugovoru. Svaki takav redak sadrži sljedeće informacije:\n",
    "\n",
    "1.  *DATUM_IZVJESTAVANJA* &ndash; datum s kraja kvartala kada je promatrani izvještaj načinjen,\n",
    "2.  *KLIJENT_ID* &ndash; jedinstvena numerička šifra klijenta,\n",
    "3.  *OZNAKA_PARTIJE* &ndash; jedinstvena numerička šifra ugovora,\n",
    "4.  *DATUM_OTVARANJA* &ndash; datum otvaranja ugovora,\n",
    "5.  *PLANIRANI_DATUM_ZATVARANJA* &ndash; ugovoreni datum svršetka ugovora,\n",
    "6.  *DATUM_ZATVARANJA* &ndash; stvarni datum svršetka ugovora,\n",
    "7.  *UGOVORENI_IZNOS* &ndash; ugovoreni iznos u HRK,\n",
    "8.  *STANJE_NA_KRAJU_PRETH_KVARTALA* &ndash; stanje ugovora (iznos u HRK) na kraju kvartala koji je prethodio kvartalu izvještaja,\n",
    "9.  *STANJE_NA_KRAJU_KVARTALA* &ndash; stanje ugovora (iznos u HRK) na kraju kvartala izvještaja,\n",
    "10. *VALUTA* &ndash; jedinstvena numerička šifra valute ugovora,\n",
    "11. *VRSTA_KLIJENTA* &ndash; jedinstvena numerička šigra vrste klijenta,\n",
    "12. *PROIZVOD* &ndash; jedinstvena šifra proizvoda,\n",
    "13. *VRSTA_PROIZVODA* &ndash; jedinstvena šifra vrste proizvoda,\n",
    "14. *VISINA_KAMATE* &ndash; kamatni koeficijent na kraju kvartala izvještaja,\n",
    "15. *TIP_KAMATE* &ndash; jedinstvena šifra tipa kamate,\n",
    "16. *STAROST* &ndash; starost klijenta na kraju kvartala izvještaja,\n",
    "17. *PRIJEVREMENI_RASKID* &ndash; ciljna varijabla koja je istinita ako je ugovor raskinut prije ugovorenog datuma, a laž inače; **napomena:** dobivene vrijednosti treba korigirati [formulom](#eq:1).\n",
    "\n",
    "Korekcija varijable *PRIJEVREMENI_RASKID*:\n",
    "$$ \\text{PRIJEVREMENI_RASKID} \\left( x \\right) \\iff \\text{DATUM_ZATVARANJA} \\left( x \\right) + 10 \\, \\text{dana} < \\text{PLANIRANI_DATUM_ZATVARANJA} \\left( x \\right) \\text{.} $$ <a class=\"anchor\" id=\"eq:1\"></a>\n"
   ]
  },
  {
   "cell_type": "markdown",
   "metadata": {},
   "source": [
    "### Učitavanje podataka <a class=\"anchor\" id=\"ucitavanje-podataka\"></a>\n"
   ]
  },
  {
   "cell_type": "markdown",
   "metadata": {},
   "source": [
    "Podatke ćemo iz datoteke *training_dataset_enc.csv* učitati kao `pandas.DataFrame` pozivom funkcije `pandas.read_pickle` odnosno `pandas.read_csv`. Pokretanjem sljedećih programskih linija može se primijetiti da učitavanje podataka iz tablice u *.csv* formatu traje dugo zato što redaka u tablici ima više od $ 5 $ milijuna, stoga se pri prvom otvaranju tablica odmah sprema i komprimirana kao *pickle* u *.pkl* formatu koji se u svakom konsekutivnom pozivu učitava znatno brže. Pri učitavanju iz *.csv* formata odmah ćemo:\n",
    "\n",
    "1.  izbaciti stupac bez značenja (objasnio naručitelj zadatka; stupac se ni ne nalazi u prethodnom opisu skupa podataka) iz učitane tablice,\n",
    "2.  korigirati varijablu *PRIJEVREMENI_RASKID*,\n",
    "3.  retke tablice poredati leksikografski po ključu $ \\left( \\text{DATUM_IZVJESTAVANJA} , \\text{DATUM_OTVARANJA} , \\text{PLANIRANI_DATUM_ZATVARANJA} , \\text{OZNAKA_PARTIJE} , \\text{KLIJENT_ID} \\right) $ pri čemu, totalnosti uređaja radi, za varijable *OZNAKA_PARTIJE* i *KLIJENT_ID* uzimamo vrijednosti koje njihove numeričke oznake predstavljaju u dekadskom zapisu,\n",
    "4.  stupcima kategoričkog značenja (*KLIJENT_ID*, *OZNAKA_PARTIJE*, *VALUTA*, *VRSTA_KLIJENTA*, *PROIZVOD*, *VRSTA_PROIZVODA*, *TIP_KAMATE*) tip vrijednosti postavit ćemo na kategorički.\n"
   ]
  },
  {
   "cell_type": "markdown",
   "metadata": {},
   "source": [
    "Podatke ćemo iz datoteke *training_dataset_enc.csv* učitati kao `pandas.DataFrame` pozivom funkcije `pandas.read_pickle` odnosno `pandas.read_csv`. Pokretanjem sljedećih programskih linija može se primijetiti da učitavanje podataka iz *CSV* datoteke traje jako dugo zato što redaka u tablici ima više od $ 5 $ milijuna, stoga ćemo prvo pokušati otvoriti *pickle*, a, ako datoteka koju tražimo ne postoji, tek ćemo onda otvarati *CSV* i odmah ćemo učitanu tablicu spremiti kao *pickle* datoteku za kasnije brže učitavanje. Izmjerit ćemo i vrijeme potrebno za učitavanje podataka jer se iz izmjerenih vremena jasno vidi vremenska optimizacija učitavanja podataka."
   ]
  },
  {
   "cell_type": "code",
   "execution_count": null,
   "metadata": {},
   "outputs": [],
   "source": [
    "df = None\n",
    "\n",
    "try:\n",
    "    df = pd.read_pickle('../data/training_dataset_enc.pkl')\n",
    "except FileNotFoundError:\n",
    "    df = pd.read_csv(\n",
    "        '../data/training_dataset_enc.csv',\n",
    "        index_col = 0,\n",
    "        parse_dates = [\n",
    "            'DATUM_IZVJESTAVANJA',\n",
    "            'DATUM_OTVARANJA',\n",
    "            'PLANIRANI_DATUM_ZATVARANJA',\n",
    "            'DATUM_ZATVARANJA'\n",
    "        ],\n",
    "        infer_datetime_format = True,\n",
    "        false_values = ['N'],\n",
    "        true_values = ['Y']\n",
    "    )\n",
    "    df.drop(\n",
    "        columns = ['Unnamed', 'Unnamed: 0', 'Unnamed: 0.1'],\n",
    "        errors = 'ignore',\n",
    "        inplace = True\n",
    "    )\n",
    "    df.reset_index(drop = True, inplace = True)\n",
    "    df.PRIJEVREMENI_RASKID = (\n",
    "        df.DATUM_ZATVARANJA + pd.Timedelta(10, 'D') <\n",
    "        df.PLANIRANI_DATUM_ZATVARANJA\n",
    "    )\n",
    "    df.sort_values(\n",
    "        by = [\n",
    "            'DATUM_IZVJESTAVANJA',\n",
    "            'DATUM_OTVARANJA',\n",
    "            'PLANIRANI_DATUM_ZATVARANJA',\n",
    "            'OZNAKA_PARTIJE',\n",
    "            'KLIJENT_ID'\n",
    "        ],\n",
    "        ascending = True,\n",
    "        inplace = True\n",
    "    )\n",
    "    for stupac in iter(\n",
    "        [\n",
    "            'KLIJENT_ID',\n",
    "            'OZNAKA_PARTIJE',\n",
    "            'VALUTA',\n",
    "            'VRSTA_KLIJENTA',\n",
    "            'PROIZVOD',\n",
    "            'VRSTA_PROIZVODA',\n",
    "            'TIP_KAMATE'\n",
    "        ]\n",
    "    ):\n",
    "        vrijednosti = df[stupac].dropna().unique()\n",
    "        try:\n",
    "            if isinstance(vrijednosti, np.ndarray):\n",
    "                vrijednosti.sort()\n",
    "            else:\n",
    "                vrijednosti.sort_values(inplace = True)\n",
    "        except (TypeError, ValueError, AttributeError):\n",
    "            pass\n",
    "        df[stupac] = df[stupac].astype(\n",
    "            pd.api.types.CategoricalDtype(\n",
    "                categories = vrijednosti,\n",
    "                ordered = False\n",
    "            )\n",
    "        )\n",
    "    df.reset_index(drop = True, inplace = True)\n",
    "    df.to_pickle('../data/training_dataset_enc.pkl')\n"
   ]
  },
  {
   "cell_type": "markdown",
   "metadata": {},
   "source": [
    "### Eksploratorna analiza <a class=\"anchor\" id=\"eksploratorna-analiza\"></a>"
   ]
  },
  {
   "cell_type": "markdown",
   "metadata": {},
   "source": [
    "Prvo, pogledajmo početak tablice i informacije o tablici."
   ]
  },
  {
   "cell_type": "code",
   "execution_count": null,
   "metadata": {},
   "outputs": [],
   "source": [
    "df.head()"
   ]
  },
  {
   "cell_type": "code",
   "execution_count": null,
   "metadata": {},
   "outputs": [],
   "source": [
    "df.info()"
   ]
  },
  {
   "cell_type": "code",
   "execution_count": null,
   "metadata": {},
   "outputs": [],
   "source": [
    "df.PRIJEVREMENI_RASKID.astype(float).sum() / df.shape[0]"
   ]
  },
  {
   "cell_type": "markdown",
   "metadata": {},
   "source": [
    "Katastrofalni balans klasa trenutno je donekle i rezultat toga što tablica nije spljoštena &mdash; ako se neki ugovor raskinuo prijevremeno, u svim izvještajima prije raskida ugovora još uvijek će ciljna varijabla biti *laž*, iako se ti izvještaji zapravo odnose na ugovor koji je prijevremeno raskinut. Podatke ćemo spljoštiti u dijelu [Spljoštenje](#spljostenje)."
   ]
  },
  {
   "cell_type": "markdown",
   "metadata": {},
   "source": [
    "Pogledajmo sada vremenske raspone kojima podatci pripadaju.\n"
   ]
  },
  {
   "cell_type": "code",
   "execution_count": null,
   "metadata": {},
   "outputs": [],
   "source": [
    "pd.DataFrame(\n",
    "    data = [\n",
    "        [\n",
    "            df.DATUM_IZVJESTAVANJA.min(),\n",
    "            df.DATUM_OTVARANJA.min(),\n",
    "            df.PLANIRANI_DATUM_ZATVARANJA.min(),\n",
    "            df.DATUM_ZATVARANJA.min()\n",
    "        ],\n",
    "        [\n",
    "            df.DATUM_IZVJESTAVANJA.max(),\n",
    "            df.DATUM_OTVARANJA.max(),\n",
    "            df.PLANIRANI_DATUM_ZATVARANJA.max(),\n",
    "            df.DATUM_ZATVARANJA.max()\n",
    "        ]\n",
    "    ],\n",
    "    columns = [\n",
    "        'DATUM_IZVJESTAVANJA',\n",
    "        'DATUM_OTVARANJA',\n",
    "        'PLANIRANI_DATUM_ZATVARANJA',\n",
    "        'DATUM_ZATVARANJA'\n",
    "    ],\n",
    "    index = ['min', 'max']\n",
    ")\n"
   ]
  },
  {
   "cell_type": "markdown",
   "metadata": {},
   "source": [
    "Za stupce *UGOVORENI_IZNOS*, *VISINA_KAMATE* i *STAROST* pogledajmo jednostavnu deskriptivnu analizu (količina definiranih vrijednosti, aritmetička sredina, standardna devijacija i karakteristična petorka).\n"
   ]
  },
  {
   "cell_type": "code",
   "execution_count": null,
   "metadata": {},
   "outputs": [],
   "source": [
    "df[['UGOVORENI_IZNOS', 'VISINA_KAMATE', 'STAROST']].describe()"
   ]
  },
  {
   "cell_type": "markdown",
   "metadata": {},
   "source": [
    "U ostatku eksploratorne analize podatke ćemo proučavati po nekom ugovoru, a ne po cijeloj tablici."
   ]
  },
  {
   "cell_type": "code",
   "execution_count": null,
   "metadata": {},
   "outputs": [],
   "source": [
    "po_klijentima_i_partijama = df.groupby(['KLIJENT_ID', 'OZNAKA_PARTIJE'])\n",
    "klijenti_i_partije = np.array(\n",
    "    [\n",
    "        list(i)\n",
    "            for i in po_klijentima_i_partijama.size().sort_values(\n",
    "                ascending = False\n",
    "            ).index\n",
    "    ],\n",
    "    dtype = int,\n",
    "    order = 'C'\n",
    ")\n"
   ]
  },
  {
   "cell_type": "markdown",
   "metadata": {},
   "source": [
    "Vrste proizvoda govore o tome je li ugovor kredit ili depozit, a može poprimiti dvije vrijednosti: *A* ili *L*.\n"
   ]
  },
  {
   "cell_type": "code",
   "execution_count": null,
   "metadata": {},
   "outputs": [],
   "source": [
    "df.VRSTA_PROIZVODA.dtype.categories"
   ]
  },
  {
   "cell_type": "markdown",
   "metadata": {},
   "source": [
    "Tijekom našeg rješavanja zadatka zaključili smo da *A* najvjerojatnije predstavlja kredite, a *L* depozite. U svakom slučaju, promotrimo kako, na primjer, napreduje stanje na kraju kvartala za neki ugovor vrste proizvoda *A* i za neki ugovor vrste proizvoda *L*. Za najinformativnije rezultate, uzet ćemo ugovore o kojima imamo najviše zapisa (najraniji ključevi u nizu `klijenti_i_partije`).\n"
   ]
  },
  {
   "cell_type": "code",
   "execution_count": null,
   "metadata": {},
   "outputs": [],
   "source": [
    "najveci_A = None\n",
    "najveci_L = None\n",
    "for i in iter(klijenti_i_partije):\n",
    "    trenutni = po_klijentima_i_partijama.get_group(tuple(i))\n",
    "\n",
    "    if najveci_A is None and trenutni.VRSTA_PROIZVODA.iloc[0] == 'A':\n",
    "        najveci_A = trenutni\n",
    "    elif najveci_L is None and trenutni.VRSTA_PROIZVODA.iloc[0] == 'L':\n",
    "        najveci_L = trenutni\n",
    "\n",
    "    if not (najveci_A is None or najveci_L is None):\n",
    "        break\n"
   ]
  },
  {
   "cell_type": "code",
   "execution_count": null,
   "metadata": {},
   "outputs": [],
   "source": [
    "fig = plt.figure()\n",
    "\n",
    "ax_A = fig.add_subplot(121)\n",
    "ax_L = fig.add_subplot(122)\n",
    "\n",
    "ax_A.set_title('A')\n",
    "ax_L.set_title('L')\n",
    "\n",
    "ax_A.plot(najveci_A.DATUM_IZVJESTAVANJA, najveci_A.STANJE_NA_KRAJU_KVARTALA)\n",
    "ax_L.plot(najveci_L.DATUM_IZVJESTAVANJA, najveci_L.STANJE_NA_KRAJU_KVARTALA)\n"
   ]
  },
  {
   "cell_type": "markdown",
   "metadata": {},
   "source": [
    "Progresija stanja na kraju kvartala sugerira da vrsta proizvoda *A* predstavlja kredit (kredit se kroz vrijeme vraća pa se stanje smanjuje), a da proizvod *L* predstavlja depozit (stanje raste zbog novog ulaganja u isti ugovor i/ili zbog kamate). Zapravo, među glavnim argumentima po kojima smo zaključili koja šifra vrste proizvoda odgovara kojoj vrsti proizvoda i jesu bili grafovi stanja na kraju kvartala.\n"
   ]
  },
  {
   "cell_type": "markdown",
   "metadata": {},
   "source": [
    "##  Obrada podataka <a class=\"anchor\" id=\"obrada-podataka\"></a>"
   ]
  },
  {
   "cell_type": "markdown",
   "metadata": {},
   "source": [
    "# !!!!!!!!!!!!!!!! TU TREBA DAVOR  SKIPRTE ZA CISCENJE I SPLJOSTENJE I ONDA JOS FEATUER ENG NA KRAJU!!!!!!!!!!!!!!!!!!!!!"
   ]
  },
  {
   "cell_type": "markdown",
   "metadata": {},
   "source": [
    "### Čišćenje podataka <a class=\"anchor\" id=\"ciscenje-podataka\"></a>\n"
   ]
  },
  {
   "cell_type": "markdown",
   "metadata": {},
   "source": [
    "### Spljoštenje <a class=\"anchor\" id=\"spljostenje\"></a>"
   ]
  },
  {
   "cell_type": "code",
   "execution_count": 2,
   "metadata": {},
   "outputs": [],
   "source": [
    "df = None\n",
    "\n",
    "try:\n",
    "    df = pd.read_pickle('../data/spljosteni.pkl')\n",
    "    df_eval = pd.read_pickle('../data/eval/spljosteni.pkl')\n",
    "except FileNotFoundError:\n",
    "    df = pd.read_csv(\n",
    "        '../data/spljosteni.csv',\n",
    "        index_col = 0,\n",
    "        parse_dates = [\n",
    "            'DATUM_ZATVARANJA',\n",
    "            'PRVI_DATUM_OTVARANJA',\n",
    "            'ZADNJI_DATUM_OTVARANJA',\n",
    "            'PRVI_PLANIRANI_DATUM_ZATVARANJA',\n",
    "            'ZADNJI_PLANIRANI_DATUM_ZATVARANJA'\n",
    "        ],\n",
    "        infer_datetime_format = True,\n",
    "    )\n",
    "    df.reset_index(drop = True, inplace = True)\n",
    "    for stupac in iter(\n",
    "        [\n",
    "            'KLIJENT_ID',\n",
    "            'OZNAKA_PARTIJE',\n",
    "            'PRVA_VALUTA',\n",
    "            'ZADNJA_VALUTA',\n",
    "            'VRSTA_KLIJENTA',\n",
    "            'PROIZVOD',\n",
    "            'VRSTA_PROIZVODA',\n",
    "            'PRVI_TIP_KAMATE',\n",
    "            'ZADNJI_TIP_KAMATE'\n",
    "        ]\n",
    "    ):\n",
    "        vrijednosti = df[stupac].dropna().unique()\n",
    "        try:\n",
    "            if isinstance(vrijednosti, np.ndarray):\n",
    "                vrijednosti.sort()\n",
    "            else:\n",
    "                vrijednosti.sort_values(inplace = True)\n",
    "        except (TypeError, ValueError, AttributeError):\n",
    "            pass\n",
    "        df[stupac] = df[stupac].astype(\n",
    "            pd.api.types.CategoricalDtype(\n",
    "                categories = vrijednosti,\n",
    "                ordered = False\n",
    "            )\n",
    "        )\n",
    "    df.reset_index(drop = True, inplace = True)\n",
    "    df.to_pickle('../data/spljosteni.pkl')\n",
    "    \n",
    "    df_eval = pd.read_csv(\n",
    "        '../data/eval/spljosteni.csv',\n",
    "        index_col = 0,\n",
    "        parse_dates = [\n",
    "            'PRVI_DATUM_OTVARANJA',\n",
    "            'ZADNJI_DATUM_OTVARANJA',\n",
    "            'PRVI_PLANIRANI_DATUM_ZATVARANJA',\n",
    "            'ZADNJI_PLANIRANI_DATUM_ZATVARANJA'\n",
    "        ],\n",
    "        infer_datetime_format = True,\n",
    "    )\n",
    "    df_eval.reset_index(drop = True, inplace = True)\n",
    "    for stupac in iter(\n",
    "        [\n",
    "            'KLIJENT_ID',\n",
    "            'OZNAKA_PARTIJE',\n",
    "            'PRVA_VALUTA',\n",
    "            'ZADNJA_VALUTA',\n",
    "            'VRSTA_KLIJENTA',\n",
    "            'PROIZVOD',\n",
    "            'VRSTA_PROIZVODA',\n",
    "            'PRVI_TIP_KAMATE',\n",
    "            'ZADNJI_TIP_KAMATE'\n",
    "        ]\n",
    "    ):\n",
    "        vrijednosti = df_eval[stupac].dropna().unique()\n",
    "        try:\n",
    "            if isinstance(vrijednosti, np.ndarray):\n",
    "                vrijednosti.sort()\n",
    "            else:\n",
    "                vrijednosti.sort_values(inplace = True)\n",
    "        except (TypeError, ValueError, AttributeError):\n",
    "            pass\n",
    "        df_eval[stupac] = df_eval[stupac].astype(\n",
    "            pd.api.types.CategoricalDtype(\n",
    "                categories = vrijednosti,\n",
    "                ordered = False\n",
    "            )\n",
    "        )\n",
    "    df_eval.reset_index(drop = True, inplace = True)\n",
    "    df_eval.to_pickle('../data/eval/spljosteni.pkl')"
   ]
  },
  {
   "cell_type": "code",
   "execution_count": null,
   "metadata": {},
   "outputs": [],
   "source": []
  },
  {
   "cell_type": "markdown",
   "metadata": {},
   "source": [
    "##### TREBA LI NAM OVO? DA, NE, MOŽDA? "
   ]
  },
  {
   "cell_type": "code",
   "execution_count": null,
   "metadata": {},
   "outputs": [],
   "source": [
    "#df = df.loc[df.ZADNJI_PLANIRANI_DATUM_ZATVARANJA.dt.year < 2019].copy()\n",
    "#df.reset_index(drop = True, inplace = True)"
   ]
  },
  {
   "cell_type": "code",
   "execution_count": null,
   "metadata": {},
   "outputs": [],
   "source": [
    "df.PRIJEVREMENI_RASKID.sum()/len(df)"
   ]
  },
  {
   "cell_type": "markdown",
   "metadata": {},
   "source": [
    "### *Feature engineering* <a class=\"anchor\" id=\"feature-engineering\"></a>"
   ]
  },
  {
   "cell_type": "markdown",
   "metadata": {},
   "source": [
    "##### DOMAGOJEVO POVEZIVANJE S EKONOMIJOM "
   ]
  },
  {
   "cell_type": "code",
   "execution_count": null,
   "metadata": {},
   "outputs": [],
   "source": [
    "from script.ubaci_ekonomiju import *\n",
    "\n",
    "\n",
    "df = pd.read_pickle('../data/spljosteni.pkl')\n",
    "df_eval = pd.read_pickle('../data/eval/spljosteni.pkl')\n",
    "def domagoj_ekonomija(df):\n",
    "    ekonomski_indikatori = pd.read_csv('../ekonomski-pokazatelji/ekonomski_indikatori.csv', index_col=0)\n",
    "    print('Ubacivanje zapocinje!\\n')\n",
    "    ## trendovi\n",
    "    df['TREND_bdp'] = df.apply(lambda x: trend(x['ZADNJI_DATUM_OTVARANJA'], x['ZADNJI_PLANIRANI_DATUM_ZATVARANJA'], x['VRSTA_PROIZVODA'], 'BDP (%)',ekonomski_indikatori), axis=1)\n",
    "    df['TREND_inflacija'] = df.apply(lambda x: trend(x['ZADNJI_DATUM_OTVARANJA'], x['ZADNJI_PLANIRANI_DATUM_ZATVARANJA'], x['VRSTA_PROIZVODA'], 'Inflacija (%)', ekonomski_indikatori), axis=1)\n",
    "    df['TREND_nezaposlenosti'] = df.apply(lambda x: trend(x['ZADNJI_DATUM_OTVARANJA'], x['ZADNJI_PLANIRANI_DATUM_ZATVARANJA'], x['VRSTA_PROIZVODA'], 'Stopa nezaposlenosti (%)', ekonomski_indikatori), axis=1)\n",
    "    df['TREND_nafta'] = df.apply(lambda x: trend(x['ZADNJI_DATUM_OTVARANJA'], x['ZADNJI_PLANIRANI_DATUM_ZATVARANJA'], x['VRSTA_PROIZVODA'], 'Cijena nafte', ekonomski_indikatori), axis=1)\n",
    "    print('Zavrseno \"ubacivanje\" trend-ova')\n",
    "\n",
    "    ## std-ovi\n",
    "    df['STD_bdp'] = df.apply(lambda x: std(x['ZADNJI_DATUM_OTVARANJA'], x['ZADNJI_PLANIRANI_DATUM_ZATVARANJA'], 'BDP (%)',ekonomski_indikatori), axis=1)\n",
    "    df['STD_inflacija'] = df.apply(lambda x: std(x['ZADNJI_DATUM_OTVARANJA'], x['ZADNJI_PLANIRANI_DATUM_ZATVARANJA'], 'Inflacija (%)',ekonomski_indikatori), axis=1)\n",
    "    df['STD_nezaposlenosti'] = df.apply(lambda x: std(x['ZADNJI_DATUM_OTVARANJA'], x['ZADNJI_PLANIRANI_DATUM_ZATVARANJA'], 'Stopa nezaposlenosti (%)',ekonomski_indikatori), axis=1)\n",
    "    df['STD_nafta'] = df.apply(lambda x: std(x['ZADNJI_DATUM_OTVARANJA'], x['ZADNJI_PLANIRANI_DATUM_ZATVARANJA'], 'Cijena nafte',ekonomski_indikatori), axis=1)\n",
    "    print('Zavrseno \"ubacivanje\" std-ova')\n",
    "\n",
    "    ## udaljenost prosjeka od referentne vrijednosti\n",
    "    df['PROSJEK_bdp'] = df.apply(lambda x: udaljenost_od_prosjeka(x['ZADNJI_DATUM_OTVARANJA'], x['ZADNJI_PLANIRANI_DATUM_ZATVARANJA'], x['VRSTA_PROIZVODA'], 'BDP (%)',ekonomski_indikatori), axis=1)\n",
    "    df['PROSJEK_inflacija'] = df.apply(lambda x: udaljenost_od_prosjeka(x['ZADNJI_DATUM_OTVARANJA'], x['ZADNJI_PLANIRANI_DATUM_ZATVARANJA'], x['VRSTA_PROIZVODA'], 'Inflacija (%)',ekonomski_indikatori), axis=1)\n",
    "    df['PROSJEK_nezaposlenosti'] = df.apply(lambda x: udaljenost_od_prosjeka(x['ZADNJI_DATUM_OTVARANJA'], x['ZADNJI_PLANIRANI_DATUM_ZATVARANJA'], x['VRSTA_PROIZVODA'], 'Stopa nezaposlenosti (%)',ekonomski_indikatori), axis=1)\n",
    "    df['PROSJEK_nafta'] = df.apply(lambda x: udaljenost_od_prosjeka(x['ZADNJI_DATUM_OTVARANJA'], x['ZADNJI_PLANIRANI_DATUM_ZATVARANJA'], x['VRSTA_PROIZVODA'], 'Cijena nafte',ekonomski_indikatori), axis=1)\n",
    "    print('Zavrseno \"ubacivanje\" udaljenosti')\n",
    "    return df"
   ]
  },
  {
   "cell_type": "code",
   "execution_count": null,
   "metadata": {},
   "outputs": [],
   "source": [
    "df = domagoj_ekonomija(df)\n",
    "df_eval = domagoj_ekonomija(df_eval)\n",
    "\n",
    "df.to_pickle('../data/spljosteni_i_domagojeva_ekonomija.pkl')\n",
    "df_eval.to_pickle('../data/eval/spljosteni_i_domagojeva_ekonomija.pkl')\n"
   ]
  },
  {
   "cell_type": "code",
   "execution_count": 3,
   "metadata": {},
   "outputs": [],
   "source": [
    "df = pd.read_pickle('../data/spljosteni_i_domagojeva_ekonomija.pkl')\n",
    "df_eval = pd.read_pickle('../data/eval/spljosteni_i_domagojeva_ekonomija.pkl')"
   ]
  },
  {
   "cell_type": "markdown",
   "metadata": {},
   "source": [
    "##### STARO POVEZIVANJE S EKONOMIJOM "
   ]
  },
  {
   "cell_type": "code",
   "execution_count": null,
   "metadata": {},
   "outputs": [],
   "source": [
    "\n",
    "a = (pd.to_numeric(df_eval.ZADNJI_PLANIRANI_DATUM_ZATVARANJA - df_eval.ZADNJI_DATUM_OTVARANJA) <0)\n",
    "\n",
    "[i for i, x in enumerate(a) if x]\n"
   ]
  },
  {
   "cell_type": "code",
   "execution_count": null,
   "metadata": {},
   "outputs": [],
   "source": [
    "def stara_ekonomija(df):\n",
    "    #df = df.loc[df.DATUM_OTVARANJA.dt.year >= 2000]\n",
    "    #df = df.sample(1000)\n",
    "    #df.reset_index(drop = True, inplace = True)\n",
    "\n",
    "    #df = temp_df.copy()\n",
    "   \n",
    "\n",
    "    ''' \n",
    "    eko = pd.read_excel('../ekonomski-pokazatelji/ukupna.xls', index_col = 0, header = 0)\n",
    "\n",
    "    x = eko.loc[df.PRVI_DATUM_OTVARANJA.dt.year].reset_index(drop = True)\n",
    "\n",
    "    df = pd.concat([df, x], axis = 1)\n",
    "    '''\n",
    "    #df.DATUM_ZATVARANJA = df.DATUM_ZATVARANJA.astype(float)\n",
    "    df['duljina'] = (df.ZADNJI_PLANIRANI_DATUM_ZATVARANJA - df.ZADNJI_DATUM_OTVARANJA).dt.days/365.2475\n",
    "    df['slozeni_kamatni'] = (( 1 + df.PRVA_VISINA_KAMATE)**(df.DULJINA)) * df.PRVI_UGOVORENI_IZNOS\n",
    "    #df['LOG'] = np.log( df.ZADNJI_UGOVORENI_IZNOS)\n",
    "\n",
    "    #df.PRVI_DATUM_OTVARANJA = pd.to_numeric(df.PRVI_DATUM_OTVARANJA)\n",
    "    #df.ZADNJI_DATUM_OTVARANJA = pd.to_numeric(df.ZADNJI_DATUM_OTVARANJA)\n",
    "    #df.PRVI_PLANIRANI_DATUM_ZATVARANJA = pd.to_numeric(df.PRVI_PLANIRANI_DATUM_ZATVARANJA)\n",
    "    #df.ZADNJI_PLANIRANI_DATUM_ZATVARANJA = pd.to_numeric(df.ZADNJI_PLANIRANI_DATUM_ZATVARANJA)\n",
    "    return df"
   ]
  },
  {
   "cell_type": "code",
   "execution_count": null,
   "metadata": {},
   "outputs": [],
   "source": [
    "df = pd.read_pickle('../data/spljosteni_i_domagojeva_ekonomija.pkl')\n",
    "df_eval = pd.read_pickle('../data/eval/spljosteni_i_domagojeva_ekonomija.pkl')\n",
    "\n",
    "df = stara_ekonomija(df)\n",
    "df_eval = stara_ekonomija(df_eval)"
   ]
  },
  {
   "cell_type": "markdown",
   "metadata": {},
   "source": [
    "##### DOMAGOJEVI FEATUERI"
   ]
  },
  {
   "cell_type": "code",
   "execution_count": null,
   "metadata": {},
   "outputs": [],
   "source": [
    "def dodavanje(df):\n",
    "    df['PRVI_DATUM_OTVARANJA'] = pd.to_numeric(df['PRVI_DATUM_OTVARANJA']) / 10e11\n",
    "    df['PRVI_PLANIRANI_DATUM_ZATVARANJA'] = pd.to_numeric(df['PRVI_PLANIRANI_DATUM_ZATVARANJA']) / 10e11\n",
    "    df['ZADNJI_DATUM_OTVARANJA'] = pd.to_numeric(df['ZADNJI_DATUM_OTVARANJA']) / 10e11\n",
    "    df['ZADNJI_PLANIRANI_DATUM_ZATVARANJA'] = pd.to_numeric(df['ZADNJI_PLANIRANI_DATUM_ZATVARANJA']) / 10e11\n",
    "\n",
    "    df['promjena_tipa_kamate'] = (~(df['PRVI_TIP_KAMATE'] == df['ZADNJI_TIP_KAMATE'])).astype(int)\n",
    "    df.drop('PRVI_TIP_KAMATE', axis=1, inplace=True)\n",
    "\n",
    "    df['promjena_visine_kamate'] = df['ZADNJA_VISINA_KAMATE'] - df['PRVA_VISINA_KAMATE']\n",
    "    df.drop('PRVA_VISINA_KAMATE', axis=1, inplace=True)\n",
    "\n",
    "    df['promjena_ugovorenog_iznosa'] = df['ZADNJI_UGOVORENI_IZNOS'] - df['PRVI_UGOVORENI_IZNOS']\n",
    "    df.drop('PRVI_UGOVORENI_IZNOS', axis=1, inplace=True)\n",
    "\n",
    "    df['jednostavni_kamatni'] = (df['ZADNJI_UGOVORENI_IZNOS'] + (df['ZADNJI_UGOVORENI_IZNOS'] * df['ZADNJA_VISINA_KAMATE'] * df['zadnja_duljina_trajanja'])/100 ) / df['duljina']\n",
    "    df['log_zadnji_ugovoreni_iznos'] = np.log(df['ZADNJI_UGOVORENI_IZNOS'])\n",
    "    return df"
   ]
  },
  {
   "cell_type": "code",
   "execution_count": null,
   "metadata": {},
   "outputs": [],
   "source": [
    "df = dodavanje(df)\n",
    "df_eval = dodavanje(df_eval)"
   ]
  },
  {
   "cell_type": "markdown",
   "metadata": {},
   "source": [
    "##### SPREMANJE"
   ]
  },
  {
   "cell_type": "code",
   "execution_count": null,
   "metadata": {},
   "outputs": [],
   "source": [
    "df.to_pickle('../data/spljosteni_s_ekonomijom.pkl')\n",
    "df_eval.to_pickle('../data/eval/spljosteni_s_ekonomijom.pkl')"
   ]
  },
  {
   "cell_type": "markdown",
   "metadata": {},
   "source": [
    "###  Trening i validacijski skup <a class=\"anchor\" id=\"trening-i-validacijski-skup\"></a>\n"
   ]
  },
  {
   "cell_type": "code",
   "execution_count": null,
   "metadata": {},
   "outputs": [],
   "source": [
    "df = pd.read_pickle('../data/spljosteni_s_ekonomijom.pkl')\n",
    "df_eval = pd.read_pickle('../data/eval/spljosteni_s_ekonomijom.pkl')"
   ]
  },
  {
   "cell_type": "code",
   "execution_count": null,
   "metadata": {},
   "outputs": [],
   "source": [
    "df.columns"
   ]
  },
  {
   "cell_type": "code",
   "execution_count": null,
   "metadata": {},
   "outputs": [],
   "source": [
    "df_eval.columns"
   ]
  },
  {
   "cell_type": "code",
   "execution_count": null,
   "metadata": {},
   "outputs": [],
   "source": [
    "test_portion = 0.3\n",
    "tolerance_epsilon = 1e-4\n",
    "train_df = df\n",
    "test_df = df\n",
    "test_N = int(np.round(test_portion * df.shape[0]))\n",
    "while True:\n",
    "    I = np.sort(np.random.choice(df.shape[0], size = test_N, replace = False))\n",
    "    train_df = df.drop(index = df.index[I]).copy()\n",
    "    test_df = df.iloc[I].copy()\n",
    "    if np.abs(\n",
    "        train_df.PRIJEVREMENI_RASKID.astype(float).sum() / train_df.shape[0] -\n",
    "        test_df.PRIJEVREMENI_RASKID.astype(float).sum() / test_df.shape[0]\n",
    "        ) < tolerance_epsilon:\n",
    "        break\n",
    "train_y = train_df.PRIJEVREMENI_RASKID\n",
    "train_x = train_df.drop('PRIJEVREMENI_RASKID',axis = 1)\n",
    "test_y = test_df.PRIJEVREMENI_RASKID\n",
    "test_x = test_df.drop('PRIJEVREMENI_RASKID',axis = 1)"
   ]
  },
  {
   "cell_type": "markdown",
   "metadata": {},
   "source": [
    "##### POPISIVANJE KATEGORIČKIH STUPACA "
   ]
  },
  {
   "cell_type": "code",
   "execution_count": null,
   "metadata": {},
   "outputs": [],
   "source": [
    "from pandas.core.arrays.categorical import Categorical as Categorical\n",
    "categorical_columns = [\n",
    "    #'KLIJENT_ID',\n",
    "    #'OZNAKA_PARTIJE',\n",
    "    'PRVA_VALUTA',\n",
    "    'ZADNJA_VALUTA',\n",
    "    'VRSTA_KLIJENTA',\n",
    "    'PROIZVOD',\n",
    "    'VRSTA_PROIZVODA',\n",
    "    #'PRVI_TIP_KAMATE',\n",
    "    'ZADNJI_TIP_KAMATE'\n",
    "]\n",
    "for column in iter(categorical_columns):\n",
    "    values = df[column].dropna().unique()\n",
    "    if isinstance(column, Categorical):\n",
    "        values = np.asarray(values)\n",
    "    try:\n",
    "        if isinstance(values, np.ndarray):\n",
    "            values.sort()\n",
    "        else:\n",
    "            values.sort_values(inplace = True)\n",
    "    except (TypeError, ValueError, AttributeError):\n",
    "        pass\n",
    "    df[column] = df[column].astype(\n",
    "        pd.api.types.CategoricalDtype(categories = values, ordered = False)\n",
    "    )\n",
    "cat_stupci = categorical_columns"
   ]
  },
  {
   "cell_type": "markdown",
   "metadata": {},
   "source": [
    "##  Model <a class=\"anchor\" id=\"model\"></a>"
   ]
  },
  {
   "cell_type": "markdown",
   "metadata": {},
   "source": [
    "### *CatBoost* <a class=\"anchor\" id=\"catboost\"></a>"
   ]
  },
  {
   "cell_type": "markdown",
   "metadata": {},
   "source": [
    "malo opisati kaj je catboost: http://learningsys.org/nips17/assets/papers/paper_11.pdf <br>\n",
    "https://github.com/catboost/tutorials/blob/master/python_tutorial.ipynb"
   ]
  },
  {
   "cell_type": "code",
   "execution_count": null,
   "metadata": {},
   "outputs": [],
   "source": [
    "import catboost as cb\n",
    "from catboost import *\n",
    "print('CatBoost version: {}'.format(cb.__version__))"
   ]
  },
  {
   "cell_type": "code",
   "execution_count": null,
   "metadata": {},
   "outputs": [],
   "source": [
    "def cirkus_kratica(model, X, y):\n",
    "    '''\n",
    "        Funkcija koja vraca TP, FP, TN, FN vrijednosti za podatke X, provedene kroz mrezu neural_net,\n",
    "        i njihove labele y\n",
    "    '''\n",
    "    predicted = model.predict(data=test_x).astype(bool)\n",
    "    y = y.astype(bool)\n",
    "\n",
    "    return(\n",
    "        (predicted & y).sum(),\n",
    "        (predicted & ~y).sum(),\n",
    "        (~predicted & ~y).sum(),\n",
    "        (~predicted & y).sum()\n",
    "    )\n",
    "\n",
    "def acc_f1(model, X, y):\n",
    "    '''\n",
    "        Funkcija koja racuna accuracy i F1-score za podatke X provedene kroz mrezu neural_net,\n",
    "        i njihove labele y\n",
    "\n",
    "        Povratni argument je tuple te dvije vrijednosti\n",
    "    '''\n",
    "    \n",
    "    tp, fp, tn, fn = cirkus_kratica(model, X, y)\n",
    "    # print('\\nTP: {}, FP: {}, TN: {}, FN: {}'.format(tp,fp,tn,fn))\n",
    "\n",
    "    precision = (tp/(tp+fp)) if (tp+fp) else 0.0\n",
    "    recall = (tp/(tp+fn)) if (tp+fn) else 0.0\n",
    "\n",
    "    accuracy = (tp+tn)/(tp + fp + tn + fn)\n",
    "    f1 = 2*precision*recall/(precision+recall) if (precision+recall) else 0\n",
    "\n",
    "    return (accuracy, f1, precision, recall)\n",
    "\n",
    "def daj_tezine (model, train_data):\n",
    "    return pd.DataFrame(model.get_feature_importance(), index = train_data.columns, columns = ['Tezine']).sort_values(by = 'Tezine', ascending = False)\n"
   ]
  },
  {
   "cell_type": "markdown",
   "metadata": {},
   "source": [
    "### Optimizacija parametara <a class=\"anchor\" id=\"optimizacija-parametara\"></a>"
   ]
  },
  {
   "cell_type": "markdown",
   "metadata": {},
   "source": [
    "sljedeći kod očekuje:\n",
    "train_x, train_x, train_y, test_y, cat_stupci"
   ]
  },
  {
   "cell_type": "code",
   "execution_count": null,
   "metadata": {
    "scrolled": true
   },
   "outputs": [],
   "source": [
    "from sklearn.metrics import mean_absolute_error\n",
    "from hyperopt import hp, tpe, STATUS_OK, STATUS_FAIL, Trials, fmin\n",
    "\n",
    "\n",
    "def obj(space):\n",
    "    if(space['iterations'] < 1 or space['learning_rate'] < 0):\n",
    "        return {'status': STATUS_FAIL }\n",
    "    if(space['border_count'] < 1 or space['border_count'] >254 ):\n",
    "        return {'status': STATUS_FAIL }\n",
    "    model = CatBoostClassifier(\n",
    "        learning_rate=space['learning_rate'],\n",
    "        iterations=space['iterations'],\n",
    "        l2_leaf_reg = space['l2_leaf_reg'],\n",
    "        depth = round(space['depth']),\n",
    "        random_seed=space['random_seed'],\n",
    "        border_count=space['border_count'],\n",
    "        \n",
    "        bagging_temperature = space['bagging_temperature'],\n",
    "        sampling_unit = space['sampling_unit'],\n",
    "        random_strength = space['random_strength'],\n",
    "        #grow_policy = space['grow_policy'], # ovo ide samo ako je GPU\n",
    "        leaf_estimation_method = space['leaf_estimation_method'],\n",
    "        #score_function = space['score_function'], # ovo ide samo ako je GPU\n",
    "        od_type = space['od_type'],\n",
    "        \n",
    "        class_weights= [1,len(train_y)/train_y.sum()],\n",
    "        custom_loss=['F1', 'Accuracy'],\n",
    "        task_type ='GPU'\n",
    "\n",
    "    )\n",
    "    \n",
    "    \n",
    "    model.fit(\n",
    "        train_x, train_y,\n",
    "        eval_set=(test_x, test_y),\n",
    "        cat_features=cat_stupci,\n",
    "        verbose=False\n",
    "\n",
    "    )\n",
    "    \n",
    "    '''\n",
    "    #ovo je za cross validaciju\n",
    "    cv_data = cb.cv(\n",
    "        Pool(df.drop('PRIJEVREMENI_RASKID',axis = 1), df.PRIJEVREMENI_RASKID, cat_features=cat_stupci),\n",
    "        model.get_params()\n",
    "    )\n",
    "    acc = np.max(cv_data['test-Accuracy-mean'])\n",
    "    '''\n",
    "    #pred = model.predict(test_x)\n",
    "    #mae = mean_absolute_error((test_y), (pred))\n",
    "    \n",
    "    acc, f1, _, _ = acc_f1(model,test_x, test_y)\n",
    "    \n",
    "    #tu možda vraćati umjesto mae, 1- accuracy?\n",
    "    #return{'loss':mae, 'status': STATUS_OK }\n",
    "    return{'loss':1 - acc, 'status': STATUS_OK }\n",
    "\n",
    "# https://github.com/hyperopt/hyperopt/wiki/FMin\n",
    "# gore su ostale funkcije hp.uniform, hp.randint ... za space\n",
    "\n",
    "#https://catboost.ai/docs/concepts/parameter-tuning.html\n",
    "#gore je koji sve parametri bi se trebali tunat\n",
    "space ={\n",
    "        'random_seed': hp.randint('random_seed',1000),\n",
    "        'l2_leaf_reg': hp.qlognormal('l2_leaf_reg', 1, 5, 0.5),\n",
    "        'learning_rate': hp.uniform('learning_rate', 1e-4,5e-1),\n",
    "        'iterations': hp.randint ('iterations', 600),\n",
    "        'depth': hp.quniform ('depth', 4,10, 0.5),\n",
    "        'bagging_temperature' : hp.lognormal('bagging_temperature', 1,1),\n",
    "        'random_strength' : hp.lognormal('random_strength', 1,1),\n",
    "        'border_count': hp.randint('border_count', 254), \n",
    "    \n",
    "        'sampling_unit' : hp.choice('sampling_unit', ['Group', 'Object']),\n",
    "        #'grow_policy' : hp.choice('grow_policy', ['SymmetricTree', 'Depthwise', 'Lossguide']), #za GPU; nema feat importance\n",
    "        'leaf_estimation_method' : hp.choice('leaf_estimation_method', ['Newton', 'Gradient']),\n",
    "        #'score_function' : hp.choice('score_function', ['Correlation', 'L2', 'NewtonCorrelation', 'NewtonL2']), #za GPU\n",
    "        'od_type' : hp.choice('od_type', ['IncToDec', 'Iter'])\n",
    "    }\n",
    "\n",
    "\n",
    "trials = Trials()\n",
    "best = fmin(fn=obj,\n",
    "            space=space,\n",
    "            algo=tpe.suggest,\n",
    "            max_evals=20, # change\n",
    "            trials=trials\n",
    "        )\n",
    "\n",
    "print(best)"
   ]
  },
  {
   "cell_type": "code",
   "execution_count": null,
   "metadata": {},
   "outputs": [],
   "source": [
    "trials.vals\n",
    "\n",
    "trials.trials"
   ]
  },
  {
   "cell_type": "markdown",
   "metadata": {},
   "source": [
    "### Treniranje <a class=\"anchor\" id=\"treniranje\"></a>\n"
   ]
  },
  {
   "cell_type": "code",
   "execution_count": null,
   "metadata": {},
   "outputs": [],
   "source": [
    "(1-train_y).sum()/train_y.sum(), len(train_y)/train_y.sum()"
   ]
  },
  {
   "cell_type": "code",
   "execution_count": null,
   "metadata": {},
   "outputs": [],
   "source": [
    "sampling_unit_ = ['Group', 'Object']\n",
    "grow_policy_ = ['SymmetricTree', 'Depthwise', 'Lossguide']\n",
    "leaf_estimation_method_ = ['Newton', 'Gradient']\n",
    "score_function_ = ['Correlation', 'L2', 'NewtonCorrelation', 'NewtonL2']\n",
    "od_type_ = ['IncToDec', 'Iter']\n",
    "#očekuje best varijablu koja je gore izračunata uz ostale varijable\n",
    "t0 = time.time()\n",
    "model = CatBoostClassifier(\n",
    "    learning_rate=1.2,\n",
    "    iterations=best['iterations'],\n",
    "    l2_leaf_reg = best['l2_leaf_reg'],\n",
    "    depth = round(best['depth']),\n",
    "    random_strength = best['random_strength'],\n",
    "    bagging_temperature = best['bagging_temperature'],\n",
    "    border_count = best['border_count'],\n",
    "    \n",
    "    #train_dir='nas_model',\n",
    "    \n",
    "    sampling_unit = sampling_unit_[best['sampling_unit']],    \n",
    "    #grow_policy = grow_policy_[best['grow_policy']], #za GPU\n",
    "    leaf_estimation_method = leaf_estimation_method_[best['leaf_estimation_method']],\n",
    "    #score_function = score_function_[best['score_function']], #za GPU\n",
    "    od_type = od_type_[best['od_type']],\n",
    "\n",
    "    random_seed=best['random_seed'],\n",
    "    class_weights=[1,len(train_y)/train_y.sum()],\n",
    "    custom_loss=['F1', 'Accuracy'],\n",
    "    task_type ='CPU'\n",
    "\n",
    ")\n",
    "model.fit(\n",
    "    train_x, train_y,\n",
    "    eval_set=(test_x, test_y),\n",
    "    cat_features=cat_stupci,\n",
    "    verbose=False,\n",
    "    plot = True\n",
    ")\n",
    "t1 = time.time()\n",
    "\n",
    "# Izracunaj vremenski period od t0 do t1 u sekundama.\n",
    "d = float(t1 - t0)\n",
    "\n",
    "# Ispisi vrijeme.\n",
    "print(\n",
    "    'Trajanje ucitavanja: {h:d}h {m:02d}m {s:06.3f}s ({S:.3f}s)'.format(\n",
    "        h = int(math.floor(d / 3600)),\n",
    "        m = int(math.floor((d - 3600 * int(math.floor(d / 3600))) / 60)),\n",
    "        s = d - 60 * int(math.floor(d / 60)),\n",
    "        S = d\n",
    "    )\n",
    ")\n",
    "\n",
    "# Oslobodi memoriju.\n",
    "del d\n",
    "del t0\n",
    "del t1    \n",
    "\n"
   ]
  },
  {
   "cell_type": "code",
   "execution_count": null,
   "metadata": {},
   "outputs": [],
   "source": [
    "#model.save_model('nas_model1')"
   ]
  },
  {
   "cell_type": "code",
   "execution_count": null,
   "metadata": {},
   "outputs": [],
   "source": [
    "acc_f1(model,test_x, test_y)"
   ]
  },
  {
   "cell_type": "code",
   "execution_count": null,
   "metadata": {},
   "outputs": [],
   "source": [
    "pd.DataFrame(model.get_feature_importance(), index = test_x.columns).sort_values(by=0,ascending=False)"
   ]
  },
  {
   "cell_type": "code",
   "execution_count": null,
   "metadata": {},
   "outputs": [],
   "source": [
    "daj_tezine(model, train_x)"
   ]
  },
  {
   "cell_type": "code",
   "execution_count": null,
   "metadata": {
    "scrolled": true
   },
   "outputs": [],
   "source": [
    "cv_params = model.get_params()\n",
    "cv_data = cb.cv(\n",
    "    Pool(df.drop('PRIJEVREMENI_RASKID',axis = 1), df.PRIJEVREMENI_RASKID, cat_features=cat_stupci),\n",
    "    cv_params,\n",
    "    plot=True\n",
    ")"
   ]
  },
  {
   "cell_type": "code",
   "execution_count": null,
   "metadata": {},
   "outputs": [],
   "source": [
    "print('Best validation accuracy score: {:.2f}±{:.2f} on step {}'.format(\n",
    "    np.max(cv_data['test-Accuracy-mean']),\n",
    "    cv_data['test-Accuracy-std'][np.argmax(cv_data['test-Accuracy-mean'])],\n",
    "    np.argmax(cv_data['test-Accuracy-mean'])\n",
    "))\n"
   ]
  },
  {
   "cell_type": "code",
   "execution_count": null,
   "metadata": {},
   "outputs": [],
   "source": [
    "print('Precise validation accuracy score: {}'.format(np.max(cv_data['test-Accuracy-mean'])))"
   ]
  },
  {
   "cell_type": "markdown",
   "metadata": {},
   "source": [
    "### Testiranje <a class=\"anchor\" id=\"testiranje\"></a>\n"
   ]
  },
  {
   "cell_type": "code",
   "execution_count": null,
   "metadata": {},
   "outputs": [],
   "source": [
    "df = pd.read_pickle('../data/eval/spljosteni_sa_ekonomijom.pkl')\n",
    "df.set_index('instance_id', inplace=True)\n",
    "\n",
    "df.drop(columns=['KLIJENT_ID', 'OZNAKA_PARTIJE', 'STAROST', 'PRIJEVREMENI_RASKID'], axis = 1, inplace = True)\n",
    "# df = df[(df['ZADNJI_PLANIRANI_DATUM_ZATVARANJA'].dt.year < 2019) | ((df['ZADNJI_PLANIRANI_DATUM_ZATVARANJA'].dt.year == 2019) & (df['ZADNJI_PLANIRANI_DATUM_ZATVARANJA'].dt.month == 1) & (df['ZADNJI_PLANIRANI_DATUM_ZATVARANJA'].dt.day <= 10))]\n",
    "\n",
    "\n",
    "## pocisti ZADNJI_UGOVORENI_IZNOS == 0 jer to ne ulazi u evaluaciju na internetu\n",
    "df = df[df['ZADNJI_UGOVORENI_IZNOS'] != 0]"
   ]
  },
  {
   "cell_type": "code",
   "execution_count": null,
   "metadata": {},
   "outputs": [],
   "source": [
    "df['zadnja_duljina_trajanja'] = (df['ZADNJI_PLANIRANI_DATUM_ZATVARANJA'] - df['ZADNJI_DATUM_OTVARANJA']).dt.days\n",
    "\n",
    "df['PRVI_DATUM_OTVARANJA'] = pd.to_numeric(df['PRVI_DATUM_OTVARANJA']) / 10e11\n",
    "df['PRVI_PLANIRANI_DATUM_ZATVARANJA'] = pd.to_numeric(df['PRVI_PLANIRANI_DATUM_ZATVARANJA']) / 10e11\n",
    "df['ZADNJI_DATUM_OTVARANJA'] = pd.to_numeric(df['ZADNJI_DATUM_OTVARANJA']) / 10e11\n",
    "df['ZADNJI_PLANIRANI_DATUM_ZATVARANJA'] = pd.to_numeric(df['ZADNJI_PLANIRANI_DATUM_ZATVARANJA']) / 10e11\n"
   ]
  },
  {
   "cell_type": "code",
   "execution_count": null,
   "metadata": {},
   "outputs": [],
   "source": [
    "predicted = df[df['PRIJEVREMENI_RASKID'] == 1]\n",
    "predicted = predicted.loc[:, df.columns.intersection(['PRIJEVREMENI_RASKID'])]"
   ]
  },
  {
   "cell_type": "code",
   "execution_count": null,
   "metadata": {},
   "outputs": [],
   "source": [
    "predicted = predicted.loc[:, df.columns.intersection(['PRIJEVREMENI_RASKID'])]"
   ]
  },
  {
   "cell_type": "code",
   "execution_count": null,
   "metadata": {},
   "outputs": [],
   "source": [
    "predicted = predicted.loc[:, df.columns.intersection(['PRIJEVREMENI_RASKID'])]"
   ]
  },
  {
   "cell_type": "code",
   "execution_count": null,
   "metadata": {},
   "outputs": [],
   "source": [
    "predicted = predicted.loc[:, df.columns.intersection(['PRIJEVREMENI_RASKID'])]"
   ]
  },
  {
   "cell_type": "code",
   "execution_count": null,
   "metadata": {},
   "outputs": [],
   "source": [
    "original['PRIJEVREMENI_RASKID'] = original['PRIJEVREMENI_RASKID'].map({1: 'Y', 0: 'N'})\n"
   ]
  },
  {
   "cell_type": "code",
   "execution_count": null,
   "metadata": {},
   "outputs": [],
   "source": [
    "original.to_csv('../data/student.csv')"
   ]
  },
  {
   "cell_type": "markdown",
   "metadata": {},
   "source": [
    "##  Zaključak <a class=\"anchor\" id=\"zakljucak\"></a>"
   ]
  },
  {
   "cell_type": "code",
   "execution_count": null,
   "metadata": {},
   "outputs": [],
   "source": []
  }
 ],
 "metadata": {
  "kernelspec": {
   "display_name": "Python 3",
   "language": "python",
   "name": "python3"
  },
  "language_info": {
   "codemirror_mode": {
    "name": "ipython",
    "version": 3
   },
   "file_extension": ".py",
   "mimetype": "text/x-python",
   "name": "python",
   "nbconvert_exporter": "python",
   "pygments_lexer": "ipython3",
   "version": "3.7.3"
  }
 },
 "nbformat": 4,
 "nbformat_minor": 2
}
