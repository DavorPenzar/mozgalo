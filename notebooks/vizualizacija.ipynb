{
 "cells": [
  {
   "cell_type": "code",
   "execution_count": 1,
   "metadata": {
    "slideshow": {
     "slide_type": "-"
    }
   },
   "outputs": [],
   "source": [
    "import numpy as np\n",
    "import pandas as pd\n",
    "import matplotlib.pyplot as plt\n",
    "import torch\n",
    "import time\n",
    "import math\n",
    "from script.rs_pca import *"
   ]
  },
  {
   "cell_type": "code",
   "execution_count": 2,
   "metadata": {},
   "outputs": [],
   "source": [
    "\n",
    "\n",
    "def usporedi (\n",
    "    df,\n",
    "    column,\n",
    "    ax = None,\n",
    "    args = (tuple(), tuple()),\n",
    "    kwargs = (\n",
    "        {'density' : True, 'alpha' : 0.5},\n",
    "        {'density' : True, 'alpha' : 0.5}\n",
    "    )\n",
    "):\n",
    "    if ax is None:\n",
    "        ax = plt.gca()\n",
    "\n",
    "    if df[column].dtype.name == 'category' or df[column].dtype.name == 'object':\n",
    "        kwargs0, kwargs1 = (copy.deepcopy(kwargs[0]), copy.deepcopy(kwargs[1]))\n",
    "        dens0, dens1 = (\n",
    "            kwargs0.pop('density', False),\n",
    "            kwargs1.pop('density', False)\n",
    "        )\n",
    "\n",
    "        nonnulls = pd.notnull(df[column])\n",
    "\n",
    "        categories = np.sort(df.loc[nonnulls, column].unique())\n",
    "\n",
    "        ax.bar(\n",
    "            categories,\n",
    "            np.array(\n",
    "                [\n",
    "                    ((df[column] == category) & ~df.PRIJEVREMENI_RASKID).sum()\n",
    "                        for category in categories\n",
    "                ],\n",
    "                dtype = float\n",
    "            ) / (nonnulls & ~df.PRIJEVREMENI_RASKID).sum() if dens0 else [\n",
    "                ((df[column] == category) & ~df.PRIJEVREMENI_RASKID).sum()\n",
    "                    for category in categories\n",
    "            ],\n",
    "            *args[0],\n",
    "            **kwargs0\n",
    "        )\n",
    "        ax.bar(\n",
    "            categories,\n",
    "            np.array(\n",
    "                [\n",
    "                    ((df[column] == category) & df.PRIJEVREMENI_RASKID).sum()\n",
    "                        for category in categories\n",
    "                ],\n",
    "                dtype = float\n",
    "            ) / (nonnulls & df.PRIJEVREMENI_RASKID).sum() if dens1 else [\n",
    "                ((df[column] == category) & df.PRIJEVREMENI_RASKID).sum()\n",
    "                    for category in categories\n",
    "            ],\n",
    "            *args[1],\n",
    "            **kwargs1\n",
    "        )\n",
    "    else:\n",
    "        ax.hist(df.loc[~df.PRIJEVREMENI_RASKID, column], *args[0], **kwargs[0])\n",
    "        ax.hist(df.loc[df.PRIJEVREMENI_RASKID, column], *args[1], **kwargs[1])"
   ]
  },
  {
   "cell_type": "code",
   "execution_count": 20,
   "metadata": {},
   "outputs": [
    {
     "name": "stdout",
     "output_type": "stream",
     "text": [
      "Trajanje ucitavanja: 0h 00m 00.041s (0.041s)\n"
     ]
    }
   ],
   "source": [
    "##  UCITAVANJE SKUPA PODATAKA\n",
    "##\n",
    "##  S obzirom na to da je skup podataka vrlo velik (5 193 124 redaka), mjerit\n",
    "##  cemo i vrijeme potrebno za njegovo ucitavanje.  Podatci bi se, medutim, iz\n",
    "##  CSV datoteke puno brze ucitali da se datumi ne parsiraju, nego da ostanu\n",
    "##  stringovi, ali vjerojatno ce nam datumi ionako biti potrebni u datumskom\n",
    "##  obliku pa ih je bolje odmah takve i ucitati.  Stoga, jednom kada se CSV\n",
    "##  ucita, sprema se pickle cijelog skupa podataka tako da svaki sljedeci put\n",
    "##  ucitavanje bude puno brze (ako datoteka s pickle-om postoji, automatski se\n",
    "##  skup podataka cita iz nje; CSV se cita tek ako datoteka s pickle-om ne\n",
    "##  postoji).\n",
    "\n",
    "# Pocni mjeriti vrijeme.\n",
    "t0 = time.time()\n",
    "\n",
    "\n",
    "# Ucitaj skup podataka.  Prvo se pokusava ucitati pickle iz datoteke\n",
    "# `training_dataset_enc.pkl', a, ako ta datoteka ne postoji, onda se ucitava\n",
    "# tablica u CSV obliku iz `training_dataset_enc.csv' i odmah se sprema pickle u\n",
    "# datoteku `training_dataset_enc.pkl' za brze ucitavanje ubuduce.\n",
    "df = None\n",
    "try:\n",
    "    df = pd.read_pickle('../data/spljosteni_i_dropani_trening_set.pkl')\n",
    "except FileNotFoundError:\n",
    "    df = pd.read_csv(\n",
    "        '../data/spljosteni_i_dropani_trening_set.csv',\n",
    "        index_col = 0,\n",
    "        parse_dates = [\n",
    "            'DATUM_OTVARANJA',\n",
    "            'PLANIRANI_DATUM_ZATVARANJA'\n",
    "        ],\n",
    "        infer_datetime_format = True\n",
    "    )\n",
    "    df.reset_index(drop = True, inplace = True)\n",
    "    df.KLIJENT_ID = df.KLIJENT_ID.astype(\n",
    "        pd.api.types.CategoricalDtype(\n",
    "            categories = np.sort(\n",
    "                df.KLIJENT_ID[pd.notnull(df.KLIJENT_ID)].unique()\n",
    "            ),\n",
    "            ordered = False\n",
    "        )\n",
    "    )\n",
    "    df.OZNAKA_PARTIJE = df.OZNAKA_PARTIJE.astype(\n",
    "        pd.api.types.CategoricalDtype(\n",
    "            categories = np.sort(\n",
    "                df.OZNAKA_PARTIJE[pd.notnull(df.OZNAKA_PARTIJE)].unique()\n",
    "            ),\n",
    "            ordered = False\n",
    "        )\n",
    "    )\n",
    "    df.VALUTA = df.VALUTA.astype(\n",
    "        pd.api.types.CategoricalDtype(\n",
    "            categories = np.sort(df.VALUTA[pd.notnull(df.VALUTA)].unique()),\n",
    "            ordered = False\n",
    "        )\n",
    "    )\n",
    "    df.VRSTA_KLIJENTA = df.VRSTA_KLIJENTA.astype(\n",
    "        pd.api.types.CategoricalDtype(\n",
    "            categories = np.sort(\n",
    "                df.VRSTA_KLIJENTA[pd.notnull(df.VRSTA_KLIJENTA)].unique()\n",
    "            ),\n",
    "            ordered = False\n",
    "        )\n",
    "    )\n",
    "    df.PROIZVOD = df.PROIZVOD.astype(\n",
    "        pd.api.types.CategoricalDtype(\n",
    "            categories = np.sort(df.PROIZVOD[pd.notnull(df.PROIZVOD)].unique()),\n",
    "            ordered = False\n",
    "        )\n",
    "    )\n",
    "    df.VRSTA_PROIZVODA = df.VRSTA_PROIZVODA.astype(\n",
    "        pd.api.types.CategoricalDtype(\n",
    "            categories = np.sort(\n",
    "                df.VRSTA_PROIZVODA[pd.notnull(df.VRSTA_PROIZVODA)].unique()\n",
    "            ),\n",
    "            ordered = False\n",
    "        )\n",
    "    )\n",
    "    df.TIP_KAMATE = df.TIP_KAMATE.astype(\n",
    "        pd.api.types.CategoricalDtype(\n",
    "            categories = np.sort(\n",
    "                df.TIP_KAMATE[pd.notnull(df.TIP_KAMATE)].unique()\n",
    "            ),\n",
    "            ordered = False\n",
    "        )\n",
    "    )\n",
    "    df.to_pickle('../data/spljosteni_i_dropani_trening_set.pkl')\n",
    "\n",
    "# Zavrsi mjerenje vremena.\n",
    "t1 = time.time()\n",
    "\n",
    "# Izracunaj vremenski period od t0 do t1 u sekundama.\n",
    "d = float(t1 - t0)\n",
    "\n",
    "# Ispisi vrijeme.\n",
    "print(\n",
    "    'Trajanje ucitavanja: {h:d}h {m:02d}m {s:06.3f}s ({S:.3f}s)'.format(\n",
    "        h = int(math.floor(d / 3600)),\n",
    "        m = int(math.floor((d - 3600 * int(math.floor(d / 3600))) / 60)),\n",
    "        s = d - 60 * int(math.floor(d / 60)),\n",
    "        S = d\n",
    "    )\n",
    ")\n",
    "\n",
    "# Oslobodi memoriju.\n",
    "del d\n",
    "del t0\n",
    "del t1\n"
   ]
  },
  {
   "cell_type": "code",
   "execution_count": null,
   "metadata": {},
   "outputs": [],
   "source": [
    "(df-df.mean())/df.std()"
   ]
  },
  {
   "cell_type": "code",
   "execution_count": 21,
   "metadata": {},
   "outputs": [],
   "source": [
    "#numerifikacija\n",
    "df['DATUM_OTVARANJA'] = pd.to_numeric(df['DATUM_OTVARANJA'])\n",
    "df['PLANIRANI_DATUM_ZATVARANJA'] = pd.to_numeric(df['PLANIRANI_DATUM_ZATVARANJA'])/(10**16)\n",
    "#normalizacija\n",
    "df['DATUM_OTVARANJA'] = (df['DATUM_OTVARANJA'] - df['DATUM_OTVARANJA'].mean())/df['DATUM_OTVARANJA'].std()\n",
    "df['PLANIRANI_DATUM_ZATVARANJA'] = (df['PLANIRANI_DATUM_ZATVARANJA'] - df['PLANIRANI_DATUM_ZATVARANJA'].mean())/df['PLANIRANI_DATUM_ZATVARANJA'].std()"
   ]
  },
  {
   "cell_type": "code",
   "execution_count": 22,
   "metadata": {},
   "outputs": [
    {
     "data": {
      "text/html": [
       "<div>\n",
       "<style scoped>\n",
       "    .dataframe tbody tr th:only-of-type {\n",
       "        vertical-align: middle;\n",
       "    }\n",
       "\n",
       "    .dataframe tbody tr th {\n",
       "        vertical-align: top;\n",
       "    }\n",
       "\n",
       "    .dataframe thead th {\n",
       "        text-align: right;\n",
       "    }\n",
       "</style>\n",
       "<table border=\"1\" class=\"dataframe\">\n",
       "  <thead>\n",
       "    <tr style=\"text-align: right;\">\n",
       "      <th></th>\n",
       "      <th>KLIJENT_ID</th>\n",
       "      <th>OZNAKA_PARTIJE</th>\n",
       "      <th>DATUM_OTVARANJA</th>\n",
       "      <th>PLANIRANI_DATUM_ZATVARANJA</th>\n",
       "      <th>STAROST</th>\n",
       "      <th>UGOVORENI_IZNOS</th>\n",
       "      <th>VISINA_KAMATE</th>\n",
       "      <th>VRSTA_KLIJENTA</th>\n",
       "      <th>VRSTA_PROIZVODA</th>\n",
       "      <th>PROIZVOD</th>\n",
       "      <th>VALUTA</th>\n",
       "      <th>TIP_KAMATE</th>\n",
       "      <th>PRIJEVREMENI_RASKID</th>\n",
       "    </tr>\n",
       "  </thead>\n",
       "  <tbody>\n",
       "    <tr>\n",
       "      <th>0</th>\n",
       "      <td>1588</td>\n",
       "      <td>256644</td>\n",
       "      <td>-5.166776</td>\n",
       "      <td>-1.212613</td>\n",
       "      <td>46</td>\n",
       "      <td>NaN</td>\n",
       "      <td>2.7</td>\n",
       "      <td>1410</td>\n",
       "      <td>L</td>\n",
       "      <td>TM0109</td>\n",
       "      <td>2</td>\n",
       "      <td>C</td>\n",
       "      <td>0</td>\n",
       "    </tr>\n",
       "    <tr>\n",
       "      <th>1</th>\n",
       "      <td>1588</td>\n",
       "      <td>256644</td>\n",
       "      <td>-5.166776</td>\n",
       "      <td>-1.144293</td>\n",
       "      <td>47</td>\n",
       "      <td>NaN</td>\n",
       "      <td>1.9</td>\n",
       "      <td>1410</td>\n",
       "      <td>L</td>\n",
       "      <td>TM0109</td>\n",
       "      <td>2</td>\n",
       "      <td>C</td>\n",
       "      <td>0</td>\n",
       "    </tr>\n",
       "    <tr>\n",
       "      <th>2</th>\n",
       "      <td>1588</td>\n",
       "      <td>256644</td>\n",
       "      <td>-5.166776</td>\n",
       "      <td>-1.075238</td>\n",
       "      <td>46</td>\n",
       "      <td>NaN</td>\n",
       "      <td>1.9</td>\n",
       "      <td>1410</td>\n",
       "      <td>L</td>\n",
       "      <td>TM0109</td>\n",
       "      <td>2</td>\n",
       "      <td>C</td>\n",
       "      <td>0</td>\n",
       "    </tr>\n",
       "    <tr>\n",
       "      <th>3</th>\n",
       "      <td>1588</td>\n",
       "      <td>256644</td>\n",
       "      <td>-5.166776</td>\n",
       "      <td>-1.028221</td>\n",
       "      <td>46</td>\n",
       "      <td>NaN</td>\n",
       "      <td>1.9</td>\n",
       "      <td>1410</td>\n",
       "      <td>L</td>\n",
       "      <td>TM0109</td>\n",
       "      <td>2</td>\n",
       "      <td>C</td>\n",
       "      <td>0</td>\n",
       "    </tr>\n",
       "    <tr>\n",
       "      <th>4</th>\n",
       "      <td>1145</td>\n",
       "      <td>293918</td>\n",
       "      <td>-5.069029</td>\n",
       "      <td>-1.073768</td>\n",
       "      <td>40</td>\n",
       "      <td>71552.0</td>\n",
       "      <td>4.0</td>\n",
       "      <td>1610</td>\n",
       "      <td>A</td>\n",
       "      <td>FL1306</td>\n",
       "      <td>4</td>\n",
       "      <td>C</td>\n",
       "      <td>0</td>\n",
       "    </tr>\n",
       "  </tbody>\n",
       "</table>\n",
       "</div>"
      ],
      "text/plain": [
       "  KLIJENT_ID OZNAKA_PARTIJE  DATUM_OTVARANJA  PLANIRANI_DATUM_ZATVARANJA  \\\n",
       "0       1588         256644        -5.166776                   -1.212613   \n",
       "1       1588         256644        -5.166776                   -1.144293   \n",
       "2       1588         256644        -5.166776                   -1.075238   \n",
       "3       1588         256644        -5.166776                   -1.028221   \n",
       "4       1145         293918        -5.069029                   -1.073768   \n",
       "\n",
       "   STAROST  UGOVORENI_IZNOS  VISINA_KAMATE VRSTA_KLIJENTA VRSTA_PROIZVODA  \\\n",
       "0       46              NaN            2.7           1410               L   \n",
       "1       47              NaN            1.9           1410               L   \n",
       "2       46              NaN            1.9           1410               L   \n",
       "3       46              NaN            1.9           1410               L   \n",
       "4       40          71552.0            4.0           1610               A   \n",
       "\n",
       "  PROIZVOD VALUTA TIP_KAMATE  PRIJEVREMENI_RASKID  \n",
       "0   TM0109      2          C                    0  \n",
       "1   TM0109      2          C                    0  \n",
       "2   TM0109      2          C                    0  \n",
       "3   TM0109      2          C                    0  \n",
       "4   FL1306      4          C                    0  "
      ]
     },
     "execution_count": 22,
     "metadata": {},
     "output_type": "execute_result"
    }
   ],
   "source": [
    "df.head()"
   ]
  },
  {
   "cell_type": "code",
   "execution_count": 38,
   "metadata": {},
   "outputs": [
    {
     "data": {
      "text/plain": [
       "(421, 13)"
      ]
     },
     "execution_count": 38,
     "metadata": {},
     "output_type": "execute_result"
    }
   ],
   "source": [
    "(df.loc[pd.isna(df.UGOVORENI_IZNOS),:]).shape"
   ]
  },
  {
   "cell_type": "code",
   "execution_count": 42,
   "metadata": {},
   "outputs": [
    {
     "name": "stdout",
     "output_type": "stream",
     "text": [
      "Int64Index([      1002,       1013,       1025,       1028,       1041,\n",
      "                  1044,       1045,       1046,       1061,       1063,\n",
      "            ...\n",
      "               1848491,    1848649,    1848662,    1848786,    1848992,\n",
      "               1849524,    1849542,    1850220,    1861085, 9991410999],\n",
      "           dtype='int64', length=253336)\n",
      "Int64Index([   163007,    163116,    163312,    163577,    163718,    163825,\n",
      "               164109,    164426,    164527,    164971,\n",
      "            ...\n",
      "            113528889, 113528901, 113528907, 113528923, 113528926, 113528960,\n",
      "            113528975, 113528976, 113528993, 113529034],\n",
      "           dtype='int64', length=547138)\n",
      "Int64Index([1110, 1120, 1210, 1310, 1320, 1330, 1350, 1410, 1420, 1430, 1510,\n",
      "            1550, 1610],\n",
      "           dtype='int64')\n",
      "Index(['A', 'L'], dtype='object')\n",
      "Index(['FD0100', 'FD0200', 'FE0100', 'FE0200', 'FI0500', 'FL0201', 'FL0202',\n",
      "       'FL0600', 'FL0801', 'FL0802', 'FL0803', 'FL0804', 'FL0900', 'FL0901',\n",
      "       'FL1100', 'FL1200', 'FL1201', 'FL1202', 'FL1301', 'FL1304', 'FL1306',\n",
      "       'FL1309', 'FL1310', 'FL1400', 'FL1500', 'FL1600', 'FP0100', 'FS0200',\n",
      "       'TM0102', 'TM0104', 'TM0109'],\n",
      "      dtype='object')\n",
      "Int64Index([1, 2, 3, 4, 5], dtype='int64')\n",
      "Index(['A', 'B', 'C', 'D'], dtype='object')\n"
     ]
    }
   ],
   "source": [
    "(df.loc[pd.isna(df.UGOVORENI_IZNOS),:]).VRSTA_PROIZVODA.dtype.categories\n",
    "\n",
    "for c in (df.loc[pd.isna(df.UGOVORENI_IZNOS),:]).columns:\n",
    "    try:\n",
    "        print((df.loc[pd.isna(df.UGOVORENI_IZNOS),:])[c].dtype.categories)\n",
    "    except:\n",
    "        pass"
   ]
  },
  {
   "cell_type": "code",
   "execution_count": 33,
   "metadata": {},
   "outputs": [
    {
     "data": {
      "text/plain": [
       "18"
      ]
     },
     "execution_count": 33,
     "metadata": {},
     "output_type": "execute_result"
    }
   ],
   "source": [
    "(df.loc[pd.isna(df.UGOVORENI_IZNOS),:].PRIJEVREMENI_RASKID).sum()"
   ]
  },
  {
   "cell_type": "code",
   "execution_count": 37,
   "metadata": {},
   "outputs": [
    {
     "data": {
      "text/plain": [
       "421"
      ]
     },
     "execution_count": 37,
     "metadata": {},
     "output_type": "execute_result"
    }
   ],
   "source": [
    "(df.loc[pd.isna(df.UGOVORENI_IZNOS),:].VRSTA_PROIZVODA == 'L').sum()"
   ]
  },
  {
   "cell_type": "code",
   "execution_count": 26,
   "metadata": {},
   "outputs": [
    {
     "data": {
      "text/html": [
       "<div>\n",
       "<style scoped>\n",
       "    .dataframe tbody tr th:only-of-type {\n",
       "        vertical-align: middle;\n",
       "    }\n",
       "\n",
       "    .dataframe tbody tr th {\n",
       "        vertical-align: top;\n",
       "    }\n",
       "\n",
       "    .dataframe thead th {\n",
       "        text-align: right;\n",
       "    }\n",
       "</style>\n",
       "<table border=\"1\" class=\"dataframe\">\n",
       "  <thead>\n",
       "    <tr style=\"text-align: right;\">\n",
       "      <th></th>\n",
       "      <th>DATUM_OTVARANJA</th>\n",
       "      <th>PLANIRANI_DATUM_ZATVARANJA</th>\n",
       "      <th>STAROST</th>\n",
       "      <th>UGOVORENI_IZNOS</th>\n",
       "      <th>VISINA_KAMATE</th>\n",
       "      <th>PRIJEVREMENI_RASKID</th>\n",
       "    </tr>\n",
       "  </thead>\n",
       "  <tbody>\n",
       "    <tr>\n",
       "      <th>count</th>\n",
       "      <td>1.154519e+06</td>\n",
       "      <td>1.154519e+06</td>\n",
       "      <td>1.154519e+06</td>\n",
       "      <td>1.154098e+06</td>\n",
       "      <td>1.152727e+06</td>\n",
       "      <td>1.154519e+06</td>\n",
       "    </tr>\n",
       "    <tr>\n",
       "      <th>mean</th>\n",
       "      <td>1.364907e-12</td>\n",
       "      <td>-2.165864e-12</td>\n",
       "      <td>4.943884e+01</td>\n",
       "      <td>2.417846e+05</td>\n",
       "      <td>3.643697e+00</td>\n",
       "      <td>1.926820e-01</td>\n",
       "    </tr>\n",
       "    <tr>\n",
       "      <th>std</th>\n",
       "      <td>1.000000e+00</td>\n",
       "      <td>1.000000e+00</td>\n",
       "      <td>1.681399e+01</td>\n",
       "      <td>3.332791e+06</td>\n",
       "      <td>3.508003e+00</td>\n",
       "      <td>3.944056e-01</td>\n",
       "    </tr>\n",
       "    <tr>\n",
       "      <th>min</th>\n",
       "      <td>-5.166776e+00</td>\n",
       "      <td>-4.338461e+00</td>\n",
       "      <td>-7.000000e+00</td>\n",
       "      <td>1.000000e+00</td>\n",
       "      <td>-4.000000e-03</td>\n",
       "      <td>0.000000e+00</td>\n",
       "    </tr>\n",
       "    <tr>\n",
       "      <th>25%</th>\n",
       "      <td>-5.488650e-01</td>\n",
       "      <td>-6.873532e-01</td>\n",
       "      <td>3.700000e+01</td>\n",
       "      <td>2.489129e+04</td>\n",
       "      <td>1.100000e+00</td>\n",
       "      <td>0.000000e+00</td>\n",
       "    </tr>\n",
       "    <tr>\n",
       "      <th>50%</th>\n",
       "      <td>9.429122e-02</td>\n",
       "      <td>-1.900092e-01</td>\n",
       "      <td>4.900000e+01</td>\n",
       "      <td>5.900000e+04</td>\n",
       "      <td>2.600000e+00</td>\n",
       "      <td>0.000000e+00</td>\n",
       "    </tr>\n",
       "    <tr>\n",
       "      <th>75%</th>\n",
       "      <td>7.390902e-01</td>\n",
       "      <td>4.476492e-01</td>\n",
       "      <td>6.200000e+01</td>\n",
       "      <td>1.173000e+05</td>\n",
       "      <td>6.200000e+00</td>\n",
       "      <td>0.000000e+00</td>\n",
       "    </tr>\n",
       "    <tr>\n",
       "      <th>max</th>\n",
       "      <td>1.679593e+00</td>\n",
       "      <td>8.899560e+00</td>\n",
       "      <td>1.050000e+02</td>\n",
       "      <td>6.055048e+08</td>\n",
       "      <td>7.200000e+01</td>\n",
       "      <td>1.000000e+00</td>\n",
       "    </tr>\n",
       "  </tbody>\n",
       "</table>\n",
       "</div>"
      ],
      "text/plain": [
       "       DATUM_OTVARANJA  PLANIRANI_DATUM_ZATVARANJA       STAROST  \\\n",
       "count     1.154519e+06                1.154519e+06  1.154519e+06   \n",
       "mean      1.364907e-12               -2.165864e-12  4.943884e+01   \n",
       "std       1.000000e+00                1.000000e+00  1.681399e+01   \n",
       "min      -5.166776e+00               -4.338461e+00 -7.000000e+00   \n",
       "25%      -5.488650e-01               -6.873532e-01  3.700000e+01   \n",
       "50%       9.429122e-02               -1.900092e-01  4.900000e+01   \n",
       "75%       7.390902e-01                4.476492e-01  6.200000e+01   \n",
       "max       1.679593e+00                8.899560e+00  1.050000e+02   \n",
       "\n",
       "       UGOVORENI_IZNOS  VISINA_KAMATE  PRIJEVREMENI_RASKID  \n",
       "count     1.154098e+06   1.152727e+06         1.154519e+06  \n",
       "mean      2.417846e+05   3.643697e+00         1.926820e-01  \n",
       "std       3.332791e+06   3.508003e+00         3.944056e-01  \n",
       "min       1.000000e+00  -4.000000e-03         0.000000e+00  \n",
       "25%       2.489129e+04   1.100000e+00         0.000000e+00  \n",
       "50%       5.900000e+04   2.600000e+00         0.000000e+00  \n",
       "75%       1.173000e+05   6.200000e+00         0.000000e+00  \n",
       "max       6.055048e+08   7.200000e+01         1.000000e+00  "
      ]
     },
     "execution_count": 26,
     "metadata": {},
     "output_type": "execute_result"
    }
   ],
   "source": [
    "df.describe()"
   ]
  },
  {
   "cell_type": "code",
   "execution_count": null,
   "metadata": {},
   "outputs": [],
   "source": [
    "cat_df = df[['VRSTA_KLIJENTA', 'VRSTA_PROIZVODA', 'PROIZVOD', 'VALUTA', 'TIP_KAMATE']]"
   ]
  },
  {
   "cell_type": "code",
   "execution_count": null,
   "metadata": {},
   "outputs": [],
   "source": [
    "pca = RS_PCA()"
   ]
  },
  {
   "cell_type": "code",
   "execution_count": null,
   "metadata": {},
   "outputs": [],
   "source": [
    "pca.fit(cat_df, n_simultaneous_instances=50_000)"
   ]
  },
  {
   "cell_type": "code",
   "execution_count": null,
   "metadata": {},
   "outputs": [],
   "source": [
    "np.cumsum(pca.explained_variance_ratios)"
   ]
  },
  {
   "cell_type": "code",
   "execution_count": null,
   "metadata": {
    "scrolled": true
   },
   "outputs": [],
   "source": [
    "y = pca.transform(cat_df.sample(50_000), 20)"
   ]
  },
  {
   "cell_type": "code",
   "execution_count": null,
   "metadata": {},
   "outputs": [],
   "source": [
    "plt.scatter(y[:,0],y[:,1])"
   ]
  },
  {
   "cell_type": "code",
   "execution_count": null,
   "metadata": {},
   "outputs": [],
   "source": [
    "pca.shape"
   ]
  },
  {
   "cell_type": "code",
   "execution_count": null,
   "metadata": {},
   "outputs": [],
   "source": [
    "coef,valeuses = pca.reinterpret(10)"
   ]
  },
  {
   "cell_type": "code",
   "execution_count": null,
   "metadata": {
    "scrolled": true
   },
   "outputs": [],
   "source": [
    "coef"
   ]
  },
  {
   "cell_type": "code",
   "execution_count": null,
   "metadata": {
    "scrolled": true
   },
   "outputs": [],
   "source": [
    "valeuses"
   ]
  },
  {
   "cell_type": "code",
   "execution_count": null,
   "metadata": {},
   "outputs": [],
   "source": [
    "cat_df = cat_df.copy()"
   ]
  },
  {
   "cell_type": "code",
   "execution_count": null,
   "metadata": {},
   "outputs": [],
   "source": [
    "df.drop(columns=cat_df.columns, inplace=True)"
   ]
  },
  {
   "cell_type": "code",
   "execution_count": null,
   "metadata": {},
   "outputs": [],
   "source": [
    "df=pd.concat([df, pd.DataFrame(pca.transform(cat_df, 20))], axis=1)"
   ]
  },
  {
   "cell_type": "code",
   "execution_count": null,
   "metadata": {},
   "outputs": [],
   "source": [
    "df = pd.concat([df.drop(columns='PRIJEVREMENI_RASKID'), df.PRIJEVREMENI_RASKID], axis=1)"
   ]
  },
  {
   "cell_type": "code",
   "execution_count": null,
   "metadata": {},
   "outputs": [],
   "source": [
    "import pickle\n",
    "\n",
    "df.to_pickle('./nakon_rspca.pkl')"
   ]
  },
  {
   "cell_type": "code",
   "execution_count": null,
   "metadata": {},
   "outputs": [],
   "source": [
    "df.info()"
   ]
  },
  {
   "cell_type": "code",
   "execution_count": null,
   "metadata": {},
   "outputs": [],
   "source": [
    "from sklearn.decomposition import PCA"
   ]
  },
  {
   "cell_type": "code",
   "execution_count": null,
   "metadata": {},
   "outputs": [],
   "source": [
    "df.dropna(axis=0,how='any', inplace=True)"
   ]
  },
  {
   "cell_type": "code",
   "execution_count": null,
   "metadata": {},
   "outputs": [],
   "source": [
    "df.info()"
   ]
  },
  {
   "cell_type": "code",
   "execution_count": null,
   "metadata": {},
   "outputs": [],
   "source": [
    "pca = PCA(n_components=3)\n",
    "pca.fit(np.array(df.iloc[:,2:-1]))"
   ]
  },
  {
   "cell_type": "code",
   "execution_count": null,
   "metadata": {},
   "outputs": [],
   "source": [
    "transformed = pca.transform(np.array(df.iloc[:,2:-1]))"
   ]
  },
  {
   "cell_type": "code",
   "execution_count": null,
   "metadata": {},
   "outputs": [],
   "source": [
    "I = np.random.choice(transformed.shape[0], 50_000, replace = False)"
   ]
  },
  {
   "cell_type": "code",
   "execution_count": null,
   "metadata": {},
   "outputs": [],
   "source": [
    "transformed"
   ]
  },
  {
   "cell_type": "code",
   "execution_count": null,
   "metadata": {},
   "outputs": [],
   "source": [
    "transformed2 = transformed[I,:]"
   ]
  },
  {
   "cell_type": "code",
   "execution_count": null,
   "metadata": {},
   "outputs": [],
   "source": [
    "%matplotlib notebook\n",
    "from mpl_toolkits.mplot3d import Axes3D\n",
    "fig = plt.figure()\n",
    "ax = fig.add_subplot(111, projection='3d')\n",
    "ax.scatter(transformed2[:,0],transformed2[:,1],transformed2[:,2], c= df['PRIJEVREMENI_RASKID'].iloc[I])\n"
   ]
  },
  {
   "cell_type": "code",
   "execution_count": null,
   "metadata": {},
   "outputs": [],
   "source": [
    "plt.scatter(transformed2[:,0], transformed2[:,1], c=df['PRIJEVREMENI_RASKID'].iloc[I])"
   ]
  },
  {
   "cell_type": "code",
   "execution_count": null,
   "metadata": {},
   "outputs": [],
   "source": []
  }
 ],
 "metadata": {
  "kernelspec": {
   "display_name": "Python 3",
   "language": "python",
   "name": "python3"
  },
  "language_info": {
   "codemirror_mode": {
    "name": "ipython",
    "version": 3
   },
   "file_extension": ".py",
   "mimetype": "text/x-python",
   "name": "python",
   "nbconvert_exporter": "python",
   "pygments_lexer": "ipython3",
   "version": "3.7.3"
  }
 },
 "nbformat": 4,
 "nbformat_minor": 2
}
