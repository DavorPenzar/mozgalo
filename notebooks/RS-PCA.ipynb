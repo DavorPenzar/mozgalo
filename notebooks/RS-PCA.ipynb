{
 "cells": [
  {
   "cell_type": "markdown",
   "metadata": {},
   "source": [
    "# Analiza glavnih komponenti za kategoričke podatke\n"
   ]
  },
  {
   "cell_type": "markdown",
   "metadata": {},
   "source": [
    "Iliti na engleskom jeziku *Principal Components Analisys for Categorical Data*.\n"
   ]
  },
  {
   "cell_type": "markdown",
   "metadata": {},
   "source": [
    "Svrha je ove bilježnice demonstracija kako koristiti klasu `RS_PCA` (iz skripte *script/rs_pca.py*) za analizu glavnih komponenti za kategoričke podatke.\n",
    "\n",
    "Klasa implementira teoriju iskazanu u radu [*Covariance and PCA for Categorical Variables*](http://arxiv.org/abs/0711.4452) autora **Hirotaka Niitsuma** i **Takashi Okada** (2007.).\n",
    "\n",
    "Autor: [Davor Penzar](mailto:davor.penzar@gmail.com).\n"
   ]
  },
  {
   "cell_type": "code",
   "execution_count": 1,
   "metadata": {},
   "outputs": [],
   "source": [
    "##  PRIPREMA PYTHON OKRUZENJA\n",
    "\n",
    "# IPython\n",
    "from IPython import *\n",
    "from IPython.display import *\n",
    "\n",
    "# Standardna Python biblioteka\n",
    "import copy\n",
    "import functools\n",
    "import math\n",
    "import os\n",
    "import random\n",
    "import six\n",
    "import string\n",
    "import sys\n",
    "import time\n",
    "import warnings\n",
    "\n",
    "# SciPy paketi\n",
    "import matplotlib as mpl\n",
    "import matplotlib.pyplot as plt\n",
    "import numpy as np\n",
    "import pandas as pd\n",
    "import sympy as sym\n",
    "from mpl_toolkits.mplot3d.axes3d import Axes3D\n",
    "\n",
    "# Seaborn\n",
    "import seaborn as sns\n",
    "\n",
    "# Postavi prikaz grafova unutar biljeznice.\n",
    "%matplotlib inline\n",
    "\n",
    "# Postavi stil grafova na `ggplot'.\n",
    "plt.style.use('ggplot')\n",
    "\n",
    "# Inicijaliziraj ispis simbolickog racuna.\n",
    "sym.init_printing()\n"
   ]
  },
  {
   "cell_type": "code",
   "execution_count": 2,
   "metadata": {},
   "outputs": [],
   "source": [
    "# Vlastite skripte\n",
    "from script.feature_engineering import *\n",
    "from script.rs_pca import *\n",
    "from script.timer import *\n"
   ]
  },
  {
   "cell_type": "markdown",
   "metadata": {},
   "source": [
    "Učitajmo originalnu tablicu.\n"
   ]
  },
  {
   "cell_type": "code",
   "execution_count": 3,
   "metadata": {},
   "outputs": [],
   "source": [
    "df = pd.read_pickle('../data/training_dataset_enc.pkl')\n"
   ]
  },
  {
   "cell_type": "markdown",
   "metadata": {},
   "source": [
    "Za demonstraciju, koristit ćemo uzorak originalne tablice, a ne cijelu. Definirajmo stoga $ N \\in \\mathbb{N} $ za koji ćemo uzeti uzorak od $ N $ redaka iz originalne tablice.\n",
    "\n",
    "**Napomena.** Metoda `RS_PCA.fit` *ignorira* retke s nedefiniranim vrijednostima (*NaN*). Naš izbor od $ N $ redaka ne znači da će rezultati biti bazirani na svih $ N $ redaka stoga je za $ N $ korisno uzeti dovoljno velik broj da udio onih redaka među njima koji imaju sve vrijednosti definirane bude također dovoljno velik.\n"
   ]
  },
  {
   "cell_type": "code",
   "execution_count": 4,
   "metadata": {},
   "outputs": [],
   "source": [
    "N = 1000\n"
   ]
  },
  {
   "cell_type": "markdown",
   "metadata": {},
   "source": [
    "Klasa `RS_PCA`, ako nije zadano koje stupce treba analizirati, sama prepoznaje kategoričke stupce (one čiji je `dtype` naziva `'category'` ili `'object'`). Za analzu glavnih komponenti pri pozivu metode `RS_PCA.fit` kao argument možemo dati nazive onih stupaca nad kojima želimo analizu, ali, budući da iz originalne tablice ionako ekstrahiramo samo $ N $ redaka, možemo odmah izbaciti i nepotrebne kategoričke stupce *KLIJENT_ID* i *OZNAKA_PARTIJE*.\n"
   ]
  },
  {
   "cell_type": "code",
   "execution_count": 5,
   "metadata": {},
   "outputs": [],
   "source": [
    "df = df.sample(N)\n",
    "df.drop(columns = ['KLIJENT_ID', 'OZNAKA_PARTIJE'], inplace = True)\n",
    "df.reset_index(drop = True, inplace = True)\n"
   ]
  },
  {
   "cell_type": "code",
   "execution_count": 6,
   "metadata": {},
   "outputs": [
    {
     "name": "stdout",
     "output_type": "stream",
     "text": [
      "<class 'pandas.core.frame.DataFrame'>\n",
      "RangeIndex: 1000 entries, 0 to 999\n",
      "Data columns (total 15 columns):\n",
      "DATUM_IZVJESTAVANJA               1000 non-null datetime64[ns]\n",
      "DATUM_OTVARANJA                   1000 non-null datetime64[ns]\n",
      "PLANIRANI_DATUM_ZATVARANJA        927 non-null datetime64[ns]\n",
      "DATUM_ZATVARANJA                  240 non-null datetime64[ns]\n",
      "UGOVORENI_IZNOS                   1000 non-null float64\n",
      "STANJE_NA_KRAJU_PRETH_KVARTALA    927 non-null float64\n",
      "STANJE_NA_KRAJU_KVARTALA          1000 non-null float64\n",
      "VALUTA                            1000 non-null category\n",
      "VRSTA_KLIJENTA                    1000 non-null category\n",
      "PROIZVOD                          1000 non-null category\n",
      "VRSTA_PROIZVODA                   1000 non-null category\n",
      "VISINA_KAMATE                     991 non-null float64\n",
      "TIP_KAMATE                        1000 non-null category\n",
      "STAROST                           1000 non-null int64\n",
      "PRIJEVREMENI_RASKID               1000 non-null int64\n",
      "dtypes: category(5), datetime64[ns](4), float64(4), int64(2)\n",
      "memory usage: 85.8 KB\n"
     ]
    }
   ],
   "source": [
    "df.info()\n"
   ]
  },
  {
   "cell_type": "markdown",
   "metadata": {},
   "source": [
    "Promotrimo prvo dokumentaciju klase `RS_PCA`.\n"
   ]
  },
  {
   "cell_type": "code",
   "execution_count": 7,
   "metadata": {},
   "outputs": [
    {
     "name": "stdout",
     "output_type": "stream",
     "text": [
      "Help on class RS_PCA in module script.rs_pca:\n",
      "\n",
      "class RS_PCA(builtins.object)\n",
      " |  Analiza glavnih komponenti koristeci regularne simplekse za kategoricke podatke.\n",
      " |  \n",
      " |  Acronyms\n",
      " |  --------\n",
      " |  RS\n",
      " |      Regular simplex; hrv. regularni simpleks.  Konveksna ljuska konacnog\n",
      " |      skupa tocaka u euklidskom prostoru tako da su radijvektori svake od tih\n",
      " |      tocaka norme 1 i da je kut izmedu svaka dva njihova radijvektora isti.\n",
      " |  \n",
      " |  LRSV\n",
      " |      List of regular simplex vertices; hrv. lista vrhova regularnih\n",
      " |      simpleksa. Za vektore koordinata vrhova regularnih simpleksa\n",
      " |          (v_{0, 0}, v_{0, 1}, ..., v_{0, n_0}),\n",
      " |          (v_{1, 0}, v_{1, 1}, ..., v_{1, n_1}),\n",
      " |          ...,\n",
      " |          (v_{m - 1, 0}, v_{m - 1, 1}, ..., v_{m - 1, n_{m - 1}})\n",
      " |      LRSV je njihova konkatenacija\n",
      " |          (v_{0, 0}, v_{0, 1}, ..., v_{0, n_0}), v_{1, 0}, v_{1, 1}, ...,\n",
      " |           v_{1, n_1}, ..., v_{m - 1, 0}, v_{m - 1, 1}, ...,\n",
      " |           v_{m - 1, n_{m - 1}}).\n",
      " |  \n",
      " |  RS-PCA\n",
      " |      Regular simplex -- principal components analysis (principal components\n",
      " |      analysis using the regular simplex for categorical data); hrv. regularni\n",
      " |      simpleks -- analiza glavnih komponenti (analiza glavnih komponenti\n",
      " |      koristeci reglurne simplekse za kategoricke podatke).  Vidi [1].\n",
      " |  \n",
      " |  Remarks\n",
      " |  -------\n",
      " |  (1) U primjerima koda pretpostavlja se da je su ranije bile izvrsene\n",
      " |      komande\n",
      " |          >>> import numpy as np\n",
      " |          >>> import pandas as pd\n",
      " |      i da je df neki objekt klase pandas.DataFrame ili pandas.Series (kao\n",
      " |      stupac neke tablice klase pandas.DataFrame).\n",
      " |  \n",
      " |  (2) Ako se neki atribut objekta klase RS_PCA koristi vise puta, efikasnije\n",
      " |      ga je spremiti u vanjsku varijablu nego ga svaki put dohvacati jer se\n",
      " |      pri svakom pozivu dohvacanja atributa generira i vraca njegova duboka\n",
      " |      kopija.  Ukratko, postupak\n",
      " |          >>> pca = RS_PCA()\n",
      " |          >>> pca.fit(df)\n",
      " |          <RS_PCA: (...)>\n",
      " |          >>> shape = pca.shape\n",
      " |          >>> components = pca.components\n",
      " |          >>> for i in range(shape[2][0]):\n",
      " |          ...     for j in range(i, shape[2][1]):\n",
      " |          ...         print((i, j, np.dot(components[:, i], components[:, j])))\n",
      " |      je mnogo efikasniji nego\n",
      " |          >>> pca = RS_PCA()\n",
      " |          >>> pca.fit(df)\n",
      " |          <RS_PCA: (...)>\n",
      " |          >>> for i in range(pca.shape[2][0]):\n",
      " |          ...     for j in range(i, pca.shape[2][1]):\n",
      " |          ...         print((i, j, np.dot(pca.components[:, i], pca.components[:, j])))\n",
      " |      jer se u drugom postupku, na primjer, u svakoj iteraciji unutarnje\n",
      " |      petlje generira duboka kopija atributa pca.shape, a pri svakom pozivu\n",
      " |      funkcije print generiraju se dvije duboke kopije atributa\n",
      " |      pca.components.\n",
      " |  \n",
      " |  Bibliography\n",
      " |  ------------\n",
      " |  [1] Hirotaka Niitsuma, Takashi Okada. \"Covariance and PCA for Categorical\n",
      " |      Variables\". 2007. arXiv:0711.4452 [cs.LG]. URL:\n",
      " |      http://arxiv.org/abs/0711.4452\n",
      " |  \n",
      " |  Methods defined here:\n",
      " |  \n",
      " |  __copy__(self)\n",
      " |  \n",
      " |  __deepcopy__(self, memo={})\n",
      " |  \n",
      " |  __init__(self)\n",
      " |      Initialize self.  See help(type(self)) for accurate signature.\n",
      " |  \n",
      " |  __repr__(self)\n",
      " |      Return repr(self).\n",
      " |  \n",
      " |  fit(self, df, columns=None, save_temp=None, temp_file_name_base=None, n_simultaneous_instances=None)\n",
      " |      Provedi RS-PCA na tablici df i spremi rezultate u atribute objekta self.\n",
      " |      \n",
      " |      Prije RS-PCA poziva se metoda RS_PCA.reset stoga je nemoguce u istom\n",
      " |      objektu spremiti rezultate dvije ili vise RS-PCA (za svaku RS-PCA\n",
      " |      potrebno je kreirati zasebni objekt klase RS_PCA).\n",
      " |      \n",
      " |      Arguments\n",
      " |      ---------\n",
      " |      df : DataFrame\n",
      " |          Tablica za RS-PCA.  Iz tablice se prije analize brisu svi retci\n",
      " |          (u analiziranim stupcima) u kojima postoji barem jedna nedefinirana\n",
      " |          vrijednost (NaN) i takva \"prociscena\" tablica ne smije biti prazna.\n",
      " |          Za tretiranje i nedefiniranih vrijednosti kao zasebnih kategorickih\n",
      " |          vrijednosti moguce je nedefinirane vrijednosti zamijeniti novim\n",
      " |          vrijednostima (na primjer, 'NaN').\n",
      " |      \n",
      " |      columns : None or Index, optional\n",
      " |          Lista kategorickih stupaca nad kojima se vrsi RS-PCA.  Ako None,\n",
      " |          analiza se vrsi nad svim stupcima dane tablice ciji je tip\n",
      " |          vrijednosti object ili CategoricalDtype.\n",
      " |      \n",
      " |      save_temp : None or boolean, optional\n",
      " |          Ako True, dijelovi LRSV matrice tablice df (ako je redaka tablice df\n",
      " |          strogo vise od n_simultaneous_instances) spremaju se u datoteke tako\n",
      " |          da se u izbjegne \"pretrpavanje\" radne memorije prevelikom matricom u\n",
      " |          istom trenutku.  Ako False, argumenti temp_file_name_base i\n",
      " |          n_simultaneous_instances se ignoriraju.  None automatski zakljucuje\n",
      " |          vrijednost tako da se uzima\n",
      " |              >>> save_temp = df.shape[0] > n_simultaneous_instances\n",
      " |          pri cemu su iz tablice df vec izbaceni retci u kojima se pojavljuje\n",
      " |          barem jedna nedefinirana vrijednost (NaN), a\n",
      " |          n_simultaneous_instances je sanirana u slucaju da je dana vrijednost\n",
      " |          None (v. opis argumenta n_simultaneous_instances).  Zadana\n",
      " |          vrijednost je None.\n",
      " |      \n",
      " |      temp_file_name_base : None or str, optional\n",
      " |          Bazno ime datoteka za spremanje dijelova LRSV matrice tablice df.\n",
      " |          Na bazno ime nadodaje se '_{}.npy', gdje {} predstavlja indeks (od 0\n",
      " |          do df.shape[0]) prvog retka kojem pripada prvi stupac fragmenta LRSV\n",
      " |          matrice.  Ako None, generira se slucajno odabrani naziv od 6\n",
      " |          znakova (slova engleske abecede, velika i mala, i znamenke od 0 do\n",
      " |          9) s vremenskim zigom poziva funkcije.  Zadana vrijednost je None.\n",
      " |      \n",
      " |      n_simultaneous_instances : None or int, optional\n",
      " |          Najveci broj stupaca LRSV matrice tablice df kojim se u danom\n",
      " |          trenutku racuna.  None automatski zakljucuje vrijednost da se cijela\n",
      " |          LRSV matrica racuna odjednom, to jest, u tom se slucaju uzima\n",
      " |              >>> n_simultaneous_instances = df.shape[0]\n",
      " |          pri cemu su iz df vec izbaceni retci u kojima se pojavljuje barem\n",
      " |          jedna nedefinirana vrijednost (NaN).  Zadana vrijednost je None.\n",
      " |      \n",
      " |      Returns\n",
      " |      -------\n",
      " |      self : RS_PCA\n",
      " |          Povratna vrijednost je self.\n",
      " |  \n",
      " |  reinterpret(self, n_first=None)\n",
      " |      Reinterpretiraj glavne komponente.\n",
      " |      \n",
      " |      Arguments\n",
      " |      ---------\n",
      " |      n_first : None or int or float, optional\n",
      " |          Broj prvih glavnih komponenti koje se reinterpretiraju.  Ako None,\n",
      " |          racunaju se koordinate po svim glavnim komponentama.  Ako float,\n",
      " |          vrijednost mora biti u intervalu [0, 1] i tada se uzima toliko\n",
      " |          glavnih komponenti da zahvacuju udio varijabilnosti najblizi danoj\n",
      " |          vrijednosti.  Zadana vrijednost je None.\n",
      " |      \n",
      " |      Returns\n",
      " |      coeff : (K, n_first) array\n",
      " |          Matrica ciji stupci predstavljaju koeficijente pridruzene radij-\n",
      " |          vektorima vrhova simpleksa pridruzenih kategorickim vrijednostima\n",
      " |          iz tablice nad kojom je pozvana metoda RS_PCA.fit (K je zbroj\n",
      " |          sim.shape[0] po svim sim u self.simplices).  U tom smislu i-ti\n",
      " |          stupac matrice coeff zadaje koeficijente u linearnoj kombinaciji\n",
      " |          spomenutih radij-vektora koja rezultira i-tom glavnom komponentom.\n",
      " |          Ako je n_first None, povratna matrica je dimenzija K x K.  Ako je\n",
      " |          n_first float, povratna matrica je dimenzija K x m gdje prvih m\n",
      " |          glavnih komponenti zahvaca udio najblize n_first varijabilnosti.\n",
      " |      \n",
      " |      values : (K, n_first) DataFrame\n",
      " |          Tablica koja tumaci kojim kategorickim vrijednostima odgovaraju\n",
      " |          koeficijenti u povratnoj matrici coeff (K je zbroj sim.shape[0]\n",
      " |          po svim sim u self.simplices).  Na mjestu (i, j) povratne tablice\n",
      " |          (values.iloc[i, j]) stoji kategoricka vrijednost tako da coeff[i, j]\n",
      " |          predstavlja koeficijent za radij-vektor vrha simpleksa koji odgovara\n",
      " |          toj kategorickoj vrijednosti.  Ako je n_first None, povratna tablica\n",
      " |          je dimenzija K x K.  Ako je n_first float, povratna tablica je\n",
      " |          dimenzija K x m gdje prvih m glavnih komponenti zahvaca udio\n",
      " |          najblize n_first varijabilnosti.\n",
      " |  \n",
      " |  reset(self)\n",
      " |      Ponisti sve spremljene rezultate eventualne prethodne RS-PCA.\n",
      " |      \n",
      " |      Returns\n",
      " |      -------\n",
      " |      self : RS_PCA\n",
      " |          Povratna vrijednost je self.\n",
      " |  \n",
      " |  transform(self, df, n_first=None)\n",
      " |      Transformiraj tablicu kategorickih vrijednosti df u koordinate glavnih komponenti.\n",
      " |      \n",
      " |      Arguments\n",
      " |      ---------\n",
      " |      df : DataFrame\n",
      " |          Tablica kategorickih stupaca.  Tablica df trebala bi sadrzavati\n",
      " |          stupce nad kojima se vrsila RS-PCA analizirane tablice, a\n",
      " |          vrijednosti u tablici df u tim stupcima trebali su se pojavljivati\n",
      " |          u analiziranoj tablici.\n",
      " |      \n",
      " |      n_first : None or int or float, optional\n",
      " |          Broj prvih glavnih komponenti u cijim se koordinatama tablica df\n",
      " |          transformira.  Ako None, racunaju se koordinate po svim glavnim\n",
      " |          komponentama.  Ako float, vrijednost mora biti u intervalu [0, 1] i\n",
      " |          tada se uzima toliko glavnih komponenti da zahvacuju udio\n",
      " |          varijabilnosti najblizi danoj vrijednosti.  Zadana vrijednost je\n",
      " |          None.\n",
      " |      \n",
      " |      Returns\n",
      " |      -------\n",
      " |      Y : (df.shape[0], n_first) array\n",
      " |          Matrica ciji retci odgovaraju redom koordinatama kategorickih redaka\n",
      " |          tablice df u projekciji na prvih n_first glavnih kompone.  Ako je\n",
      " |          n_first None, povratna matrica je dimenzija df_shape[0] x K gdje je\n",
      " |          K zbroj sim.shape[0] po svim sim u self.simplices.  Ako je n_first\n",
      " |          float, povratna matrica je dimenzija df.shape[0] x m gdje prvih m\n",
      " |          glavnih komponenti zahvaca udio najblize n_first varijabilnosti.\n",
      " |  \n",
      " |  ----------------------------------------------------------------------\n",
      " |  Class methods defined here:\n",
      " |  \n",
      " |  simplex(n) from builtins.type\n",
      " |      Dohvati koordinate vrhova rehularnog n-simpleksa.\n",
      " |      \n",
      " |      Arguments\n",
      " |      ---------\n",
      " |      n : int\n",
      " |          Broj vrhova simpleksa.  Uzima se\n",
      " |              >>> n = max(n, 0)\n",
      " |      \n",
      " |      Returns\n",
      " |      -------\n",
      " |      S : (n, n + 1) array\n",
      " |          Stupci povratne matrice predstavljaju vrhove regularnog n-simpleksa\n",
      " |          u prostoru R^n za n >= 0.\n",
      " |  \n",
      " |  translate(cat, x) from builtins.type\n",
      " |      Vrati indeks elementa x u konacnom nizu cat.\n",
      " |      \n",
      " |      Arguments\n",
      " |      ---------\n",
      " |      cat : Index\n",
      " |          Niz vrijednosti u kojima se trazi vrijednost x.\n",
      " |      \n",
      " |      x\n",
      " |          Vrijednost koja se trazi u nizu x.\n",
      " |      \n",
      " |      Returns\n",
      " |      -------\n",
      " |      i : int\n",
      " |          Indeks i takav da vrijedi cat[i] == x.  Ako takav i ne postoji,\n",
      " |          povratna vrijednost je None.\n",
      " |  \n",
      " |  ----------------------------------------------------------------------\n",
      " |  Static methods defined here:\n",
      " |  \n",
      " |  __new__(cls)\n",
      " |      Create and return a new object.  See help(type) for accurate signature.\n",
      " |  \n",
      " |  ----------------------------------------------------------------------\n",
      " |  Data descriptors defined here:\n",
      " |  \n",
      " |  A\n",
      " |      (K, K) array koji je LRSV kovarijacijska matrica analizirane tablice.\n",
      " |      \n",
      " |      Vrijednosti:\n",
      " |          K   --  zbroj sim.shape[0] po svim sim u self.simplices.\n",
      " |  \n",
      " |  L\n",
      " |      (K, K) array koji je konkatenacija maksimizirajucih matrica za analiziranu tablicu.\n",
      " |      \n",
      " |      Vrijednosti:\n",
      " |          K   --  zbroj sim.shape[0] po svim sim u self.simplices.\n",
      " |  \n",
      " |  __dict__\n",
      " |      dictionary for instance variables (if defined)\n",
      " |  \n",
      " |  __weakref__\n",
      " |      list of weak references to the object (if defined)\n",
      " |  \n",
      " |  categories\n",
      " |      Tuple (pandas.CategoricalDtype([cat_{0, 0}, cat_{0, 1}, ..., cat_{0, m_0 - 1}]), pandas.CategoricalDtype([cat_{1, 0}, cat_{1, 1}, ..., cat_{1, m_1 - 1}]), ..., pandas.CategoricalDtype([cat_{n - 1, 0}, cat_{n - 1, 1}, ..., cat_{0, m_{n - 1} - 1}])).\n",
      " |      \n",
      " |      Vrijednosti:\n",
      " |          n   --  broj analiziranih stupaca,\n",
      " |          m_i --  broj jedinstvenih vrijednosti u i-tom analiziranom stupcu,\n",
      " |          cat_{i, j}  --  j-ta jedinstvena vrijednost u i-tom analiziranom\n",
      " |                          stupcu (po mogucnosti nakon sortiranja jedinstvenih\n",
      " |                          vrijednosti u i-tom analiziranom stupcu).\n",
      " |  \n",
      " |  columns\n",
      " |      Indeks Index([col_0, col_1, ..., col_{n - 1}]).\n",
      " |      \n",
      " |      Vrijednosti:\n",
      " |          n   --  broj analiziranih stupaca,\n",
      " |          col_i   --  naziv i-tog analiziranog stupca.\n",
      " |  \n",
      " |  components\n",
      " |      (K, K) array koji po stupcima predstavlja koordinate normiranih vektora smjerova glavnih komponenti u R^K (array oblika (K, K)).\n",
      " |      \n",
      " |      Vrijednosti:\n",
      " |          K   --  zbroj sim.shape[0] po svim sim u self.simplices.\n",
      " |  \n",
      " |  cov\n",
      " |      (n, n) array koji je kovarijacijska matrica analizirane tablice.\n",
      " |      \n",
      " |      Vrijednosti:\n",
      " |          n   --  broj analiziranih stupaca.\n",
      " |  \n",
      " |  explained_variance\n",
      " |      (K,) array [var_0, var_1, ..., var_{K - 1}] koji predstavlja objasnjene varijance glavnih komponenti.\n",
      " |      \n",
      " |      Vrijednosti:\n",
      " |          K   --  zbroj sim.shape[0] po svim sim u self.simplices,\n",
      " |          var_i   --  objasnjena varijanca i-te glavne komponente.\n",
      " |  \n",
      " |  explained_variance_ratios\n",
      " |      (K,) array [relvar_0, relvar_1, ..., relvar_{K - 1}] koji predstavlja udjele objasnjenih varijanci glavnih komponenti.\n",
      " |      \n",
      " |      Ako postoji vrijednost razlicita od 0 u self.explained_variance, onda\n",
      " |      je\n",
      " |          self.explained_variance ==\n",
      " |              np.abs(self.explained_variance) /\n",
      " |              np.sum(np.abs(self.explained_variance)).\n",
      " |      \n",
      " |      Vrijednosti:\n",
      " |          K   --  zbroj sim.shape[0] po svim sim u self.simplices,\n",
      " |          relvar_i    --  udio objasnjene varijance i-te glavne komponente u\n",
      " |                          odnosu na kompletnu varijabilnost podataka.\n",
      " |  \n",
      " |  indices\n",
      " |      Tuple (0, k_0, k_0 + k_1, ..., k_o + k_1 + ... + k_{n - 1}).\n",
      " |      \n",
      " |      Vrijednosti:\n",
      " |          n   --  broj analiziranih stupaca,\n",
      " |          k_i --  self.simplices[i].shape[0], to jest, m_i - 1 gdje je m_i\n",
      " |                  broj jedinstvenih vrijednosti u i-tom analiziranom stupcu.\n",
      " |      \n",
      " |      Za ekstrakciju podataka o i-tom analiziranom stupcu u povratnim\n",
      " |      vrijednostima metode RS_PCA.reinterpret korisno je koristiti\n",
      " |      self.indices i to na nacin\n",
      " |          >>> pca = RS_PCA\n",
      " |          >>> pca.fit(df)\n",
      " |          <RS_PCA: (...)>\n",
      " |          >>> coeff, values = pca.reinterpret()\n",
      " |          >>> coeff[indices[i]:indices[i + 1], j]\n",
      " |          array(...)\n",
      " |          >>> values.iloc[indices[i]:indices[i + 1], j]\n",
      " |          Series(...)\n",
      " |      Posljednje dvije naredbe vratit ce redom koeficijente i kategoricke\n",
      " |      vrijednosti koji se odnose na reinterpretaciju j-te glavne komponente\n",
      " |      preko i-tog analiziranog stupca.  Slicno se self.indices moze koristiti\n",
      " |      za dohvacanje kovarijacijskih matrica iz self.A odnosno maksimizirajucih\n",
      " |      matrica iz self.L.\n",
      " |  \n",
      " |  shape\n",
      " |      Tuple (n, M, (K, K), (m_0, m_1, ..., m_{n - 1})).\n",
      " |      \n",
      " |      Vrijednosti:\n",
      " |          n   --  broj analiziranih stupaca,\n",
      " |          M   --  zbroj m_0 + m_1 + ... + m_{n - 1},\n",
      " |          K   --  zbroj sim.shape[0] po svim sim u self.simplices,\n",
      " |          m_i --  broj jedinstvenih vrijednosti u i-tom analiziranom stupcu.\n",
      " |  \n",
      " |  simplices\n",
      " |      Tuple ((m_0 - 1, m_0) array, (m_1 - 1, m_1) array, ..., (m_{n - 1} - 1, m_{n - 1}) array) kojemu su na i-tom mjestu koordinate vrhova regularnog (m_i - 1)-simpleksa u R^{m_i - 1}.\n",
      " |      \n",
      " |      Vrijednosti:\n",
      " |          n   --  broj analiziranih stupaca,\n",
      " |          m_i --  broj jedinstvenih vrijednosti u i-tom analiziranom stupcu.\n",
      " |  \n",
      " |  translators\n",
      " |      Tuple (t_0, t_1, ..., t_{n - 1}).\n",
      " |      \n",
      " |      Vrijednosti:\n",
      " |          n   --  broj analiziranih stupaca,\n",
      " |          m_i --  broj jedinstvenih vrijednosti u i-tom analiziranom stupcu,\n",
      " |          t_i --  funkcijski objekt koji kategoricke vrijednosti iz i-tog\n",
      " |                  analiziranog stupca bijektivno (domena je skup svih\n",
      " |                  jedinstvenih vrijednosti u i-tom analiziranom stupcu)\n",
      " |                  preslikava u skup {0, 1, ..., m_i - 1}.\n",
      "\n"
     ]
    }
   ],
   "source": [
    "help(RS_PCA)\n"
   ]
  },
  {
   "cell_type": "code",
   "execution_count": 8,
   "metadata": {},
   "outputs": [
    {
     "name": "stdout",
     "output_type": "stream",
     "text": [
      "Jeste li procitali dokumentaciju klase RS_PCA (da/ne)? da\n"
     ]
    }
   ],
   "source": [
    "if (\n",
    "    input('Jeste li procitali dokumentaciju klase RS_PCA (da/ne)? ').upper() !=\n",
    "    'DA'\n",
    "):\n",
    "    raise RuntimeError('Procitajte!')\n"
   ]
  },
  {
   "cell_type": "markdown",
   "metadata": {},
   "source": [
    "U redu. Sada razumijemo kako koristiti tu klasu. Stoga, probajmo: inicijalizirat ćemo *RS-PCA*-analizator `pca`.\n"
   ]
  },
  {
   "cell_type": "code",
   "execution_count": 9,
   "metadata": {},
   "outputs": [],
   "source": [
    "pca = RS_PCA()\n"
   ]
  },
  {
   "cell_type": "markdown",
   "metadata": {},
   "source": [
    "Analizirajmo tablicu `df` (to jest, njezine retke koji ne sadrže nedefinirane vrijednosti (*NaN*) &mdash; vidi napomenu gore) pomoću `pca`. Mjerit ćemo i vrijeme da vidimo koliko je implementacija vremenski efikasna.\n",
    "\n",
    "**Napomena.** Sve su metode u klasi `RS_PCA` implementirane isključivo sekvencijalno. Jedine eventualne paralelizacije koje se izvode prilikom poziva metoda klase `RS_PCA` su, vjerojatno, rezultat implementacije paketa *NumPy* odnosno njegovih funkcija koje se pozivaju u metodama klase `RS_PCA`.\n"
   ]
  },
  {
   "cell_type": "code",
   "execution_count": 10,
   "metadata": {},
   "outputs": [
    {
     "name": "stdout",
     "output_type": "stream",
     "text": [
      "Vrijeme racunanja: 0h 00m 00.360s (0.360s)\n"
     ]
    }
   ],
   "source": [
    "t0 = time.time()\n",
    "\n",
    "pca.fit(df)\n",
    "\n",
    "t1 = time.time()\n",
    "\n",
    "d = float(t1 - t0)\n",
    "\n",
    "print(\n",
    "    'Vrijeme racunanja: {h:d}h {m:02d}m {s:06.3f}s ({S:.3f}s)'.format(\n",
    "        S = d, **hms_time(d)\n",
    "    )\n",
    ")\n",
    "\n",
    "del t0\n",
    "del t1\n",
    "del d\n"
   ]
  },
  {
   "cell_type": "markdown",
   "metadata": {},
   "source": [
    "**Prijedlog.** Pročitajte dokumentaciju klase `RS_PCA`, točnije, njene metode `RS_PCA.fit`, da vidite koji su sve mogući opcionalni argumenti. Na iznimno velikim tablicama korisno je podešavati vrijednosti nekih argumenata.\n",
    "\n",
    "Da bismo znali na koje se stupce što od atributa objekt `pca` odnosi, ispišimo `pca.columns`.\n"
   ]
  },
  {
   "cell_type": "code",
   "execution_count": 11,
   "metadata": {},
   "outputs": [
    {
     "data": {
      "text/plain": [
       "Index(['VALUTA', 'VRSTA_KLIJENTA', 'PROIZVOD', 'VRSTA_PROIZVODA',\n",
       "       'TIP_KAMATE'],\n",
       "      dtype='object')"
      ]
     },
     "execution_count": 11,
     "metadata": {},
     "output_type": "execute_result"
    }
   ],
   "source": [
    "pca.columns\n"
   ]
  },
  {
   "cell_type": "markdown",
   "metadata": {},
   "source": [
    "Budući da nismo uzeli kompletnu originalnu tablicu `df` (prije uzimanja samo $ N $ redaka) pri pozivu metode `pca.fit`, provjerimo koje su kategoričke vrijednosti uopće pročitane za koji od navedenih stupaca. Kategorički nizovi dani su u istom poretku kao stupci kojima pripadaju u `pca.columns`.\n"
   ]
  },
  {
   "cell_type": "code",
   "execution_count": 12,
   "metadata": {},
   "outputs": [
    {
     "data": {
      "text/plain": [
       "(CategoricalDtype(categories=[1, 2, 3, 4, 5], ordered=False),\n",
       " CategoricalDtype(categories=[1110, 1120, 1320, 1410, 1420, 1430, 1510, 1550, 1610], ordered=False),\n",
       " CategoricalDtype(categories=['FD0100', 'FD0200', 'FL0801', 'FL0802', 'FL0803', 'FL0804',\n",
       "                   'FL0900', 'FL1100', 'FL1200', 'FL1201', 'FL1202', 'FL1301',\n",
       "                   'FL1304', 'FL1306', 'FL1309', 'FL1310', 'FL1400', 'FL1500',\n",
       "                   'FL1600', 'TM0109'],\n",
       "                  ordered=False),\n",
       " CategoricalDtype(categories=['A', 'L'], ordered=False),\n",
       " CategoricalDtype(categories=['A', 'B', 'C'], ordered=False))"
      ]
     },
     "execution_count": 12,
     "metadata": {},
     "output_type": "execute_result"
    }
   ],
   "source": [
    "pca.categories\n"
   ]
  },
  {
   "cell_type": "markdown",
   "metadata": {},
   "source": [
    "Vrlo je koristan, a možda i najmanje jasan, atribut `pca.shape`. To je objekt oblika\n",
    "$$ \\left( n , M , \\left( K , K \\right) , \\left( m_{0} , m_{1} , \\dotsc , m_{n - 1} \\right) \\right) \\text{,} $$\n",
    "pri čemu je\n",
    "\n",
    "*   $ n $ &ndash; broj stupaca analizirane tablice; u našem slučaju broj stupaca tablice `df`,\n",
    "*   $ M $ &ndash; ukupni broj svih kategoričkih vrijednosti u analiziranoj tablici, no svaki se stupac smatra zasebnom kategorijom, stoga, ako se neka kategorička vrijednost (na primjer, `'A'`) pojavljuje u više stupaca, ona se broji onoliko puta u koliko se stupaca pojavljuje jer se u svakom stupcu smatra zasebnom vrijednosti; u našem slučaju `sum(df[col].unique().size for col in df.columns)` (pod pretpostavkom da su iz `df` *izbačeni* svi stupci u kojima se pojavljuje nedefinirana vrijednost (*NaN*)),\n",
    "*   $ K $ &ndash; dimenzija realnog prostora u kojemu su pronađene glavne komponente, a dobiven je zbrojem količina kategoričkih vrijednosti u svakom stupcu analizirane tablice umanjenih za $ 1 $; u našem slučaju `sum(df[col].unique().size - 1 for col in df.columns)` (uz istu pretpostavku kao u natuknici iznad),\n",
    "*   $ m_{i} $ (za $ i \\in \\left\\{ 0 , 1 , \\dotsc , n - 1 \\right\\}$) &ndash; broj kategoričkih vrijednosti u $ i $-tom stupcu analizirane tablice; u našem slučaju `df.iloc[:, i].unique().size` (uz istu pretpostavku kao u natuknicama iznad).\n"
   ]
  },
  {
   "cell_type": "code",
   "execution_count": 13,
   "metadata": {},
   "outputs": [
    {
     "data": {
      "image/png": "[encoded data removed]",
      "text/latex": [
       "$$\\left ( 5, \\quad 39, \\quad \\left ( 34, \\quad 34\\right ), \\quad \\left ( 5, \\quad 9, \\quad 20, \\quad 2, \\quad 3\\right )\\right )$$"
      ],
      "text/plain": [
       "(5, 39, (34, 34), (5, 9, 20, 2, 3))"
      ]
     },
     "execution_count": 13,
     "metadata": {},
     "output_type": "execute_result"
    }
   ],
   "source": [
    "pca.shape\n"
   ]
  },
  {
   "cell_type": "markdown",
   "metadata": {},
   "source": [
    "Također je koristan atribut `pca.indices`, atribut oblika\n",
    "$$ \\left( j_{0} , j_{1} , \\dotsc , j_{n - 1} , j_{n} \\right) \\text{,} $$\n",
    "za\n",
    "\n",
    "*   $ n $ &ndash; kao u objašnjenu `pca.shape`,\n",
    "*   $ j_{i} $ (za $ i \\in \\left\\{ 0 , 1 , \\dotsc , n \\right\\}$) &ndash; najjednostavnije objašnjeno, $ j_{i} = \\sum_{k = 0}^{i - 1} \\left( m_{k} - 1 \\right) $ za $ m_{k} $ kao u objašnjenju `pca.shape`.\n",
    "\n",
    "Atribut `pca.indices` možemo koristiti ako, na primjer, želimo reinterpretirati glavne komponente. U tom slučaju, ako nas zanimaju koeficijenti koji se odnose na $ i $-ti stupac za $ j $-tu glavnu komponentu (koeficijenti koji govore o tome koliko varijabilnost u kategoričkim vrijednostima $ i $-tog stupca utječe na $ j $-tu glavnu komponentu), koristimo\n",
    "\n",
    "```python\n",
    "indices = pca.indices\n",
    "coeff, values = pca.reinterpret()\n",
    "print(coeff[indices[i]:indices[i + 1], j])\n",
    "\n",
    "```\n",
    "\n",
    "Primijetite `indices = pca.indices`. U dokumentaciji `RS_PCA` je naglašeno da bi se atributi objekta, ako su potrebni više puta, trebali spremiti u neku vanjsku varijablu jer svaki poziv `pca.indices` generira duboku kopiju cijelog *tuplea*. U slučaju ovako malog i jednostavnog objekta to možda i nije toliko osjetno, ali svaki poziv `pca.components` prepisuje cijeli `numpy.ndarray` oblika $ \\left( K , K \\right) $ (vidi objašnjenje za `pca.shape`).\n"
   ]
  },
  {
   "cell_type": "code",
   "execution_count": 14,
   "metadata": {},
   "outputs": [
    {
     "data": {
      "image/png": "[encoded data removed]",
      "text/latex": [
       "$$\\left ( 0, \\quad 4, \\quad 12, \\quad 31, \\quad 32, \\quad 34\\right )$$"
      ],
      "text/plain": [
       "(0, 4, 12, 31, 32, 34)"
      ]
     },
     "execution_count": 14,
     "metadata": {},
     "output_type": "execute_result"
    }
   ],
   "source": [
    "pca.indices\n"
   ]
  },
  {
   "cell_type": "markdown",
   "metadata": {},
   "source": [
    "Atributi `pca.explained_variance` i `pca.explained_variance_ratios` su gotovo identični, osim što je `pca.explained_variance_ratios` nužno realnog tipa i nenegativnih elemenata, normiran normom-$ 1 $. To su jednodimenzionalni `numpy.ndarray`-evi koji na $ j $-tom mjestu sadrže varijancu (odnosno njen udio) originalnih podataka koje $ j $-ta glavna komponenta opisuje. Sortirani su silazno (po apsolutnim vrijednostima).\n"
   ]
  },
  {
   "cell_type": "code",
   "execution_count": 15,
   "metadata": {},
   "outputs": [
    {
     "data": {
      "text/plain": [
       "array([1.75030005e+00, 1.41531117e+00, 5.05741806e-01, 4.19280933e-01,\n",
       "       2.13722981e-01, 1.75215246e-01, 1.22196666e-01, 7.95994672e-02,\n",
       "       4.63330395e-02, 4.15883413e-02, 3.42437835e-02, 3.22177182e-02,\n",
       "       2.83274795e-02, 2.15461781e-02, 2.08383516e-02, 1.51623768e-02,\n",
       "       1.44334860e-02, 1.04870292e-02, 9.45039780e-03, 7.55714609e-03,\n",
       "       6.12439173e-03, 5.61521126e-03, 5.22454504e-03, 3.88739932e-03,\n",
       "       3.12449177e-03, 2.67862878e-03, 2.36060377e-03, 1.88138755e-03,\n",
       "       1.45011886e-03, 1.13350511e-03, 9.81222480e-04, 9.33095612e-04,\n",
       "       6.71235917e-04, 3.80520933e-04])"
      ]
     },
     "execution_count": 15,
     "metadata": {},
     "output_type": "execute_result"
    }
   ],
   "source": [
    "pca.explained_variance\n"
   ]
  },
  {
   "cell_type": "code",
   "execution_count": 16,
   "metadata": {},
   "outputs": [
    {
     "data": {
      "text/plain": [
       "array([3.50060010e-01, 2.83062233e-01, 1.01148361e-01, 8.38561865e-02,\n",
       "       4.27445962e-02, 3.50430491e-02, 2.44393333e-02, 1.59198934e-02,\n",
       "       9.26660790e-03, 8.31766826e-03, 6.84875670e-03, 6.44354363e-03,\n",
       "       5.66549590e-03, 4.30923562e-03, 4.16767032e-03, 3.03247535e-03,\n",
       "       2.88669720e-03, 2.09740584e-03, 1.89007956e-03, 1.51142922e-03,\n",
       "       1.22487835e-03, 1.12304225e-03, 1.04490901e-03, 7.77479865e-04,\n",
       "       6.24898354e-04, 5.35725755e-04, 4.72120753e-04, 3.76277511e-04,\n",
       "       2.90023773e-04, 2.26701021e-04, 1.96244496e-04, 1.86619122e-04,\n",
       "       1.34247183e-04, 7.61041866e-05])"
      ]
     },
     "execution_count": 16,
     "metadata": {},
     "output_type": "execute_result"
    }
   ],
   "source": [
    "pca.explained_variance_ratios\n"
   ]
  },
  {
   "cell_type": "code",
   "execution_count": 17,
   "metadata": {},
   "outputs": [
    {
     "data": {
      "text/plain": [
       "[<matplotlib.lines.Line2D at 0x7f3297a618d0>]"
      ]
     },
     "execution_count": 17,
     "metadata": {},
     "output_type": "execute_result"
    },
    {
     "data": {
      "image/png": "[encoded data removed]",
      "text/plain": [
       "<Figure size 432x288 with 1 Axes>"
      ]
     },
     "metadata": {
      "needs_background": "light"
     },
     "output_type": "display_data"
    }
   ],
   "source": [
    "plt.plot(pca.explained_variance_ratios)\n"
   ]
  },
  {
   "cell_type": "markdown",
   "metadata": {},
   "source": [
    "Atribut `pca.cov` je, jasno, kovarijacijska matrica (dvodimenzionalni `numpy.ndarray`) kojoj je na mjestu $ \\left( i , j \\right) $ kovarijanca $ i $-tog i $ j $-tog stupca analizirane tablice.\n"
   ]
  },
  {
   "cell_type": "code",
   "execution_count": 18,
   "metadata": {
    "scrolled": true
   },
   "outputs": [
    {
     "data": {
      "text/plain": [
       "array([[1.        , 0.47402715, 0.48043201, 0.30732556, 0.19009511],\n",
       "       [0.47402715, 1.        , 0.46997448, 0.24595426, 0.15507563],\n",
       "       [0.48043201, 0.46997448, 1.        , 0.53366735, 0.3898023 ],\n",
       "       [0.30732556, 0.24595426, 0.53366735, 1.        , 0.45821829],\n",
       "       [0.19009511, 0.15507563, 0.3898023 , 0.45821829, 1.        ]])"
      ]
     },
     "execution_count": 18,
     "metadata": {},
     "output_type": "execute_result"
    }
   ],
   "source": [
    "pca.cov\n"
   ]
  },
  {
   "cell_type": "markdown",
   "metadata": {},
   "source": [
    "Za pregled ostalih atributa čitatelja upućujem u čitanje dokumentacije klase `RS_PCA` i spomenute literature.\n"
   ]
  },
  {
   "cell_type": "markdown",
   "metadata": {},
   "source": [
    "Od glavnih komponenti promotrit ćemo samo prvih $ n_{\\text{first}} \\in \\mathbb{N} $ za neki takav broj po volji (ali, naravno, najviše $ K $ gdje $ K $ ima značenje kao u objašnjnju atributa `pca.shape`).\n"
   ]
  },
  {
   "cell_type": "code",
   "execution_count": 19,
   "metadata": {},
   "outputs": [],
   "source": [
    "n_first = 2\n"
   ]
  },
  {
   "cell_type": "markdown",
   "metadata": {},
   "source": [
    "Atribut `pca.components` matrica je (dvodimenzionalni `numpy.ndarray`) čiji su stupci koordinate normiranih vektora smjerova u prostoru $ \\mathbb{R}^{K} $ (vidi objašnjenje atributa `pca.shape`) glavnih komponenti. Naravno, redoslijed stupaca usuglašen je s atributima `pca.explained_variance` i `pca.explained_variance_ratios`.\n"
   ]
  },
  {
   "cell_type": "code",
   "execution_count": 20,
   "metadata": {},
   "outputs": [
    {
     "data": {
      "text/plain": [
       "array([[ 3.07095379e-01,  2.12068325e-01],\n",
       "       [-5.34512557e-02,  3.77536893e-01],\n",
       "       [-1.98453457e-02,  6.12114070e-03],\n",
       "       [ 2.00012789e-02,  4.35013704e-03],\n",
       "       [-3.24656157e-02, -9.01797766e-02],\n",
       "       [-3.27443759e-02, -1.05852532e-01],\n",
       "       [-4.03344170e-02, -1.21542414e-01],\n",
       "       [ 2.64919828e-01,  6.58540224e-01],\n",
       "       [ 1.06499552e-02, -1.33440178e-02],\n",
       "       [ 1.08479192e-02, -1.57236973e-02],\n",
       "       [ 1.35731083e-02, -2.32132600e-02],\n",
       "       [-2.80520283e-02,  3.70339218e-02],\n",
       "       [-1.97434259e-02, -2.65400266e-02],\n",
       "       [-1.40968621e-02, -3.99900377e-02],\n",
       "       [ 3.20661508e-01,  1.99134200e-01],\n",
       "       [ 3.00311461e-02, -1.55829209e-02],\n",
       "       [ 9.41014797e-03, -3.21517385e-02],\n",
       "       [ 1.72577758e-02, -2.87552254e-02],\n",
       "       [ 1.66172494e-02, -3.74733361e-02],\n",
       "       [ 5.91822357e-02, -5.57650367e-04],\n",
       "       [ 1.65710619e-02, -3.90645191e-02],\n",
       "       [ 5.19267996e-02, -2.67333502e-02],\n",
       "       [ 3.54295123e-02, -3.91401472e-02],\n",
       "       [ 4.56662157e-02, -3.79009096e-02],\n",
       "       [ 3.21779191e-02, -5.62154091e-02],\n",
       "       [ 3.78106081e-02, -6.46657331e-02],\n",
       "       [ 4.48419186e-02, -7.52001189e-02],\n",
       "       [ 5.36924243e-02, -9.42683287e-02],\n",
       "       [ 6.97983105e-02, -1.21765678e-01],\n",
       "       [ 9.87569878e-02, -1.72232109e-01],\n",
       "       [ 1.71807586e-01, -2.93956544e-01],\n",
       "       [ 7.26518432e-01, -9.18532873e-02],\n",
       "       [-3.62567512e-01,  3.60671135e-01],\n",
       "       [ 3.64309117e-02, -1.83158259e-02]])"
      ]
     },
     "execution_count": 20,
     "metadata": {},
     "output_type": "execute_result"
    }
   ],
   "source": [
    "pca.components[:, :n_first]\n"
   ]
  },
  {
   "cell_type": "markdown",
   "metadata": {},
   "source": [
    "Glavne komponente možemo lako i reinterpretirati metodom `pca.reinterpret`. Budući da smo promotrili samo prvih $ n_{\\text{first}} $ glavnih komponenti, toliko ćemo ih i reinterpretirati (ako ne zadamo nijedan argument, ili kao argument proslijedimo `None`, reinterpretiraju se sve komponente). Povratna vrijednost te metode su matrica (dvodimenzionalni `numpy.ndarray`) i tablica `pandas.DataFrame`): koordinate promotrenih vektora smjerova u bazama vektora $ \\mathbf{c} $ (vidi literaturu spomenutu na početku bilježnice) jer se baze vektora $ \\mathbf{d} $ mogu lako dobiti iz baza vektora $ \\mathbf{c} $, lakše nego obratno. Logično, mjesta $ \\left( i , j \\right) $ povratne matrice i povratne tablice usuglašena su: matrica daje koeficijent, a tablica objašnjava kojoj kategoričkoj vrijednosti odgovara vektor baze na koji se taj koeficijent odnosi.\n"
   ]
  },
  {
   "cell_type": "code",
   "execution_count": 21,
   "metadata": {},
   "outputs": [],
   "source": [
    "coeff, values = pca.reinterpret(n_first)\n"
   ]
  },
  {
   "cell_type": "markdown",
   "metadata": {},
   "source": [
    "Budući da nam nije toliko bitna prava reprezentacija vektora smjerova u bazi, nego nas zanimaju utjecaji kategorija i njihovih vrijednosti na glavne komponente, normirajmo stupce matrice `coeff` s obzirom na normu-$ \\infty $ (dodatno, po potrebi, zamijenimo orijentaciju stupaca tako da apsolutno najveći koeficijent bude pozitivan).\n"
   ]
  },
  {
   "cell_type": "code",
   "execution_count": 22,
   "metadata": {},
   "outputs": [],
   "source": [
    "with warnings.catch_warnings():\n",
    "    warnings.filterwarnings('error')\n",
    "    with np.errstate(invalid = 'raise'):\n",
    "        for i in range(n_first):\n",
    "            j = 0\n",
    "\n",
    "            abs_coeff = np.abs(coeff[:, i])\n",
    "\n",
    "            J = np.where(abs_coeff == abs_coeff.max())\n",
    "\n",
    "            try:\n",
    "                j = J[0][0]\n",
    "            except IndexError:\n",
    "                pass\n",
    "\n",
    "            del J\n",
    "\n",
    "            del abs_coeff\n",
    "\n",
    "            if (\n",
    "                coeff[j, i]\n",
    "                    if np.abs(coeff[j, i].real) >= np.abs(coeff[j, i].imag)\n",
    "                    else coeff[j, i].imag\n",
    "            ) < 0:\n",
    "                coeff[:, i] = -coeff[:, i]\n",
    "\n",
    "            try:\n",
    "                coeff[:, i] /= coeff[j, i]\n",
    "            except RuntimeWarning:\n",
    "                coeff[:, i] = 0\n",
    "\n",
    "            del j\n",
    "\n",
    "        try:\n",
    "            del i\n",
    "        except (NameError, UnboundLocalError):\n",
    "            pass\n"
   ]
  },
  {
   "cell_type": "markdown",
   "metadata": {},
   "source": [
    "Proučimo sada reinterpretaciju.\n"
   ]
  },
  {
   "cell_type": "code",
   "execution_count": 23,
   "metadata": {},
   "outputs": [
    {
     "data": {
      "text/plain": [
       "array([[ 4.79683003e-01, -5.71175128e-01],\n",
       "       [ 4.23646946e-01, -5.63216471e-01],\n",
       "       [ 4.11135815e-01, -5.57497406e-01],\n",
       "       [ 3.76312419e-01, -1.16244790e-01],\n",
       "       [ 4.16687712e-01,  1.00000000e+00],\n",
       "       [ 3.72276169e-01,  7.51664635e-02],\n",
       "       [ 3.70370844e-01,  4.93373982e-03],\n",
       "       [ 3.69374078e-01,  3.74721159e-03],\n",
       "       [ 3.67500574e-01,  1.77538672e-03],\n",
       "       [ 3.67337835e-01,  1.20939595e-03],\n",
       "       [ 3.65205599e-01,  6.88037522e-04],\n",
       "       [ 3.64240162e-01,  3.43883075e-04],\n",
       "       [ 7.61125543e-01,  5.90815548e-01],\n",
       "       [ 4.46269195e-01,  3.32716791e-01],\n",
       "       [ 4.37501395e-01,  5.40665081e-02],\n",
       "       [ 4.36487482e-01,  2.37448610e-02],\n",
       "       [ 4.35954933e-01,  2.25389296e-02],\n",
       "       [ 4.35927838e-01,  1.87129221e-02],\n",
       "       [ 4.35876058e-01,  1.84640684e-02],\n",
       "       [ 4.35159395e-01,  1.09255003e-02],\n",
       "       [ 4.35141698e-01,  8.94581354e-03],\n",
       "       [ 4.35014571e-01,  4.76269129e-03],\n",
       "       [ 4.34243535e-01,  3.26531731e-03],\n",
       "       [ 4.32882911e-01,  2.15850302e-03],\n",
       "       [ 4.26036685e-01,  1.97865075e-03],\n",
       "       [ 4.23553814e-01,  1.57507957e-03],\n",
       "       [ 4.19013364e-01,  1.29659081e-03],\n",
       "       [ 4.11354931e-01,  1.25370886e-03],\n",
       "       [ 4.03577452e-01,  5.32463195e-04],\n",
       "       [ 3.91041645e-01,  4.52143273e-04],\n",
       "       [ 3.72888934e-01,  4.18261730e-04],\n",
       "       [ 1.00000000e+00,  1.32853059e-01],\n",
       "       [-5.27998866e-01, -5.36955608e-01],\n",
       "       [-4.70096972e-01, -5.06366084e-01]])"
      ]
     },
     "execution_count": 23,
     "metadata": {},
     "output_type": "execute_result"
    }
   ],
   "source": [
    "coeff\n"
   ]
  },
  {
   "cell_type": "code",
   "execution_count": 24,
   "metadata": {},
   "outputs": [
    {
     "data": {
      "text/html": [
       "<div>\n",
       "<style scoped>\n",
       "    .dataframe tbody tr th:only-of-type {\n",
       "        vertical-align: middle;\n",
       "    }\n",
       "\n",
       "    .dataframe tbody tr th {\n",
       "        vertical-align: top;\n",
       "    }\n",
       "\n",
       "    .dataframe thead th {\n",
       "        text-align: right;\n",
       "    }\n",
       "</style>\n",
       "<table border=\"1\" class=\"dataframe\">\n",
       "  <thead>\n",
       "    <tr style=\"text-align: right;\">\n",
       "      <th></th>\n",
       "      <th>0</th>\n",
       "      <th>1</th>\n",
       "    </tr>\n",
       "  </thead>\n",
       "  <tbody>\n",
       "    <tr>\n",
       "      <th>(0, VALUTA, 0)</th>\n",
       "      <td>2</td>\n",
       "      <td>5</td>\n",
       "    </tr>\n",
       "    <tr>\n",
       "      <th>(0, VALUTA, 1)</th>\n",
       "      <td>3</td>\n",
       "      <td>4</td>\n",
       "    </tr>\n",
       "    <tr>\n",
       "      <th>(0, VALUTA, 2)</th>\n",
       "      <td>5</td>\n",
       "      <td>3</td>\n",
       "    </tr>\n",
       "    <tr>\n",
       "      <th>(0, VALUTA, 3)</th>\n",
       "      <td>4</td>\n",
       "      <td>1</td>\n",
       "    </tr>\n",
       "    <tr>\n",
       "      <th>(1, VRSTA_KLIJENTA, 0)</th>\n",
       "      <td>1550</td>\n",
       "      <td>1410</td>\n",
       "    </tr>\n",
       "    <tr>\n",
       "      <th>(1, VRSTA_KLIJENTA, 1)</th>\n",
       "      <td>1110</td>\n",
       "      <td>1550</td>\n",
       "    </tr>\n",
       "    <tr>\n",
       "      <th>(1, VRSTA_KLIJENTA, 2)</th>\n",
       "      <td>1320</td>\n",
       "      <td>1110</td>\n",
       "    </tr>\n",
       "    <tr>\n",
       "      <th>(1, VRSTA_KLIJENTA, 3)</th>\n",
       "      <td>1510</td>\n",
       "      <td>1610</td>\n",
       "    </tr>\n",
       "    <tr>\n",
       "      <th>(1, VRSTA_KLIJENTA, 4)</th>\n",
       "      <td>1430</td>\n",
       "      <td>1430</td>\n",
       "    </tr>\n",
       "    <tr>\n",
       "      <th>(1, VRSTA_KLIJENTA, 5)</th>\n",
       "      <td>1120</td>\n",
       "      <td>1320</td>\n",
       "    </tr>\n",
       "    <tr>\n",
       "      <th>(1, VRSTA_KLIJENTA, 6)</th>\n",
       "      <td>1610</td>\n",
       "      <td>1510</td>\n",
       "    </tr>\n",
       "    <tr>\n",
       "      <th>(1, VRSTA_KLIJENTA, 7)</th>\n",
       "      <td>1420</td>\n",
       "      <td>1120</td>\n",
       "    </tr>\n",
       "    <tr>\n",
       "      <th>(2, PROIZVOD, 0)</th>\n",
       "      <td>TM0109</td>\n",
       "      <td>TM0109</td>\n",
       "    </tr>\n",
       "    <tr>\n",
       "      <th>(2, PROIZVOD, 1)</th>\n",
       "      <td>FD0100</td>\n",
       "      <td>FL0801</td>\n",
       "    </tr>\n",
       "    <tr>\n",
       "      <th>(2, PROIZVOD, 2)</th>\n",
       "      <td>FD0200</td>\n",
       "      <td>FL1100</td>\n",
       "    </tr>\n",
       "    <tr>\n",
       "      <th>(2, PROIZVOD, 3)</th>\n",
       "      <td>FL1310</td>\n",
       "      <td>FL1201</td>\n",
       "    </tr>\n",
       "    <tr>\n",
       "      <th>(2, PROIZVOD, 4)</th>\n",
       "      <td>FL1304</td>\n",
       "      <td>FL0802</td>\n",
       "    </tr>\n",
       "    <tr>\n",
       "      <th>(2, PROIZVOD, 5)</th>\n",
       "      <td>FL1400</td>\n",
       "      <td>FL1301</td>\n",
       "    </tr>\n",
       "    <tr>\n",
       "      <th>(2, PROIZVOD, 6)</th>\n",
       "      <td>FL1500</td>\n",
       "      <td>FD0100</td>\n",
       "    </tr>\n",
       "    <tr>\n",
       "      <th>(2, PROIZVOD, 7)</th>\n",
       "      <td>FL1600</td>\n",
       "      <td>FL1202</td>\n",
       "    </tr>\n",
       "    <tr>\n",
       "      <th>(2, PROIZVOD, 8)</th>\n",
       "      <td>FL1306</td>\n",
       "      <td>FL0804</td>\n",
       "    </tr>\n",
       "    <tr>\n",
       "      <th>(2, PROIZVOD, 9)</th>\n",
       "      <td>FL1309</td>\n",
       "      <td>FL1600</td>\n",
       "    </tr>\n",
       "    <tr>\n",
       "      <th>(2, PROIZVOD, 10)</th>\n",
       "      <td>FL1200</td>\n",
       "      <td>FL1309</td>\n",
       "    </tr>\n",
       "    <tr>\n",
       "      <th>(2, PROIZVOD, 11)</th>\n",
       "      <td>FL0803</td>\n",
       "      <td>FL1200</td>\n",
       "    </tr>\n",
       "    <tr>\n",
       "      <th>(2, PROIZVOD, 12)</th>\n",
       "      <td>FL0900</td>\n",
       "      <td>FD0200</td>\n",
       "    </tr>\n",
       "    <tr>\n",
       "      <th>(2, PROIZVOD, 13)</th>\n",
       "      <td>FL0804</td>\n",
       "      <td>FL1306</td>\n",
       "    </tr>\n",
       "    <tr>\n",
       "      <th>(2, PROIZVOD, 14)</th>\n",
       "      <td>FL1202</td>\n",
       "      <td>FL0803</td>\n",
       "    </tr>\n",
       "    <tr>\n",
       "      <th>(2, PROIZVOD, 15)</th>\n",
       "      <td>FL1301</td>\n",
       "      <td>FL1304</td>\n",
       "    </tr>\n",
       "    <tr>\n",
       "      <th>(2, PROIZVOD, 16)</th>\n",
       "      <td>FL0802</td>\n",
       "      <td>FL1310</td>\n",
       "    </tr>\n",
       "    <tr>\n",
       "      <th>(2, PROIZVOD, 17)</th>\n",
       "      <td>FL1201</td>\n",
       "      <td>FL1400</td>\n",
       "    </tr>\n",
       "    <tr>\n",
       "      <th>(2, PROIZVOD, 18)</th>\n",
       "      <td>FL1100</td>\n",
       "      <td>FL1500</td>\n",
       "    </tr>\n",
       "    <tr>\n",
       "      <th>(3, VRSTA_PROIZVODA, 0)</th>\n",
       "      <td>L</td>\n",
       "      <td>L</td>\n",
       "    </tr>\n",
       "    <tr>\n",
       "      <th>(4, TIP_KAMATE, 0)</th>\n",
       "      <td>B</td>\n",
       "      <td>B</td>\n",
       "    </tr>\n",
       "    <tr>\n",
       "      <th>(4, TIP_KAMATE, 1)</th>\n",
       "      <td>C</td>\n",
       "      <td>C</td>\n",
       "    </tr>\n",
       "  </tbody>\n",
       "</table>\n",
       "</div>"
      ],
      "text/plain": [
       "                              0       1\n",
       "(0, VALUTA, 0)                2       5\n",
       "(0, VALUTA, 1)                3       4\n",
       "(0, VALUTA, 2)                5       3\n",
       "(0, VALUTA, 3)                4       1\n",
       "(1, VRSTA_KLIJENTA, 0)     1550    1410\n",
       "(1, VRSTA_KLIJENTA, 1)     1110    1550\n",
       "(1, VRSTA_KLIJENTA, 2)     1320    1110\n",
       "(1, VRSTA_KLIJENTA, 3)     1510    1610\n",
       "(1, VRSTA_KLIJENTA, 4)     1430    1430\n",
       "(1, VRSTA_KLIJENTA, 5)     1120    1320\n",
       "(1, VRSTA_KLIJENTA, 6)     1610    1510\n",
       "(1, VRSTA_KLIJENTA, 7)     1420    1120\n",
       "(2, PROIZVOD, 0)         TM0109  TM0109\n",
       "(2, PROIZVOD, 1)         FD0100  FL0801\n",
       "(2, PROIZVOD, 2)         FD0200  FL1100\n",
       "(2, PROIZVOD, 3)         FL1310  FL1201\n",
       "(2, PROIZVOD, 4)         FL1304  FL0802\n",
       "(2, PROIZVOD, 5)         FL1400  FL1301\n",
       "(2, PROIZVOD, 6)         FL1500  FD0100\n",
       "(2, PROIZVOD, 7)         FL1600  FL1202\n",
       "(2, PROIZVOD, 8)         FL1306  FL0804\n",
       "(2, PROIZVOD, 9)         FL1309  FL1600\n",
       "(2, PROIZVOD, 10)        FL1200  FL1309\n",
       "(2, PROIZVOD, 11)        FL0803  FL1200\n",
       "(2, PROIZVOD, 12)        FL0900  FD0200\n",
       "(2, PROIZVOD, 13)        FL0804  FL1306\n",
       "(2, PROIZVOD, 14)        FL1202  FL0803\n",
       "(2, PROIZVOD, 15)        FL1301  FL1304\n",
       "(2, PROIZVOD, 16)        FL0802  FL1310\n",
       "(2, PROIZVOD, 17)        FL1201  FL1400\n",
       "(2, PROIZVOD, 18)        FL1100  FL1500\n",
       "(3, VRSTA_PROIZVODA, 0)       L       L\n",
       "(4, TIP_KAMATE, 0)            B       B\n",
       "(4, TIP_KAMATE, 1)            C       C"
      ]
     },
     "execution_count": 24,
     "metadata": {},
     "output_type": "execute_result"
    }
   ],
   "source": [
    "values\n"
   ]
  },
  {
   "cell_type": "markdown",
   "metadata": {},
   "source": [
    "Konačno, proučimo i rezultantne glavne komponente, to jest, koliko uistinu vidljivo diferenciraju podatke. U tu svrhu, definirajmo $ N_{\\text{sample}} \\in \\mathbb{N} $ (najviše $ N $) koliko ćemo redaka iz tablice `cat_df` prikazati.\n"
   ]
  },
  {
   "cell_type": "code",
   "execution_count": 25,
   "metadata": {},
   "outputs": [],
   "source": [
    "N_sample = 50\n"
   ]
  },
  {
   "cell_type": "markdown",
   "metadata": {},
   "source": [
    "Pozivom metode `pca.transform` nad tablicom (usuglašenih stupaca kao tablica nad kojom se pozivao `pca.fit`) dohvaćaju se koordinate redaka te tablice, koji su kategoričkih vrijednosti, u koordinatnom sustavu glavnih komponenti. Drugi argument je ekvivalentan (pa i njegova opcionalnost) kao u metodi `pca.reinterpret`, ali opet uzimamo projekciju samo na prvih $ n_{\\text{first}} $ komponenti jer smo samo njih proučili pa graf možemo lakše tumačiti.\n",
    "\n",
    "Povratna matrica (dvodimenzionalni `numpy.ndarray`) ima isti broj redaka kao originalna tablica (ako ona nije sadržavala retke s nedefiniranim vrijednostima), a broj stupaca odgovara broju glavnih komponenti na koje smo podatke projicirali. U tom smislu redak dane tablice odgovara retku povratne matrice &mdash; odnose se na istu opservaciju.\n"
   ]
  },
  {
   "cell_type": "code",
   "execution_count": 26,
   "metadata": {},
   "outputs": [],
   "source": [
    "Y = pca.transform(df.sample(N_sample), n_first)\n"
   ]
  },
  {
   "cell_type": "code",
   "execution_count": 27,
   "metadata": {},
   "outputs": [
    {
     "data": {
      "image/png": "[encoded data removed]",
      "text/latex": [
       "$$\\left ( 50, \\quad 2\\right )$$"
      ],
      "text/plain": [
       "(50, 2)"
      ]
     },
     "execution_count": 27,
     "metadata": {},
     "output_type": "execute_result"
    }
   ],
   "source": [
    "Y.shape\n"
   ]
  },
  {
   "cell_type": "markdown",
   "metadata": {},
   "source": [
    "Konačno, prikažimo rezultantnu transformaciju na grafu.\n"
   ]
  },
  {
   "cell_type": "code",
   "execution_count": 28,
   "metadata": {},
   "outputs": [
    {
     "data": {
      "text/plain": [
       "[<matplotlib.lines.Line2D at 0x7f3297a1eef0>]"
      ]
     },
     "execution_count": 28,
     "metadata": {},
     "output_type": "execute_result"
    },
    {
     "data": {
      "image/png": "[encoded data removed]",
      "text/plain": [
       "<Figure size 432x288 with 1 Axes>"
      ]
     },
     "metadata": {
      "needs_background": "light"
     },
     "output_type": "display_data"
    }
   ],
   "source": [
    "plt.plot(Y[:, 0], Y[:, 1], marker = '.', linestyle = 'None')\n"
   ]
  },
  {
   "cell_type": "markdown",
   "metadata": {},
   "source": [
    "Iz grafa se nazire grupiranje podataka, ali nije evidentno koji podatci su, s obzirom na originalne kategoričke vrijednosti, *zajedno*, a koji su razmaknuti.\n",
    "\n",
    "**Zadatak.** Odgonetnite razloge grupacija podataka na grafu i prikažite graf na kojemu su grupacije, s obzirom na originalne kategoričke vrijednosti, a ne na euklidske udaljenosti njihovih projekcija na glavne komponente, obojane različitim bojama (točke koje pripadaju istoj grupaciji neka budu obojane istom bojom, ali neka su boje po grupacijama različite). <br>\n",
    "Uputa: koristite varijable `coeff` i `values`.\n"
   ]
  },
  {
   "cell_type": "code",
   "execution_count": null,
   "metadata": {},
   "outputs": [],
   "source": []
  }
 ],
 "metadata": {
  "kernelspec": {
   "display_name": "Python 3",
   "language": "python",
   "name": "python3"
  },
  "language_info": {
   "codemirror_mode": {
    "name": "ipython",
    "version": 3
   },
   "file_extension": ".py",
   "mimetype": "text/x-python",
   "name": "python",
   "nbconvert_exporter": "python",
   "pygments_lexer": "ipython3",
   "version": "3.7.3"
  }
 },
 "nbformat": 4,
 "nbformat_minor": 2
}
