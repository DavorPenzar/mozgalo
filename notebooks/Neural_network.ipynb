{
 "cells": [
  {
   "cell_type": "code",
   "execution_count": 72,
   "metadata": {},
   "outputs": [],
   "source": [
    "# import torch\n",
    "import torch.nn as nn\n",
    "import torch.nn.functional as F\n",
    "import pandas as pd"
   ]
  },
  {
   "cell_type": "code",
   "execution_count": 18,
   "metadata": {},
   "outputs": [],
   "source": [
    "# podaci nad kojima treniramo mrezu\n",
    "dataset = pd.read_pickle('../data/dobar_trening_set.pkl')"
   ]
  },
  {
   "cell_type": "code",
   "execution_count": 74,
   "metadata": {},
   "outputs": [],
   "source": [
    "relevantni_stupci = [\n",
    "    'DATUM_OTVARANJA',\n",
    "    'PLANIRANI_DATUM_ZATVARANJA',\n",
    "    'UGOVORENI_IZNOS',\n",
    "    'VALUTA',\n",
    "    'VRSTA_KLIJENTA',\n",
    "    'PROIZVOD',\n",
    "    'VRSTA_PROIZVODA',\n",
    "    'VISINA_KAMATE',\n",
    "    'TIP_KAMATE',\n",
    "    'STAROST'\n",
    "]\n",
    "\n",
    "# aktivacijska funkcija\n",
    "act_fn = F.sigmoid\n",
    "# loss funkcija\n",
    "loss_fn = nn.MSELoss\n",
    "\n",
    "# predefinirane varijable\n",
    "layers = [len(relevantni_stupci), 2, 1]  # brojevi neurona u layerima, od input layer-a do output layer-a (s lijeva na desno)\n",
    "batch_size = 5\n",
    "learning_rate = 0.05\n",
    "momentum = 0.9"
   ]
  },
  {
   "cell_type": "code",
   "execution_count": 68,
   "metadata": {},
   "outputs": [],
   "source": [
    "class NeuralNet(nn.Module):\n",
    "    def __init__(self):\n",
    "        super(NeuralNet, self).__init__()\n",
    "        self.w1 = nn.Linear(layers[0], layers[1])\n",
    "        self.w2 = nn.Linear(layers[1], layers[2])\n",
    "            \n",
    "    def forward(self, input_value):\n",
    "        z1 = act_fn(self.w1(input_value))\n",
    "        z2 = act_fn(self.w2(z1))\n",
    "        \n",
    "        return act_fn(z2)\n",
    "            "
   ]
  },
  {
   "cell_type": "code",
   "execution_count": 69,
   "metadata": {},
   "outputs": [
    {
     "data": {
      "text/plain": [
       "NeuralNet(\n",
       "  (w1): Linear(in_features=10, out_features=2, bias=True)\n",
       "  (w2): Linear(in_features=2, out_features=1, bias=True)\n",
       ")"
      ]
     },
     "execution_count": 69,
     "metadata": {},
     "output_type": "execute_result"
    }
   ],
   "source": [
    "mreza = NeuralNet()\n",
    "mreza"
   ]
  },
  {
   "cell_type": "code",
   "execution_count": 75,
   "metadata": {},
   "outputs": [],
   "source": [
    "optimizer = torch.optim.SGD(mreza.parameters(), lr=learning_rate, momentum=0.9)\n",
    "criterion = loss_fn"
   ]
  },
  {
   "cell_type": "code",
   "execution_count": null,
   "metadata": {},
   "outputs": [],
   "source": [
    "for epoch in range(epochs):\n",
    "    for batch_idx, (data, target) in enumerate(train_loader):\n",
    "        data, target = Variable(data), Variable(target)\n",
    "        # resize data from (batch_size, 1, 28, 28) to (batch_size, 28*28)\n",
    "        data = data.view(-1, 28*28)\n",
    "        optimizer.zero_grad()\n",
    "        net_out = net(data)\n",
    "        loss = criterion(net_out, target)\n",
    "        loss.backward()\n",
    "        optimizer.step()\n",
    "        if batch_idx % log_interval == 0:\n",
    "            print('Train Epoch: {} [{}/{} ({:.0f}%)]\\tLoss: {:.6f}'.format(\n",
    "                    epoch, batch_idx * len(data), len(train_loader.dataset),\n",
    "                           100. * batch_idx / len(train_loader), loss.data[0]))"
   ]
  }
 ],
 "metadata": {
  "kernelspec": {
   "display_name": "Python 3",
   "language": "python",
   "name": "python3"
  },
  "language_info": {
   "codemirror_mode": {
    "name": "ipython",
    "version": 3
   },
   "file_extension": ".py",
   "mimetype": "text/x-python",
   "name": "python",
   "nbconvert_exporter": "python",
   "pygments_lexer": "ipython3",
   "version": "3.7.2"
  }
 },
 "nbformat": 4,
 "nbformat_minor": 2
}
