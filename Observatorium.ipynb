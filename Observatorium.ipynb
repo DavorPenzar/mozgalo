{
 "cells": [
  {
   "cell_type": "markdown",
   "metadata": {},
   "source": [
    "# Observatorium\n"
   ]
  },
  {
   "cell_type": "markdown",
   "metadata": {},
   "source": [
    "Svrha je ove *Jupyter* bilježnice malo pregledati (opservirati) skup podataka na osnovu kojeg treba izgraditi model kao rješenje zadatka za natjecanje *Mozgalo* 2019. godine.\n"
   ]
  },
  {
   "cell_type": "markdown",
   "metadata": {},
   "source": [
    "## Sadržaj\n"
   ]
  },
  {
   "cell_type": "markdown",
   "metadata": {},
   "source": [
    "1.  [Učitavanje podataka](#ucitavanje-podataka)\n",
    "2.  [Jednostavni pregled podataka](#jednostavni-pregled-podataka)\n",
    "    1.  [Inspekcija sumnjivih dijelova](#inspekcija-sumnjivih-dijelova)\n",
    "3.  [Vremenski nizovi](#vremenski-nizovi)\n"
   ]
  },
  {
   "cell_type": "markdown",
   "metadata": {},
   "source": [
    "Pripremimo prvo okruženje\n"
   ]
  },
  {
   "cell_type": "code",
   "execution_count": 1,
   "metadata": {},
   "outputs": [],
   "source": [
    "##  PRIPREMA PYTHON OKRUZENJA\n",
    "\n",
    "# IPython\n",
    "from IPython import *\n",
    "from IPython.display import *\n",
    "\n",
    "# Standardna Python biblioteka\n",
    "import copy\n",
    "import math\n",
    "import os\n",
    "import six\n",
    "import sys\n",
    "import time\n",
    "\n",
    "# SciPy paketi\n",
    "import matplotlib as mpl\n",
    "import matplotlib.pyplot as plt\n",
    "import numpy as np\n",
    "import pandas as pd\n",
    "import sympy as sym\n",
    "from mpl_toolkits.mplot3d.axes3d import Axes3D # 3-dimenzionalna grafika\n",
    "\n",
    "# Postavi radni direktorij na poddirektorij `data'.\n",
    "os.chdir('./data')\n",
    "\n",
    "# Postavi prikaz grafova unutar biljeznice.\n",
    "%matplotlib inline\n",
    "\n",
    "# Postavi stil grafova na `ggplot'.\n",
    "plt.style.use('ggplot')\n",
    "\n",
    "# Inicijaliziraj ispis simbolickog racuna.\n",
    "sym.init_printing()\n"
   ]
  },
  {
   "cell_type": "markdown",
   "metadata": {},
   "source": [
    "## Učitavanje podataka <a name=\"ucitavanje-podataka\"></a>\n"
   ]
  },
  {
   "cell_type": "markdown",
   "metadata": {},
   "source": [
    "Podatke ćemo iz datoteke *training_dataset_enc.csv* učitati kao `pandas.DataFrame` pozivom funkcije `pandas.read_pickle` odnosno `pandas.read_csv`. Pokretanjem sljedećih programskih linija može se primijetiti da učitavanje podataka iz *CSV* datoteke traje jako dugo zato što redaka u tablici ima više od $ 5 $ milijuna, stoga ćemo prvo pokušati otvoriti *pickle*, a, ako datoteka koju tražimo ne postoji, tek ćemo onda otvarati *CSV* i odmah ćemo učitanu tablicu spremiti kao *pickle* datoteku za kasnije brže učitavanje. Izmjerit ćemo i vrijeme potrebno za učitavanje podataka jer se iz izmjerenih vremena jasno vidi vremenska optimizacija učitavanja podataka.\n"
   ]
  },
  {
   "cell_type": "code",
   "execution_count": 2,
   "metadata": {
    "scrolled": false
   },
   "outputs": [
    {
     "name": "stderr",
     "output_type": "stream",
     "text": [
      "/usr/lib/python3/dist-packages/numpy/lib/arraysetops.py:472: FutureWarning: elementwise comparison failed; returning scalar instead, but in the future will perform elementwise comparison\n",
      "  mask |= (ar1 == a)\n"
     ]
    },
    {
     "name": "stdout",
     "output_type": "stream",
     "text": [
      "Trajanje ucitavanja: 0h 04m 47.432s (287.432s)\n"
     ]
    }
   ],
   "source": [
    "##  UCITAVANJE SKUPA PODATAKA\n",
    "##\n",
    "##  S obzirom na to da je skup podataka vrlo velik (5 193 124 redaka), mjerit\n",
    "##  cemo i vrijeme potrebno za njegovo ucitavanje.  Podatci bi se, medutim, iz\n",
    "##  CSV datoteke puno brze ucitali da se datumi ne parsiraju, nego da ostanu\n",
    "##  stringovi, ali vjerojatno ce nam datumi ionako biti potrebni u datumskom\n",
    "##  obliku pa ih je bolje odmah takve i ucitati.  Stoga, jednom kada se CSV\n",
    "##  ucita, sprema se pickle cijelog skupa podataka tako da svaki sljedeci put\n",
    "##  ucitavanje bude puno brze (ako datoteka s pickle-om postoji, automatski se\n",
    "##  skup podataka cita iz nje; CSV se cita tek ako datoteka s pickle-om ne\n",
    "##  postoji).\n",
    "\n",
    "# Pocni mjeriti vrijeme.\n",
    "t0 = time.time()\n",
    "\n",
    "\n",
    "# Ucitaj skup podataka.  Prvo se pokusava ucitati pickle iz datoteke\n",
    "# `training_dataset_enc.pkl', a, ako ta datoteka ne postoji, onda se ucitava\n",
    "# tablica u CSV obliku iz `training_dataset_enc.csv' i odmah se sprema pickle u\n",
    "# datoteku `training_dataset_enc.pkl' za brze ucitavanje ubuduce.\n",
    "df = None\n",
    "try:\n",
    "    df = pd.read_pickle('training_dataset_enc.pkl')\n",
    "except FileNotFoundError:\n",
    "    df = pd.read_csv(\n",
    "        'training_dataset_enc.csv',\n",
    "        index_col = 0,\n",
    "        parse_dates = [\n",
    "            'DATUM_IZVJESTAVANJA',\n",
    "            'DATUM_OTVARANJA',\n",
    "            'PLANIRANI_DATUM_ZATVARANJA',\n",
    "            'DATUM_ZATVARANJA'\n",
    "        ],\n",
    "        infer_datetime_format = True,\n",
    "        true_values = ['Y'],\n",
    "        false_values = ['N']\n",
    "    )\n",
    "    df.drop(columns = 'Unnamed: 0.1', inplace = True)\n",
    "    df.reset_index(drop = True, inplace = True)\n",
    "    df.KLIJENT_ID = df.KLIJENT_ID.astype(\n",
    "        pd.api.types.CategoricalDtype(\n",
    "            categories = np.sort(\n",
    "                df.KLIJENT_ID[pd.notnull(df.KLIJENT_ID)].unique()\n",
    "            ),\n",
    "            ordered = False\n",
    "        )\n",
    "    )\n",
    "    df.OZNAKA_PARTIJE = df.OZNAKA_PARTIJE.astype(\n",
    "        pd.api.types.CategoricalDtype(\n",
    "            categories = np.sort(\n",
    "                df.OZNAKA_PARTIJE[pd.notnull(df.OZNAKA_PARTIJE)].unique()\n",
    "            ),\n",
    "            ordered = False\n",
    "        )\n",
    "    )\n",
    "    df.VALUTA = df.VALUTA.astype(\n",
    "        pd.api.types.CategoricalDtype(\n",
    "            categories = np.sort(df.VALUTA[pd.notnull(df.VALUTA)].unique()),\n",
    "            ordered = False\n",
    "        )\n",
    "    )\n",
    "    df.VRSTA_KLIJENTA = df.VRSTA_KLIJENTA.astype(\n",
    "        pd.api.types.CategoricalDtype(\n",
    "            categories = np.sort(\n",
    "                df.VRSTA_KLIJENTA[pd.notnull(df.VRSTA_KLIJENTA)].unique()\n",
    "            ),\n",
    "            ordered = False\n",
    "        )\n",
    "    )\n",
    "    df.PROIZVOD = df.PROIZVOD.astype(\n",
    "        pd.api.types.CategoricalDtype(\n",
    "            categories = np.sort(df.PROIZVOD[pd.notnull(df.PROIZVOD)].unique()),\n",
    "            ordered = False\n",
    "        )\n",
    "    )\n",
    "    df.VRSTA_PROIZVODA = df.VRSTA_PROIZVODA.astype(\n",
    "        pd.api.types.CategoricalDtype(\n",
    "            categories = np.sort(\n",
    "                df.VRSTA_PROIZVODA[pd.notnull(df.VRSTA_PROIZVODA)].unique()\n",
    "            ),\n",
    "            ordered = False\n",
    "        )\n",
    "    )\n",
    "    df.TIP_KAMATE = df.TIP_KAMATE.astype(\n",
    "        pd.api.types.CategoricalDtype(\n",
    "            categories = np.sort(\n",
    "                df.TIP_KAMATE[pd.notnull(df.TIP_KAMATE)].unique()\n",
    "            ),\n",
    "            ordered = False\n",
    "        )\n",
    "    )\n",
    "    df.sort_values(\n",
    "        [\n",
    "            'DATUM_IZVJESTAVANJA',\n",
    "            'DATUM_OTVARANJA',\n",
    "            'PLANIRANI_DATUM_ZATVARANJA',\n",
    "            'DATUM_ZATVARANJA',\n",
    "            'PRIJEVREMENI_RASKID'\n",
    "        ],\n",
    "        ascending = [True, True, True, True, False],\n",
    "        inplace = True\n",
    "    )\n",
    "    df.reset_index(drop = True, inplace = True)\n",
    "    df.to_pickle('training_dataset_enc.pkl')\n",
    "\n",
    "# Zavrsi mjerenje vremena.\n",
    "t1 = time.time()\n",
    "\n",
    "# Izracunaj vremenski period od t0 do t1 u sekundama.\n",
    "d = float(t1 - t0)\n",
    "\n",
    "# Ispisi vrijeme.\n",
    "print(\n",
    "    'Trajanje ucitavanja: {h:d}h {m:02d}m {s:06.3f}s ({S:.3f}s)'.format(\n",
    "        h = int(math.floor(d / 3600)),\n",
    "        m = int(math.floor((d - 3600 * int(math.floor(d / 3600))) / 60)),\n",
    "        s = d - 60 * int(math.floor(d / 60)),\n",
    "        S = d\n",
    "    )\n",
    ")\n",
    "\n",
    "# Oslobodi memoriju.\n",
    "del d\n",
    "del t0\n",
    "del t1\n"
   ]
  },
  {
   "cell_type": "markdown",
   "metadata": {},
   "source": [
    "## Jednostavni pregled podataka <a name=\"jednostavni-pregled-podataka\"></a>\n"
   ]
  },
  {
   "cell_type": "markdown",
   "metadata": {},
   "source": [
    "Sada kada su podatci učitani, promotrimo malo kakvi su. Pregledat ćemo u kakvom su formatu podatci spremljeni, kako izgledaju neki od prvih i zadnjih redaka u tablici, a zatim ćemo nad svim stupcima izvršiti minimalnu deskriptivnu statistiku.\n"
   ]
  },
  {
   "cell_type": "code",
   "execution_count": 3,
   "metadata": {},
   "outputs": [
    {
     "name": "stdout",
     "output_type": "stream",
     "text": [
      "<class 'pandas.core.frame.DataFrame'>\n",
      "RangeIndex: 5193124 entries, 0 to 5193123\n",
      "Data columns (total 17 columns):\n",
      "DATUM_IZVJESTAVANJA               datetime64[ns]\n",
      "KLIJENT_ID                        category\n",
      "OZNAKA_PARTIJE                    category\n",
      "DATUM_OTVARANJA                   datetime64[ns]\n",
      "PLANIRANI_DATUM_ZATVARANJA        datetime64[ns]\n",
      "DATUM_ZATVARANJA                  datetime64[ns]\n",
      "UGOVORENI_IZNOS                   float64\n",
      "STANJE_NA_KRAJU_PRETH_KVARTALA    float64\n",
      "STANJE_NA_KRAJU_KVARTALA          float64\n",
      "VALUTA                            category\n",
      "VRSTA_KLIJENTA                    category\n",
      "PROIZVOD                          category\n",
      "VRSTA_PROIZVODA                   category\n",
      "VISINA_KAMATE                     float64\n",
      "TIP_KAMATE                        category\n",
      "STAROST                           int64\n",
      "PRIJEVREMENI_RASKID               bool\n",
      "dtypes: bool(1), category(7), datetime64[ns](4), float64(4), int64(1)\n",
      "memory usage: 462.3 MB\n"
     ]
    }
   ],
   "source": [
    "# Opis `feature'-a\n",
    "df.info()\n"
   ]
  },
  {
   "cell_type": "code",
   "execution_count": 4,
   "metadata": {},
   "outputs": [
    {
     "data": {
      "text/html": [
       "<div>\n",
       "<style scoped>\n",
       "    .dataframe tbody tr th:only-of-type {\n",
       "        vertical-align: middle;\n",
       "    }\n",
       "\n",
       "    .dataframe tbody tr th {\n",
       "        vertical-align: top;\n",
       "    }\n",
       "\n",
       "    .dataframe thead th {\n",
       "        text-align: right;\n",
       "    }\n",
       "</style>\n",
       "<table border=\"1\" class=\"dataframe\">\n",
       "  <thead>\n",
       "    <tr style=\"text-align: right;\">\n",
       "      <th></th>\n",
       "      <th>DATUM_IZVJESTAVANJA</th>\n",
       "      <th>KLIJENT_ID</th>\n",
       "      <th>OZNAKA_PARTIJE</th>\n",
       "      <th>DATUM_OTVARANJA</th>\n",
       "      <th>PLANIRANI_DATUM_ZATVARANJA</th>\n",
       "      <th>DATUM_ZATVARANJA</th>\n",
       "      <th>UGOVORENI_IZNOS</th>\n",
       "      <th>STANJE_NA_KRAJU_PRETH_KVARTALA</th>\n",
       "      <th>STANJE_NA_KRAJU_KVARTALA</th>\n",
       "      <th>VALUTA</th>\n",
       "      <th>VRSTA_KLIJENTA</th>\n",
       "      <th>PROIZVOD</th>\n",
       "      <th>VRSTA_PROIZVODA</th>\n",
       "      <th>VISINA_KAMATE</th>\n",
       "      <th>TIP_KAMATE</th>\n",
       "      <th>STAROST</th>\n",
       "      <th>PRIJEVREMENI_RASKID</th>\n",
       "    </tr>\n",
       "  </thead>\n",
       "  <tbody>\n",
       "    <tr>\n",
       "      <th>0</th>\n",
       "      <td>2011-03-31</td>\n",
       "      <td>1287</td>\n",
       "      <td>256528</td>\n",
       "      <td>1995-10-19</td>\n",
       "      <td>2011-01-11</td>\n",
       "      <td>NaT</td>\n",
       "      <td>0.0</td>\n",
       "      <td>32761.66</td>\n",
       "      <td>32941.42</td>\n",
       "      <td>2</td>\n",
       "      <td>1410</td>\n",
       "      <td>TM0109</td>\n",
       "      <td>L</td>\n",
       "      <td>2.3</td>\n",
       "      <td>C</td>\n",
       "      <td>900</td>\n",
       "      <td>False</td>\n",
       "    </tr>\n",
       "    <tr>\n",
       "      <th>1</th>\n",
       "      <td>2011-03-31</td>\n",
       "      <td>1588</td>\n",
       "      <td>256644</td>\n",
       "      <td>1996-03-06</td>\n",
       "      <td>2011-01-23</td>\n",
       "      <td>NaT</td>\n",
       "      <td>0.0</td>\n",
       "      <td>95994.03</td>\n",
       "      <td>96616.95</td>\n",
       "      <td>2</td>\n",
       "      <td>1410</td>\n",
       "      <td>TM0109</td>\n",
       "      <td>L</td>\n",
       "      <td>2.7</td>\n",
       "      <td>C</td>\n",
       "      <td>61</td>\n",
       "      <td>False</td>\n",
       "    </tr>\n",
       "    <tr>\n",
       "      <th>2</th>\n",
       "      <td>2011-03-31</td>\n",
       "      <td>1145</td>\n",
       "      <td>293918</td>\n",
       "      <td>1996-07-03</td>\n",
       "      <td>2011-07-31</td>\n",
       "      <td>NaT</td>\n",
       "      <td>71552.0</td>\n",
       "      <td>4957.10</td>\n",
       "      <td>2730.69</td>\n",
       "      <td>4</td>\n",
       "      <td>1610</td>\n",
       "      <td>FL1306</td>\n",
       "      <td>A</td>\n",
       "      <td>4.0</td>\n",
       "      <td>C</td>\n",
       "      <td>55</td>\n",
       "      <td>False</td>\n",
       "    </tr>\n",
       "    <tr>\n",
       "      <th>3</th>\n",
       "      <td>2011-03-31</td>\n",
       "      <td>3349</td>\n",
       "      <td>257283</td>\n",
       "      <td>1996-07-16</td>\n",
       "      <td>2011-07-28</td>\n",
       "      <td>NaT</td>\n",
       "      <td>0.0</td>\n",
       "      <td>65791.77</td>\n",
       "      <td>65770.70</td>\n",
       "      <td>2</td>\n",
       "      <td>1410</td>\n",
       "      <td>TM0109</td>\n",
       "      <td>L</td>\n",
       "      <td>3.3</td>\n",
       "      <td>C</td>\n",
       "      <td>86</td>\n",
       "      <td>False</td>\n",
       "    </tr>\n",
       "    <tr>\n",
       "      <th>4</th>\n",
       "      <td>2011-03-31</td>\n",
       "      <td>3363</td>\n",
       "      <td>257287</td>\n",
       "      <td>1996-07-17</td>\n",
       "      <td>2011-01-10</td>\n",
       "      <td>NaT</td>\n",
       "      <td>0.0</td>\n",
       "      <td>88678.13</td>\n",
       "      <td>89342.01</td>\n",
       "      <td>2</td>\n",
       "      <td>1550</td>\n",
       "      <td>TM0109</td>\n",
       "      <td>L</td>\n",
       "      <td>3.1</td>\n",
       "      <td>C</td>\n",
       "      <td>69</td>\n",
       "      <td>False</td>\n",
       "    </tr>\n",
       "  </tbody>\n",
       "</table>\n",
       "</div>"
      ],
      "text/plain": [
       "  DATUM_IZVJESTAVANJA KLIJENT_ID OZNAKA_PARTIJE DATUM_OTVARANJA  \\\n",
       "0          2011-03-31       1287         256528      1995-10-19   \n",
       "1          2011-03-31       1588         256644      1996-03-06   \n",
       "2          2011-03-31       1145         293918      1996-07-03   \n",
       "3          2011-03-31       3349         257283      1996-07-16   \n",
       "4          2011-03-31       3363         257287      1996-07-17   \n",
       "\n",
       "  PLANIRANI_DATUM_ZATVARANJA DATUM_ZATVARANJA  UGOVORENI_IZNOS  \\\n",
       "0                 2011-01-11              NaT              0.0   \n",
       "1                 2011-01-23              NaT              0.0   \n",
       "2                 2011-07-31              NaT          71552.0   \n",
       "3                 2011-07-28              NaT              0.0   \n",
       "4                 2011-01-10              NaT              0.0   \n",
       "\n",
       "   STANJE_NA_KRAJU_PRETH_KVARTALA  STANJE_NA_KRAJU_KVARTALA VALUTA  \\\n",
       "0                        32761.66                  32941.42      2   \n",
       "1                        95994.03                  96616.95      2   \n",
       "2                         4957.10                   2730.69      4   \n",
       "3                        65791.77                  65770.70      2   \n",
       "4                        88678.13                  89342.01      2   \n",
       "\n",
       "  VRSTA_KLIJENTA PROIZVOD VRSTA_PROIZVODA  VISINA_KAMATE TIP_KAMATE  STAROST  \\\n",
       "0           1410   TM0109               L            2.3          C      900   \n",
       "1           1410   TM0109               L            2.7          C       61   \n",
       "2           1610   FL1306               A            4.0          C       55   \n",
       "3           1410   TM0109               L            3.3          C       86   \n",
       "4           1550   TM0109               L            3.1          C       69   \n",
       "\n",
       "   PRIJEVREMENI_RASKID  \n",
       "0                False  \n",
       "1                False  \n",
       "2                False  \n",
       "3                False  \n",
       "4                False  "
      ]
     },
     "execution_count": 4,
     "metadata": {},
     "output_type": "execute_result"
    }
   ],
   "source": [
    "# Prvih nekoliko redaka\n",
    "df.head()\n"
   ]
  },
  {
   "cell_type": "code",
   "execution_count": 5,
   "metadata": {},
   "outputs": [
    {
     "data": {
      "text/html": [
       "<div>\n",
       "<style scoped>\n",
       "    .dataframe tbody tr th:only-of-type {\n",
       "        vertical-align: middle;\n",
       "    }\n",
       "\n",
       "    .dataframe tbody tr th {\n",
       "        vertical-align: top;\n",
       "    }\n",
       "\n",
       "    .dataframe thead th {\n",
       "        text-align: right;\n",
       "    }\n",
       "</style>\n",
       "<table border=\"1\" class=\"dataframe\">\n",
       "  <thead>\n",
       "    <tr style=\"text-align: right;\">\n",
       "      <th></th>\n",
       "      <th>DATUM_IZVJESTAVANJA</th>\n",
       "      <th>KLIJENT_ID</th>\n",
       "      <th>OZNAKA_PARTIJE</th>\n",
       "      <th>DATUM_OTVARANJA</th>\n",
       "      <th>PLANIRANI_DATUM_ZATVARANJA</th>\n",
       "      <th>DATUM_ZATVARANJA</th>\n",
       "      <th>UGOVORENI_IZNOS</th>\n",
       "      <th>STANJE_NA_KRAJU_PRETH_KVARTALA</th>\n",
       "      <th>STANJE_NA_KRAJU_KVARTALA</th>\n",
       "      <th>VALUTA</th>\n",
       "      <th>VRSTA_KLIJENTA</th>\n",
       "      <th>PROIZVOD</th>\n",
       "      <th>VRSTA_PROIZVODA</th>\n",
       "      <th>VISINA_KAMATE</th>\n",
       "      <th>TIP_KAMATE</th>\n",
       "      <th>STAROST</th>\n",
       "      <th>PRIJEVREMENI_RASKID</th>\n",
       "    </tr>\n",
       "  </thead>\n",
       "  <tbody>\n",
       "    <tr>\n",
       "      <th>5193119</th>\n",
       "      <td>2018-12-31</td>\n",
       "      <td>1837639</td>\n",
       "      <td>113622154</td>\n",
       "      <td>2018-12-31</td>\n",
       "      <td>NaT</td>\n",
       "      <td>NaT</td>\n",
       "      <td>65000.00</td>\n",
       "      <td>NaN</td>\n",
       "      <td>65000.00</td>\n",
       "      <td>1</td>\n",
       "      <td>1410</td>\n",
       "      <td>FL0801</td>\n",
       "      <td>A</td>\n",
       "      <td>6.43</td>\n",
       "      <td>B</td>\n",
       "      <td>35</td>\n",
       "      <td>False</td>\n",
       "    </tr>\n",
       "    <tr>\n",
       "      <th>5193120</th>\n",
       "      <td>2018-12-31</td>\n",
       "      <td>439084</td>\n",
       "      <td>113617381</td>\n",
       "      <td>2018-12-31</td>\n",
       "      <td>NaT</td>\n",
       "      <td>NaT</td>\n",
       "      <td>523500.00</td>\n",
       "      <td>NaN</td>\n",
       "      <td>523500.00</td>\n",
       "      <td>1</td>\n",
       "      <td>1410</td>\n",
       "      <td>FL1301</td>\n",
       "      <td>A</td>\n",
       "      <td>3.50</td>\n",
       "      <td>B</td>\n",
       "      <td>43</td>\n",
       "      <td>False</td>\n",
       "    </tr>\n",
       "    <tr>\n",
       "      <th>5193121</th>\n",
       "      <td>2018-12-31</td>\n",
       "      <td>424518</td>\n",
       "      <td>113612571</td>\n",
       "      <td>2018-12-31</td>\n",
       "      <td>NaT</td>\n",
       "      <td>NaT</td>\n",
       "      <td>60000.00</td>\n",
       "      <td>NaN</td>\n",
       "      <td>60000.00</td>\n",
       "      <td>1</td>\n",
       "      <td>1550</td>\n",
       "      <td>TM0109</td>\n",
       "      <td>L</td>\n",
       "      <td>0.20</td>\n",
       "      <td>A</td>\n",
       "      <td>51</td>\n",
       "      <td>False</td>\n",
       "    </tr>\n",
       "    <tr>\n",
       "      <th>5193122</th>\n",
       "      <td>2018-12-31</td>\n",
       "      <td>599106</td>\n",
       "      <td>113615201</td>\n",
       "      <td>2018-12-31</td>\n",
       "      <td>NaT</td>\n",
       "      <td>NaT</td>\n",
       "      <td>27199.73</td>\n",
       "      <td>NaN</td>\n",
       "      <td>27199.73</td>\n",
       "      <td>2</td>\n",
       "      <td>1610</td>\n",
       "      <td>TM0109</td>\n",
       "      <td>L</td>\n",
       "      <td>0.02</td>\n",
       "      <td>A</td>\n",
       "      <td>46</td>\n",
       "      <td>False</td>\n",
       "    </tr>\n",
       "    <tr>\n",
       "      <th>5193123</th>\n",
       "      <td>2018-12-31</td>\n",
       "      <td>628584</td>\n",
       "      <td>113620442</td>\n",
       "      <td>2018-12-31</td>\n",
       "      <td>NaT</td>\n",
       "      <td>NaT</td>\n",
       "      <td>61000.00</td>\n",
       "      <td>NaN</td>\n",
       "      <td>60024.63</td>\n",
       "      <td>1</td>\n",
       "      <td>1410</td>\n",
       "      <td>FL0801</td>\n",
       "      <td>A</td>\n",
       "      <td>6.80</td>\n",
       "      <td>A</td>\n",
       "      <td>41</td>\n",
       "      <td>False</td>\n",
       "    </tr>\n",
       "  </tbody>\n",
       "</table>\n",
       "</div>"
      ],
      "text/plain": [
       "        DATUM_IZVJESTAVANJA KLIJENT_ID OZNAKA_PARTIJE DATUM_OTVARANJA  \\\n",
       "5193119          2018-12-31    1837639      113622154      2018-12-31   \n",
       "5193120          2018-12-31     439084      113617381      2018-12-31   \n",
       "5193121          2018-12-31     424518      113612571      2018-12-31   \n",
       "5193122          2018-12-31     599106      113615201      2018-12-31   \n",
       "5193123          2018-12-31     628584      113620442      2018-12-31   \n",
       "\n",
       "        PLANIRANI_DATUM_ZATVARANJA DATUM_ZATVARANJA  UGOVORENI_IZNOS  \\\n",
       "5193119                        NaT              NaT         65000.00   \n",
       "5193120                        NaT              NaT        523500.00   \n",
       "5193121                        NaT              NaT         60000.00   \n",
       "5193122                        NaT              NaT         27199.73   \n",
       "5193123                        NaT              NaT         61000.00   \n",
       "\n",
       "         STANJE_NA_KRAJU_PRETH_KVARTALA  STANJE_NA_KRAJU_KVARTALA VALUTA  \\\n",
       "5193119                             NaN                  65000.00      1   \n",
       "5193120                             NaN                 523500.00      1   \n",
       "5193121                             NaN                  60000.00      1   \n",
       "5193122                             NaN                  27199.73      2   \n",
       "5193123                             NaN                  60024.63      1   \n",
       "\n",
       "        VRSTA_KLIJENTA PROIZVOD VRSTA_PROIZVODA  VISINA_KAMATE TIP_KAMATE  \\\n",
       "5193119           1410   FL0801               A           6.43          B   \n",
       "5193120           1410   FL1301               A           3.50          B   \n",
       "5193121           1550   TM0109               L           0.20          A   \n",
       "5193122           1610   TM0109               L           0.02          A   \n",
       "5193123           1410   FL0801               A           6.80          A   \n",
       "\n",
       "         STAROST  PRIJEVREMENI_RASKID  \n",
       "5193119       35                False  \n",
       "5193120       43                False  \n",
       "5193121       51                False  \n",
       "5193122       46                False  \n",
       "5193123       41                False  "
      ]
     },
     "execution_count": 5,
     "metadata": {},
     "output_type": "execute_result"
    }
   ],
   "source": [
    "# Zadnjih nekoliko redaka\n",
    "df.tail()\n"
   ]
  },
  {
   "cell_type": "markdown",
   "metadata": {},
   "source": [
    "Definirat cemo i neke funkcije koje ce nam olaksati jednostavnu analizu stupaca.\n"
   ]
  },
  {
   "cell_type": "code",
   "execution_count": 6,
   "metadata": {},
   "outputs": [],
   "source": [
    "##  DEFINICIJE NEKIH FUNKCIJA ZA ANALIZU PODATAKA\n",
    "\n",
    "def analiziraj_num_stupac (col):\n",
    "    \"\"\"\n",
    "    Saznaj neke podatke o stupcu s numerickim vrijednostima.\n",
    "\n",
    "    Argument col trebao bi biti dobiven ekstrakcijom stupca iz neke tablice\n",
    "    (objekt tipa pandas.DataFrame) i trebao bi biti numerickog tipa.  Ako ti\n",
    "    zahtjevi nisu ispunjeni, ponasanje funkcije moze biti neocekivano.\n",
    "\n",
    "    Povratni objekt je rjecnik (objekt tipa dict) s kljucevima i vrijednostima:\n",
    "        --  'min'   --  najmanja vrijednost u stupcu,\n",
    "        --  'max'   --  najveca vrijednost u stupcu,\n",
    "        --  'range' --  raspon vrijednosti u stupcu (max - min),\n",
    "        --  'nulls' --  broj nedefiniranih vrijednosti u stupcu,\n",
    "        --  'uniques'   --  broj jedinstvenih definiranih vrijednosti u stupcu.\n",
    "\n",
    "    Ostatak deskriptivne statistike ne racuna se jer se takvi podatci (pa cak i\n",
    "    neki od ovdje izracunatih) mogu dehvatiti pozivom metode\n",
    "    pandas.DataFrame.describe.\n",
    "\n",
    "    \"\"\"\n",
    "\n",
    "    nonvalids = pd.isnull(col)\n",
    "    extrmin = col.min()\n",
    "    extrmax = col.max()\n",
    "\n",
    "    return {\n",
    "        'min' : extrmin,\n",
    "        'max' : extrmax,\n",
    "        'range' : extrmax - extrmin,\n",
    "        'nulls' : int(nonvalids.sum()),\n",
    "        'uniques' : int(col[np.logical_not(nonvalids)].unique().size)\n",
    "    }\n",
    "\n",
    "def analiziraj_bool_stupac (col):\n",
    "    \"\"\"\n",
    "    Saznaj neke podatke o stupcu s vrijednostima istina/laz.\n",
    "\n",
    "    Argument col trebao bi biti dobiven ekstrakcijom stupca iz neke tablice\n",
    "    (objekt tipa pandas.DataFrame) i trebao bi biti vrijednosti istina/laz.  Ako\n",
    "    ti zahtjevi nisu ispunjeni, ponasanje funkcije moze biti neocekivano.  Ipak,\n",
    "    ponekad je korisno i za, na primjer, numericke stupce saznati koliko imaju\n",
    "    vrijednosti jednakih 0, a koliko razlicitih 0: poziv ove funkcije nad\n",
    "    numerickim stupcem vraca upravo takve podatke.  U biti, sve se definirane\n",
    "    vrijednosti u stupcu prvo pokusaju interpretirati kao vrijednosti istina/laz\n",
    "    i onda se takav stupac analizira.  Dakle, ponasanje i povratna vrijednost\n",
    "    funkcije ovise o nacinu konverzije podataka.\n",
    "\n",
    "    Povratni objekt je rjecnik (objekt tipa dict) s kljucevima i vrijednostima:\n",
    "        --  'nulls' --  broj nedefiniranih vrijednosti u stupcu,\n",
    "        --  'trues' --  broj istinitih vrijednosti u stupcu,\n",
    "        --  'falses'    --  broj laznih vrijednosti u stupcu.\n",
    "\n",
    "    \"\"\"\n",
    "\n",
    "    nonvalids = pd.isnull(col)\n",
    "    bools = col[np.logical_not(nonvalids)].astype(bool)\n",
    "    trues = int(bools.sum())\n",
    "    falses = int(bools.size - trues)\n",
    "\n",
    "    return {\n",
    "        'nulls' : int(nonvalids.sum()),\n",
    "        'trues' : trues,\n",
    "        'falses' : falses\n",
    "    }\n",
    "\n",
    "def analiziraj_str_stupac (col):\n",
    "    \"\"\"\n",
    "    Saznaj neke podatke o stupcu s kategorickim vrijednostima.\n",
    "\n",
    "    Argument col trebao bi biti dobiven ekstrakcijom stupca iz neke tablice\n",
    "    (objekt tipa pandas.DataFrame) i trebao bi sadrzavati kategoricke\n",
    "    vrijednosti (najcesce u obliku stringova, ali moze biti i bilo kojeg drugog\n",
    "    tipa).\n",
    "\n",
    "    Povratni objekt je rjecnik (objekt tipa dict) s kljucevima i vrijednostima:\n",
    "        --  'nulls' --  broj nedefiniranih vrijednosti u stupcu,\n",
    "        --  'uniques'   --  broj jedinstvenih definiranih vrijednosti u stupcu.\n",
    "\n",
    "    \"\"\"\n",
    "\n",
    "    nonvalids = pd.isnull(col)\n",
    "\n",
    "    return {\n",
    "        'nulls' : int(nonvalids.sum()),\n",
    "        'uniques' : int(col[np.logical_not(nonvalids)].unique().size)\n",
    "    }\n"
   ]
  },
  {
   "cell_type": "markdown",
   "metadata": {},
   "source": [
    "Slijede kratke analize stupaca. Iz poziva funkcija je evidentno kojem stupcu odgovara koji ispis (svi su stupci, osim prvog jer njegovo značenje nije jasno<sup>[1](#fnote-1), [2](#fnote-2)</sup>, analizirani, a čak su analizirane i razlike između stupaca *DATUM_OTVARANJA*, *PLANIRANI_DATUM_ZATVARANJA* i *DATUM_ZATVARANJA*, stupaca *STANJE_NA_KRAJU_KVARTALA* i *STANJE_NA_KRAJU_PRETH_KVARTALA* i stupaca *UGOVORENI_IZNOS* i *STANJE_NA_KRAJU_KVARTALA*, ali stupci nisu analizirani redom kojim se pojavljuju u tablici).\n"
   ]
  },
  {
   "cell_type": "code",
   "execution_count": 7,
   "metadata": {},
   "outputs": [
    {
     "data": {
      "text/plain": [
       "{'nulls': 0, 'uniques': 256858}"
      ]
     },
     "execution_count": 7,
     "metadata": {},
     "output_type": "execute_result"
    }
   ],
   "source": [
    "analiziraj_str_stupac(df.KLIJENT_ID)\n"
   ]
  },
  {
   "cell_type": "code",
   "execution_count": 8,
   "metadata": {},
   "outputs": [
    {
     "data": {
      "text/plain": [
       "{'nulls': 0, 'uniques': 579332}"
      ]
     },
     "execution_count": 8,
     "metadata": {},
     "output_type": "execute_result"
    }
   ],
   "source": [
    "analiziraj_str_stupac(df.OZNAKA_PARTIJE)\n"
   ]
  },
  {
   "cell_type": "code",
   "execution_count": 9,
   "metadata": {},
   "outputs": [
    {
     "data": {
      "text/plain": [
       "{'nulls': 0, 'uniques': 13}"
      ]
     },
     "execution_count": 9,
     "metadata": {},
     "output_type": "execute_result"
    }
   ],
   "source": [
    "analiziraj_str_stupac(df.VRSTA_KLIJENTA)\n"
   ]
  },
  {
   "cell_type": "code",
   "execution_count": 10,
   "metadata": {},
   "outputs": [
    {
     "data": {
      "text/plain": [
       "{'nulls': 0, 'uniques': 2}"
      ]
     },
     "execution_count": 10,
     "metadata": {},
     "output_type": "execute_result"
    }
   ],
   "source": [
    "analiziraj_str_stupac(df.VRSTA_PROIZVODA)\n"
   ]
  },
  {
   "cell_type": "code",
   "execution_count": 11,
   "metadata": {},
   "outputs": [
    {
     "data": {
      "text/plain": [
       "{'nulls': 0, 'uniques': 32}"
      ]
     },
     "execution_count": 11,
     "metadata": {},
     "output_type": "execute_result"
    }
   ],
   "source": [
    "analiziraj_str_stupac(df.PROIZVOD)\n"
   ]
  },
  {
   "cell_type": "code",
   "execution_count": 12,
   "metadata": {},
   "outputs": [
    {
     "data": {
      "text/plain": [
       "{'nulls': 0, 'uniques': 5}"
      ]
     },
     "execution_count": 12,
     "metadata": {},
     "output_type": "execute_result"
    }
   ],
   "source": [
    "analiziraj_str_stupac(df.VALUTA)\n"
   ]
  },
  {
   "cell_type": "code",
   "execution_count": 13,
   "metadata": {},
   "outputs": [
    {
     "data": {
      "text/plain": [
       "{'nulls': 0, 'uniques': 4}"
      ]
     },
     "execution_count": 13,
     "metadata": {},
     "output_type": "execute_result"
    }
   ],
   "source": [
    "analiziraj_str_stupac(df.TIP_KAMATE)\n"
   ]
  },
  {
   "cell_type": "code",
   "execution_count": 14,
   "metadata": {},
   "outputs": [
    {
     "data": {
      "text/plain": [
       "{'max': 908, 'min': -7994, 'nulls': 0, 'range': 8902, 'uniques': 130}"
      ]
     },
     "execution_count": 14,
     "metadata": {},
     "output_type": "execute_result"
    }
   ],
   "source": [
    "analiziraj_num_stupac(df.STAROST)\n"
   ]
  },
  {
   "cell_type": "code",
   "execution_count": 15,
   "metadata": {},
   "outputs": [
    {
     "data": {
      "text/plain": [
       "{'max': Timestamp('2018-12-31 00:00:00'),\n",
       " 'min': Timestamp('2011-03-31 00:00:00'),\n",
       " 'nulls': 0,\n",
       " 'range': Timedelta('2832 days 00:00:00'),\n",
       " 'uniques': 32}"
      ]
     },
     "execution_count": 15,
     "metadata": {},
     "output_type": "execute_result"
    }
   ],
   "source": [
    "analiziraj_num_stupac(df.DATUM_IZVJESTAVANJA)\n"
   ]
  },
  {
   "cell_type": "code",
   "execution_count": 16,
   "metadata": {},
   "outputs": [
    {
     "data": {
      "text/plain": [
       "{'max': Timestamp('2018-12-31 00:00:00'),\n",
       " 'min': Timestamp('1995-10-19 00:00:00'),\n",
       " 'nulls': 0,\n",
       " 'range': Timedelta('8474 days 00:00:00'),\n",
       " 'uniques': 6207}"
      ]
     },
     "execution_count": 16,
     "metadata": {},
     "output_type": "execute_result"
    }
   ],
   "source": [
    "analiziraj_num_stupac(df.DATUM_OTVARANJA)\n"
   ]
  },
  {
   "cell_type": "code",
   "execution_count": 17,
   "metadata": {},
   "outputs": [
    {
     "data": {
      "text/plain": [
       "{'max': Timestamp('2048-09-30 00:00:00'),\n",
       " 'min': Timestamp('1999-05-31 00:00:00'),\n",
       " 'nulls': 421129,\n",
       " 'range': Timedelta('18020 days 00:00:00'),\n",
       " 'uniques': 4769}"
      ]
     },
     "execution_count": 17,
     "metadata": {},
     "output_type": "execute_result"
    }
   ],
   "source": [
    "analiziraj_num_stupac(df.PLANIRANI_DATUM_ZATVARANJA)\n"
   ]
  },
  {
   "cell_type": "code",
   "execution_count": 18,
   "metadata": {},
   "outputs": [
    {
     "data": {
      "text/plain": [
       "{'max': Timestamp('2018-12-31 00:00:00'),\n",
       " 'min': Timestamp('2005-01-21 00:00:00'),\n",
       " 'nulls': 3978638,\n",
       " 'range': Timedelta('5092 days 00:00:00'),\n",
       " 'uniques': 3077}"
      ]
     },
     "execution_count": 18,
     "metadata": {},
     "output_type": "execute_result"
    }
   ],
   "source": [
    "analiziraj_num_stupac(df.DATUM_ZATVARANJA)\n"
   ]
  },
  {
   "cell_type": "code",
   "execution_count": 19,
   "metadata": {},
   "outputs": [
    {
     "data": {
      "text/plain": [
       "{'max': Timedelta('14635 days 00:00:00'),\n",
       " 'min': Timedelta('-2308 days +00:00:00'),\n",
       " 'nulls': 421129,\n",
       " 'range': Timedelta('16943 days 00:00:00'),\n",
       " 'uniques': 7014}"
      ]
     },
     "execution_count": 19,
     "metadata": {},
     "output_type": "execute_result"
    }
   ],
   "source": [
    "analiziraj_num_stupac(df.PLANIRANI_DATUM_ZATVARANJA - df.DATUM_OTVARANJA)\n"
   ]
  },
  {
   "cell_type": "code",
   "execution_count": 20,
   "metadata": {},
   "outputs": [
    {
     "data": {
      "text/plain": [
       "{'max': Timedelta('6791 days 00:00:00'),\n",
       " 'min': Timedelta('-11620 days +00:00:00'),\n",
       " 'nulls': 4011681,\n",
       " 'range': Timedelta('18411 days 00:00:00'),\n",
       " 'uniques': 7600}"
      ]
     },
     "execution_count": 20,
     "metadata": {},
     "output_type": "execute_result"
    }
   ],
   "source": [
    "analiziraj_num_stupac(df.DATUM_ZATVARANJA - df.PLANIRANI_DATUM_ZATVARANJA)\n"
   ]
  },
  {
   "cell_type": "code",
   "execution_count": 21,
   "metadata": {},
   "outputs": [
    {
     "data": {
      "text/plain": [
       "{'max': Timedelta('7762 days 00:00:00'),\n",
       " 'min': Timedelta('-324 days +00:00:00'),\n",
       " 'nulls': 3978638,\n",
       " 'range': Timedelta('8086 days 00:00:00'),\n",
       " 'uniques': 5809}"
      ]
     },
     "execution_count": 21,
     "metadata": {},
     "output_type": "execute_result"
    }
   ],
   "source": [
    "analiziraj_num_stupac(df.DATUM_ZATVARANJA - df.DATUM_OTVARANJA)\n"
   ]
  },
  {
   "cell_type": "code",
   "execution_count": 22,
   "metadata": {},
   "outputs": [
    {
     "data": {
      "text/plain": [
       "{'falses': 4876819, 'nulls': 0, 'trues': 316305}"
      ]
     },
     "execution_count": 22,
     "metadata": {},
     "output_type": "execute_result"
    }
   ],
   "source": [
    "analiziraj_bool_stupac(df.PRIJEVREMENI_RASKID)\n"
   ]
  },
  {
   "cell_type": "code",
   "execution_count": 23,
   "metadata": {},
   "outputs": [
    {
     "data": {
      "text/plain": [
       "{'max': 605504800.0,\n",
       " 'min': 0.0,\n",
       " 'nulls': 0,\n",
       " 'range': 605504800.0,\n",
       " 'uniques': 675756}"
      ]
     },
     "execution_count": 23,
     "metadata": {},
     "output_type": "execute_result"
    }
   ],
   "source": [
    "analiziraj_num_stupac(df.UGOVORENI_IZNOS)\n"
   ]
  },
  {
   "cell_type": "code",
   "execution_count": 24,
   "metadata": {},
   "outputs": [
    {
     "data": {
      "text/plain": [
       "{'max': 80.8, 'min': -0.004, 'nulls': 51702, 'range': 80.804, 'uniques': 1796}"
      ]
     },
     "execution_count": 24,
     "metadata": {},
     "output_type": "execute_result"
    }
   ],
   "source": [
    "analiziraj_num_stupac(df.VISINA_KAMATE)\n"
   ]
  },
  {
   "cell_type": "code",
   "execution_count": 25,
   "metadata": {},
   "outputs": [
    {
     "data": {
      "text/plain": [
       "{'max': 610566240.0,\n",
       " 'min': -59.81,\n",
       " 'nulls': 421068,\n",
       " 'range': 610566299.81,\n",
       " 'uniques': 2776041}"
      ]
     },
     "execution_count": 25,
     "metadata": {},
     "output_type": "execute_result"
    }
   ],
   "source": [
    "analiziraj_num_stupac(df.STANJE_NA_KRAJU_PRETH_KVARTALA)\n"
   ]
  },
  {
   "cell_type": "code",
   "execution_count": 26,
   "metadata": {},
   "outputs": [
    {
     "data": {
      "text/plain": [
       "{'max': 610566240.0,\n",
       " 'min': -59.81,\n",
       " 'nulls': 0,\n",
       " 'range': 610566299.81,\n",
       " 'uniques': 2746314}"
      ]
     },
     "execution_count": 26,
     "metadata": {},
     "output_type": "execute_result"
    }
   ],
   "source": [
    "analiziraj_num_stupac(df.STANJE_NA_KRAJU_KVARTALA)\n"
   ]
  },
  {
   "cell_type": "code",
   "execution_count": 27,
   "metadata": {
    "scrolled": true
   },
   "outputs": [
    {
     "data": {
      "text/plain": [
       "{'max': 77423644.13,\n",
       " 'min': -381313350.0,\n",
       " 'nulls': 421068,\n",
       " 'range': 458736994.13,\n",
       " 'uniques': 2183943}"
      ]
     },
     "execution_count": 27,
     "metadata": {},
     "output_type": "execute_result"
    }
   ],
   "source": [
    "analiziraj_num_stupac(\n",
    "    df.STANJE_NA_KRAJU_KVARTALA - df.STANJE_NA_KRAJU_PRETH_KVARTALA\n",
    ")\n"
   ]
  },
  {
   "cell_type": "code",
   "execution_count": 28,
   "metadata": {},
   "outputs": [
    {
     "data": {
      "text/plain": [
       "{'max': 29531228.0,\n",
       " 'min': -569612740.44,\n",
       " 'nulls': 0,\n",
       " 'range': 599143968.44,\n",
       " 'uniques': 3108583}"
      ]
     },
     "execution_count": 28,
     "metadata": {},
     "output_type": "execute_result"
    }
   ],
   "source": [
    "analiziraj_num_stupac(df.STANJE_NA_KRAJU_KVARTALA - df.UGOVORENI_IZNOS)"
   ]
  },
  {
   "cell_type": "markdown",
   "metadata": {},
   "source": [
    "<sup><a name=\"fnote-1\"></a>1</sup> Na prijedlog Domagoja Ravlića zaključili smo da je skup podataka dobiven odabirom i ekstrakcijom nekih redaka u nekom većem skupu podataka, a da vrijednosti u prvom stupcu označavaju redne brojeve redaka u tom većem skupu podataka. &larr; **POTVRDIO NARUČITELJ ZADATKA**\n",
    "\n",
    "<sup><a name=\"fnote-2\"></a>2</sup> Stupac *Unnamed: 0.1* je izbačen iz tablice.\n"
   ]
  },
  {
   "cell_type": "markdown",
   "metadata": {},
   "source": [
    "### Inspekcija sumnjivih dijelova <a name=\"inspekcija-sumnjivih-dijelova\"></a>\n"
   ]
  },
  {
   "cell_type": "markdown",
   "metadata": {},
   "source": [
    "U analizi stupaca možemo primijetiti, na primjer, da postoji i negativna starost<sup>[3](#fnote-3)</sup> (minimum u stupcu *STAROST* iznosi $ {- 7994} $ &mdash; prije nešto više od $ 7 $ tisuća godina je smještena radnja *Knjige postanka* u *Bibliji*, dakle, do osnutka odnosno rođenja ovog klijenta morali bismo pričekati otprilike onoliko koliko je prošlo od rođenja Adama i Eve ili, malo znanstvenije, od novog kamenog doba ili bakrenog doba u nekim dijelovima svijeta).\n",
    "\n",
    "Provjerimo sada sve negativne starosti.\n"
   ]
  },
  {
   "cell_type": "code",
   "execution_count": 29,
   "metadata": {},
   "outputs": [
    {
     "data": {
      "text/html": [
       "<div>\n",
       "<style scoped>\n",
       "    .dataframe tbody tr th:only-of-type {\n",
       "        vertical-align: middle;\n",
       "    }\n",
       "\n",
       "    .dataframe tbody tr th {\n",
       "        vertical-align: top;\n",
       "    }\n",
       "\n",
       "    .dataframe thead th {\n",
       "        text-align: right;\n",
       "    }\n",
       "</style>\n",
       "<table border=\"1\" class=\"dataframe\">\n",
       "  <thead>\n",
       "    <tr style=\"text-align: right;\">\n",
       "      <th></th>\n",
       "      <th>DATUM_IZVJESTAVANJA</th>\n",
       "      <th>KLIJENT_ID</th>\n",
       "      <th>OZNAKA_PARTIJE</th>\n",
       "      <th>DATUM_OTVARANJA</th>\n",
       "      <th>PLANIRANI_DATUM_ZATVARANJA</th>\n",
       "      <th>DATUM_ZATVARANJA</th>\n",
       "      <th>UGOVORENI_IZNOS</th>\n",
       "      <th>STANJE_NA_KRAJU_PRETH_KVARTALA</th>\n",
       "      <th>STANJE_NA_KRAJU_KVARTALA</th>\n",
       "      <th>VALUTA</th>\n",
       "      <th>VRSTA_KLIJENTA</th>\n",
       "      <th>PROIZVOD</th>\n",
       "      <th>VRSTA_PROIZVODA</th>\n",
       "      <th>VISINA_KAMATE</th>\n",
       "      <th>TIP_KAMATE</th>\n",
       "      <th>STAROST</th>\n",
       "      <th>PRIJEVREMENI_RASKID</th>\n",
       "    </tr>\n",
       "  </thead>\n",
       "  <tbody>\n",
       "    <tr>\n",
       "      <th>1870</th>\n",
       "      <td>2011-03-31</td>\n",
       "      <td>317491</td>\n",
       "      <td>428392</td>\n",
       "      <td>2001-10-04</td>\n",
       "      <td>2011-03-16</td>\n",
       "      <td>NaT</td>\n",
       "      <td>46194.39</td>\n",
       "      <td>31031.37</td>\n",
       "      <td>29566.47</td>\n",
       "      <td>3</td>\n",
       "      <td>1410</td>\n",
       "      <td>TM0109</td>\n",
       "      <td>L</td>\n",
       "      <td>2.1</td>\n",
       "      <td>C</td>\n",
       "      <td>-7994</td>\n",
       "      <td>False</td>\n",
       "    </tr>\n",
       "    <tr>\n",
       "      <th>17927</th>\n",
       "      <td>2011-03-31</td>\n",
       "      <td>81683</td>\n",
       "      <td>917728</td>\n",
       "      <td>2005-05-17</td>\n",
       "      <td>2015-11-18</td>\n",
       "      <td>NaT</td>\n",
       "      <td>1974389.50</td>\n",
       "      <td>1215790.25</td>\n",
       "      <td>1110042.17</td>\n",
       "      <td>4</td>\n",
       "      <td>1210</td>\n",
       "      <td>FI0500</td>\n",
       "      <td>A</td>\n",
       "      <td>0.0</td>\n",
       "      <td>B</td>\n",
       "      <td>-7994</td>\n",
       "      <td>False</td>\n",
       "    </tr>\n",
       "    <tr>\n",
       "      <th>60539</th>\n",
       "      <td>2011-03-31</td>\n",
       "      <td>618326</td>\n",
       "      <td>642999</td>\n",
       "      <td>2007-10-05</td>\n",
       "      <td>2011-10-08</td>\n",
       "      <td>NaT</td>\n",
       "      <td>58234.44</td>\n",
       "      <td>58234.44</td>\n",
       "      <td>58234.44</td>\n",
       "      <td>1</td>\n",
       "      <td>1410</td>\n",
       "      <td>TM0109</td>\n",
       "      <td>L</td>\n",
       "      <td>4.6</td>\n",
       "      <td>C</td>\n",
       "      <td>-7994</td>\n",
       "      <td>False</td>\n",
       "    </tr>\n",
       "    <tr>\n",
       "      <th>105099</th>\n",
       "      <td>2011-03-31</td>\n",
       "      <td>991796</td>\n",
       "      <td>4786159</td>\n",
       "      <td>2009-12-02</td>\n",
       "      <td>2012-12-31</td>\n",
       "      <td>NaT</td>\n",
       "      <td>6700951.27</td>\n",
       "      <td>1870059.25</td>\n",
       "      <td>1869460.14</td>\n",
       "      <td>2</td>\n",
       "      <td>1110</td>\n",
       "      <td>FP0100</td>\n",
       "      <td>A</td>\n",
       "      <td>0.0</td>\n",
       "      <td>B</td>\n",
       "      <td>-7994</td>\n",
       "      <td>False</td>\n",
       "    </tr>\n",
       "    <tr>\n",
       "      <th>105103</th>\n",
       "      <td>2011-03-31</td>\n",
       "      <td>991796</td>\n",
       "      <td>4786161</td>\n",
       "      <td>2009-12-02</td>\n",
       "      <td>2014-12-31</td>\n",
       "      <td>NaT</td>\n",
       "      <td>25547376.68</td>\n",
       "      <td>16748886.36</td>\n",
       "      <td>16743520.49</td>\n",
       "      <td>2</td>\n",
       "      <td>1110</td>\n",
       "      <td>FP0100</td>\n",
       "      <td>A</td>\n",
       "      <td>0.0</td>\n",
       "      <td>B</td>\n",
       "      <td>-7994</td>\n",
       "      <td>False</td>\n",
       "    </tr>\n",
       "  </tbody>\n",
       "</table>\n",
       "</div>"
      ],
      "text/plain": [
       "       DATUM_IZVJESTAVANJA KLIJENT_ID OZNAKA_PARTIJE DATUM_OTVARANJA  \\\n",
       "1870            2011-03-31     317491         428392      2001-10-04   \n",
       "17927           2011-03-31      81683         917728      2005-05-17   \n",
       "60539           2011-03-31     618326         642999      2007-10-05   \n",
       "105099          2011-03-31     991796        4786159      2009-12-02   \n",
       "105103          2011-03-31     991796        4786161      2009-12-02   \n",
       "\n",
       "       PLANIRANI_DATUM_ZATVARANJA DATUM_ZATVARANJA  UGOVORENI_IZNOS  \\\n",
       "1870                   2011-03-16              NaT         46194.39   \n",
       "17927                  2015-11-18              NaT       1974389.50   \n",
       "60539                  2011-10-08              NaT         58234.44   \n",
       "105099                 2012-12-31              NaT       6700951.27   \n",
       "105103                 2014-12-31              NaT      25547376.68   \n",
       "\n",
       "        STANJE_NA_KRAJU_PRETH_KVARTALA  STANJE_NA_KRAJU_KVARTALA VALUTA  \\\n",
       "1870                          31031.37                  29566.47      3   \n",
       "17927                       1215790.25                1110042.17      4   \n",
       "60539                         58234.44                  58234.44      1   \n",
       "105099                      1870059.25                1869460.14      2   \n",
       "105103                     16748886.36               16743520.49      2   \n",
       "\n",
       "       VRSTA_KLIJENTA PROIZVOD VRSTA_PROIZVODA  VISINA_KAMATE TIP_KAMATE  \\\n",
       "1870             1410   TM0109               L            2.1          C   \n",
       "17927            1210   FI0500               A            0.0          B   \n",
       "60539            1410   TM0109               L            4.6          C   \n",
       "105099           1110   FP0100               A            0.0          B   \n",
       "105103           1110   FP0100               A            0.0          B   \n",
       "\n",
       "        STAROST  PRIJEVREMENI_RASKID  \n",
       "1870      -7994                False  \n",
       "17927     -7994                False  \n",
       "60539     -7994                False  \n",
       "105099    -7994                False  \n",
       "105103    -7994                False  "
      ]
     },
     "execution_count": 29,
     "metadata": {},
     "output_type": "execute_result"
    }
   ],
   "source": [
    "df.loc[df.STAROST < 0].head()\n"
   ]
  },
  {
   "cell_type": "code",
   "execution_count": 30,
   "metadata": {},
   "outputs": [
    {
     "data": {
      "image/png": "[encoded data removed]",
      "text/latex": [
       "$$3367$$"
      ],
      "text/plain": [
       "3367"
      ]
     },
     "execution_count": 30,
     "metadata": {},
     "output_type": "execute_result"
    }
   ],
   "source": [
    "df.loc[df.STAROST < 0].shape[0]\n"
   ]
  },
  {
   "cell_type": "markdown",
   "metadata": {},
   "source": [
    "Primijećujemo da su zapravo negativne starosti jako polarizirane: ili su u intervalu $ \\left[ {- 4} \\mathinner{\\ldotp \\ldotp} {- 1} \\right] $ ili su u intervalu $ \\left[ {- 7986} \\mathinner{\\ldotp \\ldotp} {- 7994} \\right] $. Stoga ćemo te dvije skupine zasebno analizirati.\n"
   ]
  },
  {
   "cell_type": "markdown",
   "metadata": {},
   "source": [
    "Prvo analizirajmo gornju skupinu (starosti iz intervala $ \\left[ {- 4} \\mathinner{\\ldotp \\ldotp} {- 1} \\right] $).\n"
   ]
  },
  {
   "cell_type": "code",
   "execution_count": 31,
   "metadata": {},
   "outputs": [
    {
     "data": {
      "text/html": [
       "<div>\n",
       "<style scoped>\n",
       "    .dataframe tbody tr th:only-of-type {\n",
       "        vertical-align: middle;\n",
       "    }\n",
       "\n",
       "    .dataframe tbody tr th {\n",
       "        vertical-align: top;\n",
       "    }\n",
       "\n",
       "    .dataframe thead th {\n",
       "        text-align: right;\n",
       "    }\n",
       "</style>\n",
       "<table border=\"1\" class=\"dataframe\">\n",
       "  <thead>\n",
       "    <tr style=\"text-align: right;\">\n",
       "      <th></th>\n",
       "      <th>DATUM_IZVJESTAVANJA</th>\n",
       "      <th>KLIJENT_ID</th>\n",
       "      <th>OZNAKA_PARTIJE</th>\n",
       "      <th>DATUM_OTVARANJA</th>\n",
       "      <th>PLANIRANI_DATUM_ZATVARANJA</th>\n",
       "      <th>DATUM_ZATVARANJA</th>\n",
       "      <th>UGOVORENI_IZNOS</th>\n",
       "      <th>STANJE_NA_KRAJU_PRETH_KVARTALA</th>\n",
       "      <th>STANJE_NA_KRAJU_KVARTALA</th>\n",
       "      <th>VALUTA</th>\n",
       "      <th>VRSTA_KLIJENTA</th>\n",
       "      <th>PROIZVOD</th>\n",
       "      <th>VRSTA_PROIZVODA</th>\n",
       "      <th>VISINA_KAMATE</th>\n",
       "      <th>TIP_KAMATE</th>\n",
       "      <th>STAROST</th>\n",
       "      <th>PRIJEVREMENI_RASKID</th>\n",
       "    </tr>\n",
       "  </thead>\n",
       "  <tbody>\n",
       "    <tr>\n",
       "      <th>364443</th>\n",
       "      <td>2011-06-30</td>\n",
       "      <td>1292900</td>\n",
       "      <td>6029553</td>\n",
       "      <td>2011-05-13</td>\n",
       "      <td>NaT</td>\n",
       "      <td>2011-05-27</td>\n",
       "      <td>75000.0</td>\n",
       "      <td>NaN</td>\n",
       "      <td>0.0</td>\n",
       "      <td>1</td>\n",
       "      <td>1320</td>\n",
       "      <td>TM0109</td>\n",
       "      <td>L</td>\n",
       "      <td>0.2</td>\n",
       "      <td>A</td>\n",
       "      <td>-4</td>\n",
       "      <td>False</td>\n",
       "    </tr>\n",
       "    <tr>\n",
       "      <th>367413</th>\n",
       "      <td>2011-06-30</td>\n",
       "      <td>1292900</td>\n",
       "      <td>6085713</td>\n",
       "      <td>2011-05-27</td>\n",
       "      <td>NaT</td>\n",
       "      <td>2011-06-06</td>\n",
       "      <td>75000.0</td>\n",
       "      <td>NaN</td>\n",
       "      <td>0.0</td>\n",
       "      <td>1</td>\n",
       "      <td>1320</td>\n",
       "      <td>TM0109</td>\n",
       "      <td>L</td>\n",
       "      <td>0.2</td>\n",
       "      <td>A</td>\n",
       "      <td>-4</td>\n",
       "      <td>False</td>\n",
       "    </tr>\n",
       "    <tr>\n",
       "      <th>369263</th>\n",
       "      <td>2011-06-30</td>\n",
       "      <td>1292900</td>\n",
       "      <td>6347768</td>\n",
       "      <td>2011-06-06</td>\n",
       "      <td>NaT</td>\n",
       "      <td>2011-06-28</td>\n",
       "      <td>75000.0</td>\n",
       "      <td>NaN</td>\n",
       "      <td>0.0</td>\n",
       "      <td>1</td>\n",
       "      <td>1320</td>\n",
       "      <td>TM0109</td>\n",
       "      <td>L</td>\n",
       "      <td>0.2</td>\n",
       "      <td>A</td>\n",
       "      <td>-4</td>\n",
       "      <td>False</td>\n",
       "    </tr>\n",
       "    <tr>\n",
       "      <th>373845</th>\n",
       "      <td>2011-06-30</td>\n",
       "      <td>1292900</td>\n",
       "      <td>6371080</td>\n",
       "      <td>2011-06-28</td>\n",
       "      <td>NaT</td>\n",
       "      <td>NaT</td>\n",
       "      <td>75000.0</td>\n",
       "      <td>NaN</td>\n",
       "      <td>75000.0</td>\n",
       "      <td>1</td>\n",
       "      <td>1320</td>\n",
       "      <td>TM0109</td>\n",
       "      <td>L</td>\n",
       "      <td>0.2</td>\n",
       "      <td>A</td>\n",
       "      <td>-4</td>\n",
       "      <td>False</td>\n",
       "    </tr>\n",
       "    <tr>\n",
       "      <th>560777</th>\n",
       "      <td>2011-09-30</td>\n",
       "      <td>1292900</td>\n",
       "      <td>6029553</td>\n",
       "      <td>2011-05-13</td>\n",
       "      <td>2011-05-27</td>\n",
       "      <td>2011-05-27</td>\n",
       "      <td>75000.0</td>\n",
       "      <td>0.0</td>\n",
       "      <td>0.0</td>\n",
       "      <td>1</td>\n",
       "      <td>1320</td>\n",
       "      <td>TM0109</td>\n",
       "      <td>L</td>\n",
       "      <td>0.2</td>\n",
       "      <td>A</td>\n",
       "      <td>-4</td>\n",
       "      <td>False</td>\n",
       "    </tr>\n",
       "  </tbody>\n",
       "</table>\n",
       "</div>"
      ],
      "text/plain": [
       "       DATUM_IZVJESTAVANJA KLIJENT_ID OZNAKA_PARTIJE DATUM_OTVARANJA  \\\n",
       "364443          2011-06-30    1292900        6029553      2011-05-13   \n",
       "367413          2011-06-30    1292900        6085713      2011-05-27   \n",
       "369263          2011-06-30    1292900        6347768      2011-06-06   \n",
       "373845          2011-06-30    1292900        6371080      2011-06-28   \n",
       "560777          2011-09-30    1292900        6029553      2011-05-13   \n",
       "\n",
       "       PLANIRANI_DATUM_ZATVARANJA DATUM_ZATVARANJA  UGOVORENI_IZNOS  \\\n",
       "364443                        NaT       2011-05-27          75000.0   \n",
       "367413                        NaT       2011-06-06          75000.0   \n",
       "369263                        NaT       2011-06-28          75000.0   \n",
       "373845                        NaT              NaT          75000.0   \n",
       "560777                 2011-05-27       2011-05-27          75000.0   \n",
       "\n",
       "        STANJE_NA_KRAJU_PRETH_KVARTALA  STANJE_NA_KRAJU_KVARTALA VALUTA  \\\n",
       "364443                             NaN                       0.0      1   \n",
       "367413                             NaN                       0.0      1   \n",
       "369263                             NaN                       0.0      1   \n",
       "373845                             NaN                   75000.0      1   \n",
       "560777                             0.0                       0.0      1   \n",
       "\n",
       "       VRSTA_KLIJENTA PROIZVOD VRSTA_PROIZVODA  VISINA_KAMATE TIP_KAMATE  \\\n",
       "364443           1320   TM0109               L            0.2          A   \n",
       "367413           1320   TM0109               L            0.2          A   \n",
       "369263           1320   TM0109               L            0.2          A   \n",
       "373845           1320   TM0109               L            0.2          A   \n",
       "560777           1320   TM0109               L            0.2          A   \n",
       "\n",
       "        STAROST  PRIJEVREMENI_RASKID  \n",
       "364443       -4                False  \n",
       "367413       -4                False  \n",
       "369263       -4                False  \n",
       "373845       -4                False  \n",
       "560777       -4                False  "
      ]
     },
     "execution_count": 31,
     "metadata": {},
     "output_type": "execute_result"
    }
   ],
   "source": [
    "df.loc[np.logical_and(df.STAROST >= -1000, df.STAROST < 0)].head()\n"
   ]
  },
  {
   "cell_type": "code",
   "execution_count": 32,
   "metadata": {},
   "outputs": [
    {
     "data": {
      "image/png": "[encoded data removed]",
      "text/latex": [
       "$$23$$"
      ],
      "text/plain": [
       "23"
      ]
     },
     "execution_count": 32,
     "metadata": {},
     "output_type": "execute_result"
    }
   ],
   "source": [
    "df.loc[np.logical_and(df.STAROST >= -1000, df.STAROST < 0)].shape[0]\n"
   ]
  },
  {
   "cell_type": "code",
   "execution_count": 33,
   "metadata": {},
   "outputs": [
    {
     "data": {
      "text/plain": [
       "count    23.000000\n",
       "mean     -2.826087\n",
       "std       1.114050\n",
       "min      -4.000000\n",
       "25%      -4.000000\n",
       "50%      -3.000000\n",
       "75%      -2.000000\n",
       "max      -1.000000\n",
       "Name: STAROST, dtype: float64"
      ]
     },
     "execution_count": 33,
     "metadata": {},
     "output_type": "execute_result"
    }
   ],
   "source": [
    "df.STAROST[np.logical_and(df.STAROST >= -1000, df.STAROST < 0)].describe()\n"
   ]
  },
  {
   "cell_type": "code",
   "execution_count": 34,
   "metadata": {},
   "outputs": [
    {
     "data": {
      "text/plain": [
       "{'max': -1, 'min': -4, 'nulls': 0, 'range': 3, 'uniques': 4}"
      ]
     },
     "execution_count": 34,
     "metadata": {},
     "output_type": "execute_result"
    }
   ],
   "source": [
    "analiziraj_num_stupac(\n",
    "    df.STAROST[np.logical_and(df.STAROST >= -1000, df.STAROST < 0)]\n",
    ")\n"
   ]
  },
  {
   "cell_type": "code",
   "execution_count": 35,
   "metadata": {},
   "outputs": [
    {
     "data": {
      "text/plain": [
       "(array([8., 0., 0., 7., 0., 0., 4., 0., 0., 4.]),\n",
       " array([-4. , -3.7, -3.4, -3.1, -2.8, -2.5, -2.2, -1.9, -1.6, -1.3, -1. ]),\n",
       " <a list of 10 Patch objects>)"
      ]
     },
     "execution_count": 35,
     "metadata": {},
     "output_type": "execute_result"
    },
    {
     "data": {
      "image/png": "[encoded data removed]",
      "text/plain": [
       "<Figure size 432x288 with 1 Axes>"
      ]
     },
     "metadata": {},
     "output_type": "display_data"
    }
   ],
   "source": [
    "plt.hist(df.STAROST[np.logical_and(df.STAROST >= -1000, df.STAROST < 0)])\n"
   ]
  },
  {
   "cell_type": "markdown",
   "metadata": {},
   "source": [
    "Analizirajmo sada i donju skupinu (starosti iz intervala $ \\left[ {- 7986} \\mathinner{\\ldotp \\ldotp} {- 7994} \\right] $).\n"
   ]
  },
  {
   "cell_type": "code",
   "execution_count": 36,
   "metadata": {},
   "outputs": [
    {
     "data": {
      "text/html": [
       "<div>\n",
       "<style scoped>\n",
       "    .dataframe tbody tr th:only-of-type {\n",
       "        vertical-align: middle;\n",
       "    }\n",
       "\n",
       "    .dataframe tbody tr th {\n",
       "        vertical-align: top;\n",
       "    }\n",
       "\n",
       "    .dataframe thead th {\n",
       "        text-align: right;\n",
       "    }\n",
       "</style>\n",
       "<table border=\"1\" class=\"dataframe\">\n",
       "  <thead>\n",
       "    <tr style=\"text-align: right;\">\n",
       "      <th></th>\n",
       "      <th>DATUM_IZVJESTAVANJA</th>\n",
       "      <th>KLIJENT_ID</th>\n",
       "      <th>OZNAKA_PARTIJE</th>\n",
       "      <th>DATUM_OTVARANJA</th>\n",
       "      <th>PLANIRANI_DATUM_ZATVARANJA</th>\n",
       "      <th>DATUM_ZATVARANJA</th>\n",
       "      <th>UGOVORENI_IZNOS</th>\n",
       "      <th>STANJE_NA_KRAJU_PRETH_KVARTALA</th>\n",
       "      <th>STANJE_NA_KRAJU_KVARTALA</th>\n",
       "      <th>VALUTA</th>\n",
       "      <th>VRSTA_KLIJENTA</th>\n",
       "      <th>PROIZVOD</th>\n",
       "      <th>VRSTA_PROIZVODA</th>\n",
       "      <th>VISINA_KAMATE</th>\n",
       "      <th>TIP_KAMATE</th>\n",
       "      <th>STAROST</th>\n",
       "      <th>PRIJEVREMENI_RASKID</th>\n",
       "    </tr>\n",
       "  </thead>\n",
       "  <tbody>\n",
       "    <tr>\n",
       "      <th>1870</th>\n",
       "      <td>2011-03-31</td>\n",
       "      <td>317491</td>\n",
       "      <td>428392</td>\n",
       "      <td>2001-10-04</td>\n",
       "      <td>2011-03-16</td>\n",
       "      <td>NaT</td>\n",
       "      <td>46194.39</td>\n",
       "      <td>31031.37</td>\n",
       "      <td>29566.47</td>\n",
       "      <td>3</td>\n",
       "      <td>1410</td>\n",
       "      <td>TM0109</td>\n",
       "      <td>L</td>\n",
       "      <td>2.1</td>\n",
       "      <td>C</td>\n",
       "      <td>-7994</td>\n",
       "      <td>False</td>\n",
       "    </tr>\n",
       "    <tr>\n",
       "      <th>17927</th>\n",
       "      <td>2011-03-31</td>\n",
       "      <td>81683</td>\n",
       "      <td>917728</td>\n",
       "      <td>2005-05-17</td>\n",
       "      <td>2015-11-18</td>\n",
       "      <td>NaT</td>\n",
       "      <td>1974389.50</td>\n",
       "      <td>1215790.25</td>\n",
       "      <td>1110042.17</td>\n",
       "      <td>4</td>\n",
       "      <td>1210</td>\n",
       "      <td>FI0500</td>\n",
       "      <td>A</td>\n",
       "      <td>0.0</td>\n",
       "      <td>B</td>\n",
       "      <td>-7994</td>\n",
       "      <td>False</td>\n",
       "    </tr>\n",
       "    <tr>\n",
       "      <th>60539</th>\n",
       "      <td>2011-03-31</td>\n",
       "      <td>618326</td>\n",
       "      <td>642999</td>\n",
       "      <td>2007-10-05</td>\n",
       "      <td>2011-10-08</td>\n",
       "      <td>NaT</td>\n",
       "      <td>58234.44</td>\n",
       "      <td>58234.44</td>\n",
       "      <td>58234.44</td>\n",
       "      <td>1</td>\n",
       "      <td>1410</td>\n",
       "      <td>TM0109</td>\n",
       "      <td>L</td>\n",
       "      <td>4.6</td>\n",
       "      <td>C</td>\n",
       "      <td>-7994</td>\n",
       "      <td>False</td>\n",
       "    </tr>\n",
       "    <tr>\n",
       "      <th>105099</th>\n",
       "      <td>2011-03-31</td>\n",
       "      <td>991796</td>\n",
       "      <td>4786159</td>\n",
       "      <td>2009-12-02</td>\n",
       "      <td>2012-12-31</td>\n",
       "      <td>NaT</td>\n",
       "      <td>6700951.27</td>\n",
       "      <td>1870059.25</td>\n",
       "      <td>1869460.14</td>\n",
       "      <td>2</td>\n",
       "      <td>1110</td>\n",
       "      <td>FP0100</td>\n",
       "      <td>A</td>\n",
       "      <td>0.0</td>\n",
       "      <td>B</td>\n",
       "      <td>-7994</td>\n",
       "      <td>False</td>\n",
       "    </tr>\n",
       "    <tr>\n",
       "      <th>105103</th>\n",
       "      <td>2011-03-31</td>\n",
       "      <td>991796</td>\n",
       "      <td>4786161</td>\n",
       "      <td>2009-12-02</td>\n",
       "      <td>2014-12-31</td>\n",
       "      <td>NaT</td>\n",
       "      <td>25547376.68</td>\n",
       "      <td>16748886.36</td>\n",
       "      <td>16743520.49</td>\n",
       "      <td>2</td>\n",
       "      <td>1110</td>\n",
       "      <td>FP0100</td>\n",
       "      <td>A</td>\n",
       "      <td>0.0</td>\n",
       "      <td>B</td>\n",
       "      <td>-7994</td>\n",
       "      <td>False</td>\n",
       "    </tr>\n",
       "  </tbody>\n",
       "</table>\n",
       "</div>"
      ],
      "text/plain": [
       "       DATUM_IZVJESTAVANJA KLIJENT_ID OZNAKA_PARTIJE DATUM_OTVARANJA  \\\n",
       "1870            2011-03-31     317491         428392      2001-10-04   \n",
       "17927           2011-03-31      81683         917728      2005-05-17   \n",
       "60539           2011-03-31     618326         642999      2007-10-05   \n",
       "105099          2011-03-31     991796        4786159      2009-12-02   \n",
       "105103          2011-03-31     991796        4786161      2009-12-02   \n",
       "\n",
       "       PLANIRANI_DATUM_ZATVARANJA DATUM_ZATVARANJA  UGOVORENI_IZNOS  \\\n",
       "1870                   2011-03-16              NaT         46194.39   \n",
       "17927                  2015-11-18              NaT       1974389.50   \n",
       "60539                  2011-10-08              NaT         58234.44   \n",
       "105099                 2012-12-31              NaT       6700951.27   \n",
       "105103                 2014-12-31              NaT      25547376.68   \n",
       "\n",
       "        STANJE_NA_KRAJU_PRETH_KVARTALA  STANJE_NA_KRAJU_KVARTALA VALUTA  \\\n",
       "1870                          31031.37                  29566.47      3   \n",
       "17927                       1215790.25                1110042.17      4   \n",
       "60539                         58234.44                  58234.44      1   \n",
       "105099                      1870059.25                1869460.14      2   \n",
       "105103                     16748886.36               16743520.49      2   \n",
       "\n",
       "       VRSTA_KLIJENTA PROIZVOD VRSTA_PROIZVODA  VISINA_KAMATE TIP_KAMATE  \\\n",
       "1870             1410   TM0109               L            2.1          C   \n",
       "17927            1210   FI0500               A            0.0          B   \n",
       "60539            1410   TM0109               L            4.6          C   \n",
       "105099           1110   FP0100               A            0.0          B   \n",
       "105103           1110   FP0100               A            0.0          B   \n",
       "\n",
       "        STAROST  PRIJEVREMENI_RASKID  \n",
       "1870      -7994                False  \n",
       "17927     -7994                False  \n",
       "60539     -7994                False  \n",
       "105099    -7994                False  \n",
       "105103    -7994                False  "
      ]
     },
     "execution_count": 36,
     "metadata": {},
     "output_type": "execute_result"
    }
   ],
   "source": [
    "df.loc[df.STAROST < -1000].head()\n"
   ]
  },
  {
   "cell_type": "code",
   "execution_count": 37,
   "metadata": {},
   "outputs": [
    {
     "data": {
      "image/png": "[encoded data removed]",
      "text/latex": [
       "$$3344$$"
      ],
      "text/plain": [
       "3344"
      ]
     },
     "execution_count": 37,
     "metadata": {},
     "output_type": "execute_result"
    }
   ],
   "source": [
    "df.loc[df.STAROST < -1000].shape[0]\n"
   ]
  },
  {
   "cell_type": "code",
   "execution_count": 38,
   "metadata": {},
   "outputs": [
    {
     "data": {
      "text/plain": [
       "count    3344.000000\n",
       "mean    -7987.241926\n",
       "std         1.278142\n",
       "min     -7994.000000\n",
       "25%     -7988.000000\n",
       "50%     -7987.000000\n",
       "75%     -7987.000000\n",
       "max     -7986.000000\n",
       "Name: STAROST, dtype: float64"
      ]
     },
     "execution_count": 38,
     "metadata": {},
     "output_type": "execute_result"
    }
   ],
   "source": [
    "df.STAROST[df.STAROST < -1000].describe()\n"
   ]
  },
  {
   "cell_type": "code",
   "execution_count": 39,
   "metadata": {},
   "outputs": [
    {
     "data": {
      "text/plain": [
       "{'max': -7986, 'min': -7994, 'nulls': 0, 'range': 8, 'uniques': 9}"
      ]
     },
     "execution_count": 39,
     "metadata": {},
     "output_type": "execute_result"
    }
   ],
   "source": [
    "analiziraj_num_stupac(df.STAROST[df.STAROST < -1000])\n"
   ]
  },
  {
   "cell_type": "code",
   "execution_count": 40,
   "metadata": {},
   "outputs": [
    {
     "data": {
      "text/plain": [
       "(array([  17.,   45.,   38.,   28.,    0.,   18.,   14.,  812., 1596.,\n",
       "         776.]),\n",
       " array([-7994. , -7993.2, -7992.4, -7991.6, -7990.8, -7990. , -7989.2,\n",
       "        -7988.4, -7987.6, -7986.8, -7986. ]),\n",
       " <a list of 10 Patch objects>)"
      ]
     },
     "execution_count": 40,
     "metadata": {},
     "output_type": "execute_result"
    },
    {
     "data": {
      "image/png": "[encoded data removed]",
      "text/plain": [
       "<Figure size 432x288 with 1 Axes>"
      ]
     },
     "metadata": {},
     "output_type": "display_data"
    }
   ],
   "source": [
    "plt.hist(df.STAROST[df.STAROST < -1000])\n"
   ]
  },
  {
   "cell_type": "markdown",
   "metadata": {},
   "source": [
    "Neobično je, također, i što postoji starost veća (ne nužno strogo) od $ 900 $ godina<sup>[3](#fnote-3)</sup>. Zapravo, pozitivne starosti su također polarizirane u intervale $ \\left[ 1 \\mathinner{\\ldotp \\ldotp} 107 \\right] $ i $ \\left[ 900 \\mathinner{\\ldotp \\ldotp} 908 \\right] $. Naravno da je moguće da je neko poduzeće staro $ 900 $-tinjak godina, ali prvi moderni bankari bili su križari &mdash; to bi značilo da su najstariji suvremeni klijenti *RBA* bankarske usluge mogli tražiti još od prvih bankara na svijetu. Za razliku od negativne starosti, ovaj fenomen nije nemoguć, ali vrlo je malo vjerojatan.\n",
    "\n",
    "Promotrimo, dakle, te dijelove tablice.\n"
   ]
  },
  {
   "cell_type": "code",
   "execution_count": 41,
   "metadata": {},
   "outputs": [
    {
     "data": {
      "text/html": [
       "<div>\n",
       "<style scoped>\n",
       "    .dataframe tbody tr th:only-of-type {\n",
       "        vertical-align: middle;\n",
       "    }\n",
       "\n",
       "    .dataframe tbody tr th {\n",
       "        vertical-align: top;\n",
       "    }\n",
       "\n",
       "    .dataframe thead th {\n",
       "        text-align: right;\n",
       "    }\n",
       "</style>\n",
       "<table border=\"1\" class=\"dataframe\">\n",
       "  <thead>\n",
       "    <tr style=\"text-align: right;\">\n",
       "      <th></th>\n",
       "      <th>DATUM_IZVJESTAVANJA</th>\n",
       "      <th>KLIJENT_ID</th>\n",
       "      <th>OZNAKA_PARTIJE</th>\n",
       "      <th>DATUM_OTVARANJA</th>\n",
       "      <th>PLANIRANI_DATUM_ZATVARANJA</th>\n",
       "      <th>DATUM_ZATVARANJA</th>\n",
       "      <th>UGOVORENI_IZNOS</th>\n",
       "      <th>STANJE_NA_KRAJU_PRETH_KVARTALA</th>\n",
       "      <th>STANJE_NA_KRAJU_KVARTALA</th>\n",
       "      <th>VALUTA</th>\n",
       "      <th>VRSTA_KLIJENTA</th>\n",
       "      <th>PROIZVOD</th>\n",
       "      <th>VRSTA_PROIZVODA</th>\n",
       "      <th>VISINA_KAMATE</th>\n",
       "      <th>TIP_KAMATE</th>\n",
       "      <th>STAROST</th>\n",
       "      <th>PRIJEVREMENI_RASKID</th>\n",
       "    </tr>\n",
       "  </thead>\n",
       "  <tbody>\n",
       "    <tr>\n",
       "      <th>0</th>\n",
       "      <td>2011-03-31</td>\n",
       "      <td>1287</td>\n",
       "      <td>256528</td>\n",
       "      <td>1995-10-19</td>\n",
       "      <td>2011-01-11</td>\n",
       "      <td>NaT</td>\n",
       "      <td>0.00</td>\n",
       "      <td>32761.66</td>\n",
       "      <td>32941.42</td>\n",
       "      <td>2</td>\n",
       "      <td>1410</td>\n",
       "      <td>TM0109</td>\n",
       "      <td>L</td>\n",
       "      <td>2.3</td>\n",
       "      <td>C</td>\n",
       "      <td>900</td>\n",
       "      <td>False</td>\n",
       "    </tr>\n",
       "    <tr>\n",
       "      <th>15</th>\n",
       "      <td>2011-03-31</td>\n",
       "      <td>3089</td>\n",
       "      <td>261055</td>\n",
       "      <td>1997-11-24</td>\n",
       "      <td>2011-12-05</td>\n",
       "      <td>NaT</td>\n",
       "      <td>0.00</td>\n",
       "      <td>21421.36</td>\n",
       "      <td>21414.50</td>\n",
       "      <td>2</td>\n",
       "      <td>1410</td>\n",
       "      <td>TM0109</td>\n",
       "      <td>L</td>\n",
       "      <td>3.0</td>\n",
       "      <td>C</td>\n",
       "      <td>900</td>\n",
       "      <td>False</td>\n",
       "    </tr>\n",
       "    <tr>\n",
       "      <th>67</th>\n",
       "      <td>2011-03-31</td>\n",
       "      <td>1470</td>\n",
       "      <td>269186</td>\n",
       "      <td>1999-12-28</td>\n",
       "      <td>2011-06-02</td>\n",
       "      <td>NaT</td>\n",
       "      <td>14611.16</td>\n",
       "      <td>10730.63</td>\n",
       "      <td>10106.18</td>\n",
       "      <td>3</td>\n",
       "      <td>1410</td>\n",
       "      <td>TM0109</td>\n",
       "      <td>L</td>\n",
       "      <td>2.1</td>\n",
       "      <td>C</td>\n",
       "      <td>900</td>\n",
       "      <td>False</td>\n",
       "    </tr>\n",
       "    <tr>\n",
       "      <th>107</th>\n",
       "      <td>2011-03-31</td>\n",
       "      <td>11327</td>\n",
       "      <td>271575</td>\n",
       "      <td>2000-06-27</td>\n",
       "      <td>2011-03-26</td>\n",
       "      <td>NaT</td>\n",
       "      <td>13140.28</td>\n",
       "      <td>12632.41</td>\n",
       "      <td>12697.03</td>\n",
       "      <td>2</td>\n",
       "      <td>1410</td>\n",
       "      <td>TM0109</td>\n",
       "      <td>L</td>\n",
       "      <td>2.2</td>\n",
       "      <td>C</td>\n",
       "      <td>900</td>\n",
       "      <td>False</td>\n",
       "    </tr>\n",
       "    <tr>\n",
       "      <th>259</th>\n",
       "      <td>2011-03-31</td>\n",
       "      <td>3089</td>\n",
       "      <td>274049</td>\n",
       "      <td>2000-12-15</td>\n",
       "      <td>2011-12-24</td>\n",
       "      <td>NaT</td>\n",
       "      <td>33222.16</td>\n",
       "      <td>32300.16</td>\n",
       "      <td>32289.81</td>\n",
       "      <td>2</td>\n",
       "      <td>1410</td>\n",
       "      <td>TM0109</td>\n",
       "      <td>L</td>\n",
       "      <td>3.0</td>\n",
       "      <td>C</td>\n",
       "      <td>900</td>\n",
       "      <td>False</td>\n",
       "    </tr>\n",
       "  </tbody>\n",
       "</table>\n",
       "</div>"
      ],
      "text/plain": [
       "    DATUM_IZVJESTAVANJA KLIJENT_ID OZNAKA_PARTIJE DATUM_OTVARANJA  \\\n",
       "0            2011-03-31       1287         256528      1995-10-19   \n",
       "15           2011-03-31       3089         261055      1997-11-24   \n",
       "67           2011-03-31       1470         269186      1999-12-28   \n",
       "107          2011-03-31      11327         271575      2000-06-27   \n",
       "259          2011-03-31       3089         274049      2000-12-15   \n",
       "\n",
       "    PLANIRANI_DATUM_ZATVARANJA DATUM_ZATVARANJA  UGOVORENI_IZNOS  \\\n",
       "0                   2011-01-11              NaT             0.00   \n",
       "15                  2011-12-05              NaT             0.00   \n",
       "67                  2011-06-02              NaT         14611.16   \n",
       "107                 2011-03-26              NaT         13140.28   \n",
       "259                 2011-12-24              NaT         33222.16   \n",
       "\n",
       "     STANJE_NA_KRAJU_PRETH_KVARTALA  STANJE_NA_KRAJU_KVARTALA VALUTA  \\\n",
       "0                          32761.66                  32941.42      2   \n",
       "15                         21421.36                  21414.50      2   \n",
       "67                         10730.63                  10106.18      3   \n",
       "107                        12632.41                  12697.03      2   \n",
       "259                        32300.16                  32289.81      2   \n",
       "\n",
       "    VRSTA_KLIJENTA PROIZVOD VRSTA_PROIZVODA  VISINA_KAMATE TIP_KAMATE  \\\n",
       "0             1410   TM0109               L            2.3          C   \n",
       "15            1410   TM0109               L            3.0          C   \n",
       "67            1410   TM0109               L            2.1          C   \n",
       "107           1410   TM0109               L            2.2          C   \n",
       "259           1410   TM0109               L            3.0          C   \n",
       "\n",
       "     STAROST  PRIJEVREMENI_RASKID  \n",
       "0        900                False  \n",
       "15       900                False  \n",
       "67       900                False  \n",
       "107      900                False  \n",
       "259      900                False  "
      ]
     },
     "execution_count": 41,
     "metadata": {},
     "output_type": "execute_result"
    }
   ],
   "source": [
    "df.loc[df.STAROST >= 500].head()\n"
   ]
  },
  {
   "cell_type": "code",
   "execution_count": 42,
   "metadata": {},
   "outputs": [
    {
     "data": {
      "image/png": "[encoded data removed]",
      "text/latex": [
       "$$467$$"
      ],
      "text/plain": [
       "467"
      ]
     },
     "execution_count": 42,
     "metadata": {},
     "output_type": "execute_result"
    }
   ],
   "source": [
    "df.loc[df.STAROST >= 500].shape[0]\n"
   ]
  },
  {
   "cell_type": "code",
   "execution_count": 43,
   "metadata": {},
   "outputs": [
    {
     "data": {
      "text/plain": [
       "count    467.000000\n",
       "mean     903.304069\n",
       "std        2.234543\n",
       "min      900.000000\n",
       "25%      901.000000\n",
       "50%      903.000000\n",
       "75%      905.000000\n",
       "max      908.000000\n",
       "Name: STAROST, dtype: float64"
      ]
     },
     "execution_count": 43,
     "metadata": {},
     "output_type": "execute_result"
    }
   ],
   "source": [
    "df.STAROST[df.STAROST >= 500].describe()\n"
   ]
  },
  {
   "cell_type": "code",
   "execution_count": 44,
   "metadata": {},
   "outputs": [
    {
     "data": {
      "text/plain": [
       "{'max': 908, 'min': 900, 'nulls': 0, 'range': 8, 'uniques': 9}"
      ]
     },
     "execution_count": 44,
     "metadata": {},
     "output_type": "execute_result"
    }
   ],
   "source": [
    "analiziraj_num_stupac(df.STAROST[df.STAROST >= 500])\n"
   ]
  },
  {
   "cell_type": "code",
   "execution_count": 45,
   "metadata": {},
   "outputs": [
    {
     "data": {
      "text/plain": [
       "(array([55., 76., 62., 47.,  0., 69., 77., 35., 37.,  9.]),\n",
       " array([900. , 900.8, 901.6, 902.4, 903.2, 904. , 904.8, 905.6, 906.4,\n",
       "        907.2, 908. ]),\n",
       " <a list of 10 Patch objects>)"
      ]
     },
     "execution_count": 45,
     "metadata": {},
     "output_type": "execute_result"
    },
    {
     "data": {
      "image/png": "[encoded data removed]",
      "text/plain": [
       "<Figure size 432x288 with 1 Axes>"
      ]
     },
     "metadata": {},
     "output_type": "display_data"
    }
   ],
   "source": [
    "plt.hist(df.STAROST[df.STAROST >= 500])\n"
   ]
  },
  {
   "cell_type": "markdown",
   "metadata": {},
   "source": [
    "<sup><a name=\"fnote-3\"></a>3</sup> Za klijente čija je starost negativna ili nevjerojatno velika ne zna se datum osnutka odnosno rođenja. &larr; **OBJASNIO NARUČITELJ ZADATKA**\n"
   ]
  },
  {
   "cell_type": "markdown",
   "metadata": {},
   "source": [
    "***TO DO:*** Pogledati i ostala sumnjiva mjesta (gdje je planirani datum zatvaranja ili datum zatvaranja prije datuma otvaranja).\n"
   ]
  },
  {
   "cell_type": "markdown",
   "metadata": {},
   "source": [
    "## Vremenski nizovi <a name=\"vremenski-nizovi\"></a>\n"
   ]
  },
  {
   "cell_type": "markdown",
   "metadata": {},
   "source": [
    "Pokušat ćemo iz danih podataka konstruirati vremenske nizove za klijente. Da bismo to napravili, grupirajmo prvo podatke s obzirom na klijente odnosno na klijente i partije.\n"
   ]
  },
  {
   "cell_type": "code",
   "execution_count": 46,
   "metadata": {},
   "outputs": [],
   "source": [
    "k_df = df.groupby('KLIJENT_ID')\n"
   ]
  },
  {
   "cell_type": "code",
   "execution_count": 47,
   "metadata": {},
   "outputs": [],
   "source": [
    "kp_df = df.groupby(['KLIJENT_ID', 'OZNAKA_PARTIJE'])\n"
   ]
  },
  {
   "cell_type": "markdown",
   "metadata": {},
   "source": [
    "Sortirajmo vrijednosti $ \\text{KLIJENT_ID} $ u niz `k` tako da za svaki $ \\mathtt{i} \\in \\left( 0 \\mathinner{\\ldotp \\ldotp} \\mathtt{len(k)} - 2 \\right) $ tablica `k_df.get_group(k[i])` ima više (ne nužno strogo) redaka od tablice `k_df.get_group(k[i + 1])`. Analogno učinimo s uređenim parovima $ \\left( \\text{KLIJENT_ID} , \\text{OZNAKA_PARTIJE} \\right) $ u nizu `kp`.\n"
   ]
  },
  {
   "cell_type": "code",
   "execution_count": 48,
   "metadata": {},
   "outputs": [],
   "source": [
    "k = np.array(\n",
    "    k_df.size().sort_values(ascending = False).index,\n",
    "    dtype = int,\n",
    "    order = 'C'\n",
    ")\n"
   ]
  },
  {
   "cell_type": "code",
   "execution_count": 49,
   "metadata": {},
   "outputs": [],
   "source": [
    "kp = np.array(\n",
    "    [list(kp_x) for kp_x in kp_df.size().sort_values(ascending = False).index],\n",
    "    dtype = int,\n",
    "    order = 'C'\n",
    ")\n"
   ]
  },
  {
   "cell_type": "markdown",
   "metadata": {},
   "source": [
    "Konačno, definirajmo klase `VremenskiNiz` i `Klijent` čije će instance *reprezentirati* vremenske nizove konkretnih partija klijenta i vremenske nizove svih partija klijenta reprezentativno (instance tih klasa ne će zapravo reprezentirati vremenske nizove, nego će samo sadržavati atribute s ekstrahiranim podatcima iz originalne tablice sortiranim s obzirom na vrijeme).\n"
   ]
  },
  {
   "cell_type": "code",
   "execution_count": 50,
   "metadata": {},
   "outputs": [],
   "source": [
    "##  DEFINICIJE NEKIH KLASA ZA EKSTRAKCIJU VREMENSKIH NIZOVA\n",
    "\n",
    "class VremenskiNiz (object):\n",
    "    \"\"\"\n",
    "    Klasa za reprezentaciju vremenskog niza zbivanja jedne partije.\n",
    "\n",
    "    \"\"\"\n",
    "\n",
    "    @classmethod\n",
    "    def prviDatum (cls, stupac):\n",
    "        \"\"\"\n",
    "        Dohvati prvi definirani datum u stupcu.\n",
    "\n",
    "        Ako ne postoji, povratna vrijednost je pandas.NaT.\n",
    "\n",
    "        \"\"\"\n",
    "\n",
    "        i = stupac.first_valid_index()\n",
    "\n",
    "        if i is None:\n",
    "            return pd.NaT\n",
    "\n",
    "        return stupac.loc[i]\n",
    "\n",
    "    @classmethod\n",
    "    def zadnjiDatum (cls, stupac):\n",
    "        \"\"\"\n",
    "        Dohvati prvi definirani datum u stupcu.\n",
    "\n",
    "        Ako ne postoji, povratna vrijednost je pandas.NaT.\n",
    "\n",
    "        \"\"\"\n",
    "\n",
    "        i = stupac.last_valid_index()\n",
    "\n",
    "        if i is None:\n",
    "            return pd.NaT\n",
    "\n",
    "        return stupac.loc[i]\n",
    "\n",
    "    def __init__ (self, KLIJENT_ID, OZNAKA_PARTIJE, copy = False):\n",
    "        \"\"\"\n",
    "        Inicijaliziraj vremenski niz partija klijenta.\n",
    "\n",
    "        Postavljaju se atributi KLIJENT_ID, OZNAKA_PARTIJE, df\n",
    "        (kp_df.get_group(self.KLIJENT_ID, self.OZNAKA_PARTIJE)) i cmpkey\n",
    "        (lista nekih vrijednosti koja se leksikografski usporeduje s\n",
    "        other.cmpkey kod poziva operatora uredaja).\n",
    "\n",
    "        Tablica se pokusava iscitati iz indeksa redaka spremljenih kao\n",
    "        numpy.ndarray u datoteci `klijent/{KLIJENT_ID}/{OZNAKA_PARTIJE}.npy';\n",
    "        tek ako ta datoteka ne postoji, tablica se dobije pozivom metode\n",
    "        kp_df.get_group i sortiranjem (a indeksi redaka u tablici df spremaju se\n",
    "        u spomenutu datoteku).\n",
    "\n",
    "        \"\"\"\n",
    "\n",
    "        self.KLIJENT_ID = int(KLIJENT_ID)\n",
    "        self.OZNAKA_PARTIJE = int(OZNAKA_PARTIJE)\n",
    "        self.df = None\n",
    "        try:\n",
    "            self.df = pd.read_pickle(\n",
    "                'klijent/{0:d}/{1:d}.pkl'.format(\n",
    "                    self.KLIJENT_ID,\n",
    "                    self.OZNAKA_PARTIJE\n",
    "                )\n",
    "            ) if copy else df.loc[\n",
    "                np.load(\n",
    "                    'klijent/{0:d}/{1:d}.npy'.format(\n",
    "                        self.KLIJENT_ID,\n",
    "                        self.OZNAKA_PARTIJE\n",
    "                    )\n",
    "                )\n",
    "            ]\n",
    "        except FileNotFoundError:\n",
    "            self.df = kp_df.get_group(\n",
    "                (self.KLIJENT_ID, self.OZNAKA_PARTIJE)\n",
    "            ).sort_values(\n",
    "                [\n",
    "                    'DATUM_IZVJESTAVANJA',\n",
    "                    'DATUM_OTVARANJA',\n",
    "                    'PLANIRANI_DATUM_ZATVARANJA',\n",
    "                    'DATUM_ZATVARANJA',\n",
    "                    'PRIJEVREMENI_RASKID'\n",
    "                ],\n",
    "                ascending = [True, True, True, True, False]\n",
    "            )\n",
    "            os.makedirs(\n",
    "                'klijent/{0:d}'.format(self.KLIJENT_ID),\n",
    "                exist_ok = True\n",
    "            )\n",
    "            np.save(\n",
    "                'klijent/{0:d}/{1:d}.npy'.format(\n",
    "                    self.KLIJENT_ID,\n",
    "                    self.OZNAKA_PARTIJE\n",
    "                ),\n",
    "                np.array(self.df.index, dtype = int, order = 'C')\n",
    "            )\n",
    "            self.df.to_pickle(\n",
    "                'klijent/{0:d}/{1:d}.npy'.format(\n",
    "                    self.KLIJENT_ID,\n",
    "                    self.OZNAKA_PARTIJE\n",
    "                )\n",
    "            )\n",
    "            if copy:\n",
    "                self.df = self.df.copy()\n",
    "\n",
    "        nbreak = np.flipud(\n",
    "            np.logical_not(\n",
    "                np.flipud(self.df.PRIJEVREMENI_RASKID.cumsum()).astype(bool)\n",
    "            )\n",
    "        )\n",
    "\n",
    "        self.cmpkey = np.array(\n",
    "            [\n",
    "                [\n",
    "                    VremenskiNiz.prviDatum(\n",
    "                        self.df.DATUM_IZVJESTAVANJA.iloc[i:]\n",
    "                    ),\n",
    "                    VremenskiNiz.prviDatum(self.df.DATUM_OTVARANJA.iloc[i:]),\n",
    "                    VremenskiNiz.zadnjiDatum(\n",
    "                        self.df.PLANIRANI_DATUM_ZATVARANJA.iloc[i:]\n",
    "                    ),\n",
    "                    VremenskiNiz.zadnjiDatum(self.df.DATUM_ZATVARANJA.iloc[i:]),\n",
    "                    nbreak[i]\n",
    "                ] for i in range(int(self.df.shape[0]))\n",
    "            ],\n",
    "            dtype = object,\n",
    "            order = 'C'\n",
    "        ).tolist()\n",
    "\n",
    "    def __copy__ (self):\n",
    "        \"\"\"\n",
    "        Dohvati copy.copy(self).\n",
    "\n",
    "        \"\"\"\n",
    "\n",
    "        return VremenskiNiz(self.KLIJENT_ID, self.OZNAKA_PARTIJE)\n",
    "\n",
    "    def __deppcopy__ (self, memo = dict()):\n",
    "        \"\"\"\n",
    "        Dohvati copy.deepcopy(self, memo).\n",
    "\n",
    "        \"\"\"\n",
    "\n",
    "        return VremenskiNiz(\n",
    "            copy.deepcopy(self.KLIJENT_ID, memo),\n",
    "            copy.deepcopy(self.OZNAKA_PARTIJE, memo),\n",
    "            True\n",
    "        )\n",
    "\n",
    "    def __repr__ (self):\n",
    "        \"\"\"\n",
    "        Dohvati repr(self).\n",
    "\n",
    "        \"\"\"\n",
    "\n",
    "        return '<VremenskiNiz: ({0:d}, {1:d})>'.format(\n",
    "            self.KLIJENT_ID, self.OZNAKA_PARTIJE\n",
    "        )\n",
    "\n",
    "    def __len__ (self):\n",
    "        \"\"\"\n",
    "        Dohvati len(self).\n",
    "\n",
    "        Vraca se self.df.shape[0].\n",
    "\n",
    "        \"\"\"\n",
    "\n",
    "        return int(self.df.shape[0])\n",
    "\n",
    "#   def __iter__ (self):\n",
    "#       \"\"\"\n",
    "#       Iteriraj po vremenskom nizu.\n",
    "#\n",
    "#       Vracaju se retci u self.df redom od prvog do zadnjeg.\n",
    "#\n",
    "#       \"\"\"\n",
    "#\n",
    "#       for i in range(self.df.shape[0]):\n",
    "#           yield self.df.iloc[i]\n",
    "\n",
    "    def __getitem__ (self, key):\n",
    "        \"\"\"\n",
    "        Dohvati self[key].\n",
    "\n",
    "        Vraca se self.df.iloc[key].\n",
    "\n",
    "        \"\"\"\n",
    "\n",
    "        return self.df.iloc[key]\n",
    "\n",
    "    def __eq__ (self, other):\n",
    "        \"\"\"\n",
    "        Dohvati self == other.\n",
    "\n",
    "        Usporeduju se atributi KLIJENT_ID, OZNAKA_PARTIJE i svi elementi tablice\n",
    "        (metodom pandas.DataFrame.equals).\n",
    "\n",
    "        \"\"\"\n",
    "\n",
    "        return (\n",
    "            self.KLIJENT_ID == other.KLIJENT_ID and\n",
    "            self.OZNAKA_PARTIJE == other.OZNAKA_PARTIJE and\n",
    "            self.df.equals(other.df)\n",
    "        )\n",
    "\n",
    "    def __ne__ (self, other):\n",
    "        \"\"\"\n",
    "        Dohvati self != other.\n",
    "\n",
    "        Vraca se negacija od self == other.\n",
    "\n",
    "        \"\"\"\n",
    "\n",
    "        return not self == other\n",
    "\n",
    "    def __lt__ (self, other):\n",
    "        \"\"\"\n",
    "        Dohvati self < other.\n",
    "\n",
    "        Uredaj nije totalni (mozda nije ni parcijalni --- ovisi o nedefiniranim\n",
    "        vrijednostima (NaN)), a usporeduju se samo elementi u stupcima\n",
    "        DATUM_IZVJESTAVANJA, DATUM_OTVARANJA, PLANIRANI_DATUM_ZATVARANJA,\n",
    "        DATUM_ZATVARANJA i PRIJEVREMENI_RASKID leksikografskom usporedbom\n",
    "        self.cmpkey i other.cmpkey.\n",
    "\n",
    "        \"\"\"\n",
    "\n",
    "        return self.cmpkey < other.cmpkey\n",
    "\n",
    "    def __gt__ (self, other):\n",
    "        \"\"\"\n",
    "        Dohvati self < other.\n",
    "\n",
    "        Vraca se other < self.\n",
    "\n",
    "        \"\"\"\n",
    "\n",
    "        return other < self\n",
    "\n",
    "    def __le__ (self, other):\n",
    "        \"\"\"\n",
    "        Dohvati self <= other.\n",
    "\n",
    "        Uredaj nije totalni (mozda nije ni parcijalni --- ovisi o nedefiniranim\n",
    "        vrijednostima (NaN)), a usporeduju se samo elementi u stupcima\n",
    "        DATUM_IZVJESTAVANJA, DATUM_OTVARANJA, PLANIRANI_DATUM_ZATVARANJA,\n",
    "        DATUM_ZATVARANJA i PRIJEVREMENI_RASKID leksikografskom usporedbom\n",
    "        self.cmpkey i other.cmpkey.\n",
    "\n",
    "        Moguce je da ne vrijedi (not (self > other)) == (self <= other), ponovo\n",
    "        zbog nedefiniranih vrijednosti (NaN).\n",
    "\n",
    "        \"\"\"\n",
    "\n",
    "        return self.cmpkey <= other.cmpkey\n",
    "\n",
    "    def __ge__ (self, other):\n",
    "        \"\"\"\n",
    "        Dohvati self >= other.\n",
    "\n",
    "        Vraca se other <= self.\n",
    "\n",
    "        \"\"\"\n",
    "\n",
    "        return other <= self\n",
    "\n",
    "class Klijent (object):\n",
    "    def __init__ (self, KLIJENT_ID, copy = False):\n",
    "        \"\"\"\n",
    "        Inicijaliziraj klijenta.\n",
    "\n",
    "        Postavljaju se atributi KLIJENT_ID i ser (sortirani numpy.ndarray svih\n",
    "        vremenskih nizova partija danog klijenta).\n",
    "\n",
    "        Niz partija pokusaca se iscitati iz oznaka partija spremljenih kao\n",
    "        numpy.ndarray u datoteci `klijent/{KLIJENT_ID}/ser.npy'; tek ako ta\n",
    "        datoteka ne postoji, niz partija se dobije trazenjem u nizu kp i\n",
    "        sortiranjem (a oznake partija spremaju se u spomenutu datoteku).\n",
    "\n",
    "        \"\"\"\n",
    "\n",
    "        self.KLIJENT_ID = int(KLIJENT_ID)\n",
    "        self.ser = None\n",
    "        try:\n",
    "            self.ser = np.array(\n",
    "                [\n",
    "                    VremenskiNiz(self.KLIJENT_ID, p, copy) for p in np.load(\n",
    "                        'klijent/{0:d}/ser.npy'.format(self.KLIJENT_ID)\n",
    "                    )\n",
    "                ]\n",
    "            )\n",
    "        except FileNotFoundError:\n",
    "            self.ser = np.sort(\n",
    "                [\n",
    "                    VremenskiNiz(*kp_x, copy = copy) for kp_x in kp\n",
    "                        if kp_x[0] == self.KLIJENT_ID\n",
    "                ]\n",
    "            )\n",
    "            os.makedirs(\n",
    "                'klijent/{0:d}'.format(self.KLIJENT_ID),\n",
    "                exist_ok = True\n",
    "            )\n",
    "            np.save(\n",
    "                'klijent/{0:d}/ser.npy'.format(self.KLIJENT_ID),\n",
    "                np.array(\n",
    "                    [p.OZNAKA_PARTIJE for p in self.ser],\n",
    "                    dtype = int,\n",
    "                    order = 'C'\n",
    "                )\n",
    "            )\n",
    "\n",
    "    def __copy__ (self):\n",
    "        \"\"\"\n",
    "        Dohvati copy.copy(self).\n",
    "\n",
    "        \"\"\"\n",
    "\n",
    "        return Klijent(self.KLIJENT_ID)\n",
    "\n",
    "    def __deepcopy__ (self, memo = dict()):\n",
    "        \"\"\"\n",
    "        Dohvati copy.deepcopy(self, memo).\n",
    "\n",
    "        \"\"\"\n",
    "\n",
    "        return Klijent(copy.deepcopy(self.KLIJENT_ID), True)\n",
    "\n",
    "    def __repr__ (self):\n",
    "        \"\"\"\n",
    "        Dohvati repr(self).\n",
    "\n",
    "        \"\"\"\n",
    "\n",
    "        return '<Klijent: {0:d}>'.format(self.KLIJENT_ID)\n",
    "\n",
    "    def __len__ (self):\n",
    "        \"\"\"\n",
    "        Dohvati len(self).\n",
    "\n",
    "        Vraca se self.ser.size.\n",
    "\n",
    "        \"\"\"\n",
    "\n",
    "        return int(self.ser.size)\n",
    "\n",
    "    def __iter__ (self):\n",
    "        \"\"\"\n",
    "        Iteriraj po vremenskim nizovima klijenta.\n",
    "\n",
    "        Vracaju se elementi self.ser redom od prvog do zadnjeg.\n",
    "\n",
    "        \"\"\"\n",
    "\n",
    "        for i in range(self.ser.size):\n",
    "            yield self.ser[i]\n",
    "\n",
    "    def __getitem__ (self, key):\n",
    "        \"\"\"\n",
    "        Dohvati self.ser[key].\n",
    "\n",
    "        \"\"\"\n",
    "\n",
    "        return self.ser[key]\n",
    "\n",
    "    def __eq__ (self, other):\n",
    "        \"\"\"\n",
    "        Dohvati self == other.\n",
    "\n",
    "        Usporeduju se atribut KLINET_ID i jednakost nizova self.ser i other.ser\n",
    "        (funkcijom numpy.array_equal).\n",
    "\n",
    "        \"\"\"\n",
    "\n",
    "        return (\n",
    "            self.KLIJENT_ID == other.KLIJENT_ID and\n",
    "            np.array_equal(self.ser, other.ser)\n",
    "        )\n",
    "\n",
    "    def __ne__ (self, other):\n",
    "        \"\"\"\n",
    "        Dohvati self != other.\n",
    "\n",
    "        Dohvaca se negacija self == other.\n",
    "\n",
    "        \"\"\"\n",
    "\n",
    "        return not self == other\n",
    "\n",
    "    def __lt__ (self, other):\n",
    "        \"\"\"\n",
    "        Dohvati self < other.\n",
    "\n",
    "        Leksikografski se usporeduju self.ser i other.ser.\n",
    "\n",
    "        Buduci da uredaj na klasi VremenskiNiz nije nuzno totalan, ni ovaj\n",
    "        uredaj nije nuzno totalan.\n",
    "\n",
    "        \"\"\"\n",
    "\n",
    "        return self.ser.tolist() < other.ser.tolist()\n",
    "\n",
    "    def __gt__ (self, other):\n",
    "        \"\"\"\n",
    "        Dohvati self > other.\n",
    "\n",
    "        Vraca se other < self.\n",
    "\n",
    "        \"\"\"\n",
    "\n",
    "        return other < self\n",
    "\n",
    "    def __le__ (self, other):\n",
    "        \"\"\"\n",
    "        Dohvati self <= other.\n",
    "\n",
    "        Leksikografski se usporeduju self.ser i other.ser.\n",
    "\n",
    "        Buduci da uredaj na klasi VremenskiNiz nije nuzno totalan, ni ovaj\n",
    "        uredaj nije nuzno totalan.\n",
    "\n",
    "        Moguce je da ne vrijedi (not (self > other)) == (self <= other), ponovo\n",
    "        zbog netotalnosti uredaja na klasi VremenskiNiz.\n",
    "\n",
    "        \"\"\"\n",
    "\n",
    "        return self.ser.tolist() <= other.ser.tolist()\n",
    "\n",
    "    def __ge__ (self, other):\n",
    "        \"\"\"\n",
    "        Dohvati self >= other.\n",
    "\n",
    "        Vraca se other <= self.\n",
    "\n",
    "        \"\"\"\n",
    "\n",
    "        return other <= self\n"
   ]
  },
  {
   "cell_type": "markdown",
   "metadata": {},
   "source": [
    "***TO DO:*** Ako je moguće (na učitanom skupu podataka, ne nužno općenito), proširiti uređaj na klasi `VremenskiNiz`, a posredno i na klasi `Klijent`, do totalnog uređaja. Neka eventualno rješenje bude efikasno implementirano.\n"
   ]
  },
  {
   "cell_type": "code",
   "execution_count": 51,
   "metadata": {},
   "outputs": [],
   "source": [
    "def isplotaj (partija):\n",
    "    fig, ax = plt.subplots(nrows = 2, ncols = 2, num = str(partija.OZNAKA_PARTIJE), sharex = True, figsize = (12, 10))\n",
    "\n",
    "    fig.suptitle('{0:d}, {1:d}'.format(partija.KLIJENT_ID[0], partija.OZNAKA_PARTIJE[0]))\n",
    "\n",
    "    ax[0, 0].set_title('Ugovoreni iznos')\n",
    "    ax[0, 0].plot(partija.DATUM_IZVJESTAVANJA, partija.UGOVORENI_IZNOS)\n",
    "\n",
    "    ax[0, 1].set_title('Visina kamate')\n",
    "    ax[0, 1].plot(partija.DATUM_IZVJESTAVANJA, partija.VISINA_KAMATE)\n",
    "\n",
    "    ax[1, 0].set_title('Stanje na kraju kvartala')\n",
    "    ax[1, 0].plot(partija.DATUM_IZVJESTAVANJA, partija.STANJE_NA_KRAJU_KVARTALA)\n",
    "\n",
    "    ax[1, 1].set_title('Razlika stanja na kraju ovog i prethodnog kvartala')\n",
    "    ax[1, 1].plot(partija.DATUM_IZVJESTAVANJA, partija.STANJE_NA_KRAJU_KVARTALA - partija.STANJE_NA_KRAJU_PRETH_KVARTALA)\n"
   ]
  },
  {
   "cell_type": "code",
   "execution_count": 52,
   "metadata": {},
   "outputs": [],
   "source": [
    "def grouppie (col, val, df = df):\n",
    "    if not isinstance(col, str) and hasattr(col, '__iter__'):\n",
    "        return tuple(grouppie(c, v) for c, v in zip(col, val))\n",
    "\n",
    "    multi = True\n",
    "    if isinstance(val, str) or not hasattr(val, '__iter__'):\n",
    "        multi = False\n",
    "        val = [val]\n",
    "\n",
    "    col_df = df.groupby(col)\n",
    "    val_df = tuple(col_df.get_group(v).groupby(['KLIJENT_ID', 'OZNAKA_PARTIJE']) for v in val)\n",
    "\n",
    "    kp_val_df = tuple(\n",
    "        np.array(\n",
    "            [list(kp_v_x) for kp_v_x in v_df.size().sort_values(ascending = False).index],\n",
    "            dtype = int,\n",
    "            order = 'C'\n",
    "        ) for v_df in val_df\n",
    "    )\n",
    "\n",
    "    return (val_df, kp_val_df) if multi else (val_df[0], kp_val_df[0])\n"
   ]
  },
  {
   "cell_type": "code",
   "execution_count": 53,
   "metadata": {},
   "outputs": [],
   "source": [
    "def prvi_feat_ing (group_df = kp_df):\n",
    "    day = np.timedelta64(1, 'D')\n",
    "\n",
    "    feat_df = [None for i in range(int(len(group_df)))]\n",
    "\n",
    "    i = 0\n",
    "    for name, group in group_df:\n",
    "        group = group.reset_index(drop = True).fillna(method = 'ffill').fillna(method = 'bfill')\n",
    "\n",
    "        diff = group.STANJE_NA_KRAJU_KVARTALA - group.STANJE_NA_KRAJU_PRETH_KVARTALA\n",
    "\n",
    "        feat_df[i] = (\n",
    "            [\n",
    "                name,\n",
    "                diff.mean(),\n",
    "                diff.std(),\n",
    "                (group.PLANIRANI_DATUM_ZATVARANJA - group.DATUM_OTVARANJA).mean() / day,\n",
    "                group.UGOVORENI_IZNOS.mean(),\n",
    "                group.VISINA_KAMATE.mean(),\n",
    "                group.STAROST.min()\n",
    "            ] +\n",
    "            pd.get_dummies(group.loc[:, 'VRSTA_PROIZVODA']).values.any(axis = 0).astype(np.uint8).tolist() +\n",
    "            [group.PRIJEVREMENI_RASKID.any()]\n",
    "        )\n",
    "\n",
    "        i += 1\n",
    "\n",
    "    feat_df = pd.DataFrame(\n",
    "        feat_df,\n",
    "        columns = [\n",
    "            'ID',\n",
    "            'POMAK_AVG',\n",
    "            'POMAK_STD',\n",
    "            'DULJINA_UGOVORA',\n",
    "            'UGOVORENI_IZNOS',\n",
    "            'VISINA_KAMATE',\n",
    "            'STAROST',\n",
    "            'PROIZVOD_A',\n",
    "            'PROIZVOD_L',\n",
    "            'PRIJEVREMENI_RASKID'\n",
    "        ]\n",
    "    ).fillna(0)\n",
    "\n",
    "    return feat_df\n"
   ]
  },
  {
   "cell_type": "code",
   "execution_count": 54,
   "metadata": {},
   "outputs": [
    {
     "data": {
      "text/plain": [
       "array([[   355058,    667899],\n",
       "       [   867290,   3646588],\n",
       "       [   645904,   1180140],\n",
       "       ...,\n",
       "       [   651508, 113602150],\n",
       "       [   651487, 113531972],\n",
       "       [   611880,   6570663]])"
      ]
     },
     "execution_count": 54,
     "metadata": {},
     "output_type": "execute_result"
    }
   ],
   "source": [
    "kp\n"
   ]
  },
  {
   "cell_type": "code",
   "execution_count": 55,
   "metadata": {},
   "outputs": [],
   "source": [
    "N = 15000\n"
   ]
  },
  {
   "cell_type": "code",
   "execution_count": 56,
   "metadata": {},
   "outputs": [],
   "source": [
    "#choice_idx = np.unique(np.random.randint(kp.shape[0], size = N, dtype = int))\n"
   ]
  },
  {
   "cell_type": "code",
   "execution_count": 57,
   "metadata": {},
   "outputs": [],
   "source": [
    "#t0 = time.time()\n",
    "\n",
    "#feat_df = prvi_feat_ing(\n",
    "#    [(tuple(kp_x), kp_df.get_group(tuple(kp_x))) for kp_x in kp[choice_idx]]\n",
    "#)\n",
    "\n",
    "#t1 = time.time()\n",
    "\n",
    "#d = float(t1 - t0)\n",
    "\n",
    "#print(\n",
    "#    'Trajanje racunanja: {h:d}h {m:02d}m {s:06.3f}s ({S:.3f}s)'.format(\n",
    "#        h = int(math.floor(d / 3600)),\n",
    "#        m = int(math.floor((d - 3600 * int(math.floor(d / 3600))) / 60)),\n",
    "#        s = d - 60 * int(math.floor(d / 60)),\n",
    "#        S = d\n",
    "#    )\n",
    "#)\n",
    "\n",
    "#del d\n",
    "#del t0\n",
    "#del t1\n"
   ]
  },
  {
   "cell_type": "code",
   "execution_count": 58,
   "metadata": {},
   "outputs": [],
   "source": [
    "#p = 0.75\n"
   ]
  },
  {
   "cell_type": "code",
   "execution_count": 59,
   "metadata": {},
   "outputs": [],
   "source": [
    "#feat_df.iloc[:int(round(p * feat_df.shape[0]))].to_pickle('train_{0:d}.pkl'.format(N))\n",
    "#feat_df.iloc[:int(round((1 - p) * feat_df.shape[0]))].to_pickle('test_{0:d}.pkl'.format(N))\n"
   ]
  },
  {
   "cell_type": "code",
   "execution_count": 60,
   "metadata": {},
   "outputs": [],
   "source": [
    "#feat_df.describe()\n"
   ]
  },
  {
   "cell_type": "code",
   "execution_count": 61,
   "metadata": {},
   "outputs": [],
   "source": [
    "#del feat_df\n"
   ]
  },
  {
   "cell_type": "code",
   "execution_count": 62,
   "metadata": {},
   "outputs": [],
   "source": [
    "import torch\n",
    "from torch import nn\n",
    "from torch.utils.data import TensorDataset, DataLoader\n",
    "import torch.nn.functional as F\n"
   ]
  },
  {
   "cell_type": "code",
   "execution_count": 63,
   "metadata": {},
   "outputs": [],
   "source": [
    "train_df = pd.read_pickle('train_{0:d}.pkl'.format(N))\n",
    "test_df = pd.read_pickle('test_{0:d}.pkl'.format(N))\n"
   ]
  },
  {
   "cell_type": "code",
   "execution_count": 64,
   "metadata": {},
   "outputs": [],
   "source": [
    "inputs = train_df[train_df.columns[1:-1]].values.astype(np.double)\n",
    "inputs[:, 0:-1] = (inputs[:, 0:-1] - inputs[:, 0:-1].mean(axis = 0)) / inputs[:, :-1].std(axis = 0)\n",
    "inputs = torch.tensor(inputs[:, 2:], dtype = torch.float, requires_grad = True)\n",
    "\n",
    "targets = torch.tensor(train_df[train_df.columns[-1]].values.astype(np.double).reshape((train_df.shape[0], 1)), dtype = torch.float, requires_grad = False)\n"
   ]
  },
  {
   "cell_type": "code",
   "execution_count": 65,
   "metadata": {},
   "outputs": [],
   "source": [
    "train_ds = TensorDataset(inputs, targets)\n"
   ]
  },
  {
   "cell_type": "code",
   "execution_count": 66,
   "metadata": {},
   "outputs": [],
   "source": [
    "class LogisticRegression (nn.Module):\n",
    "    def __init__ (self, inputs, targets):\n",
    "        super(LogisticRegression, self).__init__()\n",
    "        self.linear = nn.Linear(inputs.shape[1], targets.shape[1])\n",
    "\n",
    "    def forward (self, x):\n",
    "        return torch.sigmoid(self.linear(x))\n"
   ]
  },
  {
   "cell_type": "code",
   "execution_count": 67,
   "metadata": {},
   "outputs": [],
   "source": [
    "batch_size = 10\n",
    "\n",
    "train_dl = DataLoader(train_ds, batch_size, shuffle = True)\n"
   ]
  },
  {
   "cell_type": "code",
   "execution_count": 68,
   "metadata": {},
   "outputs": [],
   "source": [
    "model = LogisticRegression(inputs, targets)\n",
    "criterion = nn.BCELoss(reduction = 'mean')\n",
    "opt = torch.optim.SGD(model.parameters(), lr = 1.0e-2)\n"
   ]
  },
  {
   "cell_type": "code",
   "execution_count": 69,
   "metadata": {},
   "outputs": [],
   "source": [
    "def fit (num_epochs, model, criterion, opt):\n",
    "    L = []\n",
    "    for epoch in range(num_epochs):\n",
    "        epoch_loss = []\n",
    "        for xb, yb in train_dl:\n",
    "            pred = model(xb)\n",
    "            loss = criterion(pred, yb)\n",
    "            epoch_loss.append(float(loss.item()))\n",
    "            loss.backward()\n",
    "            opt.step()\n",
    "            model.train()\n",
    "            opt.zero_grad()\n",
    "\n",
    "        L.append(np.mean(epoch_loss))\n",
    "\n",
    "        if not epoch % 5:\n",
    "            print(epoch)\n",
    "\n",
    "    return np.array(L)\n"
   ]
  },
  {
   "cell_type": "code",
   "execution_count": 70,
   "metadata": {},
   "outputs": [],
   "source": [
    "num_epochs = 100\n"
   ]
  },
  {
   "cell_type": "code",
   "execution_count": 71,
   "metadata": {},
   "outputs": [
    {
     "name": "stdout",
     "output_type": "stream",
     "text": [
      "0\n",
      "5\n",
      "10\n",
      "15\n",
      "20\n",
      "25\n",
      "30\n",
      "35\n",
      "40\n",
      "45\n",
      "50\n",
      "55\n",
      "60\n",
      "65\n",
      "70\n",
      "75\n",
      "80\n",
      "85\n",
      "90\n",
      "95\n"
     ]
    }
   ],
   "source": [
    "L = fit(num_epochs, model, criterion, opt)\n"
   ]
  },
  {
   "cell_type": "code",
   "execution_count": 72,
   "metadata": {},
   "outputs": [
    {
     "data": {
      "text/plain": [
       "[<matplotlib.lines.Line2D at 0x7efc89a59048>]"
      ]
     },
     "execution_count": 72,
     "metadata": {},
     "output_type": "execute_result"
    },
    {
     "data": {
      "image/png": "[encoded data removed]",
      "text/plain": [
       "<Figure size 432x288 with 1 Axes>"
      ]
     },
     "metadata": {},
     "output_type": "display_data"
    }
   ],
   "source": [
    "plt.plot(np.arange(num_epochs), L)\n"
   ]
  },
  {
   "cell_type": "code",
   "execution_count": 73,
   "metadata": {},
   "outputs": [],
   "source": [
    "test_inputs = test_df[test_df.columns[1:-1]].values.astype(np.double)\n",
    "test_inputs[:, 0:-1] = (test_inputs[:, 0:-1] - test_inputs[:, 0:-1].mean(axis = 0)) / test_inputs[:, 0:-1].std(axis = 0)\n",
    "test_inputs = torch.tensor(test_inputs[:, 2:], dtype = torch.float, requires_grad = True)\n",
    "\n",
    "test_targets = torch.tensor(test_df[test_df.columns[-1]].values.astype(np.double).reshape((test_df.shape[0], 1)), dtype = torch.float, requires_grad = False)\n"
   ]
  },
  {
   "cell_type": "code",
   "execution_count": 74,
   "metadata": {},
   "outputs": [],
   "source": [
    "preds = model(test_inputs)\n"
   ]
  },
  {
   "cell_type": "code",
   "execution_count": 75,
   "metadata": {},
   "outputs": [],
   "source": [
    "t = 0.5\n"
   ]
  },
  {
   "cell_type": "code",
   "execution_count": 76,
   "metadata": {},
   "outputs": [],
   "source": [
    "TP = int(((preds >= t) & (test_targets == 1)).sum().item())\n",
    "FP = int(((preds >= t) & (test_targets == 0)).sum().item())\n",
    "FN = int(((preds < t) & (test_targets == 1)).sum().item())\n",
    "TN = int(((preds < t) & (test_targets == 0)).sum().item())\n"
   ]
  },
  {
   "cell_type": "code",
   "execution_count": 77,
   "metadata": {},
   "outputs": [],
   "source": [
    "prec = float(TP) / float(TP + FP)\n",
    "rec = float(TP) / float(TP + FN)\n",
    "acc = float(TP + TN) / float(test_targets.shape[0])\n",
    "F1 = 2 * (acc * rec) / (acc + rec)\n"
   ]
  },
  {
   "cell_type": "code",
   "execution_count": 78,
   "metadata": {},
   "outputs": [
    {
     "data": {
      "image/png": "[encoded data removed]",
      "text/latex": [
       "$$\\left ( 0.14285714285714285, \\quad 0.6739600216099406, \\quad 0.001670843776106934, \\quad 0.00333342351613387\\right )$$"
      ],
      "text/plain": [
       "(0.14285714285714285, 0.6739600216099406, 0.001670843776106934, 0.003333423516\n",
       "13387)"
      ]
     },
     "execution_count": 78,
     "metadata": {},
     "output_type": "execute_result"
    }
   ],
   "source": [
    "(prec, acc, rec, F1)\n"
   ]
  },
  {
   "cell_type": "code",
   "execution_count": 79,
   "metadata": {},
   "outputs": [
    {
     "data": {
      "image/png": "[encoded data removed]",
      "text/latex": [
       "$$0.9962182603997839$$"
      ],
      "text/plain": [
       "0.9962182603997839"
      ]
     },
     "execution_count": 79,
     "metadata": {},
     "output_type": "execute_result"
    }
   ],
   "source": [
    "float((preds < t).sum().item()) / float(test_targets.shape[0])\n"
   ]
  },
  {
   "cell_type": "code",
   "execution_count": 80,
   "metadata": {},
   "outputs": [],
   "source": [
    "dummy_preds = torch.tensor(np.random.binomial(1, float(targets.sum().item()) / float(targets.shape[0]), size = test_targets.shape), dtype = torch.float, requires_grad = False)\n"
   ]
  },
  {
   "cell_type": "code",
   "execution_count": 81,
   "metadata": {},
   "outputs": [],
   "source": [
    "dummy_TP = int(((dummy_preds == 1) & (test_targets == 1)).sum().item())\n",
    "dummy_FP = int(((dummy_preds == 1) & (test_targets == 0)).sum().item())\n",
    "dummy_FN = int(((dummy_preds == 0) & (test_targets == 1)).sum().item())\n",
    "dummy_TN = int(((dummy_preds == 0) & (test_targets == 0)).sum().item())\n"
   ]
  },
  {
   "cell_type": "code",
   "execution_count": 82,
   "metadata": {},
   "outputs": [],
   "source": [
    "dummy_prec = float(dummy_TP) / float(dummy_TP + dummy_FP)\n",
    "dummy_rec = float(dummy_TP) / float(dummy_TP + dummy_FN)\n",
    "dummy_acc = float(dummy_TP + dummy_TN) / float(test_targets.shape[0])\n",
    "dummy_F1 = 2 * (dummy_acc * dummy_rec) / (dummy_acc + dummy_rec)\n"
   ]
  },
  {
   "cell_type": "code",
   "execution_count": 83,
   "metadata": {},
   "outputs": [
    {
     "data": {
      "image/png": "[encoded data removed]",
      "text/latex": [
       "$$\\left ( 0.3298872180451128, \\quad 0.5788762830902215, \\quad 0.2932330827067669, \\quad 0.389276124425648\\right )$$"
      ],
      "text/plain": [
       "(0.3298872180451128, 0.5788762830902215, 0.2932330827067669, 0.389276124425648\n",
       ")"
      ]
     },
     "execution_count": 83,
     "metadata": {},
     "output_type": "execute_result"
    }
   ],
   "source": [
    "(dummy_prec, dummy_acc, dummy_rec, dummy_F1)\n"
   ]
  },
  {
   "cell_type": "code",
   "execution_count": null,
   "metadata": {},
   "outputs": [],
   "source": []
  }
 ],
 "metadata": {
  "kernelspec": {
   "display_name": "Python 3",
   "language": "python",
   "name": "python3"
  },
  "language_info": {
   "codemirror_mode": {
    "name": "ipython",
    "version": 3
   },
   "file_extension": ".py",
   "mimetype": "text/x-python",
   "name": "python",
   "nbconvert_exporter": "python",
   "pygments_lexer": "ipython3",
   "version": "3.6.7"
  }
 },
 "nbformat": 4,
 "nbformat_minor": 2
}
