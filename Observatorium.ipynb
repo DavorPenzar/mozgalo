{
 "cells": [
  {
   "cell_type": "markdown",
   "metadata": {},
   "source": [
    "# Observatorium\n"
   ]
  },
  {
   "cell_type": "markdown",
   "metadata": {},
   "source": [
    "Svrha je ove *Jupyter* bilježnice malo pregledati (opservirati) skup podataka na osnovu kojeg treba izgraditi model kao rješenje zadatka za natjecanje *Mozgalo* 2019. godine.\n"
   ]
  },
  {
   "cell_type": "markdown",
   "metadata": {},
   "source": [
    "## Sadržaj\n"
   ]
  },
  {
   "cell_type": "markdown",
   "metadata": {},
   "source": [
    "1.  [Učitavanje podataka](#ucitavanje-podataka)\n",
    "2.  [Jednostavni pregled podataka](#jednostavni-pregled-podataka)\n",
    "    1.  [Inspekcija sumnjivih dijelova](#inspekcija-sumnjivih-dijelova)\n",
    "3.  [Vremenski nizovi](#vremenski-nizovi)\n"
   ]
  },
  {
   "cell_type": "markdown",
   "metadata": {},
   "source": [
    "Pripremimo prvo okruženje\n"
   ]
  },
  {
   "cell_type": "code",
   "execution_count": 1,
   "metadata": {},
   "outputs": [],
   "source": [
    "##  PRIPREMA PYTHON OKRUZENJA\n",
    "\n",
    "# IPython\n",
    "from IPython import *\n",
    "from IPython.display import *\n",
    "\n",
    "# Standardna Python biblioteka\n",
    "import copy\n",
    "import math\n",
    "import os\n",
    "import six\n",
    "import sys\n",
    "import time\n",
    "\n",
    "# SciPy paketi\n",
    "import matplotlib as mpl\n",
    "import matplotlib.pyplot as plt\n",
    "import numpy as np\n",
    "import pandas as pd\n",
    "import sympy as sym\n",
    "from mpl_toolkits.mplot3d.axes3d import Axes3D # 3-dimenzionalna grafika\n",
    "\n",
    "# Postavi radni direktorij na poddirektorij `data'.\n",
    "os.chdir('./data')\n",
    "\n",
    "# Postavi prikaz grafova unutar biljeznice.\n",
    "%matplotlib inline\n",
    "\n",
    "# Postavi stil grafova na `ggplot'.\n",
    "plt.style.use('ggplot')\n",
    "\n",
    "# Inicijaliziraj ispis simbolickog racuna.\n",
    "sym.init_printing()\n"
   ]
  },
  {
   "cell_type": "markdown",
   "metadata": {},
   "source": [
    "## Učitavanje podataka <a name=\"ucitavanje-podataka\"></a>\n"
   ]
  },
  {
   "cell_type": "markdown",
   "metadata": {},
   "source": [
    "Podatke ćemo iz datoteke *training_dataset_enc.csv* učitati kao `pandas.DataFrame` pozivom funkcije `pandas.read_pickle` odnosno `pandas.read_csv`. Pokretanjem sljedećih programskih linija može se primijetiti da učitavanje podataka iz *CSV* datoteke traje jako dugo zato što redaka u tablici ima više od $ 5 $ milijuna, stoga ćemo prvo pokušati otvoriti *pickle*, a, ako datoteka koju tražimo ne postoji, tek ćemo onda otvarati *CSV* i odmah ćemo učitanu tablicu spremiti kao *pickle* datoteku za kasnije brže učitavanje. Izmjerit ćemo i vrijeme potrebno za učitavanje podataka jer se iz izmjerenih vremena jasno vidi vremenska optimizacija učitavanja podataka.\n"
   ]
  },
  {
   "cell_type": "code",
   "execution_count": 2,
   "metadata": {
    "scrolled": false
   },
   "outputs": [
    {
     "name": "stdout",
     "output_type": "stream",
     "text": [
      "Trajanje ucitavanja: 0h 00m 00.374s (0.374s)\n"
     ]
    }
   ],
   "source": [
    "##  UCITAVANJE SKUPA PODATAKA\n",
    "##\n",
    "##  S obzirom na to da je skup podataka vrlo velik (5 193 124 redaka), mjerit\n",
    "##  cemo i vrijeme potrebno za njegovo ucitavanje.  Podatci bi se, medutim, iz\n",
    "##  CSV datoteke puno brze ucitali da se datumi ne parsiraju, nego da ostanu\n",
    "##  stringovi, ali vjerojatno ce nam datumi ionako biti potrebni u datumskom\n",
    "##  obliku pa ih je bolje odmah takve i ucitati.  Stoga, jednom kada se CSV\n",
    "##  ucita, sprema se pickle cijelog skupa podataka tako da svaki sljedeci put\n",
    "##  ucitavanje bude puno brze (ako datoteka s pickle-om postoji, automatski se\n",
    "##  skup podataka cita iz nje; CSV se cita tek ako datoteka s pickle-om ne\n",
    "##  postoji).\n",
    "\n",
    "# Pocni mjeriti vrijeme.\n",
    "t0 = time.time()\n",
    "\n",
    "\n",
    "# Ucitaj skup podataka.  Prvo se pokusava ucitati pickle iz datoteke\n",
    "# `training_dataset_enc.pkl', a, ako ta datoteka ne postoji, onda se ucitava\n",
    "# tablica u CSV obliku iz `training_dataset_enc.csv' i odmah se sprema pickle u\n",
    "# datoteku `training_dataset_enc.pkl' za brze ucitavanje ubuduce.\n",
    "df = None\n",
    "try:\n",
    "    df = pd.read_pickle('training_dataset_enc.pkl')\n",
    "except FileNotFoundError:\n",
    "    df = pd.read_csv(\n",
    "        'training_dataset_enc.csv',\n",
    "        index_col = 0,\n",
    "        parse_dates = [\n",
    "            'DATUM_IZVJESTAVANJA',\n",
    "            'DATUM_OTVARANJA',\n",
    "            'PLANIRANI_DATUM_ZATVARANJA',\n",
    "            'DATUM_ZATVARANJA'\n",
    "        ],\n",
    "        infer_datetime_format = True,\n",
    "        true_values = ['Y'],\n",
    "        false_values = ['N']\n",
    "    )\n",
    "    df.drop(columns = 'Unnamed: 0.1', inplace = True)\n",
    "    df.reset_index(drop = True, inplace = True)\n",
    "    df.KLIJENT_ID = df.KLIJENT_ID.astype(\n",
    "        pd.api.types.CategoricalDtype(\n",
    "            categories = np.sort(\n",
    "                df.KLIJENT_ID[pd.notnull(df.KLIJENT_ID)].unique()\n",
    "            ).tolist(),\n",
    "            ordered = False\n",
    "        )\n",
    "    )\n",
    "    df.OZNAKA_PARTIJE = df.OZNAKA_PARTIJE.astype(\n",
    "        pd.api.types.CategoricalDtype(\n",
    "            categories = np.sort(\n",
    "                df.OZNAKA_PARTIJE[pd.notnull(df.OZNAKA_PARTIJE)].unique()\n",
    "            ).tolist(),\n",
    "            ordered = False\n",
    "        )\n",
    "    )\n",
    "    df.VALUTA = df.VALUTA.astype(\n",
    "        pd.api.types.CategoricalDtype(\n",
    "            categories = np.sort(\n",
    "                df.VALUTA[pd.notnull(df.VALUTA)].unique()\n",
    "            ).tolist(),\n",
    "            ordered = False\n",
    "        )\n",
    "    )\n",
    "    df.VRSTA_KLIJENTA = df.VRSTA_KLIJENTA.astype(\n",
    "        pd.api.types.CategoricalDtype(\n",
    "            categories = np.sort(\n",
    "                df.VRSTA_KLIJENTA[pd.notnull(df.VRSTA_KLIJENTA)].unique()\n",
    "            ).tolist(),\n",
    "            ordered = False\n",
    "        )\n",
    "    )\n",
    "    df.PROIZVOD = df.PROIZVOD.astype(\n",
    "        pd.api.types.CategoricalDtype(\n",
    "            categories = np.sort(\n",
    "                df.PROIZVOD[pd.notnull(df.PROIZVOD)].unique()\n",
    "            ).tolist(),\n",
    "            ordered = False\n",
    "        )\n",
    "    )\n",
    "    df.VRSTA_PROIZVODA = df.VRSTA_PROIZVODA.astype(\n",
    "        pd.api.types.CategoricalDtype(\n",
    "            categories = np.sort(\n",
    "                df.VRSTA_PROIZVODA[pd.notnull(df.VRSTA_PROIZVODA)].unique()\n",
    "            ).tolist(),\n",
    "            ordered = False\n",
    "        )\n",
    "    )\n",
    "    df.TIP_KAMATE = df.TIP_KAMATE.astype(\n",
    "        pd.api.types.CategoricalDtype(\n",
    "            categories = np.sort(\n",
    "                df.TIP_KAMATE[pd.notnull(df.TIP_KAMATE)].unique()\n",
    "            ).tolist(),\n",
    "            ordered = False\n",
    "        )\n",
    "    )\n",
    "    df.to_pickle('training_dataset_enc.pkl')\n",
    "\n",
    "# Zavrsi mjerenje vremena.\n",
    "t1 = time.time()\n",
    "\n",
    "# Izracunaj vremenski period od t0 do t1 u sekundama.\n",
    "d = float(t1 - t0)\n",
    "\n",
    "# Ispisi vrijeme.\n",
    "print(\n",
    "    'Trajanje ucitavanja: {h:d}h {m:02d}m {s:06.3f}s ({S:.3f}s)'.format(\n",
    "        h = int(math.floor(d / 3600)),\n",
    "        m = int(math.floor((d - 3600 * int(math.floor(d / 3600))) / 60)),\n",
    "        s = d - 60 * int(math.floor(d / 60)),\n",
    "        S = d\n",
    "    )\n",
    ")\n",
    "\n",
    "# Oslobodi memoriju.\n",
    "del d\n",
    "del t0\n",
    "del t1\n"
   ]
  },
  {
   "cell_type": "markdown",
   "metadata": {},
   "source": [
    "## Jednostavni pregled podataka <a name=\"jednostavni-pregled-podataka\"></a>\n"
   ]
  },
  {
   "cell_type": "markdown",
   "metadata": {},
   "source": [
    "Sada kada su podatci učitani, promotrimo malo kakvi su. Pregledat ćemo u kakvom su formatu podatci spremljeni, kako izgledaju neki od prvih i zadnjih redaka u tablici, a zatim ćemo nad svim stupcima izvršiti minimalnu deskriptivnu statistiku.\n"
   ]
  },
  {
   "cell_type": "code",
   "execution_count": 3,
   "metadata": {},
   "outputs": [
    {
     "name": "stdout",
     "output_type": "stream",
     "text": [
      "<class 'pandas.core.frame.DataFrame'>\n",
      "RangeIndex: 5193124 entries, 0 to 5193123\n",
      "Data columns (total 17 columns):\n",
      "DATUM_IZVJESTAVANJA               datetime64[ns]\n",
      "KLIJENT_ID                        category\n",
      "OZNAKA_PARTIJE                    category\n",
      "DATUM_OTVARANJA                   datetime64[ns]\n",
      "PLANIRANI_DATUM_ZATVARANJA        datetime64[ns]\n",
      "DATUM_ZATVARANJA                  datetime64[ns]\n",
      "UGOVORENI_IZNOS                   float64\n",
      "STANJE_NA_KRAJU_PRETH_KVARTALA    float64\n",
      "STANJE_NA_KRAJU_KVARTALA          float64\n",
      "VALUTA                            category\n",
      "VRSTA_KLIJENTA                    category\n",
      "PROIZVOD                          category\n",
      "VRSTA_PROIZVODA                   category\n",
      "VISINA_KAMATE                     float64\n",
      "TIP_KAMATE                        category\n",
      "STAROST                           int64\n",
      "PRIJEVREMENI_RASKID               bool\n",
      "dtypes: bool(1), category(7), datetime64[ns](4), float64(4), int64(1)\n",
      "memory usage: 432.3 MB\n"
     ]
    }
   ],
   "source": [
    "# Opis `feature'-a\n",
    "df.info()\n"
   ]
  },
  {
   "cell_type": "code",
   "execution_count": 4,
   "metadata": {},
   "outputs": [
    {
     "data": {
      "text/html": [
       "<div>\n",
       "<style scoped>\n",
       "    .dataframe tbody tr th:only-of-type {\n",
       "        vertical-align: middle;\n",
       "    }\n",
       "\n",
       "    .dataframe tbody tr th {\n",
       "        vertical-align: top;\n",
       "    }\n",
       "\n",
       "    .dataframe thead th {\n",
       "        text-align: right;\n",
       "    }\n",
       "</style>\n",
       "<table border=\"1\" class=\"dataframe\">\n",
       "  <thead>\n",
       "    <tr style=\"text-align: right;\">\n",
       "      <th></th>\n",
       "      <th>DATUM_IZVJESTAVANJA</th>\n",
       "      <th>KLIJENT_ID</th>\n",
       "      <th>OZNAKA_PARTIJE</th>\n",
       "      <th>DATUM_OTVARANJA</th>\n",
       "      <th>PLANIRANI_DATUM_ZATVARANJA</th>\n",
       "      <th>DATUM_ZATVARANJA</th>\n",
       "      <th>UGOVORENI_IZNOS</th>\n",
       "      <th>STANJE_NA_KRAJU_PRETH_KVARTALA</th>\n",
       "      <th>STANJE_NA_KRAJU_KVARTALA</th>\n",
       "      <th>VALUTA</th>\n",
       "      <th>VRSTA_KLIJENTA</th>\n",
       "      <th>PROIZVOD</th>\n",
       "      <th>VRSTA_PROIZVODA</th>\n",
       "      <th>VISINA_KAMATE</th>\n",
       "      <th>TIP_KAMATE</th>\n",
       "      <th>STAROST</th>\n",
       "      <th>PRIJEVREMENI_RASKID</th>\n",
       "    </tr>\n",
       "  </thead>\n",
       "  <tbody>\n",
       "    <tr>\n",
       "      <th>0</th>\n",
       "      <td>2013-12-31</td>\n",
       "      <td>412140</td>\n",
       "      <td>7146814</td>\n",
       "      <td>2012-08-27</td>\n",
       "      <td>2018-04-30</td>\n",
       "      <td>NaT</td>\n",
       "      <td>629155.97</td>\n",
       "      <td>639373.81</td>\n",
       "      <td>641562.01</td>\n",
       "      <td>2</td>\n",
       "      <td>1420</td>\n",
       "      <td>TM0109</td>\n",
       "      <td>L</td>\n",
       "      <td>1.50</td>\n",
       "      <td>A</td>\n",
       "      <td>22</td>\n",
       "      <td>False</td>\n",
       "    </tr>\n",
       "    <tr>\n",
       "      <th>1</th>\n",
       "      <td>2013-12-31</td>\n",
       "      <td>772139</td>\n",
       "      <td>5521579</td>\n",
       "      <td>2010-06-11</td>\n",
       "      <td>2017-06-30</td>\n",
       "      <td>NaT</td>\n",
       "      <td>46000.00</td>\n",
       "      <td>28481.94</td>\n",
       "      <td>26887.19</td>\n",
       "      <td>1</td>\n",
       "      <td>1410</td>\n",
       "      <td>FL0801</td>\n",
       "      <td>A</td>\n",
       "      <td>9.70</td>\n",
       "      <td>B</td>\n",
       "      <td>38</td>\n",
       "      <td>False</td>\n",
       "    </tr>\n",
       "    <tr>\n",
       "      <th>2</th>\n",
       "      <td>2013-12-31</td>\n",
       "      <td>481985</td>\n",
       "      <td>7443823</td>\n",
       "      <td>2013-01-23</td>\n",
       "      <td>2018-02-28</td>\n",
       "      <td>NaT</td>\n",
       "      <td>44679.50</td>\n",
       "      <td>44908.40</td>\n",
       "      <td>45062.09</td>\n",
       "      <td>2</td>\n",
       "      <td>1550</td>\n",
       "      <td>FD0100</td>\n",
       "      <td>L</td>\n",
       "      <td>3.10</td>\n",
       "      <td>A</td>\n",
       "      <td>37</td>\n",
       "      <td>False</td>\n",
       "    </tr>\n",
       "    <tr>\n",
       "      <th>3</th>\n",
       "      <td>2013-12-31</td>\n",
       "      <td>139014</td>\n",
       "      <td>6511639</td>\n",
       "      <td>2011-09-16</td>\n",
       "      <td>2016-09-30</td>\n",
       "      <td>NaT</td>\n",
       "      <td>29959.15</td>\n",
       "      <td>19691.64</td>\n",
       "      <td>18285.89</td>\n",
       "      <td>2</td>\n",
       "      <td>1410</td>\n",
       "      <td>FL0801</td>\n",
       "      <td>A</td>\n",
       "      <td>7.95</td>\n",
       "      <td>B</td>\n",
       "      <td>49</td>\n",
       "      <td>False</td>\n",
       "    </tr>\n",
       "    <tr>\n",
       "      <th>4</th>\n",
       "      <td>2013-12-31</td>\n",
       "      <td>952566</td>\n",
       "      <td>6143123</td>\n",
       "      <td>2011-05-23</td>\n",
       "      <td>2014-05-31</td>\n",
       "      <td>NaT</td>\n",
       "      <td>100000.00</td>\n",
       "      <td>24797.93</td>\n",
       "      <td>15685.33</td>\n",
       "      <td>1</td>\n",
       "      <td>1410</td>\n",
       "      <td>FL0801</td>\n",
       "      <td>A</td>\n",
       "      <td>9.70</td>\n",
       "      <td>B</td>\n",
       "      <td>35</td>\n",
       "      <td>False</td>\n",
       "    </tr>\n",
       "  </tbody>\n",
       "</table>\n",
       "</div>"
      ],
      "text/plain": [
       "  DATUM_IZVJESTAVANJA KLIJENT_ID OZNAKA_PARTIJE DATUM_OTVARANJA  \\\n",
       "0          2013-12-31     412140        7146814      2012-08-27   \n",
       "1          2013-12-31     772139        5521579      2010-06-11   \n",
       "2          2013-12-31     481985        7443823      2013-01-23   \n",
       "3          2013-12-31     139014        6511639      2011-09-16   \n",
       "4          2013-12-31     952566        6143123      2011-05-23   \n",
       "\n",
       "  PLANIRANI_DATUM_ZATVARANJA DATUM_ZATVARANJA  UGOVORENI_IZNOS  \\\n",
       "0                 2018-04-30              NaT        629155.97   \n",
       "1                 2017-06-30              NaT         46000.00   \n",
       "2                 2018-02-28              NaT         44679.50   \n",
       "3                 2016-09-30              NaT         29959.15   \n",
       "4                 2014-05-31              NaT        100000.00   \n",
       "\n",
       "   STANJE_NA_KRAJU_PRETH_KVARTALA  STANJE_NA_KRAJU_KVARTALA VALUTA  \\\n",
       "0                       639373.81                 641562.01      2   \n",
       "1                        28481.94                  26887.19      1   \n",
       "2                        44908.40                  45062.09      2   \n",
       "3                        19691.64                  18285.89      2   \n",
       "4                        24797.93                  15685.33      1   \n",
       "\n",
       "  VRSTA_KLIJENTA PROIZVOD VRSTA_PROIZVODA  VISINA_KAMATE TIP_KAMATE  STAROST  \\\n",
       "0           1420   TM0109               L           1.50          A       22   \n",
       "1           1410   FL0801               A           9.70          B       38   \n",
       "2           1550   FD0100               L           3.10          A       37   \n",
       "3           1410   FL0801               A           7.95          B       49   \n",
       "4           1410   FL0801               A           9.70          B       35   \n",
       "\n",
       "   PRIJEVREMENI_RASKID  \n",
       "0                False  \n",
       "1                False  \n",
       "2                False  \n",
       "3                False  \n",
       "4                False  "
      ]
     },
     "execution_count": 4,
     "metadata": {},
     "output_type": "execute_result"
    }
   ],
   "source": [
    "# Prvih nekoliko redaka\n",
    "df.head()\n"
   ]
  },
  {
   "cell_type": "code",
   "execution_count": 5,
   "metadata": {},
   "outputs": [
    {
     "data": {
      "text/html": [
       "<div>\n",
       "<style scoped>\n",
       "    .dataframe tbody tr th:only-of-type {\n",
       "        vertical-align: middle;\n",
       "    }\n",
       "\n",
       "    .dataframe tbody tr th {\n",
       "        vertical-align: top;\n",
       "    }\n",
       "\n",
       "    .dataframe thead th {\n",
       "        text-align: right;\n",
       "    }\n",
       "</style>\n",
       "<table border=\"1\" class=\"dataframe\">\n",
       "  <thead>\n",
       "    <tr style=\"text-align: right;\">\n",
       "      <th></th>\n",
       "      <th>DATUM_IZVJESTAVANJA</th>\n",
       "      <th>KLIJENT_ID</th>\n",
       "      <th>OZNAKA_PARTIJE</th>\n",
       "      <th>DATUM_OTVARANJA</th>\n",
       "      <th>PLANIRANI_DATUM_ZATVARANJA</th>\n",
       "      <th>DATUM_ZATVARANJA</th>\n",
       "      <th>UGOVORENI_IZNOS</th>\n",
       "      <th>STANJE_NA_KRAJU_PRETH_KVARTALA</th>\n",
       "      <th>STANJE_NA_KRAJU_KVARTALA</th>\n",
       "      <th>VALUTA</th>\n",
       "      <th>VRSTA_KLIJENTA</th>\n",
       "      <th>PROIZVOD</th>\n",
       "      <th>VRSTA_PROIZVODA</th>\n",
       "      <th>VISINA_KAMATE</th>\n",
       "      <th>TIP_KAMATE</th>\n",
       "      <th>STAROST</th>\n",
       "      <th>PRIJEVREMENI_RASKID</th>\n",
       "    </tr>\n",
       "  </thead>\n",
       "  <tbody>\n",
       "    <tr>\n",
       "      <th>5193119</th>\n",
       "      <td>2011-03-31</td>\n",
       "      <td>91448</td>\n",
       "      <td>5952541</td>\n",
       "      <td>2011-03-22</td>\n",
       "      <td>NaT</td>\n",
       "      <td>NaT</td>\n",
       "      <td>228977.87</td>\n",
       "      <td>NaN</td>\n",
       "      <td>228867.02</td>\n",
       "      <td>2</td>\n",
       "      <td>1410</td>\n",
       "      <td>TM0109</td>\n",
       "      <td>L</td>\n",
       "      <td>3.90</td>\n",
       "      <td>A</td>\n",
       "      <td>46</td>\n",
       "      <td>False</td>\n",
       "    </tr>\n",
       "    <tr>\n",
       "      <th>5193120</th>\n",
       "      <td>2011-03-31</td>\n",
       "      <td>642422</td>\n",
       "      <td>5615789</td>\n",
       "      <td>2010-08-11</td>\n",
       "      <td>2012-08-31</td>\n",
       "      <td>NaT</td>\n",
       "      <td>10420.82</td>\n",
       "      <td>8945.30</td>\n",
       "      <td>7638.62</td>\n",
       "      <td>2</td>\n",
       "      <td>1410</td>\n",
       "      <td>FL1600</td>\n",
       "      <td>A</td>\n",
       "      <td>4.00</td>\n",
       "      <td>C</td>\n",
       "      <td>62</td>\n",
       "      <td>False</td>\n",
       "    </tr>\n",
       "    <tr>\n",
       "      <th>5193121</th>\n",
       "      <td>2011-03-31</td>\n",
       "      <td>585010</td>\n",
       "      <td>1267220</td>\n",
       "      <td>2003-10-20</td>\n",
       "      <td>2028-10-31</td>\n",
       "      <td>NaT</td>\n",
       "      <td>486353.44</td>\n",
       "      <td>419939.30</td>\n",
       "      <td>416042.95</td>\n",
       "      <td>2</td>\n",
       "      <td>1410</td>\n",
       "      <td>FL1301</td>\n",
       "      <td>A</td>\n",
       "      <td>8.50</td>\n",
       "      <td>C</td>\n",
       "      <td>41</td>\n",
       "      <td>False</td>\n",
       "    </tr>\n",
       "    <tr>\n",
       "      <th>5193122</th>\n",
       "      <td>2012-03-31</td>\n",
       "      <td>330608</td>\n",
       "      <td>1413623</td>\n",
       "      <td>2006-10-27</td>\n",
       "      <td>2013-10-31</td>\n",
       "      <td>NaT</td>\n",
       "      <td>102421.36</td>\n",
       "      <td>40550.36</td>\n",
       "      <td>37387.95</td>\n",
       "      <td>4</td>\n",
       "      <td>1410</td>\n",
       "      <td>FL1201</td>\n",
       "      <td>A</td>\n",
       "      <td>4.95</td>\n",
       "      <td>C</td>\n",
       "      <td>40</td>\n",
       "      <td>False</td>\n",
       "    </tr>\n",
       "    <tr>\n",
       "      <th>5193123</th>\n",
       "      <td>2012-03-31</td>\n",
       "      <td>78952</td>\n",
       "      <td>6735617</td>\n",
       "      <td>2012-02-09</td>\n",
       "      <td>NaT</td>\n",
       "      <td>NaT</td>\n",
       "      <td>3000.00</td>\n",
       "      <td>NaN</td>\n",
       "      <td>3000.00</td>\n",
       "      <td>1</td>\n",
       "      <td>1410</td>\n",
       "      <td>TM0109</td>\n",
       "      <td>L</td>\n",
       "      <td>3.70</td>\n",
       "      <td>A</td>\n",
       "      <td>69</td>\n",
       "      <td>False</td>\n",
       "    </tr>\n",
       "  </tbody>\n",
       "</table>\n",
       "</div>"
      ],
      "text/plain": [
       "        DATUM_IZVJESTAVANJA KLIJENT_ID OZNAKA_PARTIJE DATUM_OTVARANJA  \\\n",
       "5193119          2011-03-31      91448        5952541      2011-03-22   \n",
       "5193120          2011-03-31     642422        5615789      2010-08-11   \n",
       "5193121          2011-03-31     585010        1267220      2003-10-20   \n",
       "5193122          2012-03-31     330608        1413623      2006-10-27   \n",
       "5193123          2012-03-31      78952        6735617      2012-02-09   \n",
       "\n",
       "        PLANIRANI_DATUM_ZATVARANJA DATUM_ZATVARANJA  UGOVORENI_IZNOS  \\\n",
       "5193119                        NaT              NaT        228977.87   \n",
       "5193120                 2012-08-31              NaT         10420.82   \n",
       "5193121                 2028-10-31              NaT        486353.44   \n",
       "5193122                 2013-10-31              NaT        102421.36   \n",
       "5193123                        NaT              NaT          3000.00   \n",
       "\n",
       "         STANJE_NA_KRAJU_PRETH_KVARTALA  STANJE_NA_KRAJU_KVARTALA VALUTA  \\\n",
       "5193119                             NaN                 228867.02      2   \n",
       "5193120                         8945.30                   7638.62      2   \n",
       "5193121                       419939.30                 416042.95      2   \n",
       "5193122                        40550.36                  37387.95      4   \n",
       "5193123                             NaN                   3000.00      1   \n",
       "\n",
       "        VRSTA_KLIJENTA PROIZVOD VRSTA_PROIZVODA  VISINA_KAMATE TIP_KAMATE  \\\n",
       "5193119           1410   TM0109               L           3.90          A   \n",
       "5193120           1410   FL1600               A           4.00          C   \n",
       "5193121           1410   FL1301               A           8.50          C   \n",
       "5193122           1410   FL1201               A           4.95          C   \n",
       "5193123           1410   TM0109               L           3.70          A   \n",
       "\n",
       "         STAROST  PRIJEVREMENI_RASKID  \n",
       "5193119       46                False  \n",
       "5193120       62                False  \n",
       "5193121       41                False  \n",
       "5193122       40                False  \n",
       "5193123       69                False  "
      ]
     },
     "execution_count": 5,
     "metadata": {},
     "output_type": "execute_result"
    }
   ],
   "source": [
    "# Zadnjih nekoliko redaka\n",
    "df.tail()\n"
   ]
  },
  {
   "cell_type": "markdown",
   "metadata": {},
   "source": [
    "Definirat cemo i neke funkcije koje ce nam olaksati jednostavnu analizu stupaca.\n"
   ]
  },
  {
   "cell_type": "code",
   "execution_count": 6,
   "metadata": {},
   "outputs": [],
   "source": [
    "##  DEFINICIJE NEKIH FUNKCIJA ZA ANALIZU PODATAKA\n",
    "\n",
    "def analiziraj_num_stupac (col):\n",
    "    \"\"\"\n",
    "    Saznaj neke podatke o stupcu s numerickim vrijednostima.\n",
    "\n",
    "    Argument col trebao bi biti dobiven ekstrakcijom stupca iz neke tablice\n",
    "    (objekt tipa pandas.DataFrame) i trebao bi biti numerickog tipa.  Ako ti\n",
    "    zahtjevi nisu ispunjeni, ponasanje funkcije moze biti neocekivano.\n",
    "\n",
    "    Povratni objekt je rjecnik (objekt tipa dict) s kljucevima i vrijednostima:\n",
    "        --  'min'   --  najmanja vrijednost u stupcu,\n",
    "        --  'max'   --  najveca vrijednost u stupcu,\n",
    "        --  'range' --  raspon vrijednosti u stupcu (max - min),\n",
    "        --  'nulls' --  broj nedefiniranih vrijednosti u stupcu,\n",
    "        --  'uniques'   --  broj jedinstvenih definiranih vrijednosti u stupcu.\n",
    "\n",
    "    Ostatak deskriptivne statistike ne racuna se jer se takvi podatci (pa cak i\n",
    "    neki od ovdje izracunatih) mogu dehvatiti pozivom metode\n",
    "    pandas.DataFrame.describe.\n",
    "\n",
    "    \"\"\"\n",
    "\n",
    "    nonvalids = pd.isnull(col)\n",
    "    extrmin = col.min()\n",
    "    extrmax = col.max()\n",
    "\n",
    "    return {\n",
    "        'min' : extrmin,\n",
    "        'max' : extrmax,\n",
    "        'range' : extrmax - extrmin,\n",
    "        'nulls' : int(nonvalids.sum()),\n",
    "        'uniques' : int(col[np.logical_not(nonvalids)].unique().size)\n",
    "    }\n",
    "\n",
    "def analiziraj_bool_stupac (col):\n",
    "    \"\"\"\n",
    "    Saznaj neke podatke o stupcu s vrijednostima istina/laz.\n",
    "\n",
    "    Argument col trebao bi biti dobiven ekstrakcijom stupca iz neke tablice\n",
    "    (objekt tipa pandas.DataFrame) i trebao bi biti vrijednosti istina/laz.  Ako\n",
    "    ti zahtjevi nisu ispunjeni, ponasanje funkcije moze biti neocekivano.  Ipak,\n",
    "    ponekad je korisno i za, na primjer, numericke stupce saznati koliko imaju\n",
    "    vrijednosti jednakih 0, a koliko razlicitih 0: poziv ove funkcije nad\n",
    "    numerickim stupcem vraca upravo takve podatke.  U biti, sve se definirane\n",
    "    vrijednosti u stupcu prvo pokusaju interpretirati kao vrijednosti istina/laz\n",
    "    i onda se takav stupac analizira.  Dakle, ponasanje i povratna vrijednost\n",
    "    funkcije ovise o nacinu konverzije podataka.\n",
    "\n",
    "    Povratni objekt je rjecnik (objekt tipa dict) s kljucevima i vrijednostima:\n",
    "        --  'nulls' --  broj nedefiniranih vrijednosti u stupcu,\n",
    "        --  'trues' --  broj istinitih vrijednosti u stupcu,\n",
    "        --  'falses'    --  broj laznih vrijednosti u stupcu.\n",
    "\n",
    "    \"\"\"\n",
    "\n",
    "    nonvalids = pd.isnull(col)\n",
    "    bools = col[np.logical_not(nonvalids)].astype(bool)\n",
    "    trues = int(bools.sum())\n",
    "    falses = int(bools.size - trues)\n",
    "\n",
    "    return {\n",
    "        'nulls' : int(nonvalids.sum()),\n",
    "        'trues' : trues,\n",
    "        'falses' : falses\n",
    "    }\n",
    "\n",
    "def analiziraj_str_stupac (col):\n",
    "    \"\"\"\n",
    "    Saznaj neke podatke o stupcu s kategorickim vrijednostima.\n",
    "\n",
    "    Argument col trebao bi biti dobiven ekstrakcijom stupca iz neke tablice\n",
    "    (objekt tipa pandas.DataFrame) i trebao bi sadrzavati kategoricke\n",
    "    vrijednosti (najcesce u obliku stringova, ali moze biti i bilo kojeg drugog\n",
    "    tipa).\n",
    "\n",
    "    Povratni objekt je rjecnik (objekt tipa dict) s kljucevima i vrijednostima:\n",
    "        --  'nulls' --  broj nedefiniranih vrijednosti u stupcu,\n",
    "        --  'uniques'   --  broj jedinstvenih definiranih vrijednosti u stupcu.\n",
    "\n",
    "    \"\"\"\n",
    "\n",
    "    nonvalids = pd.isnull(col)\n",
    "\n",
    "    return {\n",
    "        'nulls' : int(nonvalids.sum()),\n",
    "        'uniques' : int(col[np.logical_not(nonvalids)].unique().size)\n",
    "    }\n"
   ]
  },
  {
   "cell_type": "markdown",
   "metadata": {},
   "source": [
    "Slijede kratke analize stupaca. Iz poziva funkcija je evidentno kojem stupcu odgovara koji ispis (svi su stupci, osim prvog jer njegovo značenje nije jasno<sup>[1](#fnote-1), [2](#fnote-2)</sup>, analizirani, a čak su analizirane i razlike između stupaca *DATUM_OTVARANJA*, *PLANIRANI_DATUM_ZATVARANJA* i *DATUM_ZATVARANJA*, stupaca *STANJE_NA_KRAJU_KVARTALA* i *STANJE_NA_KRAJU_PRETH_KVARTALA* i stupaca *UGOVORENI_IZNOS* i *STANJE_NA_KRAJU_KVARTALA*, ali stupci nisu analizirani redom kojim se pojavljuju u tablici).\n"
   ]
  },
  {
   "cell_type": "code",
   "execution_count": 7,
   "metadata": {},
   "outputs": [
    {
     "data": {
      "text/plain": [
       "{'nulls': 0, 'uniques': 256858}"
      ]
     },
     "execution_count": 7,
     "metadata": {},
     "output_type": "execute_result"
    }
   ],
   "source": [
    "analiziraj_str_stupac(df.KLIJENT_ID)\n"
   ]
  },
  {
   "cell_type": "code",
   "execution_count": 8,
   "metadata": {},
   "outputs": [
    {
     "data": {
      "text/plain": [
       "{'nulls': 0, 'uniques': 579332}"
      ]
     },
     "execution_count": 8,
     "metadata": {},
     "output_type": "execute_result"
    }
   ],
   "source": [
    "analiziraj_str_stupac(df.OZNAKA_PARTIJE)\n"
   ]
  },
  {
   "cell_type": "code",
   "execution_count": 9,
   "metadata": {},
   "outputs": [
    {
     "data": {
      "text/plain": [
       "{'nulls': 0, 'uniques': 13}"
      ]
     },
     "execution_count": 9,
     "metadata": {},
     "output_type": "execute_result"
    }
   ],
   "source": [
    "analiziraj_str_stupac(df.VRSTA_KLIJENTA)\n"
   ]
  },
  {
   "cell_type": "code",
   "execution_count": 10,
   "metadata": {},
   "outputs": [
    {
     "data": {
      "text/plain": [
       "{'nulls': 0, 'uniques': 2}"
      ]
     },
     "execution_count": 10,
     "metadata": {},
     "output_type": "execute_result"
    }
   ],
   "source": [
    "analiziraj_str_stupac(df.VRSTA_PROIZVODA)\n"
   ]
  },
  {
   "cell_type": "code",
   "execution_count": 11,
   "metadata": {},
   "outputs": [
    {
     "data": {
      "text/plain": [
       "{'nulls': 0, 'uniques': 32}"
      ]
     },
     "execution_count": 11,
     "metadata": {},
     "output_type": "execute_result"
    }
   ],
   "source": [
    "analiziraj_str_stupac(df.PROIZVOD)\n"
   ]
  },
  {
   "cell_type": "code",
   "execution_count": 12,
   "metadata": {},
   "outputs": [
    {
     "data": {
      "text/plain": [
       "{'nulls': 0, 'uniques': 5}"
      ]
     },
     "execution_count": 12,
     "metadata": {},
     "output_type": "execute_result"
    }
   ],
   "source": [
    "analiziraj_str_stupac(df.VALUTA)\n"
   ]
  },
  {
   "cell_type": "code",
   "execution_count": 13,
   "metadata": {},
   "outputs": [
    {
     "data": {
      "text/plain": [
       "{'nulls': 0, 'uniques': 4}"
      ]
     },
     "execution_count": 13,
     "metadata": {},
     "output_type": "execute_result"
    }
   ],
   "source": [
    "analiziraj_str_stupac(df.TIP_KAMATE)\n"
   ]
  },
  {
   "cell_type": "code",
   "execution_count": 14,
   "metadata": {},
   "outputs": [
    {
     "data": {
      "text/plain": [
       "{'max': 908, 'min': -7994, 'nulls': 0, 'range': 8902, 'uniques': 130}"
      ]
     },
     "execution_count": 14,
     "metadata": {},
     "output_type": "execute_result"
    }
   ],
   "source": [
    "analiziraj_num_stupac(df.STAROST)\n"
   ]
  },
  {
   "cell_type": "code",
   "execution_count": 15,
   "metadata": {},
   "outputs": [
    {
     "data": {
      "text/plain": [
       "{'max': Timestamp('2018-12-31 00:00:00'),\n",
       " 'min': Timestamp('2011-03-31 00:00:00'),\n",
       " 'nulls': 0,\n",
       " 'range': Timedelta('2832 days 00:00:00'),\n",
       " 'uniques': 32}"
      ]
     },
     "execution_count": 15,
     "metadata": {},
     "output_type": "execute_result"
    }
   ],
   "source": [
    "analiziraj_num_stupac(df.DATUM_IZVJESTAVANJA)\n"
   ]
  },
  {
   "cell_type": "code",
   "execution_count": 16,
   "metadata": {},
   "outputs": [
    {
     "data": {
      "text/plain": [
       "{'max': Timestamp('2018-12-31 00:00:00'),\n",
       " 'min': Timestamp('1995-10-19 00:00:00'),\n",
       " 'nulls': 0,\n",
       " 'range': Timedelta('8474 days 00:00:00'),\n",
       " 'uniques': 6207}"
      ]
     },
     "execution_count": 16,
     "metadata": {},
     "output_type": "execute_result"
    }
   ],
   "source": [
    "analiziraj_num_stupac(df.DATUM_OTVARANJA)\n"
   ]
  },
  {
   "cell_type": "code",
   "execution_count": 17,
   "metadata": {},
   "outputs": [
    {
     "data": {
      "text/plain": [
       "{'max': Timestamp('2048-09-30 00:00:00'),\n",
       " 'min': Timestamp('1999-05-31 00:00:00'),\n",
       " 'nulls': 421129,\n",
       " 'range': Timedelta('18020 days 00:00:00'),\n",
       " 'uniques': 4769}"
      ]
     },
     "execution_count": 17,
     "metadata": {},
     "output_type": "execute_result"
    }
   ],
   "source": [
    "analiziraj_num_stupac(df.PLANIRANI_DATUM_ZATVARANJA)\n"
   ]
  },
  {
   "cell_type": "code",
   "execution_count": 18,
   "metadata": {},
   "outputs": [
    {
     "data": {
      "text/plain": [
       "{'max': Timestamp('2018-12-31 00:00:00'),\n",
       " 'min': Timestamp('2005-01-21 00:00:00'),\n",
       " 'nulls': 3978638,\n",
       " 'range': Timedelta('5092 days 00:00:00'),\n",
       " 'uniques': 3077}"
      ]
     },
     "execution_count": 18,
     "metadata": {},
     "output_type": "execute_result"
    }
   ],
   "source": [
    "analiziraj_num_stupac(df.DATUM_ZATVARANJA)\n"
   ]
  },
  {
   "cell_type": "code",
   "execution_count": 19,
   "metadata": {},
   "outputs": [
    {
     "data": {
      "text/plain": [
       "{'max': Timedelta('14635 days 00:00:00'),\n",
       " 'min': Timedelta('-2308 days +00:00:00'),\n",
       " 'nulls': 421129,\n",
       " 'range': Timedelta('16943 days 00:00:00'),\n",
       " 'uniques': 7014}"
      ]
     },
     "execution_count": 19,
     "metadata": {},
     "output_type": "execute_result"
    }
   ],
   "source": [
    "analiziraj_num_stupac(df.PLANIRANI_DATUM_ZATVARANJA - df.DATUM_OTVARANJA)\n"
   ]
  },
  {
   "cell_type": "code",
   "execution_count": 20,
   "metadata": {},
   "outputs": [
    {
     "data": {
      "text/plain": [
       "{'max': Timedelta('6791 days 00:00:00'),\n",
       " 'min': Timedelta('-11620 days +00:00:00'),\n",
       " 'nulls': 4011681,\n",
       " 'range': Timedelta('18411 days 00:00:00'),\n",
       " 'uniques': 7600}"
      ]
     },
     "execution_count": 20,
     "metadata": {},
     "output_type": "execute_result"
    }
   ],
   "source": [
    "analiziraj_num_stupac(df.DATUM_ZATVARANJA - df.PLANIRANI_DATUM_ZATVARANJA)\n"
   ]
  },
  {
   "cell_type": "code",
   "execution_count": 21,
   "metadata": {},
   "outputs": [
    {
     "data": {
      "text/plain": [
       "{'max': Timedelta('7762 days 00:00:00'),\n",
       " 'min': Timedelta('-324 days +00:00:00'),\n",
       " 'nulls': 3978638,\n",
       " 'range': Timedelta('8086 days 00:00:00'),\n",
       " 'uniques': 5809}"
      ]
     },
     "execution_count": 21,
     "metadata": {},
     "output_type": "execute_result"
    }
   ],
   "source": [
    "analiziraj_num_stupac(df.DATUM_ZATVARANJA - df.DATUM_OTVARANJA)\n"
   ]
  },
  {
   "cell_type": "code",
   "execution_count": 22,
   "metadata": {},
   "outputs": [
    {
     "data": {
      "text/plain": [
       "{'falses': 4876819, 'nulls': 0, 'trues': 316305}"
      ]
     },
     "execution_count": 22,
     "metadata": {},
     "output_type": "execute_result"
    }
   ],
   "source": [
    "analiziraj_bool_stupac(df.PRIJEVREMENI_RASKID)\n"
   ]
  },
  {
   "cell_type": "code",
   "execution_count": 23,
   "metadata": {},
   "outputs": [
    {
     "data": {
      "text/plain": [
       "{'max': 605504800.0,\n",
       " 'min': 0.0,\n",
       " 'nulls': 0,\n",
       " 'range': 605504800.0,\n",
       " 'uniques': 675756}"
      ]
     },
     "execution_count": 23,
     "metadata": {},
     "output_type": "execute_result"
    }
   ],
   "source": [
    "analiziraj_num_stupac(df.UGOVORENI_IZNOS)\n"
   ]
  },
  {
   "cell_type": "code",
   "execution_count": 24,
   "metadata": {},
   "outputs": [
    {
     "data": {
      "text/plain": [
       "{'max': 80.8, 'min': -0.004, 'nulls': 51702, 'range': 80.804, 'uniques': 1796}"
      ]
     },
     "execution_count": 24,
     "metadata": {},
     "output_type": "execute_result"
    }
   ],
   "source": [
    "analiziraj_num_stupac(df.VISINA_KAMATE)\n"
   ]
  },
  {
   "cell_type": "code",
   "execution_count": 25,
   "metadata": {},
   "outputs": [
    {
     "data": {
      "text/plain": [
       "{'max': 610566240.0,\n",
       " 'min': -59.81,\n",
       " 'nulls': 421068,\n",
       " 'range': 610566299.81,\n",
       " 'uniques': 2776041}"
      ]
     },
     "execution_count": 25,
     "metadata": {},
     "output_type": "execute_result"
    }
   ],
   "source": [
    "analiziraj_num_stupac(df.STANJE_NA_KRAJU_PRETH_KVARTALA)\n"
   ]
  },
  {
   "cell_type": "code",
   "execution_count": 26,
   "metadata": {},
   "outputs": [
    {
     "data": {
      "text/plain": [
       "{'max': 610566240.0,\n",
       " 'min': -59.81,\n",
       " 'nulls': 0,\n",
       " 'range': 610566299.81,\n",
       " 'uniques': 2746314}"
      ]
     },
     "execution_count": 26,
     "metadata": {},
     "output_type": "execute_result"
    }
   ],
   "source": [
    "analiziraj_num_stupac(df.STANJE_NA_KRAJU_KVARTALA)\n"
   ]
  },
  {
   "cell_type": "code",
   "execution_count": 27,
   "metadata": {
    "scrolled": true
   },
   "outputs": [
    {
     "data": {
      "text/plain": [
       "{'max': 77423644.13,\n",
       " 'min': -381313350.0,\n",
       " 'nulls': 421068,\n",
       " 'range': 458736994.13,\n",
       " 'uniques': 2183943}"
      ]
     },
     "execution_count": 27,
     "metadata": {},
     "output_type": "execute_result"
    }
   ],
   "source": [
    "analiziraj_num_stupac(\n",
    "    df.STANJE_NA_KRAJU_KVARTALA - df.STANJE_NA_KRAJU_PRETH_KVARTALA\n",
    ")\n"
   ]
  },
  {
   "cell_type": "code",
   "execution_count": 28,
   "metadata": {},
   "outputs": [
    {
     "data": {
      "text/plain": [
       "{'max': 29531228.0,\n",
       " 'min': -569612740.44,\n",
       " 'nulls': 0,\n",
       " 'range': 599143968.44,\n",
       " 'uniques': 3108583}"
      ]
     },
     "execution_count": 28,
     "metadata": {},
     "output_type": "execute_result"
    }
   ],
   "source": [
    "analiziraj_num_stupac(df.STANJE_NA_KRAJU_KVARTALA - df.UGOVORENI_IZNOS)"
   ]
  },
  {
   "cell_type": "markdown",
   "metadata": {},
   "source": [
    "<sup><a name=\"fnote-1\"></a>1</sup> Na prijedlog Domagoja Ravlića zaključili smo da je skup podataka dobiven odabirom i ekstrakcijom nekih redaka u nekom većem skupu podataka, a da vrijednosti u prvom stupcu označavaju redne brojeve redaka u tom većem skupu podataka. &larr; **POTVRDIO NARUČITELJ ZADATKA**\n",
    "\n",
    "<sup><a name=\"fnote-2\"></a>2</sup> Stupac *Unnamed: 0.1* je izbačen iz tablice.\n"
   ]
  },
  {
   "cell_type": "markdown",
   "metadata": {},
   "source": [
    "### Inspekcija sumnjivih dijelova <a name=\"inspekcija-sumnjivih-dijelova\"></a>\n"
   ]
  },
  {
   "cell_type": "markdown",
   "metadata": {},
   "source": [
    "U analizi stupaca možemo primijetiti, na primjer, da postoji i negativna starost<sup>[3](#fnote-3)</sup> (minimum u stupcu *STAROST* iznosi $ {- 7994} $ &mdash; prije nešto više od $ 7 $ tisuća godina je smještena radnja *Knjige postanka* u *Bibliji*, dakle, do osnutka odnosno rođenja ovog klijenta morali bismo pričekati otprilike onoliko koliko je prošlo od rođenja Adama i Eve ili, malo znanstvenije, od novog kamenog doba ili bakrenog doba u nekim dijelovima svijeta).\n",
    "\n",
    "Provjerimo sada sve negativne starosti.\n"
   ]
  },
  {
   "cell_type": "code",
   "execution_count": 29,
   "metadata": {},
   "outputs": [
    {
     "data": {
      "text/html": [
       "<div>\n",
       "<style scoped>\n",
       "    .dataframe tbody tr th:only-of-type {\n",
       "        vertical-align: middle;\n",
       "    }\n",
       "\n",
       "    .dataframe tbody tr th {\n",
       "        vertical-align: top;\n",
       "    }\n",
       "\n",
       "    .dataframe thead th {\n",
       "        text-align: right;\n",
       "    }\n",
       "</style>\n",
       "<table border=\"1\" class=\"dataframe\">\n",
       "  <thead>\n",
       "    <tr style=\"text-align: right;\">\n",
       "      <th></th>\n",
       "      <th>DATUM_IZVJESTAVANJA</th>\n",
       "      <th>KLIJENT_ID</th>\n",
       "      <th>OZNAKA_PARTIJE</th>\n",
       "      <th>DATUM_OTVARANJA</th>\n",
       "      <th>PLANIRANI_DATUM_ZATVARANJA</th>\n",
       "      <th>DATUM_ZATVARANJA</th>\n",
       "      <th>UGOVORENI_IZNOS</th>\n",
       "      <th>STANJE_NA_KRAJU_PRETH_KVARTALA</th>\n",
       "      <th>STANJE_NA_KRAJU_KVARTALA</th>\n",
       "      <th>VALUTA</th>\n",
       "      <th>VRSTA_KLIJENTA</th>\n",
       "      <th>PROIZVOD</th>\n",
       "      <th>VRSTA_PROIZVODA</th>\n",
       "      <th>VISINA_KAMATE</th>\n",
       "      <th>TIP_KAMATE</th>\n",
       "      <th>STAROST</th>\n",
       "      <th>PRIJEVREMENI_RASKID</th>\n",
       "    </tr>\n",
       "  </thead>\n",
       "  <tbody>\n",
       "    <tr>\n",
       "      <th>2608</th>\n",
       "      <td>2013-12-31</td>\n",
       "      <td>15133</td>\n",
       "      <td>6643434</td>\n",
       "      <td>2011-12-23</td>\n",
       "      <td>2017-01-31</td>\n",
       "      <td>NaT</td>\n",
       "      <td>3500000.00</td>\n",
       "      <td>3517500.00</td>\n",
       "      <td>3518083.33</td>\n",
       "      <td>1</td>\n",
       "      <td>1120</td>\n",
       "      <td>FL0900</td>\n",
       "      <td>A</td>\n",
       "      <td>6.0000</td>\n",
       "      <td>A</td>\n",
       "      <td>-1</td>\n",
       "      <td>False</td>\n",
       "    </tr>\n",
       "    <tr>\n",
       "      <th>38057</th>\n",
       "      <td>2014-09-30</td>\n",
       "      <td>639748</td>\n",
       "      <td>7479194</td>\n",
       "      <td>2014-08-13</td>\n",
       "      <td>2014-08-13</td>\n",
       "      <td>2014-12-09</td>\n",
       "      <td>50000.00</td>\n",
       "      <td>50000.00</td>\n",
       "      <td>0.00</td>\n",
       "      <td>1</td>\n",
       "      <td>1430</td>\n",
       "      <td>TM0109</td>\n",
       "      <td>L</td>\n",
       "      <td>1.1072</td>\n",
       "      <td>A</td>\n",
       "      <td>-7990</td>\n",
       "      <td>False</td>\n",
       "    </tr>\n",
       "    <tr>\n",
       "      <th>80261</th>\n",
       "      <td>2011-09-30</td>\n",
       "      <td>991796</td>\n",
       "      <td>4786161</td>\n",
       "      <td>2009-12-02</td>\n",
       "      <td>2014-12-31</td>\n",
       "      <td>NaT</td>\n",
       "      <td>25547376.68</td>\n",
       "      <td>15422303.88</td>\n",
       "      <td>15669257.06</td>\n",
       "      <td>2</td>\n",
       "      <td>1110</td>\n",
       "      <td>FL0202</td>\n",
       "      <td>A</td>\n",
       "      <td>0.0000</td>\n",
       "      <td>B</td>\n",
       "      <td>-7993</td>\n",
       "      <td>False</td>\n",
       "    </tr>\n",
       "    <tr>\n",
       "      <th>86903</th>\n",
       "      <td>2012-03-31</td>\n",
       "      <td>991796</td>\n",
       "      <td>4786161</td>\n",
       "      <td>2009-12-02</td>\n",
       "      <td>2014-12-31</td>\n",
       "      <td>NaT</td>\n",
       "      <td>25547376.68</td>\n",
       "      <td>15749562.80</td>\n",
       "      <td>15700407.25</td>\n",
       "      <td>2</td>\n",
       "      <td>1110</td>\n",
       "      <td>FL0202</td>\n",
       "      <td>A</td>\n",
       "      <td>0.0000</td>\n",
       "      <td>B</td>\n",
       "      <td>-7993</td>\n",
       "      <td>False</td>\n",
       "    </tr>\n",
       "    <tr>\n",
       "      <th>146187</th>\n",
       "      <td>2011-12-31</td>\n",
       "      <td>15133</td>\n",
       "      <td>6643434</td>\n",
       "      <td>2011-12-23</td>\n",
       "      <td>NaT</td>\n",
       "      <td>NaT</td>\n",
       "      <td>3500000.00</td>\n",
       "      <td>NaN</td>\n",
       "      <td>0.00</td>\n",
       "      <td>1</td>\n",
       "      <td>1120</td>\n",
       "      <td>FL0900</td>\n",
       "      <td>A</td>\n",
       "      <td>6.0000</td>\n",
       "      <td>A</td>\n",
       "      <td>-3</td>\n",
       "      <td>False</td>\n",
       "    </tr>\n",
       "  </tbody>\n",
       "</table>\n",
       "</div>"
      ],
      "text/plain": [
       "       DATUM_IZVJESTAVANJA KLIJENT_ID OZNAKA_PARTIJE DATUM_OTVARANJA  \\\n",
       "2608            2013-12-31      15133        6643434      2011-12-23   \n",
       "38057           2014-09-30     639748        7479194      2014-08-13   \n",
       "80261           2011-09-30     991796        4786161      2009-12-02   \n",
       "86903           2012-03-31     991796        4786161      2009-12-02   \n",
       "146187          2011-12-31      15133        6643434      2011-12-23   \n",
       "\n",
       "       PLANIRANI_DATUM_ZATVARANJA DATUM_ZATVARANJA  UGOVORENI_IZNOS  \\\n",
       "2608                   2017-01-31              NaT       3500000.00   \n",
       "38057                  2014-08-13       2014-12-09         50000.00   \n",
       "80261                  2014-12-31              NaT      25547376.68   \n",
       "86903                  2014-12-31              NaT      25547376.68   \n",
       "146187                        NaT              NaT       3500000.00   \n",
       "\n",
       "        STANJE_NA_KRAJU_PRETH_KVARTALA  STANJE_NA_KRAJU_KVARTALA VALUTA  \\\n",
       "2608                        3517500.00                3518083.33      1   \n",
       "38057                         50000.00                      0.00      1   \n",
       "80261                      15422303.88               15669257.06      2   \n",
       "86903                      15749562.80               15700407.25      2   \n",
       "146187                             NaN                      0.00      1   \n",
       "\n",
       "       VRSTA_KLIJENTA PROIZVOD VRSTA_PROIZVODA  VISINA_KAMATE TIP_KAMATE  \\\n",
       "2608             1120   FL0900               A         6.0000          A   \n",
       "38057            1430   TM0109               L         1.1072          A   \n",
       "80261            1110   FL0202               A         0.0000          B   \n",
       "86903            1110   FL0202               A         0.0000          B   \n",
       "146187           1120   FL0900               A         6.0000          A   \n",
       "\n",
       "        STAROST  PRIJEVREMENI_RASKID  \n",
       "2608         -1                False  \n",
       "38057     -7990                False  \n",
       "80261     -7993                False  \n",
       "86903     -7993                False  \n",
       "146187       -3                False  "
      ]
     },
     "execution_count": 29,
     "metadata": {},
     "output_type": "execute_result"
    }
   ],
   "source": [
    "df.loc[df.STAROST < 0].head()\n"
   ]
  },
  {
   "cell_type": "code",
   "execution_count": 30,
   "metadata": {},
   "outputs": [
    {
     "data": {
      "image/png": "[encoded data removed]",
      "text/latex": [
       "$$3367$$"
      ],
      "text/plain": [
       "3367"
      ]
     },
     "execution_count": 30,
     "metadata": {},
     "output_type": "execute_result"
    }
   ],
   "source": [
    "df.loc[df.STAROST < 0].shape[0]\n"
   ]
  },
  {
   "cell_type": "markdown",
   "metadata": {},
   "source": [
    "Primijećujemo da su zapravo negativne starosti jako polarizirane: ili su u intervalu $ \\left[ {- 4} \\mathinner{\\ldotp \\ldotp} {- 1} \\right] $ ili su u intervalu $ \\left[ {- 7986} \\mathinner{\\ldotp \\ldotp} {- 7994} \\right] $. Stoga ćemo te dvije skupine zasebno analizirati.\n"
   ]
  },
  {
   "cell_type": "markdown",
   "metadata": {},
   "source": [
    "Prvo analizirajmo gornju skupinu (starosti iz intervala $ \\left[ {- 4} \\mathinner{\\ldotp \\ldotp} {- 1} \\right] $).\n"
   ]
  },
  {
   "cell_type": "code",
   "execution_count": 31,
   "metadata": {},
   "outputs": [
    {
     "data": {
      "text/html": [
       "<div>\n",
       "<style scoped>\n",
       "    .dataframe tbody tr th:only-of-type {\n",
       "        vertical-align: middle;\n",
       "    }\n",
       "\n",
       "    .dataframe tbody tr th {\n",
       "        vertical-align: top;\n",
       "    }\n",
       "\n",
       "    .dataframe thead th {\n",
       "        text-align: right;\n",
       "    }\n",
       "</style>\n",
       "<table border=\"1\" class=\"dataframe\">\n",
       "  <thead>\n",
       "    <tr style=\"text-align: right;\">\n",
       "      <th></th>\n",
       "      <th>DATUM_IZVJESTAVANJA</th>\n",
       "      <th>KLIJENT_ID</th>\n",
       "      <th>OZNAKA_PARTIJE</th>\n",
       "      <th>DATUM_OTVARANJA</th>\n",
       "      <th>PLANIRANI_DATUM_ZATVARANJA</th>\n",
       "      <th>DATUM_ZATVARANJA</th>\n",
       "      <th>UGOVORENI_IZNOS</th>\n",
       "      <th>STANJE_NA_KRAJU_PRETH_KVARTALA</th>\n",
       "      <th>STANJE_NA_KRAJU_KVARTALA</th>\n",
       "      <th>VALUTA</th>\n",
       "      <th>VRSTA_KLIJENTA</th>\n",
       "      <th>PROIZVOD</th>\n",
       "      <th>VRSTA_PROIZVODA</th>\n",
       "      <th>VISINA_KAMATE</th>\n",
       "      <th>TIP_KAMATE</th>\n",
       "      <th>STAROST</th>\n",
       "      <th>PRIJEVREMENI_RASKID</th>\n",
       "    </tr>\n",
       "  </thead>\n",
       "  <tbody>\n",
       "    <tr>\n",
       "      <th>2608</th>\n",
       "      <td>2013-12-31</td>\n",
       "      <td>15133</td>\n",
       "      <td>6643434</td>\n",
       "      <td>2011-12-23</td>\n",
       "      <td>2017-01-31</td>\n",
       "      <td>NaT</td>\n",
       "      <td>3500000.0</td>\n",
       "      <td>3517500.00</td>\n",
       "      <td>3518083.33</td>\n",
       "      <td>1</td>\n",
       "      <td>1120</td>\n",
       "      <td>FL0900</td>\n",
       "      <td>A</td>\n",
       "      <td>6.0</td>\n",
       "      <td>A</td>\n",
       "      <td>-1</td>\n",
       "      <td>False</td>\n",
       "    </tr>\n",
       "    <tr>\n",
       "      <th>146187</th>\n",
       "      <td>2011-12-31</td>\n",
       "      <td>15133</td>\n",
       "      <td>6643434</td>\n",
       "      <td>2011-12-23</td>\n",
       "      <td>NaT</td>\n",
       "      <td>NaT</td>\n",
       "      <td>3500000.0</td>\n",
       "      <td>NaN</td>\n",
       "      <td>0.00</td>\n",
       "      <td>1</td>\n",
       "      <td>1120</td>\n",
       "      <td>FL0900</td>\n",
       "      <td>A</td>\n",
       "      <td>6.0</td>\n",
       "      <td>A</td>\n",
       "      <td>-3</td>\n",
       "      <td>False</td>\n",
       "    </tr>\n",
       "    <tr>\n",
       "      <th>165516</th>\n",
       "      <td>2014-03-31</td>\n",
       "      <td>15133</td>\n",
       "      <td>6643434</td>\n",
       "      <td>2011-12-23</td>\n",
       "      <td>2017-01-31</td>\n",
       "      <td>NaT</td>\n",
       "      <td>3500000.0</td>\n",
       "      <td>3518083.33</td>\n",
       "      <td>3323348.59</td>\n",
       "      <td>1</td>\n",
       "      <td>1120</td>\n",
       "      <td>FL0900</td>\n",
       "      <td>A</td>\n",
       "      <td>6.0</td>\n",
       "      <td>A</td>\n",
       "      <td>-1</td>\n",
       "      <td>False</td>\n",
       "    </tr>\n",
       "    <tr>\n",
       "      <th>302441</th>\n",
       "      <td>2013-09-30</td>\n",
       "      <td>15133</td>\n",
       "      <td>6643434</td>\n",
       "      <td>2011-12-23</td>\n",
       "      <td>2017-01-31</td>\n",
       "      <td>NaT</td>\n",
       "      <td>3500000.0</td>\n",
       "      <td>3517500.00</td>\n",
       "      <td>3517500.00</td>\n",
       "      <td>1</td>\n",
       "      <td>1120</td>\n",
       "      <td>FL0900</td>\n",
       "      <td>A</td>\n",
       "      <td>6.0</td>\n",
       "      <td>A</td>\n",
       "      <td>-1</td>\n",
       "      <td>False</td>\n",
       "    </tr>\n",
       "    <tr>\n",
       "      <th>344303</th>\n",
       "      <td>2012-06-30</td>\n",
       "      <td>15133</td>\n",
       "      <td>6643434</td>\n",
       "      <td>2011-12-23</td>\n",
       "      <td>2017-01-31</td>\n",
       "      <td>NaT</td>\n",
       "      <td>3500000.0</td>\n",
       "      <td>3518180.55</td>\n",
       "      <td>3517500.00</td>\n",
       "      <td>1</td>\n",
       "      <td>1120</td>\n",
       "      <td>FL0900</td>\n",
       "      <td>A</td>\n",
       "      <td>6.0</td>\n",
       "      <td>A</td>\n",
       "      <td>-3</td>\n",
       "      <td>False</td>\n",
       "    </tr>\n",
       "  </tbody>\n",
       "</table>\n",
       "</div>"
      ],
      "text/plain": [
       "       DATUM_IZVJESTAVANJA KLIJENT_ID OZNAKA_PARTIJE DATUM_OTVARANJA  \\\n",
       "2608            2013-12-31      15133        6643434      2011-12-23   \n",
       "146187          2011-12-31      15133        6643434      2011-12-23   \n",
       "165516          2014-03-31      15133        6643434      2011-12-23   \n",
       "302441          2013-09-30      15133        6643434      2011-12-23   \n",
       "344303          2012-06-30      15133        6643434      2011-12-23   \n",
       "\n",
       "       PLANIRANI_DATUM_ZATVARANJA DATUM_ZATVARANJA  UGOVORENI_IZNOS  \\\n",
       "2608                   2017-01-31              NaT        3500000.0   \n",
       "146187                        NaT              NaT        3500000.0   \n",
       "165516                 2017-01-31              NaT        3500000.0   \n",
       "302441                 2017-01-31              NaT        3500000.0   \n",
       "344303                 2017-01-31              NaT        3500000.0   \n",
       "\n",
       "        STANJE_NA_KRAJU_PRETH_KVARTALA  STANJE_NA_KRAJU_KVARTALA VALUTA  \\\n",
       "2608                        3517500.00                3518083.33      1   \n",
       "146187                             NaN                      0.00      1   \n",
       "165516                      3518083.33                3323348.59      1   \n",
       "302441                      3517500.00                3517500.00      1   \n",
       "344303                      3518180.55                3517500.00      1   \n",
       "\n",
       "       VRSTA_KLIJENTA PROIZVOD VRSTA_PROIZVODA  VISINA_KAMATE TIP_KAMATE  \\\n",
       "2608             1120   FL0900               A            6.0          A   \n",
       "146187           1120   FL0900               A            6.0          A   \n",
       "165516           1120   FL0900               A            6.0          A   \n",
       "302441           1120   FL0900               A            6.0          A   \n",
       "344303           1120   FL0900               A            6.0          A   \n",
       "\n",
       "        STAROST  PRIJEVREMENI_RASKID  \n",
       "2608         -1                False  \n",
       "146187       -3                False  \n",
       "165516       -1                False  \n",
       "302441       -1                False  \n",
       "344303       -3                False  "
      ]
     },
     "execution_count": 31,
     "metadata": {},
     "output_type": "execute_result"
    }
   ],
   "source": [
    "df.loc[np.logical_and(df.STAROST >= -1000, df.STAROST < 0)].head()\n"
   ]
  },
  {
   "cell_type": "code",
   "execution_count": 32,
   "metadata": {},
   "outputs": [
    {
     "data": {
      "image/png": "[encoded data removed]",
      "text/latex": [
       "$$23$$"
      ],
      "text/plain": [
       "23"
      ]
     },
     "execution_count": 32,
     "metadata": {},
     "output_type": "execute_result"
    }
   ],
   "source": [
    "df.loc[np.logical_and(df.STAROST >= -1000, df.STAROST < 0)].shape[0]\n"
   ]
  },
  {
   "cell_type": "code",
   "execution_count": 33,
   "metadata": {},
   "outputs": [
    {
     "data": {
      "text/plain": [
       "count    23.000000\n",
       "mean     -2.826087\n",
       "std       1.114050\n",
       "min      -4.000000\n",
       "25%      -4.000000\n",
       "50%      -3.000000\n",
       "75%      -2.000000\n",
       "max      -1.000000\n",
       "Name: STAROST, dtype: float64"
      ]
     },
     "execution_count": 33,
     "metadata": {},
     "output_type": "execute_result"
    }
   ],
   "source": [
    "df.STAROST[np.logical_and(df.STAROST >= -1000, df.STAROST < 0)].describe()\n"
   ]
  },
  {
   "cell_type": "code",
   "execution_count": 34,
   "metadata": {},
   "outputs": [
    {
     "data": {
      "text/plain": [
       "{'max': -1, 'min': -4, 'nulls': 0, 'range': 3, 'uniques': 4}"
      ]
     },
     "execution_count": 34,
     "metadata": {},
     "output_type": "execute_result"
    }
   ],
   "source": [
    "analiziraj_num_stupac(\n",
    "    df.STAROST[np.logical_and(df.STAROST >= -1000, df.STAROST < 0)]\n",
    ")\n"
   ]
  },
  {
   "cell_type": "code",
   "execution_count": 35,
   "metadata": {},
   "outputs": [
    {
     "data": {
      "text/plain": [
       "(array([8., 0., 0., 7., 0., 0., 4., 0., 0., 4.]),\n",
       " array([-4. , -3.7, -3.4, -3.1, -2.8, -2.5, -2.2, -1.9, -1.6, -1.3, -1. ]),\n",
       " <a list of 10 Patch objects>)"
      ]
     },
     "execution_count": 35,
     "metadata": {},
     "output_type": "execute_result"
    },
    {
     "data": {
      "image/png": "[encoded data removed]",
      "text/plain": [
       "<Figure size 432x288 with 1 Axes>"
      ]
     },
     "metadata": {},
     "output_type": "display_data"
    }
   ],
   "source": [
    "plt.hist(df.STAROST[np.logical_and(df.STAROST >= -1000, df.STAROST < 0)])\n"
   ]
  },
  {
   "cell_type": "markdown",
   "metadata": {},
   "source": [
    "Analizirajmo sada i donju skupinu (starosti iz intervala $ \\left[ {- 7986} \\mathinner{\\ldotp \\ldotp} {- 7994} \\right] $).\n"
   ]
  },
  {
   "cell_type": "code",
   "execution_count": 36,
   "metadata": {},
   "outputs": [
    {
     "data": {
      "text/html": [
       "<div>\n",
       "<style scoped>\n",
       "    .dataframe tbody tr th:only-of-type {\n",
       "        vertical-align: middle;\n",
       "    }\n",
       "\n",
       "    .dataframe tbody tr th {\n",
       "        vertical-align: top;\n",
       "    }\n",
       "\n",
       "    .dataframe thead th {\n",
       "        text-align: right;\n",
       "    }\n",
       "</style>\n",
       "<table border=\"1\" class=\"dataframe\">\n",
       "  <thead>\n",
       "    <tr style=\"text-align: right;\">\n",
       "      <th></th>\n",
       "      <th>DATUM_IZVJESTAVANJA</th>\n",
       "      <th>KLIJENT_ID</th>\n",
       "      <th>OZNAKA_PARTIJE</th>\n",
       "      <th>DATUM_OTVARANJA</th>\n",
       "      <th>PLANIRANI_DATUM_ZATVARANJA</th>\n",
       "      <th>DATUM_ZATVARANJA</th>\n",
       "      <th>UGOVORENI_IZNOS</th>\n",
       "      <th>STANJE_NA_KRAJU_PRETH_KVARTALA</th>\n",
       "      <th>STANJE_NA_KRAJU_KVARTALA</th>\n",
       "      <th>VALUTA</th>\n",
       "      <th>VRSTA_KLIJENTA</th>\n",
       "      <th>PROIZVOD</th>\n",
       "      <th>VRSTA_PROIZVODA</th>\n",
       "      <th>VISINA_KAMATE</th>\n",
       "      <th>TIP_KAMATE</th>\n",
       "      <th>STAROST</th>\n",
       "      <th>PRIJEVREMENI_RASKID</th>\n",
       "    </tr>\n",
       "  </thead>\n",
       "  <tbody>\n",
       "    <tr>\n",
       "      <th>38057</th>\n",
       "      <td>2014-09-30</td>\n",
       "      <td>639748</td>\n",
       "      <td>7479194</td>\n",
       "      <td>2014-08-13</td>\n",
       "      <td>2014-08-13</td>\n",
       "      <td>2014-12-09</td>\n",
       "      <td>50000.00</td>\n",
       "      <td>50000.00</td>\n",
       "      <td>0.00</td>\n",
       "      <td>1</td>\n",
       "      <td>1430</td>\n",
       "      <td>TM0109</td>\n",
       "      <td>L</td>\n",
       "      <td>1.1072</td>\n",
       "      <td>A</td>\n",
       "      <td>-7990</td>\n",
       "      <td>False</td>\n",
       "    </tr>\n",
       "    <tr>\n",
       "      <th>80261</th>\n",
       "      <td>2011-09-30</td>\n",
       "      <td>991796</td>\n",
       "      <td>4786161</td>\n",
       "      <td>2009-12-02</td>\n",
       "      <td>2014-12-31</td>\n",
       "      <td>NaT</td>\n",
       "      <td>25547376.68</td>\n",
       "      <td>15422303.88</td>\n",
       "      <td>15669257.06</td>\n",
       "      <td>2</td>\n",
       "      <td>1110</td>\n",
       "      <td>FL0202</td>\n",
       "      <td>A</td>\n",
       "      <td>0.0000</td>\n",
       "      <td>B</td>\n",
       "      <td>-7993</td>\n",
       "      <td>False</td>\n",
       "    </tr>\n",
       "    <tr>\n",
       "      <th>86903</th>\n",
       "      <td>2012-03-31</td>\n",
       "      <td>991796</td>\n",
       "      <td>4786161</td>\n",
       "      <td>2009-12-02</td>\n",
       "      <td>2014-12-31</td>\n",
       "      <td>NaT</td>\n",
       "      <td>25547376.68</td>\n",
       "      <td>15749562.80</td>\n",
       "      <td>15700407.25</td>\n",
       "      <td>2</td>\n",
       "      <td>1110</td>\n",
       "      <td>FL0202</td>\n",
       "      <td>A</td>\n",
       "      <td>0.0000</td>\n",
       "      <td>B</td>\n",
       "      <td>-7993</td>\n",
       "      <td>False</td>\n",
       "    </tr>\n",
       "    <tr>\n",
       "      <th>148126</th>\n",
       "      <td>2011-12-31</td>\n",
       "      <td>163404</td>\n",
       "      <td>6649818</td>\n",
       "      <td>2011-12-30</td>\n",
       "      <td>NaT</td>\n",
       "      <td>NaT</td>\n",
       "      <td>84000.00</td>\n",
       "      <td>NaN</td>\n",
       "      <td>84000.00</td>\n",
       "      <td>1</td>\n",
       "      <td>1430</td>\n",
       "      <td>TM0109</td>\n",
       "      <td>L</td>\n",
       "      <td>2.2000</td>\n",
       "      <td>A</td>\n",
       "      <td>-7993</td>\n",
       "      <td>False</td>\n",
       "    </tr>\n",
       "    <tr>\n",
       "      <th>152783</th>\n",
       "      <td>2014-06-30</td>\n",
       "      <td>639748</td>\n",
       "      <td>7479194</td>\n",
       "      <td>2014-02-13</td>\n",
       "      <td>2014-08-13</td>\n",
       "      <td>NaT</td>\n",
       "      <td>50000.00</td>\n",
       "      <td>50000.00</td>\n",
       "      <td>50000.00</td>\n",
       "      <td>1</td>\n",
       "      <td>1430</td>\n",
       "      <td>TM0109</td>\n",
       "      <td>L</td>\n",
       "      <td>0.7181</td>\n",
       "      <td>A</td>\n",
       "      <td>-7991</td>\n",
       "      <td>False</td>\n",
       "    </tr>\n",
       "  </tbody>\n",
       "</table>\n",
       "</div>"
      ],
      "text/plain": [
       "       DATUM_IZVJESTAVANJA KLIJENT_ID OZNAKA_PARTIJE DATUM_OTVARANJA  \\\n",
       "38057           2014-09-30     639748        7479194      2014-08-13   \n",
       "80261           2011-09-30     991796        4786161      2009-12-02   \n",
       "86903           2012-03-31     991796        4786161      2009-12-02   \n",
       "148126          2011-12-31     163404        6649818      2011-12-30   \n",
       "152783          2014-06-30     639748        7479194      2014-02-13   \n",
       "\n",
       "       PLANIRANI_DATUM_ZATVARANJA DATUM_ZATVARANJA  UGOVORENI_IZNOS  \\\n",
       "38057                  2014-08-13       2014-12-09         50000.00   \n",
       "80261                  2014-12-31              NaT      25547376.68   \n",
       "86903                  2014-12-31              NaT      25547376.68   \n",
       "148126                        NaT              NaT         84000.00   \n",
       "152783                 2014-08-13              NaT         50000.00   \n",
       "\n",
       "        STANJE_NA_KRAJU_PRETH_KVARTALA  STANJE_NA_KRAJU_KVARTALA VALUTA  \\\n",
       "38057                         50000.00                      0.00      1   \n",
       "80261                      15422303.88               15669257.06      2   \n",
       "86903                      15749562.80               15700407.25      2   \n",
       "148126                             NaN                  84000.00      1   \n",
       "152783                        50000.00                  50000.00      1   \n",
       "\n",
       "       VRSTA_KLIJENTA PROIZVOD VRSTA_PROIZVODA  VISINA_KAMATE TIP_KAMATE  \\\n",
       "38057            1430   TM0109               L         1.1072          A   \n",
       "80261            1110   FL0202               A         0.0000          B   \n",
       "86903            1110   FL0202               A         0.0000          B   \n",
       "148126           1430   TM0109               L         2.2000          A   \n",
       "152783           1430   TM0109               L         0.7181          A   \n",
       "\n",
       "        STAROST  PRIJEVREMENI_RASKID  \n",
       "38057     -7990                False  \n",
       "80261     -7993                False  \n",
       "86903     -7993                False  \n",
       "148126    -7993                False  \n",
       "152783    -7991                False  "
      ]
     },
     "execution_count": 36,
     "metadata": {},
     "output_type": "execute_result"
    }
   ],
   "source": [
    "df.loc[df.STAROST < -1000].head()\n"
   ]
  },
  {
   "cell_type": "code",
   "execution_count": 37,
   "metadata": {},
   "outputs": [
    {
     "data": {
      "image/png": "[encoded data removed]",
      "text/latex": [
       "$$3344$$"
      ],
      "text/plain": [
       "3344"
      ]
     },
     "execution_count": 37,
     "metadata": {},
     "output_type": "execute_result"
    }
   ],
   "source": [
    "df.loc[df.STAROST < -1000].shape[0]\n"
   ]
  },
  {
   "cell_type": "code",
   "execution_count": 38,
   "metadata": {},
   "outputs": [
    {
     "data": {
      "text/plain": [
       "count    3344.000000\n",
       "mean    -7987.241926\n",
       "std         1.278142\n",
       "min     -7994.000000\n",
       "25%     -7988.000000\n",
       "50%     -7987.000000\n",
       "75%     -7987.000000\n",
       "max     -7986.000000\n",
       "Name: STAROST, dtype: float64"
      ]
     },
     "execution_count": 38,
     "metadata": {},
     "output_type": "execute_result"
    }
   ],
   "source": [
    "df.STAROST[df.STAROST < -1000].describe()\n"
   ]
  },
  {
   "cell_type": "code",
   "execution_count": 39,
   "metadata": {},
   "outputs": [
    {
     "data": {
      "text/plain": [
       "{'max': -7986, 'min': -7994, 'nulls': 0, 'range': 8, 'uniques': 9}"
      ]
     },
     "execution_count": 39,
     "metadata": {},
     "output_type": "execute_result"
    }
   ],
   "source": [
    "analiziraj_num_stupac(df.STAROST[df.STAROST < -1000])\n"
   ]
  },
  {
   "cell_type": "code",
   "execution_count": 40,
   "metadata": {},
   "outputs": [
    {
     "data": {
      "text/plain": [
       "(array([  17.,   45.,   38.,   28.,    0.,   18.,   14.,  812., 1596.,\n",
       "         776.]),\n",
       " array([-7994. , -7993.2, -7992.4, -7991.6, -7990.8, -7990. , -7989.2,\n",
       "        -7988.4, -7987.6, -7986.8, -7986. ]),\n",
       " <a list of 10 Patch objects>)"
      ]
     },
     "execution_count": 40,
     "metadata": {},
     "output_type": "execute_result"
    },
    {
     "data": {
      "image/png": "[encoded data removed]",
      "text/plain": [
       "<Figure size 432x288 with 1 Axes>"
      ]
     },
     "metadata": {},
     "output_type": "display_data"
    }
   ],
   "source": [
    "plt.hist(df.STAROST[df.STAROST < -1000])\n"
   ]
  },
  {
   "cell_type": "markdown",
   "metadata": {},
   "source": [
    "Neobično je, također, i što postoji starost veća (ne nužno strogo) od $ 900 $ godina<sup>[3](#fnote-3)</sup>. Zapravo, pozitivne starosti su također polarizirane u intervale $ \\left[ 1 \\mathinner{\\ldotp \\ldotp} 107 \\right] $ i $ \\left[ 900 \\mathinner{\\ldotp \\ldotp} 908 \\right] $. Naravno da je moguće da je neko poduzeće staro $ 900 $-tinjak godina, ali prvi moderni bankari bili su križari &mdash; to bi značilo da su najstariji suvremeni klijenti *RBA* bankarske usluge mogli tražiti još od prvih bankara na svijetu. Za razliku od negativne starosti, ovaj fenomen nije nemoguć, ali vrlo je malo vjerojatan.\n",
    "\n",
    "Promotrimo, dakle, te dijelove tablice.\n"
   ]
  },
  {
   "cell_type": "code",
   "execution_count": 41,
   "metadata": {},
   "outputs": [
    {
     "data": {
      "text/html": [
       "<div>\n",
       "<style scoped>\n",
       "    .dataframe tbody tr th:only-of-type {\n",
       "        vertical-align: middle;\n",
       "    }\n",
       "\n",
       "    .dataframe tbody tr th {\n",
       "        vertical-align: top;\n",
       "    }\n",
       "\n",
       "    .dataframe thead th {\n",
       "        text-align: right;\n",
       "    }\n",
       "</style>\n",
       "<table border=\"1\" class=\"dataframe\">\n",
       "  <thead>\n",
       "    <tr style=\"text-align: right;\">\n",
       "      <th></th>\n",
       "      <th>DATUM_IZVJESTAVANJA</th>\n",
       "      <th>KLIJENT_ID</th>\n",
       "      <th>OZNAKA_PARTIJE</th>\n",
       "      <th>DATUM_OTVARANJA</th>\n",
       "      <th>PLANIRANI_DATUM_ZATVARANJA</th>\n",
       "      <th>DATUM_ZATVARANJA</th>\n",
       "      <th>UGOVORENI_IZNOS</th>\n",
       "      <th>STANJE_NA_KRAJU_PRETH_KVARTALA</th>\n",
       "      <th>STANJE_NA_KRAJU_KVARTALA</th>\n",
       "      <th>VALUTA</th>\n",
       "      <th>VRSTA_KLIJENTA</th>\n",
       "      <th>PROIZVOD</th>\n",
       "      <th>VRSTA_PROIZVODA</th>\n",
       "      <th>VISINA_KAMATE</th>\n",
       "      <th>TIP_KAMATE</th>\n",
       "      <th>STAROST</th>\n",
       "      <th>PRIJEVREMENI_RASKID</th>\n",
       "    </tr>\n",
       "  </thead>\n",
       "  <tbody>\n",
       "    <tr>\n",
       "      <th>255736</th>\n",
       "      <td>2014-06-30</td>\n",
       "      <td>633817</td>\n",
       "      <td>7146342</td>\n",
       "      <td>2014-02-07</td>\n",
       "      <td>2014-08-07</td>\n",
       "      <td>2014-05-13</td>\n",
       "      <td>18894.93</td>\n",
       "      <td>19242.86</td>\n",
       "      <td>0.00</td>\n",
       "      <td>2</td>\n",
       "      <td>1430</td>\n",
       "      <td>TM0109</td>\n",
       "      <td>L</td>\n",
       "      <td>0.2636</td>\n",
       "      <td>A</td>\n",
       "      <td>903</td>\n",
       "      <td>True</td>\n",
       "    </tr>\n",
       "    <tr>\n",
       "      <th>448131</th>\n",
       "      <td>2014-03-31</td>\n",
       "      <td>633817</td>\n",
       "      <td>7146342</td>\n",
       "      <td>2014-02-07</td>\n",
       "      <td>2014-02-07</td>\n",
       "      <td>NaT</td>\n",
       "      <td>18894.93</td>\n",
       "      <td>19190.72</td>\n",
       "      <td>19242.86</td>\n",
       "      <td>2</td>\n",
       "      <td>1430</td>\n",
       "      <td>TM0109</td>\n",
       "      <td>L</td>\n",
       "      <td>0.2636</td>\n",
       "      <td>A</td>\n",
       "      <td>903</td>\n",
       "      <td>False</td>\n",
       "    </tr>\n",
       "    <tr>\n",
       "      <th>473275</th>\n",
       "      <td>2012-12-31</td>\n",
       "      <td>633817</td>\n",
       "      <td>7146342</td>\n",
       "      <td>2012-08-07</td>\n",
       "      <td>2013-02-07</td>\n",
       "      <td>NaT</td>\n",
       "      <td>18894.93</td>\n",
       "      <td>18718.60</td>\n",
       "      <td>18959.51</td>\n",
       "      <td>2</td>\n",
       "      <td>1430</td>\n",
       "      <td>TM0109</td>\n",
       "      <td>L</td>\n",
       "      <td>2.3877</td>\n",
       "      <td>A</td>\n",
       "      <td>902</td>\n",
       "      <td>False</td>\n",
       "    </tr>\n",
       "    <tr>\n",
       "      <th>495918</th>\n",
       "      <td>2012-09-30</td>\n",
       "      <td>633817</td>\n",
       "      <td>7146342</td>\n",
       "      <td>2012-08-07</td>\n",
       "      <td>NaT</td>\n",
       "      <td>NaT</td>\n",
       "      <td>18894.93</td>\n",
       "      <td>NaN</td>\n",
       "      <td>18718.60</td>\n",
       "      <td>2</td>\n",
       "      <td>1430</td>\n",
       "      <td>TM0109</td>\n",
       "      <td>L</td>\n",
       "      <td>2.3877</td>\n",
       "      <td>A</td>\n",
       "      <td>901</td>\n",
       "      <td>False</td>\n",
       "    </tr>\n",
       "    <tr>\n",
       "      <th>594746</th>\n",
       "      <td>2013-09-30</td>\n",
       "      <td>633817</td>\n",
       "      <td>7146342</td>\n",
       "      <td>2013-08-07</td>\n",
       "      <td>2013-08-07</td>\n",
       "      <td>NaT</td>\n",
       "      <td>18894.93</td>\n",
       "      <td>18722.62</td>\n",
       "      <td>19125.27</td>\n",
       "      <td>2</td>\n",
       "      <td>1430</td>\n",
       "      <td>TM0109</td>\n",
       "      <td>L</td>\n",
       "      <td>0.3636</td>\n",
       "      <td>A</td>\n",
       "      <td>902</td>\n",
       "      <td>False</td>\n",
       "    </tr>\n",
       "  </tbody>\n",
       "</table>\n",
       "</div>"
      ],
      "text/plain": [
       "       DATUM_IZVJESTAVANJA KLIJENT_ID OZNAKA_PARTIJE DATUM_OTVARANJA  \\\n",
       "255736          2014-06-30     633817        7146342      2014-02-07   \n",
       "448131          2014-03-31     633817        7146342      2014-02-07   \n",
       "473275          2012-12-31     633817        7146342      2012-08-07   \n",
       "495918          2012-09-30     633817        7146342      2012-08-07   \n",
       "594746          2013-09-30     633817        7146342      2013-08-07   \n",
       "\n",
       "       PLANIRANI_DATUM_ZATVARANJA DATUM_ZATVARANJA  UGOVORENI_IZNOS  \\\n",
       "255736                 2014-08-07       2014-05-13         18894.93   \n",
       "448131                 2014-02-07              NaT         18894.93   \n",
       "473275                 2013-02-07              NaT         18894.93   \n",
       "495918                        NaT              NaT         18894.93   \n",
       "594746                 2013-08-07              NaT         18894.93   \n",
       "\n",
       "        STANJE_NA_KRAJU_PRETH_KVARTALA  STANJE_NA_KRAJU_KVARTALA VALUTA  \\\n",
       "255736                        19242.86                      0.00      2   \n",
       "448131                        19190.72                  19242.86      2   \n",
       "473275                        18718.60                  18959.51      2   \n",
       "495918                             NaN                  18718.60      2   \n",
       "594746                        18722.62                  19125.27      2   \n",
       "\n",
       "       VRSTA_KLIJENTA PROIZVOD VRSTA_PROIZVODA  VISINA_KAMATE TIP_KAMATE  \\\n",
       "255736           1430   TM0109               L         0.2636          A   \n",
       "448131           1430   TM0109               L         0.2636          A   \n",
       "473275           1430   TM0109               L         2.3877          A   \n",
       "495918           1430   TM0109               L         2.3877          A   \n",
       "594746           1430   TM0109               L         0.3636          A   \n",
       "\n",
       "        STAROST  PRIJEVREMENI_RASKID  \n",
       "255736      903                 True  \n",
       "448131      903                False  \n",
       "473275      902                False  \n",
       "495918      901                False  \n",
       "594746      902                False  "
      ]
     },
     "execution_count": 41,
     "metadata": {},
     "output_type": "execute_result"
    }
   ],
   "source": [
    "df.loc[df.STAROST >= 500].head()\n"
   ]
  },
  {
   "cell_type": "code",
   "execution_count": 42,
   "metadata": {},
   "outputs": [
    {
     "data": {
      "image/png": "[encoded data removed]",
      "text/latex": [
       "$$467$$"
      ],
      "text/plain": [
       "467"
      ]
     },
     "execution_count": 42,
     "metadata": {},
     "output_type": "execute_result"
    }
   ],
   "source": [
    "df.loc[df.STAROST >= 500].shape[0]\n"
   ]
  },
  {
   "cell_type": "code",
   "execution_count": 43,
   "metadata": {},
   "outputs": [
    {
     "data": {
      "text/plain": [
       "count    467.000000\n",
       "mean     903.304069\n",
       "std        2.234543\n",
       "min      900.000000\n",
       "25%      901.000000\n",
       "50%      903.000000\n",
       "75%      905.000000\n",
       "max      908.000000\n",
       "Name: STAROST, dtype: float64"
      ]
     },
     "execution_count": 43,
     "metadata": {},
     "output_type": "execute_result"
    }
   ],
   "source": [
    "df.STAROST[df.STAROST >= 500].describe()\n"
   ]
  },
  {
   "cell_type": "code",
   "execution_count": 44,
   "metadata": {},
   "outputs": [
    {
     "data": {
      "text/plain": [
       "{'max': 908, 'min': 900, 'nulls': 0, 'range': 8, 'uniques': 9}"
      ]
     },
     "execution_count": 44,
     "metadata": {},
     "output_type": "execute_result"
    }
   ],
   "source": [
    "analiziraj_num_stupac(df.STAROST[df.STAROST >= 500])\n"
   ]
  },
  {
   "cell_type": "code",
   "execution_count": 45,
   "metadata": {},
   "outputs": [
    {
     "data": {
      "text/plain": [
       "(array([55., 76., 62., 47.,  0., 69., 77., 35., 37.,  9.]),\n",
       " array([900. , 900.8, 901.6, 902.4, 903.2, 904. , 904.8, 905.6, 906.4,\n",
       "        907.2, 908. ]),\n",
       " <a list of 10 Patch objects>)"
      ]
     },
     "execution_count": 45,
     "metadata": {},
     "output_type": "execute_result"
    },
    {
     "data": {
      "image/png": "[encoded data removed]",
      "text/plain": [
       "<Figure size 432x288 with 1 Axes>"
      ]
     },
     "metadata": {},
     "output_type": "display_data"
    }
   ],
   "source": [
    "plt.hist(df.STAROST[df.STAROST >= 500])\n"
   ]
  },
  {
   "cell_type": "markdown",
   "metadata": {},
   "source": [
    "<sup><a name=\"fnote-3\"></a>3</sup> Za klijente čija je starost negativna ili nevjerojatno velika ne zna se datum osnutka odnosno rođenja. &larr; **OBJASNIO NARUČITELJ ZADATKA**\n"
   ]
  },
  {
   "cell_type": "markdown",
   "metadata": {},
   "source": [
    "***TO DO:*** Pogledati i ostala sumnjiva mjesta (gdje je planirani datum zatvaranja ili datum zatvaranja prije datuma otvaranja).\n"
   ]
  },
  {
   "cell_type": "markdown",
   "metadata": {},
   "source": [
    "## Vremenski nizovi <a name=\"vremenski-nizovi\"></a>\n"
   ]
  },
  {
   "cell_type": "markdown",
   "metadata": {},
   "source": [
    "Pokušat ćemo iz danih podataka konstruirati vremenske nizove za klijente. Da bismo to napravili, grupirajmo prvo podatke s obzirom na klijente odnosno na klijente i partije.\n"
   ]
  },
  {
   "cell_type": "code",
   "execution_count": 46,
   "metadata": {},
   "outputs": [],
   "source": [
    "k_df = df.groupby('KLIJENT_ID')\n"
   ]
  },
  {
   "cell_type": "code",
   "execution_count": 47,
   "metadata": {},
   "outputs": [],
   "source": [
    "kp_df = df.groupby(['KLIJENT_ID', 'OZNAKA_PARTIJE'])\n"
   ]
  },
  {
   "cell_type": "markdown",
   "metadata": {},
   "source": [
    "Sortirajmo vrijednosti $ \\text{KLIJENT_ID} $ u niz `k` tako da za svaki $ \\mathtt{i} \\in \\left( 0 \\mathinner{\\ldotp \\ldotp} \\mathtt{len(k)} - 2 \\right) $ tablica `k_df.get_group(k[i])` ima više (ne nužno strogo) redaka od tablice `k_df.get_group(k[i + 1])`. Analogno učinimo s uređenim parovima $ \\left( \\text{KLIJENT_ID} , \\text{OZNAKA_PARTIJE} \\right) $ u nizu `kp`.\n"
   ]
  },
  {
   "cell_type": "code",
   "execution_count": 48,
   "metadata": {},
   "outputs": [],
   "source": [
    "k = np.array(\n",
    "    k_df.size().sort_values(ascending = False).index,\n",
    "    dtype = int,\n",
    "    order = 'C'\n",
    ")\n"
   ]
  },
  {
   "cell_type": "code",
   "execution_count": 49,
   "metadata": {},
   "outputs": [],
   "source": [
    "kp = np.array(\n",
    "    [list(kp_x) for kp_x in kp_df.size().sort_values(ascending = False).index],\n",
    "    dtype = int,\n",
    "    order = 'C'\n",
    ")\n"
   ]
  },
  {
   "cell_type": "markdown",
   "metadata": {},
   "source": [
    "Konačno, definirajmo klase `VremenskiNiz` i `Klijent` čije će instance *reprezentirati* vremenske nizove konkretnih partija klijenta i vremenske nizove svih partija klijenta reprezentativno (instance tih klasa ne će zapravo reprezentirati vremenske nizove, nego će samo sadržavati atribute s ekstrahiranim podatcima iz originalne tablice sortiranim s obzirom na vrijeme).\n"
   ]
  },
  {
   "cell_type": "code",
   "execution_count": 50,
   "metadata": {},
   "outputs": [],
   "source": [
    "##  DEFINICIJE NEKIH KLASA ZA EKSTRAKCIJU VREMENSKIH NIZOVA\n",
    "\n",
    "class VremenskiNiz (object):\n",
    "    \"\"\"\n",
    "    Klasa za reprezentaciju vremenskog niza zbivanja jedne partije.\n",
    "\n",
    "    \"\"\"\n",
    "\n",
    "    @classmethod\n",
    "    def prviDatum (cls, stupac):\n",
    "        \"\"\"\n",
    "        Dohvati prvi definirani datum u stupcu.\n",
    "\n",
    "        Ako ne postoji, povratna vrijednost je pandas.NaT.\n",
    "\n",
    "        \"\"\"\n",
    "\n",
    "        i = stupac.first_valid_index()\n",
    "\n",
    "        if i is None:\n",
    "            return pd.NaT\n",
    "\n",
    "        return stupac.loc[i]\n",
    "\n",
    "    @classmethod\n",
    "    def zadnjiDatum (cls, stupac):\n",
    "        \"\"\"\n",
    "        Dohvati prvi definirani datum u stupcu.\n",
    "\n",
    "        Ako ne postoji, povratna vrijednost je pandas.NaT.\n",
    "\n",
    "        \"\"\"\n",
    "\n",
    "        i = stupac.last_valid_index()\n",
    "\n",
    "        if i is None:\n",
    "            return pd.NaT\n",
    "\n",
    "        return stupac.loc[i]\n",
    "\n",
    "    def __init__ (self, KLIJENT_ID, OZNAKA_PARTIJE):\n",
    "        \"\"\"\n",
    "        Inicijaliziraj vremenski niz partija klijenta.\n",
    "\n",
    "        Postavljaju se atributi KLIJENT_ID, OZNAKA_PARTIJE i df\n",
    "        (kp_df.get_group(self.KLIJENT_ID, self.OZNAKA_PARTIJE)).\n",
    "\n",
    "        Tablica se pokusava iscitati iz indeksa redaka spremljenih kao\n",
    "        numpy.ndarray u datoteci `klijent/{KLIJENT_ID}/{OZNAKA_PARTIJE}.npy';\n",
    "        tek ako ta datoteka ne postoji, tablica se dobije pozivom metode\n",
    "        kp_df.get_group i sortiranjem (a indeksi redaka u tablici df spremaju se\n",
    "        u spomenutu datoteku).\n",
    "\n",
    "        \"\"\"\n",
    "\n",
    "        self.KLIJENT_ID = int(KLIJENT_ID)\n",
    "        self.OZNAKA_PARTIJE = int(OZNAKA_PARTIJE)\n",
    "        self.df = None\n",
    "        try:\n",
    "            self.df = df.loc[\n",
    "                np.load(\n",
    "                    'klijent/{0:d}/{1:d}.npy'.format(\n",
    "                        self.KLIJENT_ID,\n",
    "                        self.OZNAKA_PARTIJE\n",
    "                    )\n",
    "                )\n",
    "            ]\n",
    "        except FileNotFoundError:\n",
    "            self.df = kp_df.get_group(\n",
    "                (self.KLIJENT_ID, self.OZNAKA_PARTIJE)\n",
    "            ).sort_values(\n",
    "                [\n",
    "                    'DATUM_IZVJESTAVANJA',\n",
    "                    'DATUM_OTVARANJA',\n",
    "                    'PLANIRANI_DATUM_ZATVARANJA',\n",
    "                    'DATUM_ZATVARANJA',\n",
    "                    'PRIJEVREMENI_RASKID'\n",
    "                ],\n",
    "                ascending = [True, True, True, True, False]\n",
    "            )\n",
    "            os.makedirs(\n",
    "                'klijent/{0:d}'.format(self.KLIJENT_ID),\n",
    "                exist_ok = True\n",
    "            )\n",
    "            np.save(\n",
    "                'klijent/{0:d}/{1:d}.npy'.format(\n",
    "                    self.KLIJENT_ID,\n",
    "                    self.OZNAKA_PARTIJE\n",
    "                ),\n",
    "                np.array(self.df.index, dtype = int, order = 'C')\n",
    "            )\n",
    "\n",
    "    def __copy__ (self):\n",
    "        \"\"\"\n",
    "        Dohvati copy.copy(self).\n",
    "\n",
    "        \"\"\"\n",
    "\n",
    "        return VremenskiNiz(self.KLIJENT_ID, self.OZNAKA_PARTIJE)\n",
    "\n",
    "    def __deppcopy__ (self, memo = dict()):\n",
    "        \"\"\"\n",
    "        Dohvati copy.deepcopy(self, memo).\n",
    "\n",
    "        Moguce je da atribut df kopije ne ce biti duboka kopija self.df.\n",
    "\n",
    "        \"\"\"\n",
    "\n",
    "        return VremenskiNiz(\n",
    "            copy.deepcopy(self.KLIJENT_ID, memo),\n",
    "            copy.deepcopy(self.OZNAKA_PARTIJE, memo)\n",
    "        )\n",
    "\n",
    "    def __repr__ (self):\n",
    "        \"\"\"\n",
    "        Dohvati repr(self).\n",
    "\n",
    "        \"\"\"\n",
    "\n",
    "        return '<VremenskiNiz: ({0:d}, {1:d})>'.format(\n",
    "            self.KLIJENT_ID, self.OZNAKA_PARTIJE\n",
    "        )\n",
    "\n",
    "    def __len__ (self):\n",
    "        \"\"\"\n",
    "        Dohvati len(self).\n",
    "\n",
    "        Vraca se self.df.shape[0]\n",
    "\n",
    "        \"\"\"\n",
    "\n",
    "        return int(self.df.shape[0])\n",
    "\n",
    "#   def __iter__ (self):\n",
    "#       \"\"\"\n",
    "#       Iteriraj po vremenskom nizu.\n",
    "#\n",
    "#       Vracaju se retci u self.df redom od prvog do zadnjeg.\n",
    "#\n",
    "#       \"\"\"\n",
    "#\n",
    "#       for i in range(self.df.shape[0]):\n",
    "#           yield self.df.iloc[i]\n",
    "\n",
    "    def __getitem__ (self, key):\n",
    "        \"\"\"\n",
    "        Dohvati self[key].\n",
    "\n",
    "        Vraca se self.df.loc[key].\n",
    "\n",
    "        \"\"\"\n",
    "\n",
    "        return self.df.loc[key]\n",
    "\n",
    "    def __eq__ (self, other):\n",
    "        \"\"\"\n",
    "        Dohvati self == other.\n",
    "\n",
    "        Usporeduju se atributi KLIJENT_ID, OZNAKA_PARTIJE i svi elementi tablice\n",
    "        (metodom pandas.DataFrame.equals).\n",
    "\n",
    "        \"\"\"\n",
    "\n",
    "        return (\n",
    "            self.KLIJENT_ID == other.KLIJENT_ID and\n",
    "            self.OZNAKA_PARTIJE == other.OZNAKA_PARTIJE and\n",
    "            self.df.equals(other.df)\n",
    "        )\n",
    "\n",
    "    def __ne__ (self, other):\n",
    "        \"\"\"\n",
    "        Dohvati self != other.\n",
    "\n",
    "        Vraca se negacija od self == other.\n",
    "\n",
    "        \"\"\"\n",
    "\n",
    "        return not self == other\n",
    "\n",
    "    def __lt__ (self, other):\n",
    "        \"\"\"\n",
    "        Dohvati self < other.\n",
    "\n",
    "        Uredaj nije totalni (mozda nije ni parcijalni --- ovisi o nedefiniranim\n",
    "        vrijednostima (NaN)), a usporeduju se samo elementi u stupcima\n",
    "        DATUM_IZVJESTAVANJA, DATUM_OTVARANJA, PLANIRANI_DATUM_ZATVARANJA,\n",
    "        DATUM_ZATVARANJA i PRIJEVREMENI_RASKID.\n",
    "\n",
    "        \"\"\"\n",
    "\n",
    "        self_nbreak = np.flipud(\n",
    "            np.logical_not(\n",
    "                np.flipud(self.df.PRIJEVREMENI_RASKID.cumsum()).astype(bool)\n",
    "            )\n",
    "        )\n",
    "        other_nbreak = np.flipud(\n",
    "            np.logical_not(\n",
    "                np.flipud(other.df.PRIJEVREMENI_RASKID.cumsum()).astype(bool)\n",
    "            )\n",
    "        )\n",
    "\n",
    "        for i in range(min(self.df.shape[0], other.df.shape[0])):\n",
    "            self_test = (\n",
    "                VremenskiNiz.prviDatum(self.df.DATUM_IZVJESTAVANJA.iloc[i:]),\n",
    "                VremenskiNiz.prviDatum(self.df.DATUM_OTVARANJA.iloc[i:]),\n",
    "                VremenskiNiz.zadnjiDatum(\n",
    "                    self.df.PLANIRANI_DATUM_ZATVARANJA.iloc[i:]\n",
    "                ),\n",
    "                VremenskiNiz.zadnjiDatum(self.df.DATUM_ZATVARANJA.iloc[i:]),\n",
    "                self_nbreak[i]\n",
    "            )\n",
    "            other_test = (\n",
    "                VremenskiNiz.prviDatum(other.df.DATUM_IZVJESTAVANJA.iloc[i:]),\n",
    "                VremenskiNiz.prviDatum(other.df.DATUM_OTVARANJA.iloc[i:]),\n",
    "                VremenskiNiz.zadnjiDatum(\n",
    "                    other.df.PLANIRANI_DATUM_ZATVARANJA.iloc[i:]\n",
    "                ),\n",
    "                VremenskiNiz.zadnjiDatum(other.df.DATUM_ZATVARANJA.iloc[i:]),\n",
    "                other_nbreak[i]\n",
    "            )\n",
    "\n",
    "            if self_test < other_test:\n",
    "                return True\n",
    "            if self_test != other_test:\n",
    "                return False\n",
    "\n",
    "        return self.df.shape[0] < other.df.shape[0]\n",
    "\n",
    "    def __gt__ (self, other):\n",
    "        \"\"\"\n",
    "        Dohvati self < other.\n",
    "\n",
    "        Vraca se other < self.\n",
    "\n",
    "        \"\"\"\n",
    "\n",
    "        return other < self\n",
    "\n",
    "    def __le__ (self, other):\n",
    "        \"\"\"\n",
    "        Dohvati self <= other.\n",
    "\n",
    "        Uredaj nije totalni (mozda nije ni parcijalni --- ovisi o nedefiniranim\n",
    "        vrijednostima (NaN)), a usporeduju se samo elementi u stupcima\n",
    "        DATUM_IZVJESTAVANJA, DATUM_OTVARANJA, PLANIRANI_DATUM_ZATVARANJA,\n",
    "        DATUM_ZATVARANJA i PRIJEVREMENI_RASKID.\n",
    "\n",
    "        Moguce je da ne vrijedi (not (self > other)) == (self <= other), ponovo\n",
    "        zbog nedefiniranih vrijednosti (NaN).\n",
    "\n",
    "        \"\"\"\n",
    "\n",
    "        self_nbreak = np.flipud(\n",
    "            np.logical_not(\n",
    "                np.flipud(self.df.PRIJEVREMENI_RASKID.cumsum()).astype(bool)\n",
    "            )\n",
    "        )\n",
    "        other_nbreak = np.flipud(\n",
    "            np.logical_not(\n",
    "                np.flipud(other.df.PRIJEVREMENI_RASKID.cumsum()).astype(bool)\n",
    "            )\n",
    "        )\n",
    "\n",
    "        for i in range(min(self.df.shape[0], other.df.shape[0])):\n",
    "            self_test = (\n",
    "                VremenskiNiz.prviDatum(self.df.DATUM_IZVJESTAVANJA.iloc[i:]),\n",
    "                VremenskiNiz.prviDatum(self.df.DATUM_OTVARANJA.iloc[i:]),\n",
    "                VremenskiNiz.zadnjiDatum(\n",
    "                    self.df.PLANIRANI_DATUM_ZATVARANJA.iloc[i:]\n",
    "                ),\n",
    "                VremenskiNiz.zadnjiDatum(self.df.DATUM_ZATVARANJA.iloc[i:]),\n",
    "                self_nbreak[i]\n",
    "            )\n",
    "            other_test = (\n",
    "                VremenskiNiz.prviDatum(other.df.DATUM_IZVJESTAVANJA.iloc[i:]),\n",
    "                VremenskiNiz.prviDatum(other.df.DATUM_OTVARANJA.iloc[i:]),\n",
    "                VremenskiNiz.zadnjiDatum(\n",
    "                    other.df.PLANIRANI_DATUM_ZATVARANJA.iloc[i:]\n",
    "                ),\n",
    "                VremenskiNiz.zadnjiDatum(other.df.DATUM_ZATVARANJA.iloc[i:]),\n",
    "                other_nbreak[i]\n",
    "            )\n",
    "\n",
    "            if self_test < other_test:\n",
    "                return True\n",
    "            if self_test != other_test:\n",
    "                return False\n",
    "\n",
    "        return self.df.shape[0] <= other.df.shape[0]\n",
    "\n",
    "    def __ge__ (self, other):\n",
    "        \"\"\"\n",
    "        Dohvati self >= other.\n",
    "\n",
    "        Vraca se other <= self.\n",
    "\n",
    "        \"\"\"\n",
    "\n",
    "        return other <= self\n",
    "\n",
    "class Klijent (object):\n",
    "    def __init__ (self, KLIJENT_ID):\n",
    "        \"\"\"\n",
    "        Inicijaliziraj klijenta.\n",
    "\n",
    "        Postavljaju se atributi KLIJENT_ID i ser (sortirani numpy.ndarray svih\n",
    "        vremenskih nizova partija danog klijenta).\n",
    "\n",
    "        Niz partija pokusaca se iscitati iz oznaka partija spremljenih kao\n",
    "        numpy.ndarray u datoteci `klijent/{KLIJENT_ID}/ser.npy'; tek ako ta\n",
    "        datoteka ne postoji, niz partija se dobije trazenjem u nizu kp i\n",
    "        sortiranjem (a oznake partija spremaju se u spomenutu datoteku).\n",
    "\n",
    "        \"\"\"\n",
    "\n",
    "        self.KLIJENT_ID = int(KLIJENT_ID)\n",
    "        try:\n",
    "            self.ser = np.array(\n",
    "                [\n",
    "                    VremenskiNiz(self.KLIJENT_ID, p) for p in np.load(\n",
    "                        'klijent/{0:d}/ser.npy'\n",
    "                    )\n",
    "                ]\n",
    "            )\n",
    "        except FileNotFoundError:\n",
    "            self.ser = np.sort(\n",
    "                [\n",
    "                    VremenskiNiz(*kp_x) for kp_x in kp\n",
    "                        if kp_x[0] == self.KLIJENT_ID\n",
    "                ]\n",
    "            )\n",
    "            os.makedirs(\n",
    "                'klijent/{0:d}'.format(self.KLIJENT_ID),\n",
    "                exist_ok = True\n",
    "            )\n",
    "            np.save(\n",
    "                'klijent/{0:d}/ser.npy'.format(self.KLIJENT_ID),\n",
    "                np.array(\n",
    "                    [p.OZNAKA_PARTIJE for p in self.ser],\n",
    "                    dtype = int,\n",
    "                    order = 'C'\n",
    "                )\n",
    "            )\n",
    "\n",
    "    def __copy__ (self):\n",
    "        \"\"\"\n",
    "        Dohvati copy.copy(self).\n",
    "\n",
    "        \"\"\"\n",
    "\n",
    "        return Klijent(self.KLIJENT_ID)\n",
    "\n",
    "    def __deepcopy__ (self, memo = dict()):\n",
    "        \"\"\"\n",
    "        Dohvati copy.deepcopy(self, memo).\n",
    "\n",
    "        \"\"\"\n",
    "\n",
    "        return Klijent(copy.deepcopy(self.KLIJENT_ID))\n",
    "\n",
    "    def __repr__ (self):\n",
    "        \"\"\"\n",
    "        Dohvati repr(self).\n",
    "\n",
    "        \"\"\"\n",
    "\n",
    "        return '<Klijent: {0:d}>'.format(self.KLIJENT_ID)\n",
    "\n",
    "    def __len__ (self):\n",
    "        \"\"\"\n",
    "        Dohvati len(self).\n",
    "\n",
    "        Vraca se self.ser.size.\n",
    "\n",
    "        \"\"\"\n",
    "\n",
    "        return int(self.ser.size)\n",
    "\n",
    "    def __iter__ (self):\n",
    "        \"\"\"\n",
    "        Iteriraj po vremenskim nizovima klijenta.\n",
    "\n",
    "        Vracaju se elementi self.ser redom od prvog do zadnjeg.\n",
    "\n",
    "        \"\"\"\n",
    "\n",
    "        for i in range(self.ser.size):\n",
    "            yield self.ser[i]\n",
    "\n",
    "    def __getitem__ (self, key):\n",
    "        \"\"\"\n",
    "        Dohvati self.ser[key].\n",
    "\n",
    "        \"\"\"\n",
    "\n",
    "        return self.ser[key]\n",
    "\n",
    "    def __eq__ (self, other):\n",
    "        \"\"\"\n",
    "        Dohvati self == other.\n",
    "\n",
    "        Usporeduju se atribut KLINET_ID i jednakost nizova self.ser i other.ser\n",
    "        (funkcijom numpy.array_equal).\n",
    "\n",
    "        \"\"\"\n",
    "\n",
    "        return (\n",
    "            self.KLIJENT_ID == other.KLIJENT_ID and\n",
    "            np.array_equal(self.ser, other.ser)\n",
    "        )\n",
    "\n",
    "    def __ne__ (self, other):\n",
    "        \"\"\"\n",
    "        Dohvati self != other.\n",
    "\n",
    "        Dohvaca se negacija self == other.\n",
    "\n",
    "        \"\"\"\n",
    "\n",
    "        return not self == other\n",
    "\n",
    "    def __lt__ (self, other):\n",
    "        \"\"\"\n",
    "        Dohvati self < other.\n",
    "\n",
    "        Leksikografski se usporeduju self.ser i other.ser.\n",
    "\n",
    "        Buduci da uredaj na klasi VremenskiNiz nije nuzno totalan, ni ovaj\n",
    "        uredaj nije nuzno totalan.\n",
    "\n",
    "        \"\"\"\n",
    "\n",
    "        return self.ser.tolist() < other.ser.tolist()\n",
    "\n",
    "    def __gt__ (self, other):\n",
    "        \"\"\"\n",
    "        Dohvati self > other.\n",
    "\n",
    "        Vraca se other < self.\n",
    "\n",
    "        \"\"\"\n",
    "\n",
    "        return other < self\n",
    "\n",
    "    def __le__ (self, other):\n",
    "        \"\"\"\n",
    "        Dohvati self <= other.\n",
    "\n",
    "        Leksikografski se usporeduju self.ser i other.ser.\n",
    "\n",
    "        Buduci da uredaj na klasi VremenskiNiz nije nuzno totalan, ni ovaj\n",
    "        uredaj nije nuzno totalan.\n",
    "\n",
    "        Moguce je da ne vrijedi (not (self > other)) == (self <= other), ponovo\n",
    "        zbog netotalnosti uredaja na klasi VremenskiNiz.\n",
    "\n",
    "        \"\"\"\n",
    "\n",
    "        return self.ser.tolist() <= other.ser.tolist()\n",
    "\n",
    "    def __ge__ (self, other):\n",
    "        \"\"\"\n",
    "        Dohvati self >= other.\n",
    "\n",
    "        Vraca se other <= self.\n",
    "\n",
    "        \"\"\"\n",
    "\n",
    "        return other <= self\n"
   ]
  },
  {
   "cell_type": "code",
   "execution_count": null,
   "metadata": {},
   "outputs": [],
   "source": []
  }
 ],
 "metadata": {
  "kernelspec": {
   "display_name": "Python 3",
   "language": "python",
   "name": "python3"
  },
  "language_info": {
   "codemirror_mode": {
    "name": "ipython",
    "version": 3
   },
   "file_extension": ".py",
   "mimetype": "text/x-python",
   "name": "python",
   "nbconvert_exporter": "python",
   "pygments_lexer": "ipython3",
   "version": "3.6.7"
  }
 },
 "nbformat": 4,
 "nbformat_minor": 2
}
